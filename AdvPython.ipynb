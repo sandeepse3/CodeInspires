{
 "cells": [
  {
   "cell_type": "markdown",
   "id": "8e66ea72-4439-4e92-a325-6f11baf5a60d",
   "metadata": {},
   "source": [
    "# Decorators - Function that modifies another function.\n",
    "REFERENCES: https://youtu.be/JgxCY-tbWHA?si=UNPC4SHuZtVUK8wT\n",
    "<br> __Encapsulation in Python is achieved using classes and objects.__ Here are some ways to incorporate encapsulation in Python using Private Variables (Name Mangling), Properties (Decorators), Public Methods (Decorators)"
   ]
  },
  {
   "cell_type": "code",
   "execution_count": 3,
   "id": "5f5be712",
   "metadata": {},
   "outputs": [
    {
     "name": "stdout",
     "output_type": "stream",
     "text": [
      "Function example_function took: 0.0159 sec\n",
      "The sum is 499999500000\n"
     ]
    }
   ],
   "source": [
    "# Decorators Examples\n",
    "import time\n",
    "# timer function is a Decorator\n",
    "# The timer function takes another function as an argument (func), and it returns a new function (wrapper) that ‘wraps’ the input function with additional behavior (timing how long the function takes to execute). That is why it is called Decorator.\n",
    "def timer(func):\n",
    "    def wrapper(*args, **kwargs):\n",
    "        start_time = time.time() # Start time\n",
    "        result = func(*args, **kwargs) # Call the decorated function\n",
    "        end_time = time.time() # End time\n",
    "        print(f\"Function {func.__name__} took: {end_time - start_time:.4f} sec\")\n",
    "        return result # Return the value\n",
    "    return wrapper\n",
    "\n",
    "# It's equivalent to example_function = timer(example_function). timer is a decorator, takes in a function (example_function) and modifies it (i.e., adds a functionality around it).\n",
    "#Now example_func has become a Deorated Function\n",
    "@timer\n",
    "def example_function(n):\n",
    "    return f\"The sum is {sum(range(n))}\"\n",
    "\n",
    "print(example_function(1000000))"
   ]
  },
  {
   "cell_type": "code",
   "execution_count": 1,
   "id": "65146a2e-92e5-40dc-8dd2-c4c8d35080eb",
   "metadata": {},
   "outputs": [
    {
     "name": "stdout",
     "output_type": "stream",
     "text": [
      "do_this ran in 3.003119707107544 seconds\n",
      "do_that ran in 2.0021748542785645 seconds\n",
      "Done\n"
     ]
    }
   ],
   "source": [
    "# Using existing method as a Decorated function\n",
    "import time\n",
    "def tictoc(func):\n",
    "    def wrapper():\n",
    "        start_time = time.time()\n",
    "        func()\n",
    "        t2 = time.time()-start_time\n",
    "        print(f'{func.__name__} ran in'\\\n",
    "              f' {t2} seconds')\n",
    "    return wrapper\n",
    "\n",
    "# It's equivalent to do_this = tictoc(do_this). tictoc is a decorator, takes in a function (do_this) and modifies (i.e., adds a functionality around it) it. do_this is a decorated function\n",
    "@tictoc\n",
    "def do_this():\n",
    "    # Simulating running code..\n",
    "    time.sleep (3)\n",
    "\n",
    "# It's equivalent to do_that = tictoc(do_that). tictoc is a decorator, takes in a function (do_that) and modifies (i.e., adds a functionality around it) it. do_that is a decorated function\n",
    "@tictoc\n",
    "def do_that():\n",
    "    # Simulating running code..\n",
    "    time.sleep (2)\n",
    "    \n",
    "do_this()\n",
    "do_that()\n",
    "print('Done')"
   ]
  },
  {
   "cell_type": "code",
   "execution_count": null,
   "id": "2027d338-1f00-4cf4-b87b-5c7710017399",
   "metadata": {},
   "outputs": [
    {
     "name": "stdout",
     "output_type": "stream",
     "text": [
      "do_this ran in 3.0004587173461914 seconds\n",
      "do_that ran in 2.000710964202881 seconds\n",
      "Done\n",
      "I am Sandeep\n",
      "5\n"
     ]
    }
   ],
   "source": [
    "# %%\n",
    "def myadd(func):\n",
    "    def wrapper(*x):\n",
    "        print(f'I am Sandeep')\n",
    "        print(func(*x))\n",
    "    return wrapper\n",
    "\n",
    "@myadd\n",
    "def yadd(a,b):\n",
    "    return a+b\n",
    "\n",
    "f = yadd\n",
    "f(2,3)"
   ]
  },
  {
   "cell_type": "markdown",
   "id": "82a0686e",
   "metadata": {},
   "source": [
    "## 5 Important Decorators that you need to Know\n",
    "<br> <b>1. property\n",
    "<br> 2. staticmethod (to call a method that is not binded to Instance)\n",
    "<br> 3. classmethod (to call a method that is binded to Class but not Instance, so that you can access Class Attributes or Methods. Class is   passed as a argument instead of Self)\n",
    "<br> 4. functools.cache\n",
    "<br> 5. dataclass</b>"
   ]
  },
  {
   "cell_type": "markdown",
   "id": "a165de5e",
   "metadata": {},
   "source": [
    "## 1. Property Decorator\n",
    "Property Decorator is used for various methods inside of a class and the idea here is that we can treat a method as if it was an attribute and we can gate the access to a specific field or attribute in Python. We can treat a method inside of a class as if it was an attribute and we can get the access to a specific field or attribute in Python (Private Variable). In Python we don't have Access Modifiers (whether or not an attribute can be accessed outside of the class) like public, private, protected like in other programming languages."
   ]
  },
  {
   "cell_type": "code",
   "execution_count": 2,
   "id": "cd3f28e9",
   "metadata": {},
   "outputs": [
    {
     "name": "stdout",
     "output_type": "stream",
     "text": [
      "5\n",
      "10\n",
      "10\n"
     ]
    }
   ],
   "source": [
    "class Circle:\n",
    "    def __init__(self, radius):\n",
    "        self.radius = radius # _ before a variable is used for private variable and you should not use it outside the class\n",
    "   \n",
    "    @property  # Getter\n",
    "    def radius(self):\n",
    "        # Get the radius of the circle.\n",
    "        return self._radius  # It can be self._privatevariable. It's a private data or private variable\n",
    "    \n",
    "    @radius.setter\n",
    "    def radius(self, value):\n",
    "        # Set the radius of the circle. Must be positive.\n",
    "        if value >= 0:\n",
    "            self._radius = value # It can be self._privatevariable\n",
    "        else:\n",
    "            raise ValueError(\"Radius must be positive\")\n",
    "    \n",
    "    @property   # Getter\n",
    "    def diameter(self):\n",
    "        # Get the diameter of the circle.\n",
    "        return self._radius * 2\n",
    "\n",
    "# Usage\n",
    "c = Circle(5)\n",
    "print(c.radius)\n",
    "print(c.diameter)\n",
    "c.radius = 10\n",
    "print(c._radius)  # You should not access private variables (declared under @property (Getter Method) outside of the Class)"
   ]
  },
  {
   "cell_type": "code",
   "execution_count": 3,
   "id": "8104f2af",
   "metadata": {},
   "outputs": [
    {
     "name": "stdout",
     "output_type": "stream",
     "text": [
      "5\n",
      "Deleting radius\n"
     ]
    }
   ],
   "source": [
    "class Circle:\n",
    "    def __init__(self, radius):\n",
    "        self.radius = radius # _ before a variable is used for private variable and you should not use it outside the class\n",
    "\n",
    "    @property  # Getter # Property gets access to the Private Variable\n",
    "    def radius(self):\n",
    "# Why there is self._radius instead of self.radius in the return statement?\n",
    "# The @property decorator is used to define a method in the class that will be accessible like an attribute, and this method is known as a getter. In this case, radius is the getter for the _radius attribute.\n",
    "\n",
    "# When you do return self._radius in the getter method, you’re directly accessing the _radius attribute’s value. If you were to use return self.radius instead, you would end up in a recursive loop because self.radius would call the getter method again.\n",
    "\n",
    "# So, to avoid this infinite recursion, self._radius is used in the getter method. This way, you’re returning the value of _radius directly, not invoking the getter method again.\n",
    "\n",
    "# IMP: In summary, self._radius is the actual data (private variable), and self.radius is a property that provides controlled access (via getter and setter methods) to that private variable. When you want to directly access or modify the data, you use self._radius. When you want to go through the property (which might include additional behaviors like validation), you use self.radius\n",
    "        # Get the radius of the circle.\n",
    "        return self._radius\n",
    "    \n",
    "    @radius.setter\n",
    "    def radius(self, value):\n",
    "        # Set the radius of the circle. Must be positive.\n",
    "        if value >= 0:\n",
    "            self._radius = value\n",
    "        else:\n",
    "            raise ValueError(\"Radius must be positive\")\n",
    "    \n",
    "    @radius.deleter # To delete the private attribute and now we no longer would be able to access it. It's quite useful to create read-only / write-only attributes.\n",
    "    def radius(self):\n",
    "        print('Deleting radius')\n",
    "        del self._radius\n",
    "\n",
    "# Usage\n",
    "c = Circle(5)\n",
    "print(c.radius)\n",
    "del c.radius\n",
    "# c = Circle(-5) # ValueError: Radius must be positive"
   ]
  },
  {
   "cell_type": "markdown",
   "id": "0283029b-5593-4f85-a0c6-c2b34f69b72f",
   "metadata": {},
   "source": [
    "## 2. Static Method Decorator\n",
    "Used to denote a Method inside of a class as Static. Static method simply means it's something that belongs to the class and not to an instance of the class and it's not going to have any implicit first parameters like the self keyword or the class. We use static method when we want to have some kind of a function that belongs inside of a class but doesn't belong to a particular instance, for example we have some math class and we have math function like add and multiply and it's really doesn't make sense to associate it with other instance, because logical place for add, multiply etc methods is to stay in the Math Class but not to associate it with the instance of the Math Class."
   ]
  },
  {
   "cell_type": "code",
   "execution_count": null,
   "id": "dc8deaa3-2034-43e3-9669-b6f01f807bb1",
   "metadata": {},
   "outputs": [],
   "source": [
    "class Math:\n",
    "    @staticmethod\n",
    "    def add(x,y):\n",
    "        return x + y\n",
    "\n",
    "    @staticmethod\n",
    "    def multiply(x,y):\n",
    "        return x*y\n",
    "\n",
    "# Usage 1\n",
    "print(Math.add(5,7)) \n",
    "print(Math.multiply(3,4))\n",
    "\n",
    "# Usage 2\n",
    "m = Math()\n",
    "print(m.add(1,2))"
   ]
  },
  {
   "cell_type": "markdown",
   "id": "9f3d6a82-815d-4a11-8a44-4b45cfef7311",
   "metadata": {},
   "source": [
    "## 3. Class Method Decorator\n",
    "1. We have our class method decorator like static method decorator, this is used for a methods inside of a class and what this will do is transform the first implicit parameter or argument (cls) to the Class (Person) itself, but not an individual object (instance of a Class).\n",
    "So typically when you call a method you have that first parameter 'self' and we would return something like the name of this Person like (self.name), now when we use the class method decorator rather than getting access to the instance in which this method was called on, we get access to the class Person itself, now what that means is that we can only access attributes which are class attributes like the one defined here (species = \"Homo sapiens\") or other class or static methods, __so we can pretty much only access anything that's defined on the class not on the instance__.\n",
    "2. So again if we go here we can print the value of cls and you'll notice that we get the class <class '\\__main\\__.Person>', we don't get an instance of the class we get the class itself, that allows us to access something like a class attribute and also to access other class methods or static methods. If this was a static method, we would not be able to access this class attribute 'species'\n",
    "3. In summary, __use a class method decorator__ when you want to access class attributes or other class or static methods and __use a static method decorator__ when the function is completely independent and it doesn't need to access anything else associated with the class or with the instance of that class"
   ]
  },
  {
   "cell_type": "code",
   "execution_count": 11,
   "id": "b44c6e97-5c2b-4cc5-9192-c4644d384c1c",
   "metadata": {},
   "outputs": [
    {
     "name": "stdout",
     "output_type": "stream",
     "text": [
      "<class '__main__.Person'>\n",
      "Homo sapiens\n",
      "----------------------------------------------------\n",
      "Sandeep Puttur\n",
      "Mr. Sandeep Puttur\n"
     ]
    }
   ],
   "source": [
    "class Person:\n",
    "    species = \"Homo sapiens\" # This means that this attribute is shared across all instances of the Person class.\n",
    "\n",
    "    def __init__(self, firstname, lastname):\n",
    "        self.first_n = firstname\n",
    "        self.last_n = lastname\n",
    "        \n",
    "    @classmethod\n",
    "    def get_species(cls):\n",
    "        print(cls)\n",
    "        # print(cls.species) # Class method can access class attributes and it will not throw any error\n",
    "        return cls.species\n",
    "\n",
    "    @staticmethod\n",
    "    def displayname(first,last):\n",
    "        # print(species) # This will throw an error because it's static method and it can't access class attributes\n",
    "        return first + ' '+ last\n",
    "\n",
    "    def fullname(self):\n",
    "        title = 'Mr.'\n",
    "        return title+' '+self.first_n +' '+self.last_n\n",
    "\n",
    "# Usage\n",
    "print(Person.get_species())\n",
    "print('----------------------------------------------------')\n",
    "m = Person('Sandeep', 'Puttur')\n",
    "print(m.displayname('Sandeep','Puttur'))\n",
    "print(m.fullname())"
   ]
  },
  {
   "cell_type": "markdown",
   "id": "94538080-a005-43f3-97e5-fe8239dd826b",
   "metadata": {},
   "source": [
    "## 4. Decorator from the functools Module - Cache\n",
    "Cache / Caching the results of various function calls. This is super useful when you continually make the same same call to a function especially in a recursive case.\n",
    "<br> Whenever you're calling the same function repeatedly with the same arguments, you can cache that result using the fuctools. cache without writing your own custom cache is recommended (both are same speed but you no need to code)"
   ]
  },
  {
   "cell_type": "code",
   "execution_count": 17,
   "id": "e2eb9d2c-0523-4baa-8fe0-2aca4bb4cf03",
   "metadata": {},
   "outputs": [
    {
     "name": "stdout",
     "output_type": "stream",
     "text": [
      "102334155\n"
     ]
    }
   ],
   "source": [
    "# Recommended Method and Faster\n",
    "import functools\n",
    "\n",
    "@functools.cache\n",
    "def fibonacci(n):\n",
    "    if n<2:\n",
    "        return n\n",
    "    return fibonacci(n-1) + fibonacci(n-2)\n",
    "\n",
    "print(fibonacci(40))"
   ]
  },
  {
   "cell_type": "code",
   "execution_count": 12,
   "id": "f5cb6b68-8f3a-4152-bcbb-9318436eb7a5",
   "metadata": {},
   "outputs": [
    {
     "name": "stdout",
     "output_type": "stream",
     "text": [
      "102334155\n"
     ]
    }
   ],
   "source": [
    "# Writing your own custom cache (Using functools is easier of implementing the same)\n",
    "def fibonacci(n, cache={}):\n",
    "    if n in cache:\n",
    "        return cache[n]\n",
    "\n",
    "    if n==0:\n",
    "        return 0\n",
    "    elif n==1:\n",
    "        return 1\n",
    "    cache[n] = fibonacci(n-1, cache) + fibonacci(n-2, cache)\n",
    "    return cache[n]\n",
    "    \n",
    "\n",
    "print(fibonacci(40))"
   ]
  },
  {
   "cell_type": "code",
   "execution_count": 18,
   "id": "da7ebff2-d189-45d2-af25-bb5897a06372",
   "metadata": {},
   "outputs": [
    {
     "name": "stdout",
     "output_type": "stream",
     "text": [
      "102334155\n"
     ]
    }
   ],
   "source": [
    "# Takes longer time without Cache. Not Recommended.\n",
    "def fibonacci(n):\n",
    "    if n<2:\n",
    "        return n\n",
    "    return fibonacci(n-1) + fibonacci(n-2)\n",
    "\n",
    "print(fibonacci(40))"
   ]
  },
  {
   "cell_type": "markdown",
   "id": "f715d45a-244b-4d83-b383-1402577dfe64",
   "metadata": {},
   "source": [
    "## 5. Dataclass Decorator\n",
    "What the data class decorator will do is, it automatically fill in that boilerplate code that you're used to writing yourself. Idea is all that boilerplate code that we commonly have to write on our own will automatically be added for us."
   ]
  },
  {
   "cell_type": "markdown",
   "id": "de7a57c8-ba83-48fb-99dc-ecb69ca6d6a2",
   "metadata": {},
   "source": [
    "#### Without Dataclass Decorator\n",
    "What we're doing in this class is we're really just storing some information so we might have a method right where we're calculating some cost but generally we're just storing a name price and quantity and then we're writing a representation method  and we're writing a very basic equal method we can actually compare if two products are the same products are the same if they have the same name price and quantity. We can write this out but python has actually realized that this is a very common convention and people quite often do what you see here, so they've actually given us a shortcut to really avoid having to write all three of the methods"
   ]
  },
  {
   "cell_type": "code",
   "execution_count": 13,
   "id": "0373f5fb-c5c4-4753-97d4-d43fd06e1c7b",
   "metadata": {},
   "outputs": [
    {
     "name": "stdout",
     "output_type": "stream",
     "text": [
      "Product(name=Innovo, price=$1500000.0, quantity=2)\n",
      "True\n"
     ]
    }
   ],
   "source": [
    "class Product:\n",
    "    def __init__(self, name: str, price: float, quantity: int=0):\n",
    "        self.name = name\n",
    "        self.price = price\n",
    "        self.quantity = quantity\n",
    "\n",
    "    def total_cost(self) -> float:\n",
    "        return self.price * self.quantity\n",
    "\n",
    "    def __repr__(self):\n",
    "        return (f\"Product(name={self.name}, price=${self.price}, quantity={self.quantity})\")\n",
    "\n",
    "    def __eq__(self,other):\n",
    "        if not isinstance(other, Product):\n",
    "            # don't attempt to compare against unrelated types\n",
    "            return NotImplemented\n",
    "        return (\n",
    "            self.name == other.name and \n",
    "            self.price == other.price and\n",
    "            self.quantity == other.quantity\n",
    "        )\n",
    "\n",
    "# Usage of repr method\n",
    "car = Product(\"Innovo\",1500000.00,2)\n",
    "print(car) # Without repr method you will get  -->    <__main__.Product object at 0x7f6985cd40d0>\n",
    "\n",
    "# Usage of eq method\n",
    "car1 = Product(\"Innovo\",1500000.00,2)\n",
    "print(car == car1) # Without equal method you will get --> False"
   ]
  },
  {
   "cell_type": "markdown",
   "id": "a6b12dad-6b1c-4f6e-b83a-f2ab91bd280b",
   "metadata": {},
   "source": [
    "#### Using Dataclass Decorator (Recommended)\n",
    "Using the data class decorator let's transform above code exactly equivalent where we now don't need to write the init, repr or equal method, they're actually automatically implemented for us by dataclass decorator"
   ]
  },
  {
   "cell_type": "code",
   "execution_count": 16,
   "id": "5aa6f75b-40ee-402e-85fb-088cf722607f",
   "metadata": {},
   "outputs": [
    {
     "name": "stdout",
     "output_type": "stream",
     "text": [
      "Product(name='Innovo', price=1500000.0, quantity=2)\n",
      "True\n",
      "Total Cost is $3000000.0\n"
     ]
    }
   ],
   "source": [
    "from dataclasses import dataclass\n",
    "\n",
    "@dataclass\n",
    "class Product:\n",
    "    name: str\n",
    "    price: float\n",
    "    quantity: int=0\n",
    "\n",
    "    def total_cost(self) -> float:\n",
    "        return self.price * self.quantity\n",
    "\n",
    "car = Product(\"Innovo\",1500000.00,2)\n",
    "print(car)\n",
    "\n",
    "car1 = Product(\"Innovo\",1500000.00,2)\n",
    "print(car == car1)\n",
    "\n",
    "print(f'Total Cost is ${car.total_cost()}')"
   ]
  },
  {
   "cell_type": "markdown",
   "id": "fb9f3a2a",
   "metadata": {},
   "source": [
    "# Name Mangling\n",
    "Python does not support strict private and protected variables. Private variables in Python are typically denoted by using a double underscore prefix (__) before the variable name. This prefix triggers the name mangling process, which replaces the variable name with a mangled version that includes the class name (_MyClass__private_value). This mangled name is used internally within the class, making it less accessible from outside the class.\n"
   ]
  },
  {
   "cell_type": "code",
   "execution_count": null,
   "id": "0b82562b",
   "metadata": {},
   "outputs": [],
   "source": [
    "class MyClass:\n",
    "    def __init__(self, private_value):\n",
    "        self.__private_value = private_value\n",
    "\n",
    "    def get_private_value(self):\n",
    "        return self.__private_value\n",
    "\n",
    "obj = MyClass(10)\n",
    "print(obj.get_private_value())  # Output: 10\n",
    "print(obj.__private_value)  # Output: AttributeError\n",
    "print(obj._MyClass__private_value)  # Output: 10"
   ]
  },
  {
   "cell_type": "markdown",
   "id": "84b89ea2",
   "metadata": {},
   "source": [
    "# Dataclasses\n",
    "REFERENCES: https://youtu.be/5mMpM8zK4pY?si=ZqRsmUtw_uuTnxT8"
   ]
  },
  {
   "cell_type": "markdown",
   "id": "4a8ac3ec-15e8-46f4-9b82-8754be36edf1",
   "metadata": {},
   "source": [
    "# Pydantic v1\n",
    "* It provides us with easy ways to validate data, enforce python type hints, validations, Serialization and De-Serialization\n",
    "* Pydantic and Dataclasses has different purposes"
   ]
  },
  {
   "cell_type": "code",
   "execution_count": 7,
   "id": "6157f7d5-b307-4e35-abb6-d955e18ff5f8",
   "metadata": {},
   "outputs": [
    {
     "name": "stdout",
     "output_type": "stream",
     "text": [
      "first_name='Harry' last_name='Potter' age=30 date_joined=datetime.date(2024, 6, 21) level='Beginner'\n"
     ]
    }
   ],
   "source": [
    "# Let's create a Basic Pydantic Model\n",
    "from pydantic import BaseModel\n",
    "import datetime\n",
    "\n",
    "# BaseModel enforces the Typehints\n",
    "class Student(BaseModel):\n",
    "    first_name: str\n",
    "    last_name: str\n",
    "    age: int\n",
    "    date_joined: datetime.date\n",
    "    level: str\n",
    "\n",
    "student1 = Student(\n",
    "    first_name='Harry',\n",
    "    last_name='Potter',\n",
    "    age=30,\n",
    "    date_joined='2024-06-21', # date_joined=datetime.date(2024, 6, 21)\n",
    "    level = 'Beginner'\n",
    ")\n",
    "print(sandeep)"
   ]
  },
  {
   "cell_type": "code",
   "execution_count": 8,
   "id": "3426bac3-b7d4-4b21-91f7-c8f528eb830f",
   "metadata": {},
   "outputs": [
    {
     "ename": "ValidationError",
     "evalue": "1 validation error for Student\nlast_name\n  Input should be a valid string [type=string_type, input_value=14, input_type=int]\n    For further information visit https://errors.pydantic.dev/2.8/v/string_type",
     "output_type": "error",
     "traceback": [
      "\u001b[0;31m---------------------------------------------------------------------------\u001b[0m",
      "\u001b[0;31mValidationError\u001b[0m                           Traceback (most recent call last)",
      "Cell \u001b[0;32mIn[8], line 1\u001b[0m\n\u001b[0;32m----> 1\u001b[0m student2 \u001b[38;5;241m=\u001b[39m \u001b[43mStudent\u001b[49m\u001b[43m(\u001b[49m\n\u001b[1;32m      2\u001b[0m \u001b[43m    \u001b[49m\u001b[43mfirst_name\u001b[49m\u001b[38;5;241;43m=\u001b[39;49m\u001b[38;5;124;43m'\u001b[39;49m\u001b[38;5;124;43mHarry\u001b[39;49m\u001b[38;5;124;43m'\u001b[39;49m\u001b[43m,\u001b[49m\n\u001b[1;32m      3\u001b[0m \u001b[43m    \u001b[49m\u001b[43mlast_name\u001b[49m\u001b[38;5;241;43m=\u001b[39;49m\u001b[38;5;241;43m14\u001b[39;49m\u001b[43m,\u001b[49m\n\u001b[1;32m      4\u001b[0m \u001b[43m    \u001b[49m\u001b[43mage\u001b[49m\u001b[38;5;241;43m=\u001b[39;49m\u001b[38;5;241;43m30\u001b[39;49m\u001b[43m,\u001b[49m\n\u001b[1;32m      5\u001b[0m \u001b[43m    \u001b[49m\u001b[43mdate_joined\u001b[49m\u001b[38;5;241;43m=\u001b[39;49m\u001b[38;5;124;43m'\u001b[39;49m\u001b[38;5;124;43m2024-06-21\u001b[39;49m\u001b[38;5;124;43m'\u001b[39;49m\u001b[43m,\u001b[49m\u001b[43m \u001b[49m\u001b[38;5;66;43;03m# date_joined=datetime.date(2024, 6, 21)\u001b[39;49;00m\n\u001b[1;32m      6\u001b[0m \u001b[43m    \u001b[49m\u001b[43mlevel\u001b[49m\u001b[43m \u001b[49m\u001b[38;5;241;43m=\u001b[39;49m\u001b[43m \u001b[49m\u001b[38;5;124;43m'\u001b[39;49m\u001b[38;5;124;43mBeginner\u001b[39;49m\u001b[38;5;124;43m'\u001b[39;49m\n\u001b[1;32m      7\u001b[0m \u001b[43m)\u001b[49m\n",
      "File \u001b[0;32m~/om/.venv/lib/python3.9/site-packages/pydantic/main.py:193\u001b[0m, in \u001b[0;36mBaseModel.__init__\u001b[0;34m(self, **data)\u001b[0m\n\u001b[1;32m    191\u001b[0m \u001b[38;5;66;03m# `__tracebackhide__` tells pytest and some other tools to omit this function from tracebacks\u001b[39;00m\n\u001b[1;32m    192\u001b[0m __tracebackhide__ \u001b[38;5;241m=\u001b[39m \u001b[38;5;28;01mTrue\u001b[39;00m\n\u001b[0;32m--> 193\u001b[0m \u001b[38;5;28;43mself\u001b[39;49m\u001b[38;5;241;43m.\u001b[39;49m\u001b[43m__pydantic_validator__\u001b[49m\u001b[38;5;241;43m.\u001b[39;49m\u001b[43mvalidate_python\u001b[49m\u001b[43m(\u001b[49m\u001b[43mdata\u001b[49m\u001b[43m,\u001b[49m\u001b[43m \u001b[49m\u001b[43mself_instance\u001b[49m\u001b[38;5;241;43m=\u001b[39;49m\u001b[38;5;28;43mself\u001b[39;49m\u001b[43m)\u001b[49m\n",
      "\u001b[0;31mValidationError\u001b[0m: 1 validation error for Student\nlast_name\n  Input should be a valid string [type=string_type, input_value=14, input_type=int]\n    For further information visit https://errors.pydantic.dev/2.8/v/string_type"
     ]
    }
   ],
   "source": [
    "student2 = Student(\n",
    "    first_name='Harry',\n",
    "    last_name=14,\n",
    "    age=30,\n",
    "    date_joined='2024-06-21', # date_joined=datetime.date(2024, 6, 21)\n",
    "    level = 'Beginner'\n",
    ")"
   ]
  },
  {
   "cell_type": "code",
   "execution_count": 14,
   "id": "befb0b7f-ca06-43a8-96ec-e8127aa5da14",
   "metadata": {},
   "outputs": [
    {
     "name": "stdout",
     "output_type": "stream",
     "text": [
      "first_name='Harry' last_name='Potter' age=30 date_joined=datetime.date(2024, 6, 21) level=<Level.BEGINNER: 1>\n"
     ]
    }
   ],
   "source": [
    "# Using Custom class as Datatype for level instead of Enum\n",
    "from pydantic import BaseModel\n",
    "import datetime\n",
    "from enum import Enum\n",
    "\n",
    "class Level(Enum):\n",
    "    BEGINNER = 1\n",
    "    INTERMEDIATE = 2\n",
    "    ADVANCED = 3\n",
    "\n",
    "# BaseModel enforces the Typehints\n",
    "class Student(BaseModel):\n",
    "    first_name: str\n",
    "    last_name: str\n",
    "    age: int\n",
    "    date_joined: datetime.date\n",
    "    level: Level\n",
    "\n",
    "student1 = Student(\n",
    "    first_name='Harry',\n",
    "    last_name='Potter',\n",
    "    age=30,\n",
    "    date_joined=datetime.date(2024,6,21),\n",
    "    level = Level.BEGINNER\n",
    ")\n",
    "\n",
    "print(student1)"
   ]
  },
  {
   "cell_type": "code",
   "execution_count": 23,
   "id": "2e3f68da-3519-467e-8fd2-7dde9d072466",
   "metadata": {},
   "outputs": [
    {
     "name": "stderr",
     "output_type": "stream",
     "text": [
      "/tmp/ipykernel_89562/1134582784.py:24: PydanticDeprecatedSince20: Pydantic V1 style `@validator` validators are deprecated. You should migrate to Pydantic V2 style `@field_validator` validators, see the migration guide for more details. Deprecated in Pydantic V2.0 to be removed in V3.0. See Pydantic V2 Migration Guide at https://errors.pydantic.dev/2.8/migration/\n",
      "  @validator('age')\n"
     ]
    },
    {
     "ename": "ValidationError",
     "evalue": "1 validation error for Student\nage\n  Value error, Age must be 10 or above [type=value_error, input_value=9, input_type=int]\n    For further information visit https://errors.pydantic.dev/2.8/v/value_error",
     "output_type": "error",
     "traceback": [
      "\u001b[0;31m---------------------------------------------------------------------------\u001b[0m",
      "\u001b[0;31mValidationError\u001b[0m                           Traceback (most recent call last)",
      "Cell \u001b[0;32mIn[23], line 31\u001b[0m\n\u001b[1;32m     28\u001b[0m             \u001b[38;5;28;01mraise\u001b[39;00m \u001b[38;5;167;01mValueError\u001b[39;00m(\u001b[38;5;124m'\u001b[39m\u001b[38;5;124mAge must be 10 or above\u001b[39m\u001b[38;5;124m'\u001b[39m)\n\u001b[1;32m     29\u001b[0m         \u001b[38;5;28;01mreturn\u001b[39;00m v\n\u001b[0;32m---> 31\u001b[0m student1 \u001b[38;5;241m=\u001b[39m \u001b[43mStudent\u001b[49m\u001b[43m(\u001b[49m\n\u001b[1;32m     32\u001b[0m \u001b[43m    \u001b[49m\u001b[43mfirst_name\u001b[49m\u001b[38;5;241;43m=\u001b[39;49m\u001b[38;5;124;43m'\u001b[39;49m\u001b[38;5;124;43mHarry\u001b[39;49m\u001b[38;5;124;43m'\u001b[39;49m\u001b[43m,\u001b[49m\n\u001b[1;32m     33\u001b[0m \u001b[43m    \u001b[49m\u001b[43mlast_name\u001b[49m\u001b[38;5;241;43m=\u001b[39;49m\u001b[38;5;124;43m'\u001b[39;49m\u001b[38;5;124;43mPotter\u001b[39;49m\u001b[38;5;124;43m'\u001b[39;49m\u001b[43m,\u001b[49m\n\u001b[1;32m     34\u001b[0m \u001b[43m    \u001b[49m\u001b[43mage\u001b[49m\u001b[38;5;241;43m=\u001b[39;49m\u001b[38;5;241;43m9\u001b[39;49m\u001b[43m,\u001b[49m\u001b[43m \u001b[49m\u001b[38;5;66;43;03m# Age < 10 will fail\u001b[39;49;00m\n\u001b[1;32m     35\u001b[0m \u001b[43m    \u001b[49m\u001b[43mdate_joined\u001b[49m\u001b[38;5;241;43m=\u001b[39;49m\u001b[43mdatetime\u001b[49m\u001b[38;5;241;43m.\u001b[39;49m\u001b[43mdate\u001b[49m\u001b[43m(\u001b[49m\u001b[38;5;241;43m2024\u001b[39;49m\u001b[43m,\u001b[49m\u001b[38;5;241;43m6\u001b[39;49m\u001b[43m,\u001b[49m\u001b[38;5;241;43m21\u001b[39;49m\u001b[43m)\u001b[49m\u001b[43m,\u001b[49m\n\u001b[1;32m     36\u001b[0m \u001b[43m    \u001b[49m\u001b[43mlevel\u001b[49m\u001b[43m \u001b[49m\u001b[38;5;241;43m=\u001b[39;49m\u001b[43m \u001b[49m\u001b[43mLevel\u001b[49m\u001b[38;5;241;43m.\u001b[39;49m\u001b[43mBEGINNER\u001b[49m\n\u001b[1;32m     37\u001b[0m \u001b[43m)\u001b[49m\n\u001b[1;32m     39\u001b[0m \u001b[38;5;28mprint\u001b[39m(student1)\n",
      "File \u001b[0;32m~/om/.venv/lib/python3.9/site-packages/pydantic/main.py:193\u001b[0m, in \u001b[0;36mBaseModel.__init__\u001b[0;34m(self, **data)\u001b[0m\n\u001b[1;32m    191\u001b[0m \u001b[38;5;66;03m# `__tracebackhide__` tells pytest and some other tools to omit this function from tracebacks\u001b[39;00m\n\u001b[1;32m    192\u001b[0m __tracebackhide__ \u001b[38;5;241m=\u001b[39m \u001b[38;5;28;01mTrue\u001b[39;00m\n\u001b[0;32m--> 193\u001b[0m \u001b[38;5;28;43mself\u001b[39;49m\u001b[38;5;241;43m.\u001b[39;49m\u001b[43m__pydantic_validator__\u001b[49m\u001b[38;5;241;43m.\u001b[39;49m\u001b[43mvalidate_python\u001b[49m\u001b[43m(\u001b[49m\u001b[43mdata\u001b[49m\u001b[43m,\u001b[49m\u001b[43m \u001b[49m\u001b[43mself_instance\u001b[49m\u001b[38;5;241;43m=\u001b[39;49m\u001b[38;5;28;43mself\u001b[39;49m\u001b[43m)\u001b[49m\n",
      "\u001b[0;31mValidationError\u001b[0m: 1 validation error for Student\nage\n  Value error, Age must be 10 or above [type=value_error, input_value=9, input_type=int]\n    For further information visit https://errors.pydantic.dev/2.8/v/value_error"
     ]
    }
   ],
   "source": [
    "# Pydantic as Validator\n",
    "from pydantic import BaseModel, validator\n",
    "import datetime\n",
    "from enum import Enum\n",
    "\n",
    "class Level(Enum):\n",
    "    BEGINNER = 1\n",
    "    INTERMEDIATE = 2\n",
    "    ADVANCED = 3\n",
    "\n",
    "# BaseModel enforces the Typehints\n",
    "class Student(BaseModel):\n",
    "    first_name: str\n",
    "    last_name: str\n",
    "    age: int\n",
    "    date_joined: datetime.date\n",
    "    level: Level\n",
    "\n",
    "    # @validator('age')\n",
    "    # def validate_age(cls,v):\n",
    "    #     print(v)\n",
    "    #     return v\n",
    "\n",
    "    @validator('age')\n",
    "    def validate_age(cls,v):\n",
    "        # print(v) # Only age will be printed\n",
    "        if v < 10:\n",
    "            raise ValueError('Age must be 10 or above')\n",
    "        return v\n",
    "        \n",
    "student1 = Student(\n",
    "    first_name='Harry',\n",
    "    last_name='Potter',\n",
    "    age=9, # Age < 10 will fail\n",
    "    date_joined=datetime.date(2024,6,21),\n",
    "    level = Level.BEGINNER\n",
    ")\n",
    "\n",
    "print(student1)"
   ]
  },
  {
   "cell_type": "code",
   "execution_count": 31,
   "id": "aea82fd5-64a6-4d84-b30c-565a29664f94",
   "metadata": {},
   "outputs": [
    {
     "name": "stdout",
     "output_type": "stream",
     "text": [
      "{'first_name': 'Harry', 'last_name': 'Potter', 'age': 18, 'date_joined': datetime.date(2024, 6, 21)}\n",
      "first_name='Harry' last_name='Potter' age=18 date_joined=datetime.date(2024, 6, 21) level=<Level.ADVANCED: 3>\n"
     ]
    },
    {
     "name": "stderr",
     "output_type": "stream",
     "text": [
      "/tmp/ipykernel_89562/1101736131.py:19: PydanticDeprecatedSince20: Pydantic V1 style `@validator` validators are deprecated. You should migrate to Pydantic V2 style `@field_validator` validators, see the migration guide for more details. Deprecated in Pydantic V2.0 to be removed in V3.0. See Pydantic V2 Migration Guide at https://errors.pydantic.dev/2.8/migration/\n",
      "  @validator('age')\n",
      "/tmp/ipykernel_89562/1101736131.py:25: PydanticDeprecatedSince20: Pydantic V1 style `@validator` validators are deprecated. You should migrate to Pydantic V2 style `@field_validator` validators, see the migration guide for more details. Deprecated in Pydantic V2.0 to be removed in V3.0. See Pydantic V2 Migration Guide at https://errors.pydantic.dev/2.8/migration/\n",
      "  @validator('level')\n"
     ]
    }
   ],
   "source": [
    "# Pydantic as Validator\n",
    "from pydantic import BaseModel, validator\n",
    "import datetime\n",
    "from enum import Enum\n",
    "\n",
    "class Level(Enum):\n",
    "    BEGINNER = 1\n",
    "    INTERMEDIATE = 2\n",
    "    ADVANCED = 3\n",
    "\n",
    "# BaseModel enforces the Typehints\n",
    "class Student(BaseModel):\n",
    "    first_name: str\n",
    "    last_name: str\n",
    "    age: int\n",
    "    date_joined: datetime.date\n",
    "    level: Level\n",
    "\n",
    "    @validator('age')\n",
    "    def validate_age(cls,age):\n",
    "        if age < 10:\n",
    "            raise ValueError('Age must be 10 or above')\n",
    "        return age\n",
    "\n",
    "    @validator('level')\n",
    "    def validate_level(cls,level, values): # If you don't want to use values['age'] then values is not necessary here\n",
    "        if level is Level.ADVANCED and values['age'] < 14:\n",
    "            raise ValueError('To be advanced the student must be above 13')\n",
    "        print(values)\n",
    "        return level\n",
    "        \n",
    "student1 = Student(\n",
    "    first_name='Harry',\n",
    "    last_name='Potter',\n",
    "    age=18,\n",
    "    date_joined=datetime.date(2024,6,21),\n",
    "    level = Level.ADVANCED\n",
    ")\n",
    "\n",
    "print(student1)"
   ]
  },
  {
   "cell_type": "code",
   "execution_count": 39,
   "id": "7c8b03a1-d08f-465a-b4fa-7a29e54c1dd6",
   "metadata": {},
   "outputs": [
    {
     "name": "stdout",
     "output_type": "stream",
     "text": [
      "first_name='Harry' last_name='Potter' age=18 date_joined=datetime.date(2024, 6, 21) level=<Level.BEGINNER: 1>\n"
     ]
    },
    {
     "name": "stderr",
     "output_type": "stream",
     "text": [
      "/tmp/ipykernel_89562/2566237270.py:21: PydanticDeprecatedSince20: Pydantic V1 style `@validator` validators are deprecated. You should migrate to Pydantic V2 style `@field_validator` validators, see the migration guide for more details. Deprecated in Pydantic V2.0 to be removed in V3.0. See Pydantic V2 Migration Guide at https://errors.pydantic.dev/2.8/migration/\n",
      "  @validator('age')\n",
      "/tmp/ipykernel_89562/2566237270.py:27: PydanticDeprecatedSince20: Pydantic V1 style `@validator` validators are deprecated. You should migrate to Pydantic V2 style `@field_validator` validators, see the migration guide for more details. Deprecated in Pydantic V2.0 to be removed in V3.0. See Pydantic V2 Migration Guide at https://errors.pydantic.dev/2.8/migration/\n",
      "  @validator('level')\n"
     ]
    }
   ],
   "source": [
    "# Making a field as Optional in a Class/Pydantic Model\n",
    "from pydantic import BaseModel, validator\n",
    "import datetime\n",
    "from enum import Enum\n",
    "from typing import Optional # Import Optional\n",
    "\n",
    "class Level(Enum):\n",
    "    BEGINNER = 1\n",
    "    INTERMEDIATE = 2\n",
    "    ADVANCED = 3\n",
    "\n",
    "# BaseModel enforces the Typehints\n",
    "class Student(BaseModel):\n",
    "    first_name: str\n",
    "    last_name: str\n",
    "    age: int\n",
    "    date_joined: datetime.date\n",
    "    level: Optional[Level]=None  # Make the field as Optional. Unless you specify field as Optional, then other fields are required\n",
    "    # level: Optional[Level]=Level.BEGINNER  # You can also assign a default value\n",
    "\n",
    "    @validator('age')\n",
    "    def validate_age(cls,age):\n",
    "        if age < 10:\n",
    "            raise ValueError('Age must be 10 or above')\n",
    "        return age\n",
    "\n",
    "    @validator('level')\n",
    "    def validate_level_from_age(cls,level, values): # If you don't want to use values['age'] then values is not necessary here\n",
    "        if level is not None:\n",
    "            if level is Level.ADVANCED and values['age'] < 14:\n",
    "                raise ValueError('To be advanced the student must be above 13')\n",
    "        print(values)\n",
    "        return level\n",
    "        \n",
    "student1 = Student(\n",
    "    first_name='Harry',\n",
    "    last_name='Potter',\n",
    "    age=18,\n",
    "    date_joined=datetime.date(2024,6,21)\n",
    ")\n",
    "\n",
    "print(student1)"
   ]
  }
 ],
 "metadata": {
  "kernelspec": {
   "display_name": "Python 3 (ipykernel)",
   "language": "python",
   "name": "python3"
  },
  "language_info": {
   "codemirror_mode": {
    "name": "ipython",
    "version": 3
   },
   "file_extension": ".py",
   "mimetype": "text/x-python",
   "name": "python",
   "nbconvert_exporter": "python",
   "pygments_lexer": "ipython3",
   "version": "3.9.19"
  }
 },
 "nbformat": 4,
 "nbformat_minor": 5
}
