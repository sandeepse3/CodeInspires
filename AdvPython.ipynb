{
 "cells": [
  {
   "cell_type": "markdown",
   "id": "30ce8cce",
   "metadata": {},
   "source": [
    "# Decorators - Function that modifies another function.\n",
    "https://youtu.be/JgxCY-tbWHA?si=UNPC4SHuZtVUK8wT\n",
    "Encapsulation in Python is achieved using classes and objects. Here are some ways to incorporate encapsulation in Python using Private Variables (Name Mangling), Properties (Decorators), Public Methods (Decorators)"
   ]
  },
  {
   "cell_type": "markdown",
   "id": "82a0686e",
   "metadata": {},
   "source": [
    "## 5 Important Decorators that you need to Know\n",
    "<br> <b>1. property\n",
    "<br> 2. staticmethod (to call a method that is not binded to Instance)\n",
    "<br> 3. classmethod (to call a method that is binded to Class but not Instance, so that you can access Class Attributes or Methods. Class is   passed as a argument instead of Self)\n",
    "<br> 4. functools.cache\n",
    "<br> 5. dataclass</b>"
   ]
  },
  {
   "cell_type": "code",
   "execution_count": 1,
   "id": "5f5be712",
   "metadata": {},
   "outputs": [
    {
     "name": "stdout",
     "output_type": "stream",
     "text": [
      "Function example_function took: 0.0094 sec\n",
      "The sum is 499999500000\n"
     ]
    }
   ],
   "source": [
    "# Decorators Examples\n",
    "import time()\n",
    "def timer(func):\n",
    "    def wrapper(*args, **kwargs):\n",
    "        start_time = time.time() # Start time\n",
    "        result = func(*args, **kwargs) # Call the decorated function\n",
    "        end_time = time.time() # End time\n",
    "        print(f\"Function {func.__name__} took: {end_time - start_time:.4f} sec\")\n",
    "        return result # Return the value\n",
    "    return wrapper\n",
    "\n",
    "# It's equivalent to example_function = timer(example_function). timer is a decorator, takes in a function (example_function) and modifies it (i.e., adds a functionality around it).\n",
    "\n",
    "@timer\n",
    "def example_function(n):\n",
    "    return f\"The sum is {sum(range(n))}\"\n",
    "\n",
    "print(example_function(1000000))"
   ]
  },
  {
   "cell_type": "code",
   "execution_count": 1,
   "id": "56d47511",
   "metadata": {},
   "outputs": [
    {
     "name": "stdout",
     "output_type": "stream",
     "text": [
      "do_this ran in 3.0004587173461914 seconds\n",
      "do_that ran in 2.000710964202881 seconds\n",
      "Done\n",
      "I am Sandeep\n",
      "5\n"
     ]
    }
   ],
   "source": [
    "# Using existing method as a Decorated function\n",
    "import time\n",
    "def tictoc(func):\n",
    "    def wrapper():\n",
    "        start_time = time.time()\n",
    "        func()\n",
    "        t2 = time.time()-start_time\n",
    "        print(f'{func.__name__} ran in'\\\n",
    "              f' {t2} seconds')\n",
    "    return wrapper\n",
    "\n",
    "# It's equivalent to do_this = tictoc(do_this). tictoc is a decorator, takes in a function (do_this) and modifies (i.e., adds a functionality around it) it.\n",
    "@tictoc\n",
    "def do_this():\n",
    "    # Simulating running code..\n",
    "    time.sleep (3)\n",
    "\n",
    "@tictoc\n",
    "def do_that():\n",
    "    # Simulating running code..\n",
    "    time.sleep (2)\n",
    "    \n",
    "do_this()\n",
    "do_that()\n",
    "print('Done')\n",
    "# %%\n",
    "def myadd(func):\n",
    "    def wrapper(*x):\n",
    "        print(f'I am Sandeep')\n",
    "        print(func(*x))\n",
    "    return wrapper\n",
    "\n",
    "@myadd\n",
    "def yadd(a,b):\n",
    "    return a+b\n",
    "\n",
    "f = yadd\n",
    "f(2,3)"
   ]
  },
  {
   "cell_type": "markdown",
   "id": "a165de5e",
   "metadata": {},
   "source": [
    "## 1st decorator is Property\n",
    "We can treat a method inside a class as if it was attribute and we can get the access to a specific field or attribute in Python (Private Variable). In Python we don't have Access Modifiers (whether or not an attribute can be accessed outside of the class) like public, private, protected like in other programming languages."
   ]
  },
  {
   "cell_type": "code",
   "execution_count": 17,
   "id": "cd3f28e9",
   "metadata": {},
   "outputs": [
    {
     "name": "stdout",
     "output_type": "stream",
     "text": [
      "5\n",
      "10\n"
     ]
    }
   ],
   "source": [
    "class Circle:\n",
    "    def __init__(self, radius):\n",
    "        self._radius = radius # _ before a variable is used for private variable and you should not use it outside the class\n",
    "   \n",
    "    @property  # Getter\n",
    "    def radius(self):\n",
    "        # Get the radius of the circle.\n",
    "        return self._radius\n",
    "    \n",
    "    @radius.setter\n",
    "    def radius(self, value):\n",
    "        # Set the radius of the circle. Must be positive.\n",
    "        if value >= 0:\n",
    "            self._radius = value\n",
    "        else:\n",
    "            raise ValueError(\"Radius must be positive\")\n",
    "    \n",
    "    @property\n",
    "    def diameter(self):\n",
    "        # Get the diameter of the circle.\n",
    "        return self._radius * 2\n",
    "\n",
    "# Usage\n",
    "c = Circle(5)\n",
    "print(c.radius)\n",
    "print(c.diameter)"
   ]
  },
  {
   "cell_type": "code",
   "execution_count": 19,
   "id": "8104f2af",
   "metadata": {},
   "outputs": [
    {
     "name": "stdout",
     "output_type": "stream",
     "text": [
      "5\n",
      "Deleting radius\n"
     ]
    }
   ],
   "source": [
    "class Circle:\n",
    "    def __init__(self, radius):\n",
    "        self._radius = radius # _ before a variable is used for private variable and you should not use it outside the class\n",
    "   \n",
    "    @property  # Getter\n",
    "    def radius(self):\n",
    "        # Get the radius of the circle.\n",
    "        return self._radius\n",
    "    \n",
    "    @radius.setter\n",
    "    def radius(self, value):\n",
    "        # Set the radius of the circle. Must be positive.\n",
    "        if value >= 0:\n",
    "            self._radius = value\n",
    "        else:\n",
    "            raise ValueError(\"Radius must be positive\")\n",
    "    \n",
    "    @radius.deleter\n",
    "    def radius(self):\n",
    "        print('Deleting radius')\n",
    "        del self._radius\n",
    "\n",
    "# Usage\n",
    "c = Circle(5)\n",
    "print(c.radius)\n",
    "del c.radius"
   ]
  },
  {
   "cell_type": "markdown",
   "id": "fb9f3a2a",
   "metadata": {},
   "source": [
    "# Name Mangling\n",
    "Python does not support strict private and protected variables. Private variables in Python are typically denoted by using a double underscore prefix (__) before the variable name. This prefix triggers the name mangling process, which replaces the variable name with a mangled version that includes the class name (_MyClass__private_value). This mangled name is used internally within the class, making it less accessible from outside the class.\n"
   ]
  },
  {
   "cell_type": "code",
   "execution_count": null,
   "id": "0b82562b",
   "metadata": {},
   "outputs": [],
   "source": [
    "class MyClass:\n",
    "    def __init__(self, private_value):\n",
    "        self.__private_value = private_value\n",
    "\n",
    "    def get_private_value(self):\n",
    "        return self.__private_value\n",
    "\n",
    "obj = MyClass(10)\n",
    "print(obj.get_private_value())  # Output: 10\n",
    "print(obj.__private_value)  # Output: AttributeError\n",
    "print(obj._MyClass__private_value)  # Output: 10"
   ]
  },
  {
   "cell_type": "markdown",
   "id": "84b89ea2",
   "metadata": {},
   "source": [
    "# Pydantic v1"
   ]
  }
 ],
 "metadata": {
  "kernelspec": {
   "display_name": "Python 3 (ipykernel)",
   "language": "python",
   "name": "python3"
  },
  "language_info": {
   "codemirror_mode": {
    "name": "ipython",
    "version": 3
   },
   "file_extension": ".py",
   "mimetype": "text/x-python",
   "name": "python",
   "nbconvert_exporter": "python",
   "pygments_lexer": "ipython3",
   "version": "3.9.19"
  }
 },
 "nbformat": 4,
 "nbformat_minor": 5
}
