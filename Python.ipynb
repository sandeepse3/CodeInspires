{
 "cells": [
  {
   "cell_type": "code",
   "execution_count": 7,
   "metadata": {},
   "outputs": [
    {
     "name": "stdout",
     "output_type": "stream",
     "text": [
      "Last Updated Date: 11 October 2021\n"
     ]
    }
   ],
   "source": [
    "from datetime import date\n",
    "today = date.today()\n",
    "print(\"Last Updated Date:\", today.strftime(\"%d %B %Y\"))"
   ]
  },
  {
   "cell_type": "markdown",
   "metadata": {},
   "source": [
    "<br>[Python Tips and Tricks](#Python_Tips_and_Tricks)\n",
    "<br>[Python Cheat Sheet](#Python_Cheat_Sheet)\n",
    "<br>[Installation](#Installation)\n",
    "<br>[Using the Python Command](#Using_the_Python_Command)\n",
    "<br>[Print and Input Function](#Print_and_Input_Function)\n",
    "<br>[Escape Character](#Escape_Character)\n",
    "<br>[Triple Quote](#Triple_Quote)\n",
    "<br>[Assignment Operator](#Assignment_Operator)\n",
    "<br>[Operators](#Operators)\n",
    "<br>[Comparison Operators](#Comparison_Operators)\n",
    "<br>[Logical Operators](#Logical_Operators)\n",
    "<br>[Bitwise Operators](#Bitwise_Operators)\n",
    "<br>[Multiple Assignment](#Multiple_Assignment)\n",
    "<br>[Slices](#Slices)\n",
    "<br>[Type Casting](#Type_Casting)\n",
    "<br>[Lists](#Lists)\n",
    "<br>[Strings](#Strings)\n",
    "<br>[Tuples](#Tuples)\n",
    "<br>[Sets](#Sets)\n",
    "<br>[Dictionary](#Dictionary)\n",
    "<br>[Data Structures](#Data_Structures)\n",
    "<br>[Control the flow of a Program](#Control_the_flow_of_a_Program)\n",
    "<br>[Functions](#Functions)\n",
    "<br>[Python Built-in Functions](#Python_Built-in_Functions)\n",
    "<br>[Nested Functions](#Nested_Functions)\n",
    "<br>[Encapsulation](#Encapsulation)\n",
    "<br>[Recursion](#Recursion)\n",
    "<br>[Module](#Module)\n",
    "<br>[Package](#Package)\n",
    "<br>[Library](#Library)\n",
    "<br>[File Handling](#File_Handling)\n",
    "<br>[Object Oriented Programming](#Object_Oriented_Programming)\n",
    "<br>[Python Built-in Methods](#Python_Built-in_Methods)\n",
    "<br>[Platform Specific Methods](#Platform_Specific_Methods)\n",
    "<br>[Python Special Methods](#Python_Special_Methods)\n",
    "<br>[Comprehension Solutions](#Comprehension_Solutions)\n",
    "<br>[Executing IPython Magic Commands in Jupyter Notebook](#Executing_IPython_Magic_Commands_in_Jupyter_Notebook)\n",
    "<br>[Executing Shell / Windows commands](#Executing_Shell_or_Windows_commands)\n",
    "<br>[Python Environement](#Python_Environement)\n",
    "\n",
    "<br>[Python Method Vs Function](#Python_Method_Vs_Function)\n",
    "<br>[Memory Management in Python](#Memory_Management_in_Python)"
   ]
  },
  {
   "cell_type": "code",
   "execution_count": null,
   "metadata": {},
   "outputs": [],
   "source": []
  },
  {
   "cell_type": "markdown",
   "metadata": {},
   "source": [
    "# <a id='Python_Tips_and_Tricks'></a>Python Tips and Tricks\n",
    "\n",
    "* sys.version;    - Adding a semicolon at the end will hide the cell output. Very useful tip\n",
    "* __dir(anyobject)__ - Finding what methods a Python Object has or supports\n",
    "* jupyter notebook --help-all\n",
    "* Warning is not an exception in Python"
   ]
  },
  {
   "cell_type": "markdown",
   "metadata": {},
   "source": [
    "# <a id='Python_Cheat_Sheet'></a>Python Cheat Sheet\n",
    "\n",
    "* Data types\n",
    "* Numbers\n",
    "* Strings\n",
    "* Printing\n",
    "* Lists\n",
    "* Dictionaries\n",
    "* Booleans\n",
    "* Tuples \n",
    "* Sets\n",
    "* Comparison Operators\n",
    "* if,elif, else Statements\n",
    "* for Loops\n",
    "* while Loops\n",
    "* range()\n",
    "* list comprehension\n",
    "* functions\n",
    "* lambda expressions\n",
    "* map and filter\n",
    "* methods\n",
    "* import math as m\n",
    "* dir(list)\n",
    "\n",
    "__Operations  (Division, Floor Division, Remainder, to the power of)__\n",
    "__Assignment Operator__\n",
    "__Operators / Comparison Operators__\n",
    "__Logic Operators__\n",
    "__Bitwise Operators__\n",
    "* Bitwise AND ( & )\n",
    "* Bitwise OR ( | )\n",
    "* Bitwise Exclusive OR ( ^ )\n",
    "* Bitwise Shift Left ( << )\n",
    "* Bitwise Shift Right ( >> )\n",
    "* Bitwise Complement ( ~ )\n",
    "\n",
    "__Multiple Assignment (it's the same case with lists or tuples)__\n",
    "__Swapping variable Example uisng Multiple Assignment__\n",
    "__Assignment Operators__\n",
    "__Slices__\n",
    "* Extendend Slices - Third parameter called 'step' has been added\n",
    "\n",
    "__Type Casting__\n",
    "__Lists__\n",
    "* List Methods\n",
    "* Identifying Index in the List\n",
    "* Appending to the list / Deleting the item in the list / Deleting the list\n",
    "* Reversing the list and Removing an item from the list\n",
    "* Sorting the list (# Python uses ASCII values to do the sorting), Extending the list (using + and extend method), multiplying the list\n",
    "* append() - takes only one argument, del, extend() - takes multiple items in a list, in, insert(position,value),len(),pop() - Get the value of an item and remove it from the list requires index of item as the argument, MyListName.remove(value),MyList.reverse(),MyList.sort(),sorted(myList), addition operator (+) – Concatenate List, Multiplication operator (*) – Duplicate the list.  Note: The + and * symbols do not modify the list. The list stays as ['a', 'b', 'c', 'd'] in both cases\n",
    "\n",
    "__Similarities between Lists and Strings__\n",
    "* Lists (Mutable) and Strings (Immutable) are almost similar if you consider strings as list of each character in it\n",
    "\n",
    "__List refers to a collection of data which are normally related. Related data are normally stored in a list. To declare list we need to use Square Braces []. Many of the things that you do / perform with strings, Python also lets you do with the Lists. You can think of a string value as a list of single character values. Lists and Strings are different in an important way, List values are Mutable datatype (you can have values added,removed and changed) and String values are Immutable datatype (i.e., it’s string values cannot be changed)__\n",
    "* Proper way to modify a string is using slices and assinging it to a new variable\n",
    "* Difference between Mutable (lists) and Immutable (strings) data types using below example\n",
    "* Mutable data types / variables (example lists) only are actually storing references and it will not store any value\n",
    "* Immutable data types / variables (example strings, tuples) stores values and it will not store any references. \n",
    "* Immutable values don't have this problem because they can't be modified 'in place'. They can only be replaced with new values\n",
    "* Tuple Operations (Immutable data types) are faster than List Operations (Mutable data types)\n",
    "    * spam = 42 \n",
    "    * cheese = spam\n",
    "    * print(cheese)\n",
    "    * spam = 45\n",
    "    * print(spam)    # By changing spam variable, cheese variable is not changed because values are changed\n",
    "    * print(cheese)\n",
    "\n",
    "    * spam = [21,22,23,24,25]\n",
    "    * cheese = spam\n",
    "    * cheese[1] = 'Hello' # By changing cheese variable, spam variable is changed because cheese = spam means only reference is assigned not values\n",
    "    * print(cheese)\n",
    "\n",
    "__Sometimes you want to copy the entire list (say 4 billion data) to the new variable then we will use ‘copy’ library. To handle mutable datatype__\n",
    "__Line Continuation Character ' \\ '__\n",
    "* The line continuation character \\ can be used to stretch Python instructions across multiple lines.\n",
    "\n",
    "__String Split and Join Functions / Methods__\n",
    "* In Python, strings are represented as str objects, which are immutable: this means that the object as represented in memory can not be directly altered. These two facts can help you learn (and then remember) how to use .split().__\n",
    "* output of a split() function is always a list\n",
    "\n",
    "__Limiting Splits With Maxsplit__\n",
    "__Concatenating and Joining Strings__\n",
    "__Concatenating With the + or * Operator__\n",
    "__Going From a List to a String in Python With .join()__\n",
    "__String Functions (Frequently used ones)__\n",
    "__Tuples__\n",
    "* Tuples are exact same thing as lists except they are immutable and they use parentheses\n",
    "* Tuples are just like lists, but you cannot modify their values. The initial values are the values that will stay for the rest of the program.\n",
    "del, in, len(), Addition Operator (+), Multiplication Operator (*)\n",
    "* Note: The + and * symbols do not modify the tuple.\n",
    "\n",
    "__Sets__\n",
    "* A Set is a collection which is unordered and unindexed. In Python sets are written with curly brackets.\n",
    "* Access Items: You cannot access items in a set by referring to an index, since sets are unordered the items has no index. But you can loop through the set items using a 'for' loop, or ask if a specified value is present in a set, by using the 'in' keyword\n",
    "* Set doesn't contain any duplicates\n",
    "* Once a set is created, you cannot change its items, but can add new items. add() method. To add more than one item to a set use the update() method\n",
    "* Both union() and update() will exclude any duplicate items.\n",
    "* The set() Constructor - It is also possible to use the set() constructor to make a set.\n",
    "\t\n",
    "__Set Methods__  - VIMP\n",
    "* add() - Adds an element to the set\n",
    "* clear() - Removes all the elements from the set\n",
    "* copy() - Returns a copy of the set\n",
    "* difference() - Returns a set containing the difference between two or more sets\n",
    "* difference_update() - Removes the items in this set that are also included in another, specified set\n",
    "* discard() - Remove the specified item\n",
    "* intersection() - Returns a set, that is the intersection of two other sets\n",
    "* intersection_update() - Removes the items in this set that are not present in other, specified set(s)\n",
    "* isdisjoint() - Returns whether two sets have a intersection or not\n",
    "* issubset() - Returns whether another set contains this set or not\n",
    "* issuperset() - Returns whether this set contains another set or not\n",
    "* pop() - Removes an element from the set\n",
    "* remove() - Removes the specified element\n",
    "* symmetric_difference() - Returns a set with the symmetric differences of two sets\n",
    "* symmetric_difference_update() - inserts the symmetric differences from this set and another\n",
    "* union() - Return a set containing the union of sets\n",
    "* update() - Update the set with the union of this set and others\n",
    "\n",
    "__Dictionary__\n",
    "* A dictionary is a collection of many values but unlike list indexes, indexes for dictionaries can use many different data types not just integers.\n",
    "* Declaring the dictionary, dictionary keys and data can be of different data types\n",
    "* Indexes for dictionaries are called keys and a key with its associated value is called a key value pair\n",
    "* Lists are Ordered and Dictionaries are un-ordered\n",
    "* Getting Keys alone in the form list\n",
    "* Getting values alone in the form list\n",
    "* Getting key-value pairs from the Dictionary in the form of list\n",
    "* Updating a Dictionary, Deleting a Dictionary, Clearing a Dictionary\n",
    "* KeyError or ValueError are common errors in a dictionary while trying to retrieve data so we will always use get method\n",
    "* .get('SP','Not an animal') # Whenever it's false it chooses else statement. Such 'else' statement are usually used in making the program not to abort\n",
    "* .setdefault\n",
    "\n",
    "__Lists are Ordered and Dictionaries are un-ordered__\n",
    "__Print and Input Functions__\n",
    "* print('My Name is',myName,'and my Age is',myAge)     # Very EASY syntax and preferred one if there is no formatting\n",
    "\n",
    "__Pretty Print (pprint)__\n",
    "* The pprint module's pprint() \"pretty print\" function can __display a dictionary value cleany__. The __pformat() function returns a string value of this output__.\n",
    "\n",
    "__Data Structures__\n",
    "* The List of dictionaries is called a Data Structure. We can use data structures to model real world things in a way that our programs can understand. List and Dictionaries allow you to combine and organize values to represent real world objects.\n",
    "\n",
    "__Type function__\n",
    "* It gives the type of the variable or value passed to it\n",
    "* type function along with pretty print (pprint) are very much useful\n",
    "\n",
    "__Escape Character__\n",
    "\n",
    "__Triple Quote__\n",
    "* Triple quotes are used when there are single quotes or double quotes in the sentence. This is very handy when using regular expression.\n",
    "\n",
    "__Control the flow of a Program__\n",
    "* if and else conditional statements\n",
    "* inline if statement\n",
    "* while loop\n",
    "* break and contiue keywords\n",
    "* try and except keywords\n",
    "\t* Python, you can refer to https://docs.python.org/3/library/exceptions.html.\n",
    "\t* __ValueError__ and __ZeroDivisionError__ are two of the many pre-defined error types in Python. ValueError is raised when a built-in operation or function receives an argument that has the right type but an inappropriate value. \n",
    "\t* __ZeroDivisionError__ is raised when the program tries to divide by zero. \n",
    "\t* __IOError__: Raised when an I/O operation (such as the built-in open() function) fails for an I/O-related reason, e.g., “file not found”. \n",
    "\t* __ImportError__: Raised when an import statement fails to find the module definition \n",
    "\t* __IndexError__: Raised when a sequence (e.g. string, list, tuple) index is out of range. \n",
    "\t* __KeyError__: Raised when a dictionary key is not found. \n",
    "\t* __NameError__: Raised when a local or global name is not found. \n",
    "\t* __TypeError__: Raised when an operation or function is applied to an object of inappropriate type.\n",
    "\n",
    "__Functions__\n",
    "* replace function / method\n",
    "* Scope of a Variable\n",
    "* Default Parameter Values\n",
    "* Variable Length Argument List\n",
    "* Non-key-worded variable length argument list Example\n",
    "* Key-worded variable length argument list Example\n",
    "\n",
    "__Creating Our Own Modules__\n",
    "* Importing Custom Modules into our program\n",
    "* Placing Modules in a Pre-Defined folder\n",
    "* Placing Modules in a Custom folder\n",
    "\n",
    "__Working with Files__\n",
    "\n",
    "__Object Oriented Programming Part 1__\n",
    "* Class Example\n",
    "* Property Example\n",
    "* Name Mangling\n",
    "__Note__: Name Mangling is working in Jupyter Notebook only if all the code is present in single cell rather than multiple cells\n",
    "\n",
    "__Self, Class Variables vs Instance Variables__\n",
    "__Class Method and Static Method__\n",
    "__Child Class with inheritance, overridden and upgradation__\n",
    "__Child Class with just inheritance and overridding__\n",
    "__Python Special Methods__\n",
    "* Python comes with a large number of special methods. These methods are also known as magic methods and are always surrounded by double underscores. Two of the magic methods that we have encountered so far are __init__ and __str__. One of the magical properties of a special method is that you do not need to invoke it directly.\n",
    "There is a special method for every operator sign. We can override the corresponding special method to provide even more meaning to them. This is known as __overloading the operators__. The special methods for +, -, *, / are __add__, __sub__, __mul__ and __div__ respectively.\n",
    "\n",
    "__Python Built-in Functions for Objects__\n",
    "* isinstance(object,class)\n",
    "* issubclass(class,class)\n",
    "* hasattr(object,'attribute')    # Attribute - variable or method has to be in single quotes. Never ever forget it.\n",
    "\n",
    "__Encapsulation__\n",
    "* You use inner functions to protect them from everything happening outside of the function, meaning that they are hidden from the global scope.\n",
    "\n",
    "__Nested Functions__\n",
    "* Function  used within in a function is called Nested Function\n",
    "\n",
    "__Recursion__\n",
    "* Example 1: Converting Integer to Binary\n",
    "* Example 2: Factorial of a Number\n",
    "* Example 3: Fibonacci Series\n",
    "\n",
    "__Special Functions (and Useful Functions)__\n",
    "* ord(i) – converts character to an ASCII value\n",
    "* chr(n) – converts ASCII value to a Character\n",
    "* fromkeys() - use case - Removing duplicates in a list / array\n",
    "* dir(mylist) - To see all the functions supported by list, dictionaries etc\n",
    "* map(function,iterable)\n",
    "\n",
    "__Python RegEx__\n",
    "* findall() Function\n",
    "The __findall()__ function returns a list containing all matches. If no matches are found, an empty list is returned\n",
    "\n",
    "__Match Object__\n",
    "* A Match Object is an object containing information about the search and the result.\n",
    "* If there is no match, the value None will be returned, instead of the Match Object.\n",
    "* __.start()__ and __.end()__ also gives the start position and end position\n",
    "* __.span()__ returns a tuple containing the start-, and end positions of the match. \n",
    "* __.string__ returns the string passed into the function\n",
    "* __.group()__ returns the part of the string where there was a match\n",
    "\n",
    "__search() Function__\n",
    "* The __search()__ function searches the string for a match, and __returns a Match object if there is a match. If there is more than one match, only the first occurrence of the match will be returned__\n",
    "\n",
    "__split() Function__\n",
    "* The split() function returns a list where the string has been split at each match\n",
    "* You can control the number of occurrences by specifying the __maxsplit__ parameter\n",
    "\n",
    "__sub() Function__\n",
    "* The __sub()__ function replaces the matches with the text of your choice\n",
    "* You can control the number of replacements by specifying the count parameter\n",
    "\n",
    "__Python Functions__\n",
    "* split()\n",
    "* fromkeys() - use case - Removing duplicates in a list / array\n",
    "* sorted(iterable, /, *, key=None, reverse=False)\n",
    "* Split by first 2 whitespace only\n",
    "* Lambda, Map, Filter, Reduce Functions\n",
    "* lambda Function\n",
    "* map() Function\n",
    "    * The map() function executes a specified function for each item in a iterable. The item is sent to the function as a parameter\n",
    "    * __Syntax:__ map(function, iterables or list)\n",
    "\n",
    "__filter Function__\n",
    "* Filter items out of list / sequence\n",
    "* Returns filtered list\n",
    "* Syntax: filter(function that some condition, iterable)\n",
    "\n",
    "__reduce Function__\n",
    "* Applies same operation to items of sequence\n",
    "* Uses result of operation as first param of next operation\n",
    "* Returns an item, not list\n",
    "\n",
    "__zip Function__\n",
    "__iter and next() Method / Function__\n",
    "* The iter() method takes two parameters:\n",
    "    * object - object whose iterator has to be created (can be sets, tuples, etc.)\n",
    "    * sentinel (Optional) - special value that is used to represent the end of a sequence\n",
    "* next() - Is used to access the iterator value\n",
    "<br>https://www.geeksforgeeks.org/python-iter-method/\n",
    "\n",
    "__Comprehension Solutions__\n",
    "* Comprehending the multiple lines of code / program into one or two lines of code / program\n",
    "\n",
    "__list Comprehension__\n",
    "* for comprehension / comprehension solution using 'for'\n",
    "* for - if comprehension / Comprehension Solution using for - if combination\n",
    "\n",
    "__Platform specific methods__\n",
    "__Calculating the time taken to execute some tasks__"
   ]
  },
  {
   "cell_type": "markdown",
   "metadata": {},
   "source": [
    "# <a id='Installation'></a>Installation\n",
    "[Anaconda.txt](../InstallationHelp/Anaconda.txt)"
   ]
  },
  {
   "cell_type": "markdown",
   "metadata": {},
   "source": [
    "# <a id='Using_the_Python_Command'></a>Using the Python Command\n",
    "* To run Python scripts with the python command, you need to open a command-line and type in the word python, or python3 if you have both versions, followed by the path to your script\n",
    "* python3 hello.py > output.txt (For redirecting the output)\n",
    "* python3 hello.py >> output.txt (For appending the output)\n",
    "\n",
    "## Running Modules With the -m Option\n",
    "* python -m module-name\n",
    "* The -m option searches sys.path for the module name and runs its content as __main__\n",
    "* python -m jupyter nbconvert --to html_embed filename.ipynb\n",
    "<br>\n",
    "    \n",
    "<br>https://realpython.com/run-python-scripts/\n",
    "\n",
    "## Executing Terminal Commands in Jupyter Notebooks\n",
    "* In Jupyter Notebook you can execute Terminal commands in the notebook cells by prepending an exclamation point/bang(!) to the beginning of the command. This can be useful for many things such as getting information without having to open a Terminal/Command Prompt, or installing a conda package"
   ]
  },
  {
   "cell_type": "markdown",
   "metadata": {},
   "source": [
    "# <a id='Print_and_Input_Function'></a>Print and Input Functions\n",
    "These are Python's Built-in Functions "
   ]
  },
  {
   "cell_type": "code",
   "execution_count": 2,
   "metadata": {},
   "outputs": [
    {
     "name": "stdout",
     "output_type": "stream",
     "text": [
      "AI\n"
     ]
    }
   ],
   "source": [
    "print('AI')"
   ]
  },
  {
   "cell_type": "code",
   "execution_count": 128,
   "metadata": {},
   "outputs": [
    {
     "name": "stdout",
     "output_type": "stream",
     "text": [
      "What's your name\n",
      "your age\n",
      "My Name is  and my Age is \n",
      "My Name is  and my Age is \n",
      "My Name is  and my Age is \n"
     ]
    }
   ],
   "source": [
    "myName = input(\"What's your name\")\n",
    "myAge = input(\"your age\")\n",
    "print('My Name is',myName,'and my Age is',myAge)     # Very EASY syntax and preferred one if there is no formatting\n",
    "print('My Name is %s and my Age is %s'%(myName,myAge))\n",
    "print('My Name is {1} and my Age is {0}'.format(myAge,myName))"
   ]
  },
  {
   "cell_type": "markdown",
   "metadata": {},
   "source": [
    "__VIMP while working in hackerrank.com or competition based websites__\n",
    "<br> sys.stdin.readline()\n",
    "<br> sys.stdin.read()\n",
    "<br> https://www.geeksforgeeks.org/difference-between-input-and-sys-stdin-readline/#:~:text=stdin.-,readline(),character%20entered%20by%20the%20user."
   ]
  },
  {
   "cell_type": "code",
   "execution_count": 2,
   "metadata": {},
   "outputs": [],
   "source": [
    "import sys\n",
    "txt = sys.stdin.read()     # This method is preferred when you are working in hackerrank.com. In windows ctrl+z and in unix ctrl+d\n",
    "txt = sys.stdin.readline() # This method is preferred when you are working in hackerrank.com. In windows ctrl+z and in unix ctrl+d"
   ]
  },
  {
   "cell_type": "markdown",
   "metadata": {},
   "source": [
    "# <a id='Escape_Character'></a>Escape Character"
   ]
  },
  {
   "cell_type": "code",
   "execution_count": 132,
   "metadata": {},
   "outputs": [
    {
     "name": "stdout",
     "output_type": "stream",
     "text": [
      "\" \n",
      "I am 5' 6'' tall\n",
      "Hello\tWorld\n",
      "Hello\\tWorld\n",
      "Hello\\tWorld\n"
     ]
    }
   ],
   "source": [
    "print('\\\" ')              #Prints double quote, so that the double quote does not signal the end of the string\n",
    "print('I am 5\\' 6\\'\\' tall')\n",
    "print('Hello\\tWorld')\n",
    "print(r'Hello\\tWorld')  #To print the raw string i.e.,to print everything within Quotes including special keywords like \\t. Very Important\n",
    "print('Hello\\\\tWorld')  #If you do not want characters preceded by the \\ character to be interpreted as special characters, you can use raw strings by adding an r before the first quote. For instance, if you do not want \\t to be interpreted as a tab, you should type print (r'Hello\\tWorld')."
   ]
  },
  {
   "cell_type": "markdown",
   "metadata": {},
   "source": [
    "# <a id='Triple_Quote'></a>Triple Quote\n",
    "<b> Triple quotes are used when there are single quotes or double quotes in the sentence. This is very handy when using regular expression."
   ]
  },
  {
   "cell_type": "code",
   "execution_count": 133,
   "metadata": {},
   "outputs": [
    {
     "name": "stdout",
     "output_type": "stream",
     "text": [
      "Hi... This is\n",
      "      Sandeep and there are new line characters\n",
      "      within this sentence\n",
      "Hello World...There are new\n",
      "      line characters in below\n",
      "      sentenses\n"
     ]
    }
   ],
   "source": [
    "print('''Hi... This is\n",
    "      Sandeep and there are new line characters\n",
    "      within this sentence''')\n",
    "print(\"\"\"Hello World...There are new\n",
    "      line characters in below\n",
    "      sentenses\"\"\")"
   ]
  },
  {
   "cell_type": "markdown",
   "metadata": {},
   "source": [
    "## Pretty Print (pprint)\n",
    "The pprint module's pprint() \"pretty print\" function can __display a dictionary value cleany__. The __pformat() function returns a string value of this output__."
   ]
  },
  {
   "cell_type": "code",
   "execution_count": 129,
   "metadata": {},
   "outputs": [
    {
     "name": "stdout",
     "output_type": "stream",
     "text": [
      "{'age': 8, 'name': 'Zophie', 'species': 'cat'}\n"
     ]
    }
   ],
   "source": [
    "import pprint\n",
    "cnt = {'name':'Zophie','species':'cat','age':8}\n",
    "pprint.pprint(cnt)              # see the example 53. Counting characters in a string"
   ]
  },
  {
   "cell_type": "markdown",
   "metadata": {},
   "source": [
    "# <a id='Assignment_Operator'></a>Assignment Operator"
   ]
  },
  {
   "cell_type": "code",
   "execution_count": 3,
   "metadata": {},
   "outputs": [
    {
     "name": "stdout",
     "output_type": "stream",
     "text": [
      "30\n",
      "Peter\n"
     ]
    },
    {
     "data": {
      "text/plain": [
       "\"x = 10, y = 15 #Assignment will throw an error (SyntaxError: can't assign to literal)\""
      ]
     },
     "execution_count": 3,
     "metadata": {},
     "output_type": "execute_result"
    }
   ],
   "source": [
    "userAge,userName = 30, 'Peter' # Defining multiple variables at one go \n",
    "# Every time you declare a new variable, you need to give it an initial value\n",
    "# Variable names are case sensitive, username is not the same as userName\n",
    "print(userAge)\n",
    "print(userName)\n",
    "x,y=10,15  #Assignment is valid. This is called MULTIPLE ASSIGNMENT\n",
    "x = 10; y = 15 #Assignment is valid but \n",
    "'''x = 10, y = 15 #Assignment will throw an error (SyntaxError: can't assign to literal)'''"
   ]
  },
  {
   "cell_type": "markdown",
   "metadata": {},
   "source": [
    "# <a id='Operators'></a>Operators"
   ]
  },
  {
   "cell_type": "code",
   "execution_count": 2,
   "metadata": {},
   "outputs": [
    {
     "name": "stdout",
     "output_type": "stream",
     "text": [
      "5\n",
      "1\n",
      "6\n",
      "1.5\n",
      "1\n",
      "True\n"
     ]
    }
   ],
   "source": [
    "print(3+2)       #Just 3+2 is not working\n",
    "print(3-2)\n",
    "print(3*2)\n",
    "print(3/2)\n",
    "print(3%2)\n",
    "print(3>2)"
   ]
  },
  {
   "cell_type": "markdown",
   "metadata": {},
   "source": [
    "# <a id='Comparison_Operators'></a>Comparison Operators"
   ]
  },
  {
   "cell_type": "code",
   "execution_count": 4,
   "metadata": {},
   "outputs": [
    {
     "name": "stdout",
     "output_type": "stream",
     "text": [
      "5\n",
      "True\n",
      "True\n",
      "True\n",
      "True\n"
     ]
    }
   ],
   "source": [
    "print(1 >= 1)\n",
    "print(1 <= 4)\n",
    "print(1 == 1)"
   ]
  },
  {
   "cell_type": "markdown",
   "metadata": {},
   "source": [
    "# <a id='Logical_Operators'></a>Logic Operators"
   ]
  },
  {
   "cell_type": "code",
   "execution_count": 5,
   "metadata": {},
   "outputs": [
    {
     "data": {
      "text/plain": [
       "False"
      ]
     },
     "execution_count": 5,
     "metadata": {},
     "output_type": "execute_result"
    }
   ],
   "source": [
    "(1 > 2) and (2 < 3)"
   ]
  },
  {
   "cell_type": "code",
   "execution_count": 6,
   "metadata": {},
   "outputs": [
    {
     "data": {
      "text/plain": [
       "True"
      ]
     },
     "execution_count": 6,
     "metadata": {},
     "output_type": "execute_result"
    }
   ],
   "source": [
    "(1 > 2) or (2 < 3)"
   ]
  },
  {
   "cell_type": "code",
   "execution_count": 7,
   "metadata": {},
   "outputs": [
    {
     "data": {
      "text/plain": [
       "False"
      ]
     },
     "execution_count": 7,
     "metadata": {},
     "output_type": "execute_result"
    }
   ],
   "source": [
    "not (True)"
   ]
  },
  {
   "cell_type": "markdown",
   "metadata": {},
   "source": [
    "# <a id='Bitwise_Operators'></a>Bitwise Operators\n",
    "<br>https://www.tutorialgateway.org/python-bitwise-operators/"
   ]
  },
  {
   "cell_type": "code",
   "execution_count": 8,
   "metadata": {},
   "outputs": [],
   "source": [
    "def decimal_to_binary(n):\n",
    "    x = []\n",
    "    while(n!=0):\n",
    "        x.append(n%2)\n",
    "        n=n//2\n",
    "    x = x[::-1]\n",
    "    for i in x:\n",
    "        print(i,end='')"
   ]
  },
  {
   "cell_type": "code",
   "execution_count": 9,
   "metadata": {},
   "outputs": [
    {
     "name": "stdout",
     "output_type": "stream",
     "text": [
      "110"
     ]
    }
   ],
   "source": [
    "decimal_to_binary(6)"
   ]
  },
  {
   "cell_type": "code",
   "execution_count": 10,
   "metadata": {},
   "outputs": [
    {
     "name": "stdout",
     "output_type": "stream",
     "text": [
      "1000"
     ]
    }
   ],
   "source": [
    "decimal_to_binary(8)"
   ]
  },
  {
   "cell_type": "code",
   "execution_count": 11,
   "metadata": {},
   "outputs": [],
   "source": [
    "x = 6"
   ]
  },
  {
   "cell_type": "code",
   "execution_count": 12,
   "metadata": {},
   "outputs": [],
   "source": [
    "y = 8"
   ]
  },
  {
   "cell_type": "markdown",
   "metadata": {},
   "source": [
    "## Bitwise AND ( & )"
   ]
  },
  {
   "cell_type": "code",
   "execution_count": 13,
   "metadata": {},
   "outputs": [
    {
     "data": {
      "text/plain": [
       "0"
      ]
     },
     "execution_count": 13,
     "metadata": {},
     "output_type": "execute_result"
    }
   ],
   "source": [
    "x&y"
   ]
  },
  {
   "cell_type": "markdown",
   "metadata": {},
   "source": [
    "## Bitwise OR ( | )"
   ]
  },
  {
   "cell_type": "code",
   "execution_count": 14,
   "metadata": {},
   "outputs": [
    {
     "data": {
      "text/plain": [
       "14"
      ]
     },
     "execution_count": 14,
     "metadata": {},
     "output_type": "execute_result"
    }
   ],
   "source": [
    "x|y        # 1000 bitwise OR 0110 -> 1110 -> 8+4+2 = 14"
   ]
  },
  {
   "cell_type": "markdown",
   "metadata": {},
   "source": [
    "## Bitwise Exclusive OR ( ^ )"
   ]
  },
  {
   "cell_type": "code",
   "execution_count": 15,
   "metadata": {},
   "outputs": [
    {
     "data": {
      "text/plain": [
       "14"
      ]
     },
     "execution_count": 15,
     "metadata": {},
     "output_type": "execute_result"
    }
   ],
   "source": [
    "x^y"
   ]
  },
  {
   "cell_type": "code",
   "execution_count": 16,
   "metadata": {},
   "outputs": [
    {
     "name": "stdout",
     "output_type": "stream",
     "text": [
      "1110"
     ]
    }
   ],
   "source": [
    "decimal_to_binary(14)"
   ]
  },
  {
   "cell_type": "markdown",
   "metadata": {},
   "source": [
    "## Bitwise Shift Left ( << )"
   ]
  },
  {
   "cell_type": "code",
   "execution_count": 17,
   "metadata": {},
   "outputs": [
    {
     "data": {
      "text/plain": [
       "16"
      ]
     },
     "execution_count": 17,
     "metadata": {},
     "output_type": "execute_result"
    }
   ],
   "source": [
    "y<<1"
   ]
  },
  {
   "cell_type": "markdown",
   "metadata": {},
   "source": [
    "## Bitwise Shift Right ( >> )"
   ]
  },
  {
   "cell_type": "code",
   "execution_count": 18,
   "metadata": {},
   "outputs": [
    {
     "data": {
      "text/plain": [
       "4"
      ]
     },
     "execution_count": 18,
     "metadata": {},
     "output_type": "execute_result"
    }
   ],
   "source": [
    "y>>1"
   ]
  },
  {
   "cell_type": "markdown",
   "metadata": {},
   "source": [
    "## Bitwise Complement ( ~ )"
   ]
  },
  {
   "cell_type": "code",
   "execution_count": 19,
   "metadata": {},
   "outputs": [
    {
     "data": {
      "text/plain": [
       "6"
      ]
     },
     "execution_count": 19,
     "metadata": {},
     "output_type": "execute_result"
    }
   ],
   "source": [
    "x"
   ]
  },
  {
   "cell_type": "code",
   "execution_count": 20,
   "metadata": {},
   "outputs": [
    {
     "name": "stdout",
     "output_type": "stream",
     "text": [
      "110"
     ]
    }
   ],
   "source": [
    "decimal_to_binary(6)"
   ]
  },
  {
   "cell_type": "code",
   "execution_count": 21,
   "metadata": {},
   "outputs": [],
   "source": [
    "c = ~x"
   ]
  },
  {
   "cell_type": "code",
   "execution_count": 22,
   "metadata": {},
   "outputs": [
    {
     "data": {
      "text/plain": [
       "-7"
      ]
     },
     "execution_count": 22,
     "metadata": {},
     "output_type": "execute_result"
    }
   ],
   "source": [
    "c"
   ]
  },
  {
   "cell_type": "markdown",
   "metadata": {},
   "source": [
    "# <a id='Multiple_Assignment'></a>Multiple Assignment (it's the same case with lists or tuples)"
   ]
  },
  {
   "cell_type": "code",
   "execution_count": 23,
   "metadata": {},
   "outputs": [
    {
     "name": "stdout",
     "output_type": "stream",
     "text": [
      "34\n",
      "Brown\n",
      "USA\n"
     ]
    }
   ],
   "source": [
    "# Multiple Assignment Example\n",
    "person = [34,'Brown','USA']\n",
    "age,color,country = person  # Multiple assignment. Easy to assign\n",
    "print(age)\n",
    "print(color)\n",
    "print(country)"
   ]
  },
  {
   "cell_type": "code",
   "execution_count": 24,
   "metadata": {},
   "outputs": [
    {
     "name": "stdout",
     "output_type": "stream",
     "text": [
      "100\n",
      "50\n"
     ]
    }
   ],
   "source": [
    "# Swapping variable Example uisng Multiple Assignment\n",
    "a = 50\n",
    "b = 100\n",
    "a,b=b,a\n",
    "print(a)\n",
    "print(b)"
   ]
  },
  {
   "cell_type": "code",
   "execution_count": 25,
   "metadata": {},
   "outputs": [
    {
     "data": {
      "text/plain": [
       "44"
      ]
     },
     "execution_count": 25,
     "metadata": {},
     "output_type": "execute_result"
    }
   ],
   "source": [
    "# Assignment Operators\n",
    "spam = 42\n",
    "spam = spam + 1\n",
    "spam += 1  # Assignment Operators\n",
    "spam"
   ]
  },
  {
   "cell_type": "code",
   "execution_count": 26,
   "metadata": {},
   "outputs": [
    {
     "name": "stdout",
     "output_type": "stream",
     "text": [
      "2.5\n",
      "2\n",
      "1\n",
      "25\n"
     ]
    }
   ],
   "source": [
    "x = 5\n",
    "y = 2\n",
    "print(x/y)  # Quotient of whose Remainder is always Zero\n",
    "print(x//y) # Floor Division i.e., Quotient will be always Integer\n",
    "print(x%y) # Remainder\n",
    "print(x**y) # x to the power y"
   ]
  },
  {
   "cell_type": "code",
   "execution_count": 27,
   "metadata": {},
   "outputs": [
    {
     "name": "stdout",
     "output_type": "stream",
     "text": [
      "7\n",
      "1.75\n",
      "x= 1.75\n",
      "x= 1.75\n"
     ]
    }
   ],
   "source": [
    "x+=2\n",
    "print(x)\n",
    "x/=4\n",
    "print(x)\n",
    "print(\"x=\",x)\n",
    "print('x=',x)\n",
    "# Datatypes - Integers, Float, String (represented in single quores or double quotes)"
   ]
  },
  {
   "cell_type": "code",
   "execution_count": 28,
   "metadata": {},
   "outputs": [
    {
     "name": "stdout",
     "output_type": "stream",
     "text": [
      "Peter Lee\n",
      "PETER LEE\n",
      "Sandeep Test\n"
     ]
    }
   ],
   "source": [
    "# We can comobine multiple substrings by using the concatenate sign (+)\n",
    "z = 'Peter ' + 'Lee'\n",
    "print(z)\n",
    "print(z.upper())\n",
    "print('Sandeep Test')"
   ]
  },
  {
   "cell_type": "code",
   "execution_count": 29,
   "metadata": {},
   "outputs": [
    {
     "name": "stdout",
     "output_type": "stream",
     "text": [
      "Awesome\n",
      "My Phone's brand is Google, the price is $849 and the present exchange rate is 198.76\n"
     ]
    }
   ],
   "source": [
    "'''Example using formatters'''\n",
    "Myusername = 'Awesome'\n",
    "print(Myusername)\n",
    "Brand = 'Google'\n",
    "ExchangeRate = 198.763\n",
    "message = \"My Phone's brand is %s, the price is $%d and the present exchange rate is %5.2f\" %(Brand,849,ExchangeRate)\n",
    "print(message)"
   ]
  },
  {
   "cell_type": "code",
   "execution_count": 30,
   "metadata": {},
   "outputs": [
    {
     "name": "stdout",
     "output_type": "stream",
     "text": [
      "The price of Gaming Console is 199.00 and the brand is Nvidia\n"
     ]
    }
   ],
   "source": [
    "'''Example 2'''\n",
    "exrate = 65\n",
    "bD = 'Nvidia'\n",
    "typ = 'Gaming'\n",
    "pc = 199\n",
    "msg = \"The price of %s Console is %6.2f and the brand is %s\"%(typ,pc,bD)\n",
    "print(msg)"
   ]
  },
  {
   "cell_type": "code",
   "execution_count": 31,
   "metadata": {},
   "outputs": [
    {
     "name": "stdout",
     "output_type": "stream",
     "text": [
      "The price of Gaming Console is 199.00 and the brand is Nvidia\n",
      "The price of Gaming Console is 199 and the brand is Nvidia\n"
     ]
    }
   ],
   "source": [
    "'''Example using Format String'''\n",
    "ms = 'The price of {0:s} Console is {1:6.2f} and the brand is {2:s}'.format(typ,pc,bD)\n",
    "print(ms)\n",
    "ms1 = 'The price of {} Console is {} and the brand is {}'.format(typ,pc,bD)\n",
    "print(ms1)"
   ]
  },
  {
   "cell_type": "code",
   "execution_count": 32,
   "metadata": {},
   "outputs": [
    {
     "name": "stdout",
     "output_type": "stream",
     "text": [
      "Python is easier than Java\n",
      "Java is easier than Python\n"
     ]
    }
   ],
   "source": [
    "message1 = '{} is easier than {}'.format('Python','Java')\n",
    "print(message1)\n",
    "message2= '{1} is easier than {0}'.format('Python','Java')\n",
    "print(message2)\n",
    "message3= '{:6.2f}  and {:d}'.format(199,55)"
   ]
  },
  {
   "cell_type": "code",
   "execution_count": 33,
   "metadata": {},
   "outputs": [
    {
     "name": "stdout",
     "output_type": "stream",
     "text": [
      "199.00  and 55\n",
      "  199.00  and 55\n",
      "1.234569\n"
     ]
    }
   ],
   "source": [
    "print(message3)\n",
    "message4= '{:8.2f}  and {:d}'.format(199,55)\n",
    "print(message4)\n",
    "message5= '{}'.format(1.234569)\n",
    "print(message5)"
   ]
  },
  {
   "cell_type": "code",
   "execution_count": 34,
   "metadata": {},
   "outputs": [
    {
     "name": "stdout",
     "output_type": "stream",
     "text": [
      "Python is easier than Java\n",
      "199.00 and 55\n"
     ]
    }
   ],
   "source": [
    "#Instead of writing .format you can use f. This is recommended way instead of .format\n",
    "x = 'Python'\n",
    "y = 'Java'\n",
    "print(f'{x} is easier than {y}')\n",
    "print(f'{199:6.2f} and {55:2d}')"
   ]
  },
  {
   "cell_type": "code",
   "execution_count": 35,
   "metadata": {},
   "outputs": [
    {
     "name": "stdout",
     "output_type": "stream",
     "text": [
      "The item number 0 is Pens\n",
      "The item number 1 is Pencils\n",
      "The item number 2 is Papers\n",
      "The item number 3 is Stappler\n",
      "The item number 4 is Sketches\n"
     ]
    }
   ],
   "source": [
    "# String Concatenation using '+' Operator\n",
    "supplies = ['Pens','Pencils','Papers','Stappler','Sketches']\n",
    "for i in range(len(supplies)):\n",
    "    print('The item number '+ str(i) +' is ' +supplies[i])"
   ]
  },
  {
   "cell_type": "markdown",
   "metadata": {},
   "source": [
    "# <a id='Slices'></a>Slices"
   ]
  },
  {
   "cell_type": "code",
   "execution_count": 36,
   "metadata": {},
   "outputs": [
    {
     "data": {
      "text/plain": [
       "'bc'"
      ]
     },
     "execution_count": 36,
     "metadata": {},
     "output_type": "execute_result"
    }
   ],
   "source": [
    "x = 'abcdefghijk'\n",
    "x[1:3]"
   ]
  },
  {
   "cell_type": "code",
   "execution_count": 37,
   "metadata": {},
   "outputs": [
    {
     "data": {
      "text/plain": [
       "'b'"
      ]
     },
     "execution_count": 37,
     "metadata": {},
     "output_type": "execute_result"
    }
   ],
   "source": [
    "x[1:2]"
   ]
  },
  {
   "cell_type": "markdown",
   "metadata": {},
   "source": [
    "## Extendend Slices - Third parameter called 'step' has been added"
   ]
  },
  {
   "cell_type": "code",
   "execution_count": 38,
   "metadata": {},
   "outputs": [
    {
     "name": "stdout",
     "output_type": "stream",
     "text": [
      "kjihgfedcba\n",
      "abcdefghijk\n"
     ]
    }
   ],
   "source": [
    "x[::-1]   # Reversing the String\n",
    "print(x[::-1])\n",
    "print(x)"
   ]
  },
  {
   "cell_type": "markdown",
   "metadata": {},
   "source": [
    "# <a id='Type_Casting'></a>Type Casting"
   ]
  },
  {
   "cell_type": "code",
   "execution_count": 39,
   "metadata": {},
   "outputs": [
    {
     "name": "stdout",
     "output_type": "stream",
     "text": [
      "l= 5\n",
      "n= 199.0\n",
      "o= 5.3\n"
     ]
    }
   ],
   "source": [
    "print('l=',int(5.6745))\n",
    "'''print('m=',int('Hello'))      #This will give an error'''\n",
    "print('n=',float(199))\n",
    "print('o=',str(5.3))"
   ]
  },
  {
   "cell_type": "markdown",
   "metadata": {},
   "source": [
    "# <a id='Lists'></a>Lists"
   ]
  },
  {
   "cell_type": "code",
   "execution_count": 40,
   "metadata": {},
   "outputs": [
    {
     "data": {
      "text/plain": [
       "['H', 'e', 'l', 'l', 'o']"
      ]
     },
     "execution_count": 40,
     "metadata": {},
     "output_type": "execute_result"
    }
   ],
   "source": [
    "list('Hello')  # list function converts string to list of characters"
   ]
  },
  {
   "cell_type": "code",
   "execution_count": 41,
   "metadata": {},
   "outputs": [
    {
     "name": "stdout",
     "output_type": "stream",
     "text": [
      "[21, 22, 23, 24, 25]\n",
      "[21, 22, 23, 24, 25]\n"
     ]
    }
   ],
   "source": [
    "'''Assigning to the Lists'''\n",
    "userAge = [21,22,23,24,25]\n",
    "userAge1 = userAge\n",
    "print(userAge)\n",
    "print(userAge1)"
   ]
  },
  {
   "cell_type": "code",
   "execution_count": 42,
   "metadata": {},
   "outputs": [
    {
     "name": "stdout",
     "output_type": "stream",
     "text": [
      "[23, 24]\n",
      "25\n",
      "[22, 23, 24, 25]\n",
      "[21, 22, 23, 24, 25]\n"
     ]
    }
   ],
   "source": [
    "userAge2 = userAge[2:4]\n",
    "print(userAge2)\n",
    "print(userAge[-1])\n",
    "print(userAge[1:])\n",
    "print(userAge[:5])"
   ]
  },
  {
   "cell_type": "code",
   "execution_count": 43,
   "metadata": {},
   "outputs": [],
   "source": [
    "nest = [1,2,3,[4,5,['target']]]"
   ]
  },
  {
   "cell_type": "code",
   "execution_count": 44,
   "metadata": {},
   "outputs": [
    {
     "data": {
      "text/plain": [
       "[4, 5, ['target']]"
      ]
     },
     "execution_count": 44,
     "metadata": {},
     "output_type": "execute_result"
    }
   ],
   "source": [
    "nest[3]"
   ]
  },
  {
   "cell_type": "code",
   "execution_count": 45,
   "metadata": {},
   "outputs": [
    {
     "data": {
      "text/plain": [
       "['target']"
      ]
     },
     "execution_count": 45,
     "metadata": {},
     "output_type": "execute_result"
    }
   ],
   "source": [
    "nest[3][2]"
   ]
  },
  {
   "cell_type": "code",
   "execution_count": 46,
   "metadata": {},
   "outputs": [
    {
     "data": {
      "text/plain": [
       "'target'"
      ]
     },
     "execution_count": 46,
     "metadata": {},
     "output_type": "execute_result"
    }
   ],
   "source": [
    "nest[3][2][0]"
   ]
  },
  {
   "cell_type": "code",
   "execution_count": 47,
   "metadata": {},
   "outputs": [
    {
     "data": {
      "text/plain": [
       "False"
      ]
     },
     "execution_count": 47,
     "metadata": {},
     "output_type": "execute_result"
    }
   ],
   "source": [
    "'x' in [1,2,3]"
   ]
  },
  {
   "cell_type": "code",
   "execution_count": 48,
   "metadata": {},
   "outputs": [
    {
     "data": {
      "text/plain": [
       "True"
      ]
     },
     "execution_count": 48,
     "metadata": {},
     "output_type": "execute_result"
    }
   ],
   "source": [
    "'x' in ['x','y','z']"
   ]
  },
  {
   "cell_type": "markdown",
   "metadata": {},
   "source": [
    "## List Methods"
   ]
  },
  {
   "cell_type": "markdown",
   "metadata": {},
   "source": [
    "### Identifying Index in the List"
   ]
  },
  {
   "cell_type": "code",
   "execution_count": 49,
   "metadata": {},
   "outputs": [
    {
     "data": {
      "text/plain": [
       "1"
      ]
     },
     "execution_count": 49,
     "metadata": {},
     "output_type": "execute_result"
    }
   ],
   "source": [
    "spam = ['Sandeep','Rishith','Sharwin','Sravanthi']\n",
    "spam.index('Rishith')"
   ]
  },
  {
   "cell_type": "markdown",
   "metadata": {},
   "source": [
    "### Appending to the list"
   ]
  },
  {
   "cell_type": "code",
   "execution_count": 50,
   "metadata": {},
   "outputs": [
    {
     "name": "stdout",
     "output_type": "stream",
     "text": [
      "[21, 5, 23, 24, 25]\n",
      "[21, 5, 23, 24, 25, 99]\n",
      "[21, 23, 24, 25, 99]\n"
     ]
    }
   ],
   "source": [
    "'''Modify Item in the list'''\n",
    "userAge1[1]=5\n",
    "print(userAge1)\n",
    "userAge1.append(99) # List Method\n",
    "print(userAge1)\n",
    "del userAge1[1]\n",
    "print(userAge1)"
   ]
  },
  {
   "cell_type": "markdown",
   "metadata": {},
   "source": [
    "### Reversing the list and Removing an item from the list"
   ]
  },
  {
   "cell_type": "code",
   "execution_count": 51,
   "metadata": {},
   "outputs": [
    {
     "name": "stdout",
     "output_type": "stream",
     "text": [
      "[1, 2, 3, 4, 5, 'Hello']\n",
      "['Hello', 5, 4, 3, 2, 1]\n",
      "[5, 4, 3, 2, 1]\n"
     ]
    }
   ],
   "source": [
    "myList = [1,2,3,4,5,'Hello']\n",
    "print(myList)\n",
    "myList.reverse()  # List Method\n",
    "print(myList)\n",
    "myList.remove('Hello')  # List Method\n",
    "print(myList)"
   ]
  },
  {
   "cell_type": "markdown",
   "metadata": {},
   "source": [
    "### Sorting the list"
   ]
  },
  {
   "cell_type": "code",
   "execution_count": 52,
   "metadata": {},
   "outputs": [
    {
     "name": "stdout",
     "output_type": "stream",
     "text": [
      "[1, 2, 3, 4, 5]\n",
      "[1, 2, 3, 4, 5, 'a', 'b', 'c', 'd', 'e']\n"
     ]
    }
   ],
   "source": [
    "myList.sort()\n",
    "print(myList)\n",
    "myList.extend(['a','b','c','d','e'])  # List Method\n",
    "print(myList)"
   ]
  },
  {
   "cell_type": "code",
   "execution_count": 53,
   "metadata": {},
   "outputs": [
    {
     "name": "stdout",
     "output_type": "stream",
     "text": [
      "[1, 2, 3, 4, 5]\n",
      "[1, 2, 3, 4, 5, 'a', 'b', 'c', 'd', 'e']\n",
      "[1, 2, 3, 4, 5]\n",
      "[1, 2, 3, 4, 5, 1, 2, 3, 4, 5]\n",
      "[1, 2, 3, 4, 5]\n"
     ]
    }
   ],
   "source": [
    "del myList[5:]\n",
    "print(myList)\n",
    "print(myList + ['a','b','c','d','e'])\n",
    "print(myList)\n",
    "print(myList * 2)    # + and * will not change original list\n",
    "print(myList)"
   ]
  },
  {
   "cell_type": "code",
   "execution_count": 54,
   "metadata": {},
   "outputs": [
    {
     "name": "stdout",
     "output_type": "stream",
     "text": [
      "True\n",
      "False\n",
      "[1, 2, 3, 4, 5]\n",
      "5\n"
     ]
    }
   ],
   "source": [
    "print(5 in myList)\n",
    "print('Hello' in myList)\n",
    "myList1 = sorted(myList)   # List Method\n",
    "print(myList1)\n",
    "print(len(myList))"
   ]
  },
  {
   "cell_type": "markdown",
   "metadata": {},
   "source": [
    "#### append() - takes only one argument, del, extend() - takes multiple items in a list, in, insert(position,value),len(),pop() - Get the value of an item and remove it from the list requires index of item as the argument, MyListName.remove(value),MyList.reverse(),MyList.sort(),sorted(myList), addition operator (+) – Concatenate List, Multiplication operator (*) – Duplicate the list.  Note: The + and * symbols do not modify the list. The list stays as ['a', 'b', 'c', 'd'] in both cases"
   ]
  },
  {
   "cell_type": "code",
   "execution_count": 55,
   "metadata": {},
   "outputs": [
    {
     "data": {
      "text/plain": [
       "[21, 23, 24, 25, 99, [26, 27, 28]]"
      ]
     },
     "execution_count": 55,
     "metadata": {},
     "output_type": "execute_result"
    }
   ],
   "source": [
    "userAge\n",
    "userAge.append([26,27,28])  # It appends entire 26,27,28 at position 5\n",
    "userAge"
   ]
  },
  {
   "cell_type": "code",
   "execution_count": 56,
   "metadata": {},
   "outputs": [
    {
     "data": {
      "text/plain": [
       "[21, 23, 24, 25, 99]"
      ]
     },
     "execution_count": 56,
     "metadata": {},
     "output_type": "execute_result"
    }
   ],
   "source": [
    "del userAge[5]\n",
    "userAge"
   ]
  },
  {
   "cell_type": "code",
   "execution_count": 57,
   "metadata": {},
   "outputs": [
    {
     "data": {
      "text/plain": [
       "[21, 23, 24, 25, 99, 26, 27, 28]"
      ]
     },
     "execution_count": 57,
     "metadata": {},
     "output_type": "execute_result"
    }
   ],
   "source": [
    "userAge.extend([26,27,28])  # It extends the list\n",
    "userAge"
   ]
  },
  {
   "cell_type": "code",
   "execution_count": 58,
   "metadata": {},
   "outputs": [
    {
     "data": {
      "text/plain": [
       "['a', 'b', 'c', 'd', 'e']"
      ]
     },
     "execution_count": 58,
     "metadata": {},
     "output_type": "execute_result"
    }
   ],
   "source": [
    "userAge1 = ['b','a','c','e','d']\n",
    "userAge1.sort()      # Python uses ASCII values to do the sorting\n",
    "userAge1"
   ]
  },
  {
   "cell_type": "code",
   "execution_count": 59,
   "metadata": {},
   "outputs": [
    {
     "data": {
      "text/plain": [
       "['e', 'd', 'c', 'b', 'a']"
      ]
     },
     "execution_count": 59,
     "metadata": {},
     "output_type": "execute_result"
    }
   ],
   "source": [
    "userAge1 = ['b','a','c','e','d']\n",
    "userAge1.sort(reverse = True)\n",
    "userAge1"
   ]
  },
  {
   "cell_type": "code",
   "execution_count": 60,
   "metadata": {},
   "outputs": [
    {
     "ename": "TypeError",
     "evalue": "'<' not supported between instances of 'int' and 'str'",
     "output_type": "error",
     "traceback": [
      "\u001b[1;31m---------------------------------------------------------------------------\u001b[0m",
      "\u001b[1;31mTypeError\u001b[0m                                 Traceback (most recent call last)",
      "\u001b[1;32m<ipython-input-60-e89d31856e74>\u001b[0m in \u001b[0;36m<module>\u001b[1;34m\u001b[0m\n\u001b[0;32m      1\u001b[0m \u001b[0muserAge1\u001b[0m \u001b[1;33m=\u001b[0m \u001b[1;33m[\u001b[0m\u001b[1;34m'b'\u001b[0m\u001b[1;33m,\u001b[0m\u001b[1;34m'a'\u001b[0m\u001b[1;33m,\u001b[0m\u001b[1;36m2\u001b[0m\u001b[1;33m,\u001b[0m\u001b[1;36m1\u001b[0m\u001b[1;33m,\u001b[0m\u001b[1;36m3\u001b[0m\u001b[1;33m,\u001b[0m\u001b[1;34m'c'\u001b[0m\u001b[1;33m,\u001b[0m\u001b[1;34m'e'\u001b[0m\u001b[1;33m,\u001b[0m\u001b[1;34m'd'\u001b[0m\u001b[1;33m]\u001b[0m\u001b[1;33m\u001b[0m\u001b[1;33m\u001b[0m\u001b[0m\n\u001b[1;32m----> 2\u001b[1;33m \u001b[0muserAge1\u001b[0m\u001b[1;33m.\u001b[0m\u001b[0msort\u001b[0m\u001b[1;33m(\u001b[0m\u001b[1;33m)\u001b[0m                   \u001b[1;31m# Python uses ASCII values to do the sorting, in this case it will throw error\u001b[0m\u001b[1;33m\u001b[0m\u001b[1;33m\u001b[0m\u001b[0m\n\u001b[0m",
      "\u001b[1;31mTypeError\u001b[0m: '<' not supported between instances of 'int' and 'str'"
     ]
    }
   ],
   "source": [
    "userAge1 = ['b','a',2,1,3,'c','e','d']\n",
    "userAge1.sort()                   # Python uses ASCII values to do the sorting, in this case it will throw error"
   ]
  },
  {
   "cell_type": "code",
   "execution_count": 61,
   "metadata": {},
   "outputs": [
    {
     "data": {
      "text/plain": [
       "['Alice', 'Bob', 'Carol', 'ants', 'badgers', 'cats']"
      ]
     },
     "execution_count": 61,
     "metadata": {},
     "output_type": "execute_result"
    }
   ],
   "source": [
    "spam = ['Bob','Alice','ants','badgers','Carol','cats']\n",
    "spam.sort()    # Python uses ASCII values to do the sorting,\n",
    "spam"
   ]
  },
  {
   "cell_type": "code",
   "execution_count": 62,
   "metadata": {},
   "outputs": [
    {
     "data": {
      "text/plain": [
       "['Alice', 'ants', 'badgers', 'Bob', 'Carol', 'cats']"
      ]
     },
     "execution_count": 62,
     "metadata": {},
     "output_type": "execute_result"
    }
   ],
   "source": [
    "# VIMP\n",
    "spam.sort(key=str.lower)  # key = str.lower happens in-place instead of generating new list. Very important\n",
    "spam"
   ]
  },
  {
   "cell_type": "code",
   "execution_count": 63,
   "metadata": {},
   "outputs": [
    {
     "data": {
      "text/plain": [
       "range(0, 4)"
      ]
     },
     "execution_count": 63,
     "metadata": {},
     "output_type": "execute_result"
    }
   ],
   "source": [
    "range(4)"
   ]
  },
  {
   "cell_type": "code",
   "execution_count": 64,
   "metadata": {},
   "outputs": [
    {
     "data": {
      "text/plain": [
       "[0, 1, 2, 3]"
      ]
     },
     "execution_count": 64,
     "metadata": {},
     "output_type": "execute_result"
    }
   ],
   "source": [
    "# VIMP\n",
    "list(range(4))        # Easy way to generate integer list"
   ]
  },
  {
   "cell_type": "code",
   "execution_count": 65,
   "metadata": {},
   "outputs": [
    {
     "data": {
      "text/plain": [
       "[0, 1, 2, 3]"
      ]
     },
     "execution_count": 65,
     "metadata": {},
     "output_type": "execute_result"
    }
   ],
   "source": [
    "userGrp = list(range(4))\n",
    "userGrp"
   ]
  },
  {
   "cell_type": "code",
   "execution_count": 66,
   "metadata": {},
   "outputs": [
    {
     "name": "stdout",
     "output_type": "stream",
     "text": [
      "0\n",
      "1\n",
      "2\n",
      "3\n"
     ]
    }
   ],
   "source": [
    "for i in range(len(userGrp)):               # range and len function combo is used a lot\n",
    "    print(i)"
   ]
  },
  {
   "cell_type": "markdown",
   "metadata": {},
   "source": [
    "### Similarities between Lists and Strings\n",
    "Lists and Strings are almost similar if you consider strings as list of each character in it "
   ]
  },
  {
   "cell_type": "code",
   "execution_count": 67,
   "metadata": {},
   "outputs": [
    {
     "data": {
      "text/plain": [
       "['H', 'e', 'l', 'l', 'o']"
      ]
     },
     "execution_count": 67,
     "metadata": {},
     "output_type": "execute_result"
    }
   ],
   "source": [
    "list('Hello')"
   ]
  },
  {
   "cell_type": "code",
   "execution_count": 68,
   "metadata": {},
   "outputs": [],
   "source": [
    "name = 'Sandeep'"
   ]
  },
  {
   "cell_type": "code",
   "execution_count": 69,
   "metadata": {},
   "outputs": [
    {
     "data": {
      "text/plain": [
       "'S'"
      ]
     },
     "execution_count": 69,
     "metadata": {},
     "output_type": "execute_result"
    }
   ],
   "source": [
    "name[0]        # Many things that you do with Lists can also be done with the Strings like this Indexing etc"
   ]
  },
  {
   "cell_type": "code",
   "execution_count": 70,
   "metadata": {},
   "outputs": [
    {
     "data": {
      "text/plain": [
       "'and'"
      ]
     },
     "execution_count": 70,
     "metadata": {},
     "output_type": "execute_result"
    }
   ],
   "source": [
    "name[1:4]     # Slicing can be done with lists"
   ]
  },
  {
   "cell_type": "code",
   "execution_count": 71,
   "metadata": {},
   "outputs": [
    {
     "data": {
      "text/plain": [
       "7"
      ]
     },
     "execution_count": 71,
     "metadata": {},
     "output_type": "execute_result"
    }
   ],
   "source": [
    "len(name)     # length functions"
   ]
  },
  {
   "cell_type": "code",
   "execution_count": 72,
   "metadata": {},
   "outputs": [
    {
     "data": {
      "text/plain": [
       "True"
      ]
     },
     "execution_count": 72,
     "metadata": {},
     "output_type": "execute_result"
    }
   ],
   "source": [
    "'a' in name           # in and not in Operator in the string"
   ]
  },
  {
   "cell_type": "code",
   "execution_count": 73,
   "metadata": {},
   "outputs": [
    {
     "data": {
      "text/plain": [
       "False"
      ]
     },
     "execution_count": 73,
     "metadata": {},
     "output_type": "execute_result"
    }
   ],
   "source": [
    "'z' in name"
   ]
  },
  {
   "cell_type": "markdown",
   "metadata": {},
   "source": [
    "#### List refers to a collection of data which are normally related. Related data are normally stored in a list. To declare list we need to use Square Braces []. Many of the things that you do / perform with strings, Python also lets you do with the Lists. You can think of a string value as a list of single character values. Lists and Strings are different in an important way, List values are Mutable datatype (you can have values added,removed and changed) and String values are Immutable datatype (i.e., it’s string values cannot be changed)"
   ]
  },
  {
   "cell_type": "code",
   "execution_count": 74,
   "metadata": {},
   "outputs": [
    {
     "ename": "TypeError",
     "evalue": "'str' object does not support item assignment",
     "output_type": "error",
     "traceback": [
      "\u001b[1;31m---------------------------------------------------------------------------\u001b[0m",
      "\u001b[1;31mTypeError\u001b[0m                                 Traceback (most recent call last)",
      "\u001b[1;32m<ipython-input-74-52b9b29b88be>\u001b[0m in \u001b[0;36m<module>\u001b[1;34m\u001b[0m\n\u001b[1;32m----> 1\u001b[1;33m \u001b[0mname\u001b[0m\u001b[1;33m[\u001b[0m\u001b[1;36m3\u001b[0m\u001b[1;33m]\u001b[0m \u001b[1;33m=\u001b[0m \u001b[1;34m'N'\u001b[0m    \u001b[1;31m# It will throw an error because name contains string which is an Immutable Data Type\u001b[0m\u001b[1;33m\u001b[0m\u001b[1;33m\u001b[0m\u001b[0m\n\u001b[0m\u001b[0;32m      2\u001b[0m                  \u001b[1;31m# Strings in Python is an Immutable Data Type, hence throws an error\u001b[0m\u001b[1;33m\u001b[0m\u001b[1;33m\u001b[0m\u001b[1;33m\u001b[0m\u001b[0m\n",
      "\u001b[1;31mTypeError\u001b[0m: 'str' object does not support item assignment"
     ]
    }
   ],
   "source": [
    "name[3] = 'N'    # It will throw an error because name contains string which is an Immutable Data Type\n",
    "                 # Strings in Python is an Immutable Data Type, hence throws an error"
   ]
  },
  {
   "cell_type": "markdown",
   "metadata": {},
   "source": [
    "#### Proper way to modify a string is using slices and assinging it to a new variable"
   ]
  },
  {
   "cell_type": "code",
   "execution_count": 75,
   "metadata": {},
   "outputs": [
    {
     "data": {
      "text/plain": [
       "'Zophie the cat'"
      ]
     },
     "execution_count": 75,
     "metadata": {},
     "output_type": "execute_result"
    }
   ],
   "source": [
    "nm = 'Zophie a cat'\n",
    "nm1 = nm[0:7] + 'the' + nm[8:12]\n",
    "nm1"
   ]
  },
  {
   "cell_type": "markdown",
   "metadata": {},
   "source": [
    "#### Difference between Mutable (lists) and Immutable (strings) data types using below example\n",
    "<br> <b> Mutable data types / variables (example lists) only are actually storing references and it will not store any value\n",
    "<br>  <b> Immutable data types / variables (example strings, tuples) stores values and it will not store any references. Immutable values don't have this problem because they can't be modified 'in place'. They can only be replaced with new values\n",
    "<br>  <b> Tuple Operations (Immutable data types) are faster than List Operations (Mutable data types)"
   ]
  },
  {
   "cell_type": "code",
   "execution_count": 76,
   "metadata": {},
   "outputs": [
    {
     "name": "stdout",
     "output_type": "stream",
     "text": [
      "42\n",
      "45\n",
      "42\n"
     ]
    }
   ],
   "source": [
    "spam = 42 \n",
    "cheese = spam\n",
    "print(cheese)\n",
    "spam = 45\n",
    "print(spam)    # By changing spam variable, cheese variable is not changed because values are changed\n",
    "print(cheese)"
   ]
  },
  {
   "cell_type": "code",
   "execution_count": 77,
   "metadata": {},
   "outputs": [
    {
     "name": "stdout",
     "output_type": "stream",
     "text": [
      "[21, 'Hello', 23, 24, 25]\n",
      "[21, 'Hello', 23, 24, 25]\n"
     ]
    }
   ],
   "source": [
    "spam = [21,22,23,24,25]\n",
    "cheese = spam\n",
    "cheese[1] = 'Hello' # By changing cheese variable, spam variable is changed because cheese = spam means only reference is assigned not values\n",
    "print(spam)   # spam is also changed\n",
    "print(cheese)"
   ]
  },
  {
   "cell_type": "markdown",
   "metadata": {},
   "source": [
    "#### Sometimes you want to copy the entire list (say 4 billion data) to the new variable then we will use ‘copy’ library"
   ]
  },
  {
   "cell_type": "code",
   "execution_count": 78,
   "metadata": {},
   "outputs": [
    {
     "name": "stdout",
     "output_type": "stream",
     "text": [
      "[21, 22, 23, 24, 25]\n",
      "[21, 'Hello', 23, 24, 25]\n"
     ]
    }
   ],
   "source": [
    "import copy\n",
    "spam = [21,22,23,24,25]\n",
    "cheese = copy.deepcopy(spam)\n",
    "cheese[1] = 'Hello'\n",
    "print(spam)   # only cheese changed but spam\n",
    "print(cheese)"
   ]
  },
  {
   "cell_type": "markdown",
   "metadata": {},
   "source": [
    "# <a id='Strings'></a>Strings"
   ]
  },
  {
   "cell_type": "markdown",
   "metadata": {},
   "source": [
    "## String Split and Join Functions / Methods\n",
    "* __In Python, strings are represented as str objects, which are immutable: this means that the object as represented in memory can not be directly altered. These two facts can help you learn (and then remember) how to use .split().__\n",
    "* output of a split() function is always a list"
   ]
  },
  {
   "cell_type": "markdown",
   "metadata": {},
   "source": [
    "### split Method and limiting splits with maxsplit"
   ]
  },
  {
   "cell_type": "code",
   "execution_count": 79,
   "metadata": {},
   "outputs": [
    {
     "data": {
      "text/plain": [
       "['a', 'b', 'c']"
      ]
     },
     "execution_count": 79,
     "metadata": {},
     "output_type": "execute_result"
    }
   ],
   "source": [
    "# Split Method\n",
    "'a,b,c'.split(',')"
   ]
  },
  {
   "cell_type": "code",
   "execution_count": 80,
   "metadata": {},
   "outputs": [
    {
     "data": {
      "text/plain": [
       "['this', 'is', 'a', 'string']"
      ]
     },
     "execution_count": 80,
     "metadata": {},
     "output_type": "execute_result"
    }
   ],
   "source": [
    "a = \"this is a string\"\n",
    "a = a.split(\" \") # a is converted to a list of strings. \n",
    "a"
   ]
  },
  {
   "cell_type": "code",
   "execution_count": 81,
   "metadata": {},
   "outputs": [
    {
     "data": {
      "text/plain": [
       "['this', 'is', 'my', 'string']"
      ]
     },
     "execution_count": 81,
     "metadata": {},
     "output_type": "execute_result"
    }
   ],
   "source": [
    "# Splitting Without Parameters\n",
    "'this is my string'.split()   # Without any separator specified, .split() will count any whitespace as a separator"
   ]
  },
  {
   "cell_type": "code",
   "execution_count": 82,
   "metadata": {},
   "outputs": [
    {
     "data": {
      "text/plain": [
       "['this', 'is my string']"
      ]
     },
     "execution_count": 82,
     "metadata": {},
     "output_type": "execute_result"
    }
   ],
   "source": [
    "s = \"this is my string\"\n",
    "s.split(maxsplit=1)"
   ]
  },
  {
   "cell_type": "markdown",
   "metadata": {},
   "source": [
    "### Concatenating the Strings\n",
    "<b> Concatenating With the + or * Operator"
   ]
  },
  {
   "cell_type": "code",
   "execution_count": 83,
   "metadata": {},
   "outputs": [
    {
     "data": {
      "text/plain": [
       "'abc'"
      ]
     },
     "execution_count": 83,
     "metadata": {},
     "output_type": "execute_result"
    }
   ],
   "source": [
    "'a' + 'b' + 'c'"
   ]
  },
  {
   "cell_type": "code",
   "execution_count": 84,
   "metadata": {},
   "outputs": [
    {
     "data": {
      "text/plain": [
       "'dodo'"
      ]
     },
     "execution_count": 84,
     "metadata": {},
     "output_type": "execute_result"
    }
   ],
   "source": [
    "'do' * 2"
   ]
  },
  {
   "cell_type": "code",
   "execution_count": 85,
   "metadata": {},
   "outputs": [
    {
     "data": {
      "text/plain": [
       "'Hello, world'"
      ]
     },
     "execution_count": 85,
     "metadata": {},
     "output_type": "execute_result"
    }
   ],
   "source": [
    "orig_string = 'Hello'\n",
    "orig_string + ', world'"
   ]
  },
  {
   "cell_type": "markdown",
   "metadata": {},
   "source": [
    "### Joining Strings\n",
    "<b> Going From a List to a String in Python With .join()"
   ]
  },
  {
   "cell_type": "code",
   "execution_count": 86,
   "metadata": {},
   "outputs": [
    {
     "data": {
      "text/plain": [
       "'do re mi'"
      ]
     },
     "execution_count": 86,
     "metadata": {},
     "output_type": "execute_result"
    }
   ],
   "source": [
    "strings = ['do', 're', 'mi']\n",
    "' '.join(strings)"
   ]
  },
  {
   "cell_type": "code",
   "execution_count": 87,
   "metadata": {},
   "outputs": [
    {
     "data": {
      "text/plain": [
       "'a'"
      ]
     },
     "execution_count": 87,
     "metadata": {},
     "output_type": "execute_result"
    }
   ],
   "source": [
    "'b'.join(['a']) # There is nothing to join to 'a'"
   ]
  },
  {
   "cell_type": "markdown",
   "metadata": {},
   "source": [
    "### Line Continuation Character ' \\ '\n",
    "<b> The line continuation character \\ can be used to stretch Python instructions across multiple lines"
   ]
  },
  {
   "cell_type": "code",
   "execution_count": 88,
   "metadata": {},
   "outputs": [
    {
     "name": "stdout",
     "output_type": "stream",
     "text": [
      "Today I realised I should focus on  really on AI than anything else\n"
     ]
    }
   ],
   "source": [
    "print('Today I realised I should focus on ' + \\\n",
    "    ' really on AI than anything else')"
   ]
  },
  {
   "cell_type": "markdown",
   "metadata": {},
   "source": [
    "## String Functions (Frequently used ones)"
   ]
  },
  {
   "cell_type": "code",
   "execution_count": 89,
   "metadata": {},
   "outputs": [
    {
     "data": {
      "text/plain": [
       "'It is a good 1g 3pqr'"
      ]
     },
     "execution_count": 89,
     "metadata": {},
     "output_type": "execute_result"
    }
   ],
   "source": [
    "stri = 'it is a good 1g 3pqr'\n",
    "stri.capitalize()"
   ]
  },
  {
   "cell_type": "code",
   "execution_count": 90,
   "metadata": {},
   "outputs": [
    {
     "data": {
      "text/plain": [
       "'IT IS A GOOD 1G 3PQR'"
      ]
     },
     "execution_count": 90,
     "metadata": {},
     "output_type": "execute_result"
    }
   ],
   "source": [
    "stri.upper()  # similarly .lower"
   ]
  },
  {
   "cell_type": "markdown",
   "metadata": {},
   "source": [
    "# <a id='Tuples'></a>Tuples\n",
    "<b> Tuples are exact same thing as lists except they are immutable and they use parentheses\n",
    "<br> <b> Tuples are just like lists, but you cannot modify their values. The initial values are the values that will stay for the rest of the program.\n",
    "del, in, len(), Addition Operator (+), Multiplication Operator (*)\n",
    "<br> <b> Note: The + and * symbols do not modify the tuple."
   ]
  },
  {
   "cell_type": "code",
   "execution_count": 91,
   "metadata": {},
   "outputs": [
    {
     "name": "stdout",
     "output_type": "stream",
     "text": [
      "6\n",
      "False\n"
     ]
    }
   ],
   "source": [
    "myTuple = ('Jan','Feb','Mar','Apr','May','Jun')\n",
    "print(len(myTuple))\n",
    "print('Dec' in myTuple)"
   ]
  },
  {
   "cell_type": "code",
   "execution_count": 92,
   "metadata": {},
   "outputs": [
    {
     "name": "stdout",
     "output_type": "stream",
     "text": [
      "('Jan', 'Feb', 'Mar', 'Apr', 'May', 'Jun', 'July', 'August')\n",
      "('Jan', 'Feb', 'Mar', 'Apr', 'May', 'Jun', 'Jan', 'Feb', 'Mar', 'Apr', 'May', 'Jun')\n",
      "('Jan', 'Feb', 'Mar', 'Apr', 'May', 'Jun')\n"
     ]
    }
   ],
   "source": [
    "print(myTuple + ('July','August'))\n",
    "print(myTuple *2)\n",
    "print(myTuple)"
   ]
  },
  {
   "cell_type": "code",
   "execution_count": 93,
   "metadata": {},
   "outputs": [
    {
     "name": "stdout",
     "output_type": "stream",
     "text": [
      "Jan\n",
      "Jun\n"
     ]
    },
    {
     "ename": "NameError",
     "evalue": "name 'myTuple' is not defined",
     "output_type": "error",
     "traceback": [
      "\u001b[1;31m---------------------------------------------------------------------------\u001b[0m",
      "\u001b[1;31mNameError\u001b[0m                                 Traceback (most recent call last)",
      "\u001b[1;32m<ipython-input-93-9a4d01a9db8d>\u001b[0m in \u001b[0;36m<module>\u001b[1;34m\u001b[0m\n\u001b[0;32m      2\u001b[0m \u001b[0mprint\u001b[0m\u001b[1;33m(\u001b[0m\u001b[0mmyTuple\u001b[0m\u001b[1;33m[\u001b[0m\u001b[1;33m-\u001b[0m\u001b[1;36m1\u001b[0m\u001b[1;33m]\u001b[0m\u001b[1;33m)\u001b[0m\u001b[1;33m\u001b[0m\u001b[1;33m\u001b[0m\u001b[0m\n\u001b[0;32m      3\u001b[0m \u001b[1;32mdel\u001b[0m \u001b[0mmyTuple\u001b[0m\u001b[1;33m\u001b[0m\u001b[1;33m\u001b[0m\u001b[0m\n\u001b[1;32m----> 4\u001b[1;33m \u001b[0mprint\u001b[0m\u001b[1;33m(\u001b[0m\u001b[0mmyTuple\u001b[0m\u001b[1;33m)\u001b[0m     \u001b[1;31m#Tuple has been Deleted\u001b[0m\u001b[1;33m\u001b[0m\u001b[1;33m\u001b[0m\u001b[0m\n\u001b[0m",
      "\u001b[1;31mNameError\u001b[0m: name 'myTuple' is not defined"
     ]
    }
   ],
   "source": [
    "print(myTuple[0])\n",
    "print(myTuple[-1])\n",
    "del myTuple\n",
    "print(myTuple)     #Tuple has been Deleted"
   ]
  },
  {
   "cell_type": "markdown",
   "metadata": {},
   "source": [
    "# <a id='Sets'></a>Sets\n",
    "<b> A Set is a collection which is unordered and unindexed. Sets are Mutable or Modifiable Sets. In Python sets are written with curly brackets.\n",
    "<br> <b> Access Items: You cannot access items in a set by referring to an index, since sets are unordered the items has no index. But you can loop through the set items using a 'for' loop, or ask if a specified value is present in a set, by using the 'in' keyword\n",
    "<br> <b> Set doesn't contain any duplicates\n",
    "<br> <b> Once a set is created, you cannot change its items, but can add new items. add() method. To add more than one item to a set use the update() method\n",
    "<br> <b> Both union() and update() will exclude any duplicate items."
   ]
  },
  {
   "cell_type": "code",
   "execution_count": 94,
   "metadata": {},
   "outputs": [
    {
     "name": "stdout",
     "output_type": "stream",
     "text": [
      "cherry\n",
      "banana\n",
      "apple\n"
     ]
    }
   ],
   "source": [
    "# Set\n",
    "thisset = {'apple','banana','cherry'}\n",
    "for i in thisset:\n",
    "    print(i)"
   ]
  },
  {
   "cell_type": "code",
   "execution_count": 95,
   "metadata": {},
   "outputs": [
    {
     "name": "stdout",
     "output_type": "stream",
     "text": [
      "True\n"
     ]
    }
   ],
   "source": [
    "# Check if 'banana' is present in the set\n",
    "print('banana' in thisset)"
   ]
  },
  {
   "cell_type": "code",
   "execution_count": 96,
   "metadata": {},
   "outputs": [
    {
     "data": {
      "text/plain": [
       "{'apple', 'banana', 'cherry', 'orange'}"
      ]
     },
     "execution_count": 96,
     "metadata": {},
     "output_type": "execute_result"
    }
   ],
   "source": [
    "# Once the set is created, you cannot change its items, but can add new items. add() method. To add more than one item to a set use the update() method\n",
    "thisset.add('orange')\n",
    "thisset"
   ]
  },
  {
   "cell_type": "code",
   "execution_count": 97,
   "metadata": {},
   "outputs": [
    {
     "data": {
      "text/plain": [
       "{'apple', 'banana', 'cherry', 'grapes', 'mango', 'orange', 'pineapple'}"
      ]
     },
     "execution_count": 97,
     "metadata": {},
     "output_type": "execute_result"
    }
   ],
   "source": [
    "thisset.update(['mango','pineapple','grapes'])\n",
    "thisset"
   ]
  },
  {
   "cell_type": "code",
   "execution_count": 98,
   "metadata": {},
   "outputs": [
    {
     "data": {
      "text/plain": [
       "{'apple',\n",
       " 'banana',\n",
       " 'carrots',\n",
       " 'cherry',\n",
       " 'grapes',\n",
       " 'mango',\n",
       " 'orange',\n",
       " 'pineapple',\n",
       " 'spinach'}"
      ]
     },
     "execution_count": 98,
     "metadata": {},
     "output_type": "execute_result"
    }
   ],
   "source": [
    "setveg = {'carrots','spinach'}\n",
    "thisset.update(setveg)\n",
    "thisset"
   ]
  },
  {
   "cell_type": "code",
   "execution_count": 99,
   "metadata": {},
   "outputs": [],
   "source": [
    "# Remove Item - To remove an item in a set, use the remove(), or the discard() method.\n",
    "# Note: If the item to remove does not exist, remove() will raise an error.\n",
    "# Note: If the item to remove does not exist, discard() will NOT raise an error."
   ]
  },
  {
   "cell_type": "code",
   "execution_count": 100,
   "metadata": {},
   "outputs": [
    {
     "data": {
      "text/plain": [
       "{'apple',\n",
       " 'banana',\n",
       " 'carrots',\n",
       " 'grapes',\n",
       " 'mango',\n",
       " 'orange',\n",
       " 'pineapple',\n",
       " 'spinach'}"
      ]
     },
     "execution_count": 100,
     "metadata": {},
     "output_type": "execute_result"
    }
   ],
   "source": [
    "thisset.remove('cherry')\n",
    "thisset"
   ]
  },
  {
   "cell_type": "code",
   "execution_count": 101,
   "metadata": {},
   "outputs": [
    {
     "ename": "KeyError",
     "evalue": "'xyz'",
     "output_type": "error",
     "traceback": [
      "\u001b[1;31m---------------------------------------------------------------------------\u001b[0m",
      "\u001b[1;31mKeyError\u001b[0m                                  Traceback (most recent call last)",
      "\u001b[1;32m<ipython-input-101-b6b627f32759>\u001b[0m in \u001b[0;36m<module>\u001b[1;34m\u001b[0m\n\u001b[0;32m      1\u001b[0m \u001b[1;31m# If the item to remove does not exist, remove() will raise an error.\u001b[0m\u001b[1;33m\u001b[0m\u001b[1;33m\u001b[0m\u001b[1;33m\u001b[0m\u001b[0m\n\u001b[1;32m----> 2\u001b[1;33m \u001b[0mthisset\u001b[0m\u001b[1;33m.\u001b[0m\u001b[0mremove\u001b[0m\u001b[1;33m(\u001b[0m\u001b[1;34m'xyz'\u001b[0m\u001b[1;33m)\u001b[0m\u001b[1;33m\u001b[0m\u001b[1;33m\u001b[0m\u001b[0m\n\u001b[0m",
      "\u001b[1;31mKeyError\u001b[0m: 'xyz'"
     ]
    }
   ],
   "source": [
    "# If the item to remove does not exist, remove() will raise an error.\n",
    "thisset.remove('xyz')"
   ]
  },
  {
   "cell_type": "code",
   "execution_count": 102,
   "metadata": {},
   "outputs": [],
   "source": [
    "#If the item to remove does not exist, discard() will NOT raise an error.\n",
    "thisset.discard('xyz')"
   ]
  },
  {
   "cell_type": "code",
   "execution_count": 103,
   "metadata": {},
   "outputs": [
    {
     "data": {
      "text/plain": [
       "{'apple', 'carrots', 'grapes', 'mango', 'orange', 'pineapple', 'spinach'}"
      ]
     },
     "execution_count": 103,
     "metadata": {},
     "output_type": "execute_result"
    }
   ],
   "source": [
    "# You can also use the pop(), method to remove an item. \n",
    "# Remember that sets are unordered, so you will not know what item that gets removed. \n",
    "# The return value of the pop() method is the removed item.\n",
    "# Note: Sets are unordered, so when using the pop() method, you will not know which item that gets removed.\n",
    "\n",
    "x = thisset.pop()\n",
    "thisset"
   ]
  },
  {
   "cell_type": "code",
   "execution_count": 104,
   "metadata": {},
   "outputs": [
    {
     "data": {
      "text/plain": [
       "'banana'"
      ]
     },
     "execution_count": 104,
     "metadata": {},
     "output_type": "execute_result"
    }
   ],
   "source": [
    "x"
   ]
  },
  {
   "cell_type": "code",
   "execution_count": 105,
   "metadata": {},
   "outputs": [
    {
     "data": {
      "text/plain": [
       "{1, 2, 3, 4}"
      ]
     },
     "execution_count": 105,
     "metadata": {},
     "output_type": "execute_result"
    }
   ],
   "source": [
    "# Set Conversion\n",
    "l = [1,1,2,2,3,4,4,4,4]\n",
    "se = set(l)         # VIMP - This method is also used to remove duplicates\n",
    "se"
   ]
  },
  {
   "cell_type": "code",
   "execution_count": 106,
   "metadata": {},
   "outputs": [
    {
     "data": {
      "text/plain": [
       "{'apple', 'banana', 'cherry'}"
      ]
     },
     "execution_count": 106,
     "metadata": {},
     "output_type": "execute_result"
    }
   ],
   "source": [
    "# Set doesn't store any duplicates\n",
    "s = {'apple','banana','cherry','apple'}\n",
    "s"
   ]
  },
  {
   "cell_type": "markdown",
   "metadata": {},
   "source": [
    "## the set() Constructor\n",
    "It is also possible to use the set() constructor to make a set"
   ]
  },
  {
   "cell_type": "code",
   "execution_count": 107,
   "metadata": {},
   "outputs": [
    {
     "data": {
      "text/plain": [
       "{'apple', 'jamun', 'mango'}"
      ]
     },
     "execution_count": 107,
     "metadata": {},
     "output_type": "execute_result"
    }
   ],
   "source": [
    "set1 = set(('mango','jamun','apple'))\n",
    "set1"
   ]
  },
  {
   "cell_type": "code",
   "execution_count": 108,
   "metadata": {},
   "outputs": [
    {
     "data": {
      "text/plain": [
       "{1, 2, 3, 'apple', 'jamun', 'mango'}"
      ]
     },
     "execution_count": 108,
     "metadata": {},
     "output_type": "execute_result"
    }
   ],
   "source": [
    "# Join Two Sets\n",
    "set2 = {1,2,3}\n",
    "set3 = set1.union(set2)     # VIMP - It removes all the duplicates\n",
    "set3"
   ]
  },
  {
   "cell_type": "code",
   "execution_count": 109,
   "metadata": {},
   "outputs": [],
   "source": [
    "# The clear() method empties the set\n",
    "set3.clear()"
   ]
  },
  {
   "cell_type": "markdown",
   "metadata": {
    "colab_type": "text",
    "id": "3MqvgR3xdVrp"
   },
   "source": [
    "#### Defining a set in Python"
   ]
  },
  {
   "cell_type": "code",
   "execution_count": 0,
   "metadata": {
    "colab": {},
    "colab_type": "code",
    "id": "hgbdSpyDdVrx"
   },
   "outputs": [],
   "source": [
    "my_set = {'A', 'B', 'C', 'D', 1, 'E', 2, 4}"
   ]
  },
  {
   "cell_type": "code",
   "execution_count": 0,
   "metadata": {
    "colab": {},
    "colab_type": "code",
    "id": "j9U1ez2vdVsE",
    "outputId": "ce186df6-dc24-4573-d93f-695799e325d4"
   },
   "outputs": [
    {
     "data": {
      "text/plain": [
       "{1, 2, 4, 'A', 'B', 'C', 'D', 'E'}"
      ]
     },
     "execution_count": 2,
     "metadata": {
      "tags": []
     },
     "output_type": "execute_result"
    }
   ],
   "source": [
    "my_set"
   ]
  },
  {
   "cell_type": "code",
   "execution_count": 0,
   "metadata": {
    "colab": {},
    "colab_type": "code",
    "id": "QChHg6oBdVsS"
   },
   "outputs": [],
   "source": [
    "my_set = {'A', 'B', 'C', 'D', 1, 'E', 2, 4, 2 , 2}"
   ]
  },
  {
   "cell_type": "code",
   "execution_count": 0,
   "metadata": {
    "colab": {},
    "colab_type": "code",
    "id": "w22G75_WdVse",
    "outputId": "2c4b9f50-6a61-4dd7-d4aa-9792cee0324e"
   },
   "outputs": [
    {
     "data": {
      "text/plain": [
       "{1, 2, 4, 'A', 'B', 'C', 'D', 'E'}"
      ]
     },
     "execution_count": 4,
     "metadata": {
      "tags": []
     },
     "output_type": "execute_result"
    }
   ],
   "source": [
    "my_set"
   ]
  },
  {
   "cell_type": "markdown",
   "metadata": {
    "colab_type": "text",
    "id": "cAKelVCEdVsp"
   },
   "source": [
    "#### Defining a set from a List  and Tuple"
   ]
  },
  {
   "cell_type": "code",
   "execution_count": 0,
   "metadata": {
    "colab": {},
    "colab_type": "code",
    "id": "_6BizPVmdVss"
   },
   "outputs": [],
   "source": [
    "my_list = ['A', 'B', 1, 2, 'B', 'A']\n",
    "my_set_from_list = set(my_list)"
   ]
  },
  {
   "cell_type": "code",
   "execution_count": 0,
   "metadata": {
    "colab": {},
    "colab_type": "code",
    "id": "m-Qgd_vjdVs2",
    "outputId": "f1e1878e-643f-4d0d-a047-4daf4ed77ed5"
   },
   "outputs": [
    {
     "data": {
      "text/plain": [
       "{1, 2, 'A', 'B'}"
      ]
     },
     "execution_count": 6,
     "metadata": {
      "tags": []
     },
     "output_type": "execute_result"
    }
   ],
   "source": [
    "my_set_from_list"
   ]
  },
  {
   "cell_type": "code",
   "execution_count": 0,
   "metadata": {
    "colab": {},
    "colab_type": "code",
    "id": "CUnpOARjdVtA"
   },
   "outputs": [],
   "source": [
    "my_tuple = ('A', 'B', 1, 2, 'B', 'A')\n",
    "my_set_from_tuple = set(my_tuple)"
   ]
  },
  {
   "cell_type": "code",
   "execution_count": 0,
   "metadata": {
    "colab": {},
    "colab_type": "code",
    "id": "vR1MqK5hdVtG",
    "outputId": "23118953-5460-4983-a250-d846ef33fb44"
   },
   "outputs": [
    {
     "data": {
      "text/plain": [
       "{1, 2, 'A', 'B'}"
      ]
     },
     "execution_count": 8,
     "metadata": {
      "tags": []
     },
     "output_type": "execute_result"
    }
   ],
   "source": [
    "my_set_from_tuple"
   ]
  },
  {
   "cell_type": "markdown",
   "metadata": {
    "colab_type": "text",
    "id": "dHLllxcrdVtL"
   },
   "source": [
    "#### Add an element to the set"
   ]
  },
  {
   "cell_type": "code",
   "execution_count": 0,
   "metadata": {
    "colab": {},
    "colab_type": "code",
    "id": "KfFCL3phdVtN"
   },
   "outputs": [],
   "source": [
    "my_set.add('O')"
   ]
  },
  {
   "cell_type": "code",
   "execution_count": 0,
   "metadata": {
    "colab": {},
    "colab_type": "code",
    "id": "95LU3t5rdVtT",
    "outputId": "182697b9-32ae-403e-9aed-54aacda99708"
   },
   "outputs": [
    {
     "data": {
      "text/plain": [
       "{1, 2, 4, 'A', 'B', 'C', 'D', 'E', 'O'}"
      ]
     },
     "execution_count": 10,
     "metadata": {
      "tags": []
     },
     "output_type": "execute_result"
    }
   ],
   "source": [
    "my_set"
   ]
  },
  {
   "cell_type": "markdown",
   "metadata": {
    "colab_type": "text",
    "id": "ivDskOwldVta"
   },
   "source": [
    "#### Delete an element from the list\n",
    "\n",
    "* Discard - It will not throw an error, if the element you want to remove is not present in the set.\n",
    "* remove - It will throw an error, if the element you want to remove is not present in the set."
   ]
  },
  {
   "cell_type": "code",
   "execution_count": 0,
   "metadata": {
    "colab": {},
    "colab_type": "code",
    "id": "RSiU9_hJdVtb"
   },
   "outputs": [],
   "source": [
    "my_set = {1, 2, 4, 'A', 'B', 'C', 'D', 'E', 'O'}"
   ]
  },
  {
   "cell_type": "code",
   "execution_count": 0,
   "metadata": {
    "colab": {},
    "colab_type": "code",
    "id": "V-EpIkwHdVtg"
   },
   "outputs": [],
   "source": [
    "my_set.discard('A')"
   ]
  },
  {
   "cell_type": "code",
   "execution_count": 0,
   "metadata": {
    "colab": {},
    "colab_type": "code",
    "id": "Y5kfukGfdVtr",
    "outputId": "8248b05f-e346-4413-ce49-12df5019dc0d"
   },
   "outputs": [
    {
     "data": {
      "text/plain": [
       "{1, 2, 4, 'B', 'C', 'D', 'E', 'O'}"
      ]
     },
     "execution_count": 13,
     "metadata": {
      "tags": []
     },
     "output_type": "execute_result"
    }
   ],
   "source": [
    "my_set"
   ]
  },
  {
   "cell_type": "code",
   "execution_count": 0,
   "metadata": {
    "colab": {},
    "colab_type": "code",
    "id": "w8NZGe59dVt2"
   },
   "outputs": [],
   "source": [
    "my_set.discard('X')"
   ]
  },
  {
   "cell_type": "code",
   "execution_count": 0,
   "metadata": {
    "colab": {},
    "colab_type": "code",
    "id": "Qb8SKy-bdVuA",
    "outputId": "8a84e675-90c4-4eb2-c896-9b768ffa5332",
    "scrolled": true
   },
   "outputs": [
    {
     "ename": "KeyError",
     "evalue": "'X'",
     "output_type": "error",
     "traceback": [
      "\u001b[0;31m---------------------------------------------------------------------------\u001b[0m",
      "\u001b[0;31mKeyError\u001b[0m                                  Traceback (most recent call last)",
      "\u001b[0;32m<ipython-input-15-b6f9b758b157>\u001b[0m in \u001b[0;36m<module>\u001b[0;34m()\u001b[0m\n\u001b[0;32m----> 1\u001b[0;31m \u001b[0mmy_set\u001b[0m\u001b[0;34m.\u001b[0m\u001b[0mremove\u001b[0m\u001b[0;34m(\u001b[0m\u001b[0;34m'X'\u001b[0m\u001b[0;34m)\u001b[0m\u001b[0;34m\u001b[0m\u001b[0;34m\u001b[0m\u001b[0m\n\u001b[0m",
      "\u001b[0;31mKeyError\u001b[0m: 'X'"
     ]
    }
   ],
   "source": [
    "my_set.remove('X')"
   ]
  },
  {
   "cell_type": "markdown",
   "metadata": {
    "colab_type": "text",
    "id": "Rw7jUza9dVuI"
   },
   "source": [
    "#### Difference between two Sets\n",
    "\n",
    "## A-B"
   ]
  },
  {
   "cell_type": "code",
   "execution_count": 0,
   "metadata": {
    "colab": {},
    "colab_type": "code",
    "id": "MkMNOxuydVuK",
    "outputId": "f0af8ec8-7848-4a7d-f592-5e9cec07e03e"
   },
   "outputs": [
    {
     "data": {
      "text/plain": [
       "{1, 2, 4, 'B', 'C', 'D', 'E', 'O'}"
      ]
     },
     "execution_count": 16,
     "metadata": {
      "tags": []
     },
     "output_type": "execute_result"
    }
   ],
   "source": [
    "# Set 1\n",
    "my_set"
   ]
  },
  {
   "cell_type": "code",
   "execution_count": 0,
   "metadata": {
    "colab": {},
    "colab_type": "code",
    "id": "W8xAoHDpdVuO",
    "outputId": "d6e3df39-9a74-4838-bb6d-d73e47991b20"
   },
   "outputs": [
    {
     "data": {
      "text/plain": [
       "{1, 2, 'A', 'B'}"
      ]
     },
     "execution_count": 17,
     "metadata": {
      "tags": []
     },
     "output_type": "execute_result"
    }
   ],
   "source": [
    "# Set 2\n",
    "my_set_from_list"
   ]
  },
  {
   "cell_type": "code",
   "execution_count": 0,
   "metadata": {
    "colab": {},
    "colab_type": "code",
    "id": "pZS_ckfQdVuW",
    "outputId": "b142cb7e-1e0d-475c-b0a9-55c5336d3f7d"
   },
   "outputs": [
    {
     "data": {
      "text/plain": [
       "{4, 'C', 'D', 'E', 'O'}"
      ]
     },
     "execution_count": 18,
     "metadata": {
      "tags": []
     },
     "output_type": "execute_result"
    }
   ],
   "source": [
    "# difference of 2 sets\n",
    "my_set.difference(my_set_from_list)"
   ]
  },
  {
   "cell_type": "code",
   "execution_count": 0,
   "metadata": {
    "colab": {},
    "colab_type": "code",
    "id": "utaan_92dVug",
    "outputId": "bf3e2eba-5de0-4a37-c13e-4abc6207b5f5"
   },
   "outputs": [
    {
     "data": {
      "text/plain": [
       "{1, 2, 4, 'B', 'C', 'D', 'E', 'O'}"
      ]
     },
     "execution_count": 19,
     "metadata": {
      "tags": []
     },
     "output_type": "execute_result"
    }
   ],
   "source": [
    "# it will not update the results, if not stored in a variable\n",
    "my_set"
   ]
  },
  {
   "cell_type": "code",
   "execution_count": 0,
   "metadata": {
    "colab": {},
    "colab_type": "code",
    "id": "cqwq2_vvdVup"
   },
   "outputs": [],
   "source": [
    "# use the difference_update to store the results directly\n",
    "my_set.difference_update(my_set_from_list)"
   ]
  },
  {
   "cell_type": "code",
   "execution_count": 0,
   "metadata": {
    "colab": {},
    "colab_type": "code",
    "id": "9G-1gWAhdVuu",
    "outputId": "2321cc5f-c8ae-4ab0-b5b9-b49886420b97"
   },
   "outputs": [
    {
     "data": {
      "text/plain": [
       "{4, 'C', 'D', 'E', 'O'}"
      ]
     },
     "execution_count": 21,
     "metadata": {
      "tags": []
     },
     "output_type": "execute_result"
    }
   ],
   "source": [
    "# updated set\n",
    "my_set"
   ]
  },
  {
   "cell_type": "markdown",
   "metadata": {
    "colab_type": "text",
    "id": "VmvoAeArdVuy"
   },
   "source": [
    "#### Intersection of two sets"
   ]
  },
  {
   "cell_type": "code",
   "execution_count": 0,
   "metadata": {
    "colab": {},
    "colab_type": "code",
    "id": "z-7NNBaxdVu0"
   },
   "outputs": [],
   "source": [
    "# Set 1\n",
    "my_set = {1, 2, 4, 'A', 'B', 'C', 'D', 'E', 'O'}"
   ]
  },
  {
   "cell_type": "code",
   "execution_count": 0,
   "metadata": {
    "colab": {},
    "colab_type": "code",
    "id": "6FpQbpsHdVu8",
    "outputId": "842985fc-6452-40ce-ee43-f646229dbe6a"
   },
   "outputs": [
    {
     "data": {
      "text/plain": [
       "{1, 2, 'A', 'B'}"
      ]
     },
     "execution_count": 23,
     "metadata": {
      "tags": []
     },
     "output_type": "execute_result"
    }
   ],
   "source": [
    "# Set 2 \n",
    "my_set_from_list"
   ]
  },
  {
   "cell_type": "code",
   "execution_count": 0,
   "metadata": {
    "colab": {},
    "colab_type": "code",
    "id": "QIvF4YyOdVvG",
    "outputId": "9c1b6fbd-6c6e-4d5e-8804-5446a207c82f"
   },
   "outputs": [
    {
     "data": {
      "text/plain": [
       "{1, 2, 'A', 'B'}"
      ]
     },
     "execution_count": 24,
     "metadata": {
      "tags": []
     },
     "output_type": "execute_result"
    }
   ],
   "source": [
    "# intersection of 2 sets\n",
    "my_set.intersection(my_set_from_list)"
   ]
  },
  {
   "cell_type": "code",
   "execution_count": 0,
   "metadata": {
    "colab": {},
    "colab_type": "code",
    "id": "0qXvUeKgdVvR",
    "outputId": "f91e80fc-5ec8-4e06-e644-a9a87b535876"
   },
   "outputs": [
    {
     "data": {
      "text/plain": [
       "{1, 2, 4, 'A', 'B', 'C', 'D', 'E', 'O'}"
      ]
     },
     "execution_count": 25,
     "metadata": {
      "tags": []
     },
     "output_type": "execute_result"
    }
   ],
   "source": [
    "# it will not update the results, if not stored in a variable\n",
    "my_set"
   ]
  },
  {
   "cell_type": "code",
   "execution_count": 0,
   "metadata": {
    "colab": {},
    "colab_type": "code",
    "id": "K05y2YVtdVvV"
   },
   "outputs": [],
   "source": [
    "# to update directly, use intersection_update\n",
    "my_set.intersection_update(my_set_from_list)"
   ]
  },
  {
   "cell_type": "code",
   "execution_count": 0,
   "metadata": {
    "colab": {},
    "colab_type": "code",
    "id": "rJ7CWNKNdVvb",
    "outputId": "9b59732b-5df2-45a4-b1e4-721e1c6cccc1"
   },
   "outputs": [
    {
     "data": {
      "text/plain": [
       "{1, 2, 'A', 'B'}"
      ]
     },
     "execution_count": 27,
     "metadata": {
      "tags": []
     },
     "output_type": "execute_result"
    }
   ],
   "source": [
    "# updated set\n",
    "my_set"
   ]
  },
  {
   "cell_type": "markdown",
   "metadata": {
    "colab_type": "text",
    "id": "R7ugFNO1dVvg"
   },
   "source": [
    "#### Other operations on set\n",
    "\n",
    "* is_disjoint\n",
    "* is_subset\n",
    "* is_superset\n",
    "* union"
   ]
  },
  {
   "cell_type": "code",
   "execution_count": 0,
   "metadata": {
    "colab": {},
    "colab_type": "code",
    "id": "a0-b10pedVvj"
   },
   "outputs": [],
   "source": [
    "# define 3 random sets\n",
    "sample_set_1 = {'A', 'B', 'C', 'D', 'E', 'F'}\n",
    "sample_set_2 = {'A', 'D', 'E'}\n",
    "sample_set_3 = {'S', 'T', 'U'}"
   ]
  },
  {
   "cell_type": "code",
   "execution_count": 0,
   "metadata": {
    "colab": {},
    "colab_type": "code",
    "id": "CdukRgokdVvo",
    "outputId": "5ef02533-0c65-48ab-d74e-ba702e51e4de"
   },
   "outputs": [
    {
     "data": {
      "text/plain": [
       "False"
      ]
     },
     "execution_count": 29,
     "metadata": {
      "tags": []
     },
     "output_type": "execute_result"
    }
   ],
   "source": [
    "# check if 2 sets are disjoint sets\n",
    "sample_set_1.isdisjoint(sample_set_2)"
   ]
  },
  {
   "cell_type": "code",
   "execution_count": 0,
   "metadata": {
    "colab": {},
    "colab_type": "code",
    "id": "1ElEgF29dVvv",
    "outputId": "f4aa5489-eabe-4695-a67e-72c3ea8e10f2"
   },
   "outputs": [
    {
     "data": {
      "text/plain": [
       "True"
      ]
     },
     "execution_count": 30,
     "metadata": {
      "tags": []
     },
     "output_type": "execute_result"
    }
   ],
   "source": [
    "sample_set_1.isdisjoint(sample_set_3)"
   ]
  },
  {
   "cell_type": "code",
   "execution_count": 0,
   "metadata": {
    "colab": {},
    "colab_type": "code",
    "id": "51e1DYEcdVv2",
    "outputId": "dcb4b634-b73f-4876-e753-7105323118ec"
   },
   "outputs": [
    {
     "data": {
      "text/plain": [
       "True"
      ]
     },
     "execution_count": 31,
     "metadata": {
      "tags": []
     },
     "output_type": "execute_result"
    }
   ],
   "source": [
    "# check if one set is subset of another set\n",
    "sample_set_2.issubset(sample_set_1)"
   ]
  },
  {
   "cell_type": "code",
   "execution_count": 0,
   "metadata": {
    "colab": {},
    "colab_type": "code",
    "id": "H-A7aAV_dVv_",
    "outputId": "3ae10d58-ae0a-431b-eba9-df189d89d70c"
   },
   "outputs": [
    {
     "data": {
      "text/plain": [
       "True"
      ]
     },
     "execution_count": 32,
     "metadata": {
      "tags": []
     },
     "output_type": "execute_result"
    }
   ],
   "source": [
    "# check if one set is superset of another\n",
    "sample_set_1.issuperset(sample_set_2)"
   ]
  },
  {
   "cell_type": "code",
   "execution_count": 0,
   "metadata": {
    "colab": {},
    "colab_type": "code",
    "id": "BFjri6cvdVwG",
    "outputId": "2b6a4f08-4777-4c9b-aee5-3aef60e67f69"
   },
   "outputs": [
    {
     "data": {
      "text/plain": [
       "{'A', 'B', 'C', 'D', 'E', 'F', 'S', 'T', 'U'}"
      ]
     },
     "execution_count": 33,
     "metadata": {
      "tags": []
     },
     "output_type": "execute_result"
    }
   ],
   "source": [
    "# union of 2 sets\n",
    "sample_set_1.union(sample_set_3)"
   ]
  },
  {
   "cell_type": "markdown",
   "metadata": {
    "colab_type": "text",
    "id": "hwWfDltBdVwQ"
   },
   "source": [
    "#### Update Set"
   ]
  },
  {
   "cell_type": "code",
   "execution_count": 0,
   "metadata": {
    "colab": {},
    "colab_type": "code",
    "id": "eury5_2DdVwV"
   },
   "outputs": [],
   "source": [
    "# update a set with new values, it will add the values which are not present in the original set.\n",
    "sample_set_1.update({'C', 'D', 'E', 'R', 'Z'})"
   ]
  },
  {
   "cell_type": "code",
   "execution_count": 0,
   "metadata": {
    "colab": {},
    "colab_type": "code",
    "id": "oQ_-c0dvdVwa",
    "outputId": "ef8051ff-3e05-4c83-ef98-30933b9e509f"
   },
   "outputs": [
    {
     "data": {
      "text/plain": [
       "{'A', 'B', 'C', 'D', 'E', 'F', 'R', 'Z'}"
      ]
     },
     "execution_count": 35,
     "metadata": {
      "tags": []
     },
     "output_type": "execute_result"
    }
   ],
   "source": [
    "sample_set_1"
   ]
  },
  {
   "cell_type": "markdown",
   "metadata": {
    "colab_type": "text",
    "id": "gPh8sLA1dVwf"
   },
   "source": [
    "#### Iterate the set"
   ]
  },
  {
   "cell_type": "code",
   "execution_count": 0,
   "metadata": {
    "colab": {},
    "colab_type": "code",
    "id": "HgzUYemBdVwg",
    "outputId": "110cfa42-f17e-42b7-ae19-306539f87857"
   },
   "outputs": [
    {
     "name": "stdout",
     "output_type": "stream",
     "text": [
      "B\n",
      "D\n",
      "E\n",
      "F\n",
      "A\n",
      "R\n",
      "C\n",
      "Z\n"
     ]
    }
   ],
   "source": [
    "# Iterate the set\n",
    "for element in sample_set_1:\n",
    "    print(element)"
   ]
  },
  {
   "cell_type": "markdown",
   "metadata": {},
   "source": [
    "## Set Methods  - VIMP\n",
    "* add() - Adds an element to the set\n",
    "* clear() - Removes all the elements from the set\n",
    "* copy() - Returns a copy of the set\n",
    "* difference() - Returns a set containing the difference between two or more sets\n",
    "* difference_update() - Removes the items in this set that are also included in another, specified set\n",
    "* discard() - Remove the specified item\n",
    "* intersection() - Returns a set, that is the intersection of two other sets\n",
    "* intersection_update() - Removes the items in this set that are not present in other, specified set(s)\n",
    "* isdisjoint() - Returns whether two sets have a intersection or not\n",
    "* issubset() - Returns whether another set contains this set or not\n",
    "* issuperset() - Returns whether this set contains another set or not\n",
    "* pop() - Removes an element from the set\n",
    "* remove() - Removes the specified element\n",
    "* symmetric_difference() - Returns a set with the symmetric differences of two sets\n",
    "* symmetric_difference_update() - inserts the symmetric differences from this set and another\n",
    "* union() - Return a set containing the union of sets\n",
    "* update() - Update the set with the union of this set and others"
   ]
  },
  {
   "cell_type": "markdown",
   "metadata": {},
   "source": [
    "# <a id='Dictionary'></a>Dictionary\n",
    "* A dictionary is a collection of many values but unlike list indexes, indexes for dictionaries can use many different data types not just integers. \n",
    "* Indexes for dictionaries are called keys and a key with its associated value is called a key value pair\n",
    "* Lists are Ordered and Dictionaries are un-ordered"
   ]
  },
  {
   "cell_type": "code",
   "execution_count": 111,
   "metadata": {},
   "outputs": [
    {
     "name": "stdout",
     "output_type": "stream",
     "text": [
      "{}\n",
      "{'Sandeep': 33, 'Sravanthi': 30, 'Rishith': 6, 'Sharwin': 5}\n",
      "33\n",
      "{'xyz': 0}\n"
     ]
    }
   ],
   "source": [
    "myDict = {}   #Declaring a Dictionary without assigning any initial values to it\n",
    "print(myDict)\n",
    "myDict = {'Sandeep':33,'Sravanthi':30,'Rishith':6,'Sharwin':5}\n",
    "print(myDict)\n",
    "print(myDict['Sandeep'])\n",
    "myDict = {'xyz':0}\n",
    "print(myDict)"
   ]
  },
  {
   "cell_type": "code",
   "execution_count": 112,
   "metadata": {},
   "outputs": [
    {
     "name": "stdout",
     "output_type": "stream",
     "text": [
      "{'xyz': 0, 'Sandeep': 33, 'Sravanthi': 30, 'Rishith': 6, 'Sharwin': 5}\n",
      "{'xyz': 100, 'Sandeep': 33, 'Sravanthi': 30, 'Rishith': 6, 'Sharwin': 5}\n",
      "{'Sandeep': 33, 'Sravanthi': 30, 'Rishith': 6, 'Sharwin': 5}\n",
      "4\n"
     ]
    }
   ],
   "source": [
    "myDict.update({'Sandeep':33,'Sravanthi':30,'Rishith':6,'Sharwin':5})\n",
    "print(myDict)\n",
    "myDict['xyz'] = 100  # Modifying Dictionary. Adding an item to a dictionary need not necessarily store at the end of Dictionary\n",
    "print(myDict)\n",
    "del myDict['xyz']\n",
    "print(myDict)\n",
    "print(len(myDict))"
   ]
  },
  {
   "cell_type": "code",
   "execution_count": 113,
   "metadata": {},
   "outputs": [
    {
     "name": "stdout",
     "output_type": "stream",
     "text": [
      "None\n",
      "5\n",
      "{'Sandeep': 33, 'Sravanthi': 30, 'Rishith': 6, 'Sharwin': 2}\n"
     ]
    },
    {
     "data": {
      "text/plain": [
       "dict_items([('Sandeep', 33), ('Sravanthi', 30), ('Rishith', 6), ('Sharwin', 2)])"
      ]
     },
     "execution_count": 113,
     "metadata": {},
     "output_type": "execute_result"
    }
   ],
   "source": [
    "print(myDict.get('xyz'))        # used get method instead of 'xyz' in myDict.keys()\n",
    "print(myDict.get('Sharwin'))\n",
    "myDict['Sharwin'] = 2\n",
    "print(myDict)\n",
    "myDict.items()     # Returns a list of dictionary's pairs as tuples # VIMP"
   ]
  },
  {
   "cell_type": "code",
   "execution_count": 114,
   "metadata": {},
   "outputs": [
    {
     "data": {
      "text/plain": [
       "4"
      ]
     },
     "execution_count": 114,
     "metadata": {},
     "output_type": "execute_result"
    }
   ],
   "source": [
    "len(myDict.items())"
   ]
  },
  {
   "cell_type": "code",
   "execution_count": 115,
   "metadata": {},
   "outputs": [
    {
     "data": {
      "text/plain": [
       "dict_items"
      ]
     },
     "execution_count": 115,
     "metadata": {},
     "output_type": "execute_result"
    }
   ],
   "source": [
    "type(myDict.items())"
   ]
  },
  {
   "cell_type": "code",
   "execution_count": 116,
   "metadata": {},
   "outputs": [
    {
     "name": "stdout",
     "output_type": "stream",
     "text": [
      "dict_keys(['Sandeep', 'Sravanthi', 'Rishith', 'Sharwin'])\n",
      "dict_values([33, 30, 6, 2])\n",
      "True\n",
      "True\n"
     ]
    }
   ],
   "source": [
    "print(myDict.keys())  #Getting Keys alone in the form list\n",
    "print(myDict.values()) #Getting values alone in the form list\n",
    "print('Rishith' in myDict)\n",
    "print(6 in myDict.values())"
   ]
  },
  {
   "cell_type": "code",
   "execution_count": 117,
   "metadata": {},
   "outputs": [
    {
     "name": "stdout",
     "output_type": "stream",
     "text": [
      "{}\n"
     ]
    }
   ],
   "source": [
    "myDict.clear()      #Deleting keys and values in the Dictionary\n",
    "print(myDict)\n",
    "del myDict"
   ]
  },
  {
   "cell_type": "code",
   "execution_count": 118,
   "metadata": {},
   "outputs": [
    {
     "name": "stdout",
     "output_type": "stream",
     "text": [
      "{'Sandeep': 33, 'Sravanthi': 31, 'Rishith': 6, 'Sharwin': 2.5}\n",
      "{1: 'One', 2.5: 3, 5: 'Hello'}\n",
      "3\n"
     ]
    }
   ],
   "source": [
    "'''print(myDict)       #Deleting a Dictionary'''\n",
    "myDict = dict(Sandeep = 33,Sravanthi = 31,Rishith = 6,Sharwin = 2.5)\n",
    "print(myDict)\n",
    "myDict1 = {1:'One',2.5:3,5:'Hello'}    #declaring the dictionary, dictionary keys and data can be of different data types\n",
    "print(myDict1)\n",
    "print(myDict1[2.5])"
   ]
  },
  {
   "cell_type": "code",
   "execution_count": 119,
   "metadata": {
    "scrolled": true
   },
   "outputs": [
    {
     "name": "stdout",
     "output_type": "stream",
     "text": [
      "I am New\n",
      "I am New\n"
     ]
    }
   ],
   "source": [
    "myDict1.update({'New':'I am New'})\n",
    "print(myDict1.get('New'))\n",
    "print(myDict1['New'])"
   ]
  },
  {
   "cell_type": "code",
   "execution_count": 120,
   "metadata": {},
   "outputs": [
    {
     "ename": "NameError",
     "evalue": "name 'eggs' is not defined",
     "output_type": "error",
     "traceback": [
      "\u001b[1;31m---------------------------------------------------------------------------\u001b[0m",
      "\u001b[1;31mNameError\u001b[0m                                 Traceback (most recent call last)",
      "\u001b[1;32m<ipython-input-120-845811444c44>\u001b[0m in \u001b[0;36m<module>\u001b[1;34m\u001b[0m\n\u001b[1;32m----> 1\u001b[1;33m \u001b[1;34m'cat'\u001b[0m \u001b[1;32min\u001b[0m \u001b[0meggs\u001b[0m\u001b[1;33m.\u001b[0m\u001b[0mkeys\u001b[0m\u001b[1;33m(\u001b[0m\u001b[1;33m)\u001b[0m\u001b[1;33m\u001b[0m\u001b[1;33m\u001b[0m\u001b[0m\n\u001b[0m\u001b[0;32m      2\u001b[0m \u001b[1;33m\u001b[0m\u001b[0m\n\u001b[0;32m      3\u001b[0m \u001b[1;34m'cat'\u001b[0m \u001b[1;32min\u001b[0m \u001b[0meggs\u001b[0m\u001b[1;33m.\u001b[0m\u001b[0mvalues\u001b[0m\u001b[1;33m(\u001b[0m\u001b[1;33m)\u001b[0m   \u001b[1;31m# KeyError or ValueError are common errors in a dictionary while trying to retrieve data so we will always use get method\u001b[0m\u001b[1;33m\u001b[0m\u001b[1;33m\u001b[0m\u001b[0m\n\u001b[0;32m      4\u001b[0m \u001b[1;33m\u001b[0m\u001b[0m\n\u001b[0;32m      5\u001b[0m \u001b[0meggs\u001b[0m\u001b[1;33m.\u001b[0m\u001b[0mget\u001b[0m\u001b[1;33m(\u001b[0m\u001b[1;34m'SP'\u001b[0m\u001b[1;33m,\u001b[0m\u001b[1;34m'Not an animal'\u001b[0m\u001b[1;33m)\u001b[0m     \u001b[1;31m# Whenever it's false it chooses else statement. Such 'else' statement are usually used in making the program not to abort\u001b[0m\u001b[1;33m\u001b[0m\u001b[1;33m\u001b[0m\u001b[0m\n",
      "\u001b[1;31mNameError\u001b[0m: name 'eggs' is not defined"
     ]
    }
   ],
   "source": [
    "'cat' in eggs.keys()\n",
    "\n",
    "'cat' in eggs.values()   # KeyError or ValueError are common errors in a dictionary while trying to retrieve data so we will always use get method\n",
    "\n",
    "eggs.get('SP','Not an animal')     # Whenever it's false it chooses else statement. Such 'else' statement are usually used in making the program not to abort"
   ]
  },
  {
   "cell_type": "markdown",
   "metadata": {},
   "source": [
    "## Setting a Default"
   ]
  },
  {
   "cell_type": "code",
   "execution_count": 121,
   "metadata": {},
   "outputs": [
    {
     "name": "stdout",
     "output_type": "stream",
     "text": [
      "{'name': 'Zophie', 'species': 'cat', 'age': 8, 'color': 'black'}\n"
     ]
    }
   ],
   "source": [
    "eggs = {'name':'Zophie','species':'cat','age':8}\n",
    "if 'color' not in eggs:                               # VIMP\n",
    "    eggs['color'] = 'black'\n",
    "print(eggs)"
   ]
  },
  {
   "cell_type": "code",
   "execution_count": 122,
   "metadata": {},
   "outputs": [
    {
     "data": {
      "text/plain": [
       "'black'"
      ]
     },
     "execution_count": 122,
     "metadata": {},
     "output_type": "execute_result"
    }
   ],
   "source": [
    "# To avoid the above code lines, we can just use setdefault method, it's nice method to check if key exists\n",
    "eggs.setdefault('color','black') # if you again give setdefault('color','orange'), it will not do anything because 'color' key already exists, that's the reason"
   ]
  },
  {
   "cell_type": "markdown",
   "metadata": {},
   "source": [
    "## Lists are Ordered and Dictionaries are un-ordered"
   ]
  },
  {
   "cell_type": "code",
   "execution_count": 123,
   "metadata": {},
   "outputs": [
    {
     "data": {
      "text/plain": [
       "True"
      ]
     },
     "execution_count": 123,
     "metadata": {},
     "output_type": "execute_result"
    }
   ],
   "source": [
    "eggs = {'name':'Zophie','species':'cat','age':8}\n",
    "ham = {'species':'cat','name':'Zophie','age':8}\n",
    "eggs == ham              # Dictionaries keys / indexes are un-ordered        # VIMP"
   ]
  },
  {
   "cell_type": "code",
   "execution_count": 124,
   "metadata": {},
   "outputs": [
    {
     "data": {
      "text/plain": [
       "False"
      ]
     },
     "execution_count": 124,
     "metadata": {},
     "output_type": "execute_result"
    }
   ],
   "source": [
    "[1,2,3]==[3,1,2]    # List indexes are ordered           # VIMP"
   ]
  },
  {
   "cell_type": "code",
   "execution_count": 125,
   "metadata": {},
   "outputs": [
    {
     "name": "stdout",
     "output_type": "stream",
     "text": [
      "['name', 'species', 'age']\n",
      "['Zophie', 'cat', 8]\n",
      "[('name', 'Zophie'), ('species', 'cat'), ('age', 8)]\n"
     ]
    }
   ],
   "source": [
    "# 3 Methods to convert Dictionary keys or values or both into lists              # VIMP\n",
    "print(list(eggs.keys()))     # keys() method\n",
    "print(list(eggs.values()))   # values() method\n",
    "print(list(eggs.items())) # returns as list of key-value pairs as tuples.  # items() method"
   ]
  },
  {
   "cell_type": "code",
   "execution_count": 126,
   "metadata": {},
   "outputs": [
    {
     "data": {
      "text/plain": [
       "dict_keys(['name', 'species', 'age'])"
      ]
     },
     "execution_count": 126,
     "metadata": {},
     "output_type": "execute_result"
    }
   ],
   "source": [
    "eggs.keys()     # keys(), values(), items() returns list-like data types such as dict_keys, dict_values, dict_items()"
   ]
  },
  {
   "cell_type": "code",
   "execution_count": 127,
   "metadata": {},
   "outputs": [
    {
     "name": "stdout",
     "output_type": "stream",
     "text": [
      "name Zophie\n",
      "species cat\n",
      "age 8\n"
     ]
    }
   ],
   "source": [
    "for i,j in eggs.items():           # returns Tuples                # VIMP\n",
    "    print(i,j)"
   ]
  },
  {
   "cell_type": "markdown",
   "metadata": {},
   "source": [
    "# <a id='Data_Structures'></a>Data Structures\n",
    "The List of dictionaries is called a Data Structure. We can use data structures to model real world things in a way that our programs can understand. List and Dictionaries allow you to combine and organize values to represent real world objects."
   ]
  },
  {
   "cell_type": "code",
   "execution_count": 130,
   "metadata": {},
   "outputs": [
    {
     "data": {
      "text/plain": [
       "[{'name': 'Zophie', 'age': 7, 'color': 'gray'},\n",
       " {'name': 'Tom', 'age': 5, 'color': 'black'},\n",
       " {'name': 'Fat-tail', 'age': 5, 'color': 'white'}]"
      ]
     },
     "execution_count": 130,
     "metadata": {},
     "output_type": "execute_result"
    }
   ],
   "source": [
    "allcats = []\n",
    "allcats.append({'name':'Zophie','age':7,'color':'gray'})\n",
    "allcats.append({'name':'Tom','age':5,'color':'black'})\n",
    "allcats.append({'name':'Fat-tail','age':5,'color':'white'})\n",
    "allcats"
   ]
  },
  {
   "cell_type": "markdown",
   "metadata": {},
   "source": [
    "# <a id='Control_the_flow_of_a_Program'></a>Control the flow of a Program"
   ]
  },
  {
   "cell_type": "markdown",
   "metadata": {},
   "source": [
    "## if and else conditional statements"
   ]
  },
  {
   "cell_type": "code",
   "execution_count": 134,
   "metadata": {},
   "outputs": [
    {
     "name": "stdout",
     "output_type": "stream",
     "text": [
      "Yep!\n"
     ]
    }
   ],
   "source": [
    "if 1 < 2:\n",
    "    print('Yep!')"
   ]
  },
  {
   "cell_type": "code",
   "execution_count": 3,
   "metadata": {},
   "outputs": [
    {
     "name": "stdout",
     "output_type": "stream",
     "text": [
      "Enter the x number10\n",
      "Enter the y number20\n",
      "Enter the z number30\n",
      "z = 30 is larger number than x = 10 and y = 20\n"
     ]
    }
   ],
   "source": [
    "x = input('Enter the x number')\n",
    "y = input('Enter the y number')\n",
    "z = input('Enter the z number')\n",
    "if (x > y) and (x>z):\n",
    "    print(f'x = {x} is larger number than y = {y} and z={z}')\n",
    "elif (y>x) and (y>z):\n",
    "    print(f'y = {y} is larger number than x = {x} and z={z}')\n",
    "else:\n",
    "    print(f'z = {z} is larger number than x = {x} and y = {y}')\n"
   ]
  },
  {
   "cell_type": "markdown",
   "metadata": {},
   "source": [
    "## inline if statement"
   ]
  },
  {
   "cell_type": "code",
   "execution_count": 138,
   "metadata": {},
   "outputs": [
    {
     "name": "stdout",
     "output_type": "stream",
     "text": [
      "Enter the number 1 or 21\n",
      "You entered task 'A'\n"
     ]
    }
   ],
   "source": [
    "userInput = int(input('Enter the number 1 or 2'))\n",
    "print('You entered task \\'A\\'' if userInput == 1 else 'You entered task \\'B\\'')"
   ]
  },
  {
   "cell_type": "code",
   "execution_count": 139,
   "metadata": {},
   "outputs": [
    {
     "name": "stdout",
     "output_type": "stream",
     "text": [
      "Yellow\n",
      "Blue\n",
      "Orange\n",
      "Red\n",
      "Green\n",
      "Pink\n"
     ]
    }
   ],
   "source": [
    "Colors = ['Yellow','Blue','Orange','Red','Green','Pink']\n",
    "age = {'Sandeep':33,'Sravanthi':30}\n",
    "for i in Colors:\n",
    "    print(i)"
   ]
  },
  {
   "cell_type": "code",
   "execution_count": 140,
   "metadata": {},
   "outputs": [
    {
     "name": "stdout",
     "output_type": "stream",
     "text": [
      "\n",
      "A\n",
      "\n",
      "w\n",
      "\n",
      "e\n",
      "\n",
      "s\n",
      "\n",
      "o\n",
      "\n",
      "m\n",
      "\n",
      "e\n"
     ]
    }
   ],
   "source": [
    "for i in Myusername:\n",
    "    print(f'\\n{i}')     #Each character in a string will be displayed i.e., it will loop through a string"
   ]
  },
  {
   "cell_type": "code",
   "execution_count": 142,
   "metadata": {},
   "outputs": [
    {
     "name": "stdout",
     "output_type": "stream",
     "text": [
      "This is Name Sandeep and this is age 33\n",
      "This is Name Sravanthi and this is age 30\n"
     ]
    }
   ],
   "source": [
    "for i in age:\n",
    "    print('This is Name %s and this is age %d'%(i,age[i]))  #Without using format function"
   ]
  },
  {
   "cell_type": "code",
   "execution_count": 143,
   "metadata": {},
   "outputs": [
    {
     "name": "stdout",
     "output_type": "stream",
     "text": [
      "Sandeep\n",
      "Sravanthi\n",
      "Rishith\n",
      "Sharwin\n"
     ]
    }
   ],
   "source": [
    "for i in myDict:\n",
    "    print(i)"
   ]
  },
  {
   "cell_type": "code",
   "execution_count": 144,
   "metadata": {},
   "outputs": [
    {
     "name": "stdout",
     "output_type": "stream",
     "text": [
      "0 Sandeep\n",
      "1 Sravanthi\n",
      "2 Rishith\n",
      "3 Sharwin\n"
     ]
    }
   ],
   "source": [
    "for i,j in enumerate(myDict):  #To print the Index of the memeber in the list we use enumerate function\n",
    "    print(i,j)"
   ]
  },
  {
   "cell_type": "code",
   "execution_count": 145,
   "metadata": {},
   "outputs": [
    {
     "name": "stdout",
     "output_type": "stream",
     "text": [
      "Sandeep 33\n",
      "Sravanthi 31\n",
      "Rishith 6\n",
      "Sharwin 2.5\n"
     ]
    }
   ],
   "source": [
    "for i in myDict:\n",
    "    print(i,myDict[i])"
   ]
  },
  {
   "cell_type": "code",
   "execution_count": 146,
   "metadata": {},
   "outputs": [
    {
     "name": "stdout",
     "output_type": "stream",
     "text": [
      "Name = Sandeep and Age = 33\n",
      "Name = Sravanthi and Age = 31\n",
      "Name = Rishith and Age = 6\n",
      "Name = Sharwin and Age = 2\n"
     ]
    }
   ],
   "source": [
    "for i,j in myDict.items():\n",
    "    print('Name = %s and Age = %d'%(i,j))"
   ]
  },
  {
   "cell_type": "code",
   "execution_count": 147,
   "metadata": {},
   "outputs": [
    {
     "name": "stdout",
     "output_type": "stream",
     "text": [
      "Sandeep 33\n",
      "Sravanthi 31\n",
      "Rishith 6\n",
      "Sharwin 2.5\n"
     ]
    }
   ],
   "source": [
    "for i,j in myDict.items():    #Another way of writing using items function\n",
    "    print(i,j)"
   ]
  },
  {
   "cell_type": "code",
   "execution_count": 148,
   "metadata": {},
   "outputs": [
    {
     "name": "stdout",
     "output_type": "stream",
     "text": [
      "0\n",
      "1\n",
      "2\n",
      "3\n",
      "4\n"
     ]
    }
   ],
   "source": [
    "for i in range(5):\n",
    "    print(i)"
   ]
  },
  {
   "cell_type": "markdown",
   "metadata": {},
   "source": [
    "## while loop"
   ]
  },
  {
   "cell_type": "code",
   "execution_count": 149,
   "metadata": {},
   "outputs": [
    {
     "name": "stdout",
     "output_type": "stream",
     "text": [
      "0\n",
      "1\n",
      "2\n",
      "3\n",
      "4\n",
      "5\n",
      "\n",
      "6\n"
     ]
    }
   ],
   "source": [
    "l = 0\n",
    "m = [0,1,2,3,4,5]\n",
    "while l<=5:\n",
    "    print(m[l])\n",
    "    l+=1\n",
    "print('\\n{}'.format(l))\n"
   ]
  },
  {
   "cell_type": "markdown",
   "metadata": {},
   "source": [
    "## break and contiue keywords"
   ]
  },
  {
   "cell_type": "code",
   "execution_count": 150,
   "metadata": {},
   "outputs": [
    {
     "name": "stdout",
     "output_type": "stream",
     "text": [
      "You will see i = 0\n",
      "You will see i = 1\n",
      "You will see i = 2\n",
      "You will see i = 3\n",
      "You will see i = 4\n",
      "You will see i = 5\n",
      "You will see i = 6\n",
      "You will see i = 8\n",
      "You will see i = 9\n",
      "-----------------------\n"
     ]
    }
   ],
   "source": [
    "for i in range(10):\n",
    "    if i==10:\n",
    "        print('I am breaking from loop')\n",
    "        break\n",
    "    elif i==7:\n",
    "        continue\n",
    "        print('You will not see i = %i'%(i))\n",
    "    else:\n",
    "        print('You will see i = %i'%(i))\n",
    "print('-----------------------')"
   ]
  },
  {
   "cell_type": "markdown",
   "metadata": {},
   "source": [
    "## try and except keywords\n",
    "Python, you can refer to https://docs.python.org/3/library/exceptions.html.\n",
    "* __ValueError__ and __ZeroDivisionError__ are two of the many pre-defined error types in Python. ValueError is raised when a built-in operation or function receives an argument that has the right type but an inappropriate value. \n",
    "* __ZeroDivisionError__ is raised when the program tries to divide by zero. \n",
    "* __IOError__: Raised when an I/O operation (such as the built-in open() function) fails for an I/O-related reason, e.g., “file not found”. \n",
    "* __ImportError__: Raised when an import statement fails to find the module definition \n",
    "* __IndexError__: Raised when a sequence (e.g. string, list, tuple) index is out of range. \n",
    "* __KeyError__: Raised when a dictionary key is not found. \n",
    "* __NameError__: Raised when a local or global name is not found. \n",
    "* __TypeError__: Raised when an operation or function is applied to an object of inappropriate type."
   ]
  },
  {
   "cell_type": "code",
   "execution_count": 151,
   "metadata": {},
   "outputs": [
    {
     "name": "stdout",
     "output_type": "stream",
     "text": [
      "Enter the integer number:1\n",
      "Enter the another integer number:2\n",
      "The Answer is 0.5\n",
      "Unknown Error:  [Errno 2] No such file or directory: 'missing.txt'\n"
     ]
    }
   ],
   "source": [
    "try:\n",
    "    userInput1 = int(input('Enter the integer number:'))\n",
    "    userInput2 = int(input('Enter the another integer number:'))\n",
    "    print('The Answer is {}'.format(userInput1/userInput2))\n",
    "    myFile = open('missing.txt')\n",
    "except ValueError:\n",
    "    print('Error: You did not enter the Number') #You can alias Value error as e and print e instead of custom error message\n",
    "except ZeroDivisionError as e:\n",
    "    print(e)\n",
    "except Exception as e:             #Aliasing the generated error as 'e'\n",
    "    print('Unknown Error: ',e)"
   ]
  },
  {
   "cell_type": "code",
   "execution_count": 152,
   "metadata": {},
   "outputs": [
    {
     "name": "stdout",
     "output_type": "stream",
     "text": [
      "Enter the X for ValueErrorf\n",
      "invalid literal for int() with base 10: 'f'\n"
     ]
    }
   ],
   "source": [
    "while True:\n",
    "    try:\n",
    "        x = int(input('Enter the X for ValueError'))\n",
    "        y = int(input('Enter the Y for ZeroDivsion Error'))\n",
    "        print(x/y) \n",
    "    except ValueError as e:\n",
    "        print(e)\n",
    "        break\n",
    "    except Exception as e:\n",
    "        print('Hi')\n",
    "        print(e)\n",
    "        break"
   ]
  },
  {
   "cell_type": "markdown",
   "metadata": {},
   "source": [
    "# <a id='Functions'></a>Functions\n",
    "<br>https://www.geeksforgeeks.org/difference-method-function-python/\n",
    "* Function is block of code that is also called by its name. (independent)\n",
    "* The function can have different parameters or may not have any at all. If any data (parameters) are passed, they are passed explicitly.\n",
    "* It may or may not return any data.\n",
    "* Function does not deal with Class and its instance concept."
   ]
  },
  {
   "cell_type": "code",
   "execution_count": 153,
   "metadata": {},
   "outputs": [],
   "source": [
    "def my_func(param1='default'):\n",
    "    \"\"\"\n",
    "    Docstring goes here.\n",
    "    \"\"\"\n",
    "    print(param1)"
   ]
  },
  {
   "cell_type": "code",
   "execution_count": 154,
   "metadata": {},
   "outputs": [
    {
     "data": {
      "text/plain": [
       "<function __main__.my_func(param1='default')>"
      ]
     },
     "execution_count": 154,
     "metadata": {},
     "output_type": "execute_result"
    }
   ],
   "source": [
    "my_func"
   ]
  },
  {
   "cell_type": "code",
   "execution_count": 155,
   "metadata": {},
   "outputs": [
    {
     "name": "stdout",
     "output_type": "stream",
     "text": [
      "default\n"
     ]
    }
   ],
   "source": [
    "my_func()"
   ]
  },
  {
   "cell_type": "code",
   "execution_count": 156,
   "metadata": {},
   "outputs": [
    {
     "name": "stdout",
     "output_type": "stream",
     "text": [
      "new param\n"
     ]
    }
   ],
   "source": [
    "my_func('new param')"
   ]
  },
  {
   "cell_type": "code",
   "execution_count": 157,
   "metadata": {},
   "outputs": [
    {
     "name": "stdout",
     "output_type": "stream",
     "text": [
      "new param\n"
     ]
    }
   ],
   "source": [
    "my_func(param1='new param')"
   ]
  },
  {
   "cell_type": "code",
   "execution_count": 158,
   "metadata": {},
   "outputs": [],
   "source": [
    "def square(x):\n",
    "    return x**2"
   ]
  },
  {
   "cell_type": "code",
   "execution_count": 159,
   "metadata": {},
   "outputs": [
    {
     "name": "stdout",
     "output_type": "stream",
     "text": [
      "4\n"
     ]
    }
   ],
   "source": [
    "out = square(2)\n",
    "print(out)"
   ]
  },
  {
   "cell_type": "markdown",
   "metadata": {},
   "source": [
    "## replace function / method"
   ]
  },
  {
   "cell_type": "code",
   "execution_count": 160,
   "metadata": {},
   "outputs": [
    {
     "name": "stdout",
     "output_type": "stream",
     "text": [
      "Hello Universe\n"
     ]
    }
   ],
   "source": [
    "newString = 'Hello World'.replace('World','Universe')\n",
    "print(newString)"
   ]
  },
  {
   "cell_type": "code",
   "execution_count": 161,
   "metadata": {},
   "outputs": [
    {
     "name": "stdout",
     "output_type": "stream",
     "text": [
      "Check if Prime\n",
      "False\n"
     ]
    }
   ],
   "source": [
    "print('Check if Prime')\n",
    "def checkIfPrime(numberToCheck):\n",
    "    for i in range(2,numberToCheck):\n",
    "        if numberToCheck%i == 0:\n",
    "            return False\n",
    "        return True\n",
    "newStr1 = checkIfPrime(10)\n",
    "print(newStr1)"
   ]
  },
  {
   "cell_type": "markdown",
   "metadata": {},
   "source": [
    "## Scope of a Variable"
   ]
  },
  {
   "cell_type": "code",
   "execution_count": 162,
   "metadata": {},
   "outputs": [
    {
     "name": "stdout",
     "output_type": "stream",
     "text": [
      "I am outside function Global Variable\n",
      "I am inside a function Local Variable\n",
      "Again...I am outside function Global Variable\n"
     ]
    }
   ],
   "source": [
    "def someFunc():\n",
    "    sv = 'Local Variable'\n",
    "    print('I am inside a function %s'%sv)\n",
    "sv = 'Global Variable'\n",
    "print('I am outside function %s'%sv)\n",
    "someFunc()\n",
    "print('Again...I am outside function %s'%sv)"
   ]
  },
  {
   "cell_type": "markdown",
   "metadata": {},
   "source": [
    "## Default Parameter Values"
   ]
  },
  {
   "cell_type": "code",
   "execution_count": 163,
   "metadata": {},
   "outputs": [
    {
     "name": "stdout",
     "output_type": "stream",
     "text": [
      "10 20 3 4 5\n",
      "10 20 30 40 5\n"
     ]
    }
   ],
   "source": [
    "#Normal or Formal argument list Example\n",
    "def someFunc1(a,b,c=3,d=4,e=5):\n",
    "    print(a,b,c,d,e)\n",
    "someFunc1(10,20)\n",
    "someFunc1(10,20,30,40)      #Overwrites Default parameter values"
   ]
  },
  {
   "cell_type": "markdown",
   "metadata": {},
   "source": [
    "## Variable Length Argument List"
   ]
  },
  {
   "cell_type": "markdown",
   "metadata": {},
   "source": [
    "### Non-key-worded variable length argument list Example"
   ]
  },
  {
   "cell_type": "code",
   "execution_count": 164,
   "metadata": {},
   "outputs": [
    {
     "name": "stdout",
     "output_type": "stream",
     "text": [
      "15\n",
      "36\n"
     ]
    }
   ],
   "source": [
    "def addNumbers(*num):            \n",
    "    sum = 0\n",
    "    for i in num:\n",
    "        sum = sum + i\n",
    "    return sum\n",
    "print(addNumbers(1,2,3,4,5))\n",
    "print(addNumbers(1,2,3,4,5,6,7,8))"
   ]
  },
  {
   "cell_type": "markdown",
   "metadata": {},
   "source": [
    "### Key-worded variable length argument list Example"
   ]
  },
  {
   "cell_type": "code",
   "execution_count": 165,
   "metadata": {},
   "outputs": [
    {
     "name": "stdout",
     "output_type": "stream",
     "text": [
      "Name = Sandeep and Age = 33\n",
      "Name = Sravanthi and Age = 31\n",
      "Name = Risith and Age = 7\n",
      "Name = Sharwin and Age = 3\n"
     ]
    }
   ],
   "source": [
    "def ageDetailsFunc(**kwarg):\n",
    "    for i,j in kwarg.items():\n",
    "        print('Name = %s and Age = %d'%(i,j))     \n",
    "    return None\n",
    "ageDetailsFunc(Sandeep=33,Sravanthi=31,Risith=7,Sharwin=3)"
   ]
  },
  {
   "cell_type": "code",
   "execution_count": 166,
   "metadata": {},
   "outputs": [],
   "source": [
    "def ageDetailsDisp1(Hno,*nkwarg,**kwarg):\n",
    "    pincode=100\n",
    "    print('House Number is %s and Pincode is %d'%(Hno,pincode))\n",
    "    print('Length of non-keyworded arguments is %d'%(len(nkwarg)))\n",
    "    for i in nkwarg:\n",
    "        print(i)\n",
    "    for i,j in kwarg.items():\n",
    "        print('Name is %s and Age is %d'%(i,j))"
   ]
  },
  {
   "cell_type": "code",
   "execution_count": 167,
   "metadata": {},
   "outputs": [
    {
     "name": "stdout",
     "output_type": "stream",
     "text": [
      "House Number is 242 and Pincode is 100\n",
      "Length of non-keyworded arguments is 4\n",
      "34\n",
      "32\n",
      "7\n",
      "4\n",
      "Name is Sandeep and Age is 34\n",
      "Name is Sravanthi and Age is 32\n",
      "Name is Rishith and Age is 7\n",
      "Name is Sharwin and Age is 4\n"
     ]
    }
   ],
   "source": [
    "ageDetailsDisp1(242,34,32,7,4,Sandeep=34,Sravanthi=32,Rishith=7,Sharwin=4) # This is the ideal way of giving normal arguments, nkwarg (non-key worded arguments) and kwarg (Key worded arguments)"
   ]
  },
  {
   "cell_type": "code",
   "execution_count": 168,
   "metadata": {},
   "outputs": [
    {
     "name": "stdout",
     "output_type": "stream",
     "text": [
      "House Number is 242 and Pincode is 100\n",
      "Length of non-keyworded arguments is 1\n",
      "[34, 32, 7, 4]\n",
      "Name is Sandeep and Age is 34\n",
      "Name is Sravanthi and Age is 32\n",
      "Name is Rishith and Age is 7\n",
      "Name is Sharwin and Age is 4\n"
     ]
    }
   ],
   "source": [
    "ageDetailsDisp1(242,[34,32,7,4],Sandeep=34,Sravanthi=32,Rishith=7,Sharwin=4) # This is not the way of giving the array to the function"
   ]
  },
  {
   "cell_type": "code",
   "execution_count": 169,
   "metadata": {},
   "outputs": [],
   "source": [
    "# This way you can change formal argument (with default values) without changing the function\n",
    "def ageDetailsDisp1(Hno,pincode=517000,*nkwarg,**kwarg):\n",
    "    print('House Number is %s and Pincode is %d'%(Hno,pincode))\n",
    "    print('Length of non-keyworded arguments is %d'%(len(nkwarg)))\n",
    "    for i in nkwarg:\n",
    "        print(i)\n",
    "    for i,j in kwarg.items():\n",
    "        print('Name is %s and Age is %d'%(i,j))"
   ]
  },
  {
   "cell_type": "code",
   "execution_count": 170,
   "metadata": {},
   "outputs": [
    {
     "name": "stdout",
     "output_type": "stream",
     "text": [
      "House Number is 242 and Pincode is 517644\n",
      "Length of non-keyworded arguments is 4\n",
      "34\n",
      "32\n",
      "7\n",
      "4\n",
      "Name is Sandeep and Age is 34\n",
      "Name is Sravanthi and Age is 32\n",
      "Name is Rishith and Age is 7\n",
      "Name is Sharwin and Age is 4\n"
     ]
    }
   ],
   "source": [
    "ageDetailsDisp1(242,517644,34,32,7,4,Sandeep=34,Sravanthi=32,Rishith=7,Sharwin=4)"
   ]
  },
  {
   "cell_type": "code",
   "execution_count": 171,
   "metadata": {},
   "outputs": [],
   "source": [
    "# In this way you cannot change formal argument (with default values). You have to touch the function to do the changes\n",
    "def ageDetailsDisp1(Hno,*nkwarg,**kwarg):\n",
    "    pincode=517644\n",
    "    print('House Number is %s and Pincode is %d'%(Hno,pincode))\n",
    "    print('Length of non-keyworded arguments is %d'%(len(nkwarg)))\n",
    "    for i in nkwarg:\n",
    "        print(i)\n",
    "    for i,j in kwarg.items():\n",
    "        print('Name is %s and Age is %d'%(i,j))\n"
   ]
  },
  {
   "cell_type": "code",
   "execution_count": 172,
   "metadata": {},
   "outputs": [
    {
     "name": "stdout",
     "output_type": "stream",
     "text": [
      "House Number is 242 and Pincode is 517644\n",
      "Length of non-keyworded arguments is 4\n",
      "34\n",
      "32\n",
      "7\n",
      "4\n",
      "Name is Sandeep and Age is 34\n",
      "Name is Sravanthi and Age is 32\n",
      "Name is Rishith and Age is 7\n",
      "Name is Sharwin and Age is 4\n"
     ]
    }
   ],
   "source": [
    "ageDetailsDisp1(242,34,32,7,4,Sandeep=34,Sravanthi=32,Rishith=7,Sharwin=4)"
   ]
  },
  {
   "cell_type": "markdown",
   "metadata": {},
   "source": [
    "# <a id='Python_Built-in_Functions'></a>Python Built-in Functions"
   ]
  },
  {
   "cell_type": "markdown",
   "metadata": {},
   "source": [
    "<b> ord(i) – converts character to an ASCII value\n",
    "<br> <b> chr(n) – converts ASCII value to a Character\n",
    "<br> <b> fromkeys() - use case - Removing duplicates in a list / array\n",
    "<br> <b> dir(mylist) - To see all the functions supported by list, dictionaries etc\n",
    "<br> <b> map(function,iterable)"
   ]
  },
  {
   "cell_type": "code",
   "execution_count": null,
   "metadata": {},
   "outputs": [],
   "source": [
    "print('COMPUTE THE Nth DERIVATE OF A FUNCTION'.title())"
   ]
  },
  {
   "cell_type": "markdown",
   "metadata": {},
   "source": [
    "## strip() Function\n",
    "\n",
    "The strip() method removes any leading (spaces at the beginning) and trailing (spaces at the end) characters (space is the default leading character to remove)"
   ]
  },
  {
   "cell_type": "code",
   "execution_count": 1,
   "metadata": {},
   "outputs": [
    {
     "name": "stdout",
     "output_type": "stream",
     "text": [
      "of all fruits banana is my favorite\n"
     ]
    }
   ],
   "source": [
    "txt = \"     banana     \"\n",
    "\n",
    "x = txt.strip()\n",
    "\n",
    "print(\"of all fruits\", x, \"is my favorite\")"
   ]
  },
  {
   "cell_type": "code",
   "execution_count": 2,
   "metadata": {},
   "outputs": [
    {
     "name": "stdout",
     "output_type": "stream",
     "text": [
      "banana\n"
     ]
    }
   ],
   "source": [
    "txt = \",,,,,rrttgg.....banana....rrr\"\n",
    "\n",
    "x = txt.strip(\",.grt\")\n",
    "\n",
    "print(x)"
   ]
  },
  {
   "cell_type": "markdown",
   "metadata": {},
   "source": [
    "## type Function\n",
    "It gives the type of the variable or value passed to it\n",
    "type function along with pretty print (pprint) are very much useful"
   ]
  },
  {
   "cell_type": "code",
   "execution_count": 131,
   "metadata": {},
   "outputs": [
    {
     "data": {
      "text/plain": [
       "int"
      ]
     },
     "execution_count": 131,
     "metadata": {},
     "output_type": "execute_result"
    }
   ],
   "source": [
    "type(42)"
   ]
  },
  {
   "cell_type": "code",
   "execution_count": 209,
   "metadata": {},
   "outputs": [
    {
     "data": {
      "text/plain": [
       "['Hi', 'there', 'Sam!']"
      ]
     },
     "execution_count": 209,
     "metadata": {},
     "output_type": "execute_result"
    }
   ],
   "source": [
    "# Splitting a String into list\n",
    "s = \"Hi there Sam!\"\n",
    "mydta = s.split()           #by default delimiter is space\n",
    "mydta"
   ]
  },
  {
   "cell_type": "code",
   "execution_count": 210,
   "metadata": {},
   "outputs": [
    {
     "name": "stdout",
     "output_type": "stream",
     "text": [
      "['a', 'b', 'c d e f g']\n",
      "a\n",
      "b\n",
      "c d e f g\n"
     ]
    }
   ],
   "source": [
    "# Split by first 2 whitespace only.\n",
    "alphabet = \"a b c d e f g\"\n",
    "data = alphabet.split(\" \",2) #maxsplit\n",
    "print(data)\n",
    "for tmp in data:\n",
    "    print(tmp)"
   ]
  },
  {
   "cell_type": "markdown",
   "metadata": {},
   "source": [
    "## split()"
   ]
  },
  {
   "cell_type": "code",
   "execution_count": 4,
   "metadata": {},
   "outputs": [
    {
     "name": "stdout",
     "output_type": "stream",
     "text": [
      "Hi, this is Sandeep\n"
     ]
    },
    {
     "data": {
      "text/plain": [
       "['Hi,', 'this', 'is', 'Sandeep']"
      ]
     },
     "execution_count": 4,
     "metadata": {},
     "output_type": "execute_result"
    }
   ],
   "source": [
    "arr = input().split()       # Split() function by default takes ''\n",
    "arr"
   ]
  },
  {
   "cell_type": "markdown",
   "metadata": {},
   "source": [
    "## fromkeys() - use case - Removing duplicates in a list / array"
   ]
  },
  {
   "cell_type": "code",
   "execution_count": 6,
   "metadata": {},
   "outputs": [
    {
     "data": {
      "text/plain": [
       "['Hi,', 'Sandeep', 'is', 'this']"
      ]
     },
     "execution_count": 6,
     "metadata": {},
     "output_type": "execute_result"
    }
   ],
   "source": [
    "# Example using split and fromkeys function\n",
    "arr = list(dict.fromkeys(arr))       \n",
    "arr.sort()\n",
    "arr"
   ]
  },
  {
   "cell_type": "code",
   "execution_count": 225,
   "metadata": {},
   "outputs": [
    {
     "data": {
      "text/plain": [
       "['Hi,', 'Sandeep', 'is', 'this']"
      ]
     },
     "execution_count": 225,
     "metadata": {},
     "output_type": "execute_result"
    }
   ],
   "source": [
    "arr"
   ]
  },
  {
   "cell_type": "code",
   "execution_count": 226,
   "metadata": {},
   "outputs": [
    {
     "data": {
      "text/plain": [
       "'is'"
      ]
     },
     "execution_count": 226,
     "metadata": {},
     "output_type": "execute_result"
    }
   ],
   "source": [
    "arr[-2]"
   ]
  },
  {
   "cell_type": "markdown",
   "metadata": {},
   "source": [
    "## sorted(iterable, /, *, key=None, reverse=False)"
   ]
  },
  {
   "cell_type": "code",
   "execution_count": 227,
   "metadata": {},
   "outputs": [
    {
     "name": "stdout",
     "output_type": "stream",
     "text": [
      "['aaa', 'b', 'cccc', 'dd']\n",
      "['b', 'dd', 'aaa', 'cccc']\n"
     ]
    }
   ],
   "source": [
    "# Example 1\n",
    "L = [\"cccc\", \"b\", \"dd\", \"aaa\"] \n",
    "print(sorted(L))\n",
    "print(sorted(L,key=len))"
   ]
  },
  {
   "cell_type": "code",
   "execution_count": 228,
   "metadata": {},
   "outputs": [
    {
     "name": "stdout",
     "output_type": "stream",
     "text": [
      "Normal sort : [3, 7, 11, 15]\n",
      "Sorted with key: [7, 15, 3, 11]\n"
     ]
    }
   ],
   "source": [
    "# Example 2\n",
    "def func(x): \n",
    "    return x % 7 \n",
    "L = [15, 3, 11, 7]\n",
    "print(\"Normal sort :\", sorted(L)) \n",
    "print(\"Sorted with key:\", sorted(L, key = func))"
   ]
  },
  {
   "cell_type": "markdown",
   "metadata": {},
   "source": [
    "## Split by first 2 whitespace only"
   ]
  },
  {
   "cell_type": "code",
   "execution_count": 229,
   "metadata": {},
   "outputs": [
    {
     "name": "stdout",
     "output_type": "stream",
     "text": [
      "a\n",
      "b\n",
      "c d e f g\n"
     ]
    }
   ],
   "source": [
    "alphabet = \"a b c d e f g\"\n",
    "data = alphabet.split(\" \",2) #maxsplit\n",
    "for tmp in data:\n",
    "    print(tmp)"
   ]
  },
  {
   "cell_type": "markdown",
   "metadata": {},
   "source": [
    "## Lambda, Map, Filter, Reduce Functions"
   ]
  },
  {
   "cell_type": "markdown",
   "metadata": {},
   "source": [
    "### lambda Function"
   ]
  },
  {
   "cell_type": "code",
   "execution_count": 230,
   "metadata": {},
   "outputs": [
    {
     "name": "stdout",
     "output_type": "stream",
     "text": [
      "9\n"
     ]
    }
   ],
   "source": [
    "def pow2(x):\n",
    "    return x**2\n",
    "print(pow2(3)) "
   ]
  },
  {
   "cell_type": "code",
   "execution_count": 231,
   "metadata": {},
   "outputs": [
    {
     "data": {
      "text/plain": [
       "9"
      ]
     },
     "execution_count": 231,
     "metadata": {},
     "output_type": "execute_result"
    }
   ],
   "source": [
    "# Example using Lambda passing one parameters\n",
    "m = lambda x: x**2\n",
    "m(3)"
   ]
  },
  {
   "cell_type": "code",
   "execution_count": 232,
   "metadata": {},
   "outputs": [
    {
     "data": {
      "text/plain": [
       "10"
      ]
     },
     "execution_count": 232,
     "metadata": {},
     "output_type": "execute_result"
    }
   ],
   "source": [
    "# Example using Lambda passing 2 parameters\n",
    "m = lambda x,y: x+y     \n",
    "m(5,5)"
   ]
  },
  {
   "cell_type": "code",
   "execution_count": 233,
   "metadata": {},
   "outputs": [
    {
     "data": {
      "text/plain": [
       "100"
      ]
     },
     "execution_count": 233,
     "metadata": {},
     "output_type": "execute_result"
    }
   ],
   "source": [
    "# Example using Lambda using if-else statement\n",
    "mx = lambda x,y: x if x>=y else y\n",
    "mx(20,100)"
   ]
  },
  {
   "cell_type": "code",
   "execution_count": 234,
   "metadata": {},
   "outputs": [],
   "source": [
    "def times2(var):\n",
    "    return var*2"
   ]
  },
  {
   "cell_type": "code",
   "execution_count": 235,
   "metadata": {},
   "outputs": [
    {
     "data": {
      "text/plain": [
       "4"
      ]
     },
     "execution_count": 235,
     "metadata": {},
     "output_type": "execute_result"
    }
   ],
   "source": [
    "times2(2)"
   ]
  },
  {
   "cell_type": "code",
   "execution_count": 236,
   "metadata": {},
   "outputs": [
    {
     "data": {
      "text/plain": [
       "<function __main__.<lambda>(var)>"
      ]
     },
     "execution_count": 236,
     "metadata": {},
     "output_type": "execute_result"
    }
   ],
   "source": [
    "lambda var: var*2"
   ]
  },
  {
   "cell_type": "markdown",
   "metadata": {},
   "source": [
    "### map() Function\n",
    "* The map() function executes a specified function for each item in a iterable. The item is sent to the function as a parameter\n",
    "* __Syntax:__ map(function, iterables or list)"
   ]
  },
  {
   "cell_type": "code",
   "execution_count": 237,
   "metadata": {},
   "outputs": [
    {
     "name": "stdout",
     "output_type": "stream",
     "text": [
      "[5, 6, 5, 6]\n"
     ]
    }
   ],
   "source": [
    "# Example 1\n",
    "def myadd(n):\n",
    "    return len(n)\n",
    "mapobject = map(myadd,('apple','banana','Mango','Grapes'))\n",
    "print(list(mapobject))"
   ]
  },
  {
   "cell_type": "code",
   "execution_count": 238,
   "metadata": {},
   "outputs": [
    {
     "name": "stdout",
     "output_type": "stream",
     "text": [
      "['appleKashmir', 'bananaKerala', 'MangoAP', 'GrapesTn']\n"
     ]
    }
   ],
   "source": [
    "# Example 2\n",
    "def addfruits(a,b):\n",
    "    return a+b\n",
    "mapobject = map(addfruits,('apple','banana','Mango','Grapes'),('Kashmir','Kerala','AP','Tn'))\n",
    "print(list(mapobject))"
   ]
  },
  {
   "cell_type": "code",
   "execution_count": 239,
   "metadata": {},
   "outputs": [
    {
     "name": "stdout",
     "output_type": "stream",
     "text": [
      "[16, 9, 4, 1]\n"
     ]
    }
   ],
   "source": [
    "# Example 3\n",
    "# Traditional way to calculate squares in list\n",
    "def sqre(lst1):\n",
    "    lst2 = []\n",
    "    for i in lst1:\n",
    "        lst2.append(i**2)\n",
    "    return lst2\n",
    "ls = [4,3,2,1]\n",
    "print(sqre(ls))"
   ]
  },
  {
   "cell_type": "code",
   "execution_count": 240,
   "metadata": {},
   "outputs": [
    {
     "name": "stdout",
     "output_type": "stream",
     "text": [
      "[16, 9, 4, 1]\n"
     ]
    }
   ],
   "source": [
    "# Same program using Map Function\n",
    "ls = [4,3,2,1]\n",
    "print(list(map(lambda n: n**2,ls)))"
   ]
  },
  {
   "cell_type": "code",
   "execution_count": 241,
   "metadata": {},
   "outputs": [
    {
     "data": {
      "text/plain": [
       "[[16, 9, 4, 1], [9, 36]]"
      ]
     },
     "execution_count": 241,
     "metadata": {},
     "output_type": "execute_result"
    }
   ],
   "source": [
    "# We can also write the above program without using lambda function\n",
    "list(map(sqre,([4,3,2,1],[3,6])))"
   ]
  },
  {
   "cell_type": "code",
   "execution_count": null,
   "metadata": {},
   "outputs": [],
   "source": [
    "# Rishith's Tables\n",
    "x = input('Enter the numbers')\n",
    "x = x.split()\n",
    "n = []\n",
    "for i in range(len(x)):\n",
    "    n.append(int(x[i]))\n",
    "for i in n:\n",
    "    for j in range(1,11):\n",
    "        print('%d * %d = %d'%(i,j,i*j))\n",
    "    print('---------------------------')"
   ]
  },
  {
   "cell_type": "code",
   "execution_count": 243,
   "metadata": {},
   "outputs": [
    {
     "data": {
      "text/plain": [
       "<map at 0x277f3429888>"
      ]
     },
     "execution_count": 243,
     "metadata": {},
     "output_type": "execute_result"
    }
   ],
   "source": [
    "seq = [1,2,3,4,5]\n",
    "map(times2,seq)"
   ]
  },
  {
   "cell_type": "code",
   "execution_count": 244,
   "metadata": {},
   "outputs": [
    {
     "name": "stdout",
     "output_type": "stream",
     "text": [
      "[2, 4, 6, 8, 10]\n",
      "[2, 4, 6, 8, 10]\n"
     ]
    }
   ],
   "source": [
    "print(list(map(times2,seq)))\n",
    "\n",
    "print(list(map(lambda var: var*2,seq)))"
   ]
  },
  {
   "cell_type": "markdown",
   "metadata": {},
   "source": [
    "### filter Function\n",
    "* Filter items out of list / sequence\n",
    "* Returns filtered list\n",
    "* Syntax: filter(function that some condition, iterable)"
   ]
  },
  {
   "cell_type": "code",
   "execution_count": 245,
   "metadata": {},
   "outputs": [
    {
     "data": {
      "text/plain": [
       "[4, 3]"
      ]
     },
     "execution_count": 245,
     "metadata": {},
     "output_type": "execute_result"
    }
   ],
   "source": [
    "# Example for list of number greater than 2\n",
    "def greater_two(lst):\n",
    "    lst2 = [i for i in lst if i>2]\n",
    "    return lst2\n",
    "greater_two([4,3,2,1])"
   ]
  },
  {
   "cell_type": "code",
   "execution_count": 246,
   "metadata": {},
   "outputs": [
    {
     "data": {
      "text/plain": [
       "[4, 3]"
      ]
     },
     "execution_count": 246,
     "metadata": {},
     "output_type": "execute_result"
    }
   ],
   "source": [
    "n = [4,3,2,1]\n",
    "list(filter(lambda x: x>2,n))"
   ]
  },
  {
   "cell_type": "code",
   "execution_count": 247,
   "metadata": {},
   "outputs": [
    {
     "data": {
      "text/plain": [
       "<filter at 0x277f3409fc8>"
      ]
     },
     "execution_count": 247,
     "metadata": {},
     "output_type": "execute_result"
    }
   ],
   "source": [
    "seq = [1,2,3,4,5]\n",
    "filter(lambda item: item%2 == 0,seq)"
   ]
  },
  {
   "cell_type": "code",
   "execution_count": 248,
   "metadata": {},
   "outputs": [
    {
     "data": {
      "text/plain": [
       "[2, 4]"
      ]
     },
     "execution_count": 248,
     "metadata": {},
     "output_type": "execute_result"
    }
   ],
   "source": [
    "list(filter(lambda item: item%2 == 0,seq))"
   ]
  },
  {
   "cell_type": "markdown",
   "metadata": {},
   "source": [
    "### reduce Function\n",
    "* Applies same operation to items of sequence\n",
    "* Uses result of operation as first param of next operation\n",
    "* Returns an item, not list"
   ]
  },
  {
   "cell_type": "code",
   "execution_count": 249,
   "metadata": {},
   "outputs": [],
   "source": [
    "# In Python 2, reduce() was a built-in function. However, in Python 3, it is moved to functools  module\n",
    "from functools import reduce"
   ]
  },
  {
   "cell_type": "code",
   "execution_count": 250,
   "metadata": {},
   "outputs": [
    {
     "data": {
      "text/plain": [
       "120"
      ]
     },
     "execution_count": 250,
     "metadata": {},
     "output_type": "execute_result"
    }
   ],
   "source": [
    "# Factorial of a number in a traditional way\n",
    "def facto(lst):\n",
    "    prod = lst[0]\n",
    "    for i in range(1,len(lst)):\n",
    "        prod*=lst[i]\n",
    "    return prod\n",
    "facto([5,4,3,2,1])"
   ]
  },
  {
   "cell_type": "code",
   "execution_count": 251,
   "metadata": {},
   "outputs": [
    {
     "data": {
      "text/plain": [
       "120"
      ]
     },
     "execution_count": 251,
     "metadata": {},
     "output_type": "execute_result"
    }
   ],
   "source": [
    "n = [5,4,3,2,1]\n",
    "reduce(lambda x,y: x*y,n)    # Finding the Factorial of a number using reduce and lambda functions"
   ]
  },
  {
   "cell_type": "markdown",
   "metadata": {},
   "source": [
    "## zip Function"
   ]
  },
  {
   "cell_type": "code",
   "execution_count": 252,
   "metadata": {},
   "outputs": [
    {
     "name": "stdout",
     "output_type": "stream",
     "text": [
      "<zip object at 0x00000277F1493308>\n",
      "<class 'zip'>\n",
      "[(1, 'a'), (2, 'b'), (3, 'c')]\n"
     ]
    }
   ],
   "source": [
    "numbers = [1, 2, 3]\n",
    "letters = ['a', 'b', 'c']\n",
    "zipped = zip(numbers, letters)    # zipped object holds an iterator object\n",
    "print(zipped)\n",
    "print(type(zipped))\n",
    "print(list(zipped))"
   ]
  },
  {
   "cell_type": "markdown",
   "metadata": {},
   "source": [
    "## iter() and next() Function\n",
    "In python, iter() method is used to convert to convert an iterable to iterator. This presents another way to iterate the container i.e access its elements. iter() uses next() for accessing values.\n",
    "\n",
    "Syntax : iter(obj, sentinel)\n",
    "\n",
    "Parameters :\n",
    "obj : Object which has to be converted to iterable ( usually an iterator (object can be sets, tuples, etc.) ).\n",
    "sentinel : value used to represent end of sequence.\n",
    "\n",
    "Returns :\n",
    "Iterator object\n",
    "\n",
    "__next()__ - Is used to access the iterator value\n",
    "\n",
    "<br>https://www.geeksforgeeks.org/python-iter-method/"
   ]
  },
  {
   "cell_type": "code",
   "execution_count": 253,
   "metadata": {},
   "outputs": [
    {
     "name": "stdout",
     "output_type": "stream",
     "text": [
      "a\n",
      "e\n",
      "i\n",
      "o\n",
      "u\n"
     ]
    },
    {
     "ename": "StopIteration",
     "evalue": "",
     "output_type": "error",
     "traceback": [
      "\u001b[1;31m---------------------------------------------------------------------------\u001b[0m",
      "\u001b[1;31mStopIteration\u001b[0m                             Traceback (most recent call last)",
      "\u001b[1;32m<ipython-input-253-e1ee146fdfad>\u001b[0m in \u001b[0;36m<module>\u001b[1;34m\u001b[0m\n\u001b[0;32m     20\u001b[0m \u001b[1;33m\u001b[0m\u001b[0m\n\u001b[0;32m     21\u001b[0m \u001b[1;31m# gives an error: StopIteration\u001b[0m\u001b[1;33m\u001b[0m\u001b[1;33m\u001b[0m\u001b[1;33m\u001b[0m\u001b[0m\n\u001b[1;32m---> 22\u001b[1;33m \u001b[0mprint\u001b[0m\u001b[1;33m(\u001b[0m\u001b[0mnext\u001b[0m\u001b[1;33m(\u001b[0m\u001b[0mvowelsIter\u001b[0m\u001b[1;33m)\u001b[0m\u001b[1;33m)\u001b[0m\u001b[1;33m\u001b[0m\u001b[1;33m\u001b[0m\u001b[0m\n\u001b[0m",
      "\u001b[1;31mStopIteration\u001b[0m: "
     ]
    }
   ],
   "source": [
    "# list of vowels\n",
    "vowels = ['a', 'e', 'i', 'o', 'u']\n",
    "\n",
    "vowelsIter = iter(vowels)\n",
    "\n",
    "# prints 'a'\n",
    "print(next(vowelsIter))\n",
    "\n",
    "# prints 'e'\n",
    "print(next(vowelsIter))\n",
    "\n",
    "# prints 'i'\n",
    "print(next(vowelsIter))\n",
    "\n",
    "# prints 'o'\n",
    "print(next(vowelsIter))\n",
    "\n",
    "# prints 'u'\n",
    "print(next(vowelsIter))\n",
    "\n",
    "# gives an error: StopIteration\n",
    "print(next(vowelsIter))"
   ]
  },
  {
   "cell_type": "markdown",
   "metadata": {},
   "source": [
    "# <a id='Nested_Functions'></a>Nested Functions\n",
    "<b> Function  used within in a function is called Nested Function"
   ]
  },
  {
   "cell_type": "code",
   "execution_count": 1,
   "metadata": {},
   "outputs": [],
   "source": [
    "def outterfunc():\n",
    "    outer_var = 'Outter'\n",
    "    def innerfunc1():\n",
    "        print('Inner Variable1')\n",
    "    def innerfunc2():\n",
    "        print('In Inner Variable2')\n",
    "        innerfunc1()\n",
    "        print(outer_var)\n",
    "    innerfunc2()"
   ]
  },
  {
   "cell_type": "code",
   "execution_count": 2,
   "metadata": {},
   "outputs": [
    {
     "name": "stdout",
     "output_type": "stream",
     "text": [
      "In Inner Variable2\n",
      "Inner Variable1\n",
      "Outter\n"
     ]
    }
   ],
   "source": [
    "outterfunc()"
   ]
  },
  {
   "cell_type": "markdown",
   "metadata": {},
   "source": [
    "# <a id='Encapsulation'></a>Encapsulation\n",
    "<b> You use inner functions to protect them from everything happening outside of the function, meaning that they are hidden from the global scope."
   ]
  },
  {
   "cell_type": "code",
   "execution_count": 202,
   "metadata": {},
   "outputs": [
    {
     "name": "stdout",
     "output_type": "stream",
     "text": [
      "In Inner Variable2\n",
      "Outter\n"
     ]
    }
   ],
   "source": [
    "def outterfunc():\n",
    "    outer_var = 'Outter'\n",
    "    def innerfunc1():\n",
    "        print('Inner Variable1')\n",
    "    def innerfunc2():\n",
    "        print('In Inner Variable2')\n",
    "        print(outer_var)\n",
    "    innerfunc2()\n",
    "\n",
    "outterfunc()       # Here we are not accessing innerfunc2() method at all thus preventing outside access\n"
   ]
  },
  {
   "cell_type": "markdown",
   "metadata": {},
   "source": [
    "# <a id='Recursion'></a>Recursion\n",
    "* It Reduces length of the code\n",
    "* It Reduces unnecessary calling of function\n",
    "* It uses more memory\n",
    "<br>![](./Media/Py1.png)"
   ]
  },
  {
   "cell_type": "markdown",
   "metadata": {},
   "source": [
    "## Example 1: Factorial of a Number"
   ]
  },
  {
   "cell_type": "code",
   "execution_count": 207,
   "metadata": {},
   "outputs": [],
   "source": [
    "def factorial(n):\n",
    "    if n==1:          # Base Condition\n",
    "        return n             \n",
    "    else:\n",
    "        return n*factorial(n-1)    # Call Recursive Function"
   ]
  },
  {
   "cell_type": "markdown",
   "metadata": {},
   "source": [
    "## Example 2: Fibonacci Series"
   ]
  },
  {
   "cell_type": "code",
   "execution_count": 208,
   "metadata": {},
   "outputs": [],
   "source": [
    "def fib(n):\n",
    "    if n == 0:     # Base Condition 1\n",
    "        return 0\n",
    "    elif n == 1:    # Base Condition 2\n",
    "        return 1\n",
    "    else:           # Call Recursive Function\n",
    "        return fib(n-1) + fib(n-2)"
   ]
  },
  {
   "cell_type": "markdown",
   "metadata": {},
   "source": [
    "## Example 3: Converting Integer to Binary"
   ]
  },
  {
   "cell_type": "code",
   "execution_count": 205,
   "metadata": {},
   "outputs": [],
   "source": [
    "def integerToBinary(num):\n",
    "    if num > 1:\n",
    "        integerToBinary(num // 2)\n",
    "    print(num % 2)"
   ]
  },
  {
   "cell_type": "code",
   "execution_count": 206,
   "metadata": {},
   "outputs": [
    {
     "name": "stdout",
     "output_type": "stream",
     "text": [
      "Enter any integer number:8\n",
      "1\n",
      "0\n",
      "0\n",
      "0\n"
     ]
    }
   ],
   "source": [
    "#Integer Number\n",
    "number = int(input(\"Enter any integer number:\"))\n",
    "integerToBinary(number)"
   ]
  },
  {
   "cell_type": "markdown",
   "metadata": {},
   "source": [
    "# <a id='Module'></a>Module\n",
    "__Module__: The module is a simple Python file that contains collections of functions and global variables having a .py extension file. The file name is the Module name. It is an executable file and to organize all the modules we have the concept called __Package__ in Python.\n",
    "* Provides a means of reuse of program code\n",
    "* It provides a means of testing individual parts of the program\n",
    "* It provides a means of identifying the errors easily\n",
    "* It provides a means of dividing up tasks"
   ]
  },
  {
   "cell_type": "markdown",
   "metadata": {},
   "source": [
    "## Importing Custom Modules into our program"
   ]
  },
  {
   "cell_type": "code",
   "execution_count": 173,
   "metadata": {},
   "outputs": [
    {
     "name": "stdout",
     "output_type": "stream",
     "text": [
      "7\n",
      "12\n"
     ]
    }
   ],
   "source": [
    "# Importing random Module\n",
    "import random as r\n",
    "print(r.randrange(1,10))\n",
    "print(r.randrange(5,20))"
   ]
  },
  {
   "cell_type": "code",
   "execution_count": 174,
   "metadata": {},
   "outputs": [
    {
     "name": "stdout",
     "output_type": "stream",
     "text": [
      "3\n",
      "19\n"
     ]
    }
   ],
   "source": [
    "from random import randrange\n",
    "print(randrange(1,10))\n",
    "print(randrange(5,20))"
   ]
  },
  {
   "cell_type": "markdown",
   "metadata": {},
   "source": [
    "<b> Calculating the time taken to execute some tasks"
   ]
  },
  {
   "cell_type": "code",
   "execution_count": null,
   "metadata": {},
   "outputs": [],
   "source": [
    "# Importing time Module\n",
    "import time"
   ]
  },
  {
   "cell_type": "code",
   "execution_count": null,
   "metadata": {},
   "outputs": [],
   "source": [
    "tic = time.time()\n",
    "# Do something that takes some time that is measured\n",
    "toc = time.time()\n",
    "print('Elapsed time in seconds',toc-tic)"
   ]
  },
  {
   "cell_type": "code",
   "execution_count": null,
   "metadata": {},
   "outputs": [],
   "source": [
    "l = tuple(range(100000))\n",
    "tic = time.time()\n",
    "mylist_squared = list(map(lambda i: i**2,l))\n",
    "toc = time.time()\n",
    "print('Elapsed time in seconds',toc-tic)"
   ]
  },
  {
   "cell_type": "markdown",
   "metadata": {},
   "source": [
    "<b> This will make re-appear auto completion when 'tab' is pressed or 'shift+tab' is pressed"
   ]
  },
  {
   "cell_type": "code",
   "execution_count": null,
   "metadata": {},
   "outputs": [],
   "source": [
    "import time\n",
    "time.sleep(30)"
   ]
  },
  {
   "cell_type": "code",
   "execution_count": null,
   "metadata": {},
   "outputs": [],
   "source": [
    "from math import *      # To import all the functions, classes, values"
   ]
  },
  {
   "cell_type": "markdown",
   "metadata": {},
   "source": [
    "## Placing Modules in a Pre-Defined folder"
   ]
  },
  {
   "cell_type": "code",
   "execution_count": 175,
   "metadata": {},
   "outputs": [
    {
     "name": "stdout",
     "output_type": "stream",
     "text": [
      "['C:\\\\Users\\\\sande\\\\Google Drive\\\\AI_ML', 'C:\\\\Users\\\\sande\\\\anaconda3\\\\python37.zip', 'C:\\\\Users\\\\sande\\\\anaconda3\\\\DLLs', 'C:\\\\Users\\\\sande\\\\anaconda3\\\\lib', 'C:\\\\Users\\\\sande\\\\anaconda3', '', 'C:\\\\Users\\\\sande\\\\anaconda3\\\\lib\\\\site-packages', 'C:\\\\Users\\\\sande\\\\anaconda3\\\\lib\\\\site-packages\\\\win32', 'C:\\\\Users\\\\sande\\\\anaconda3\\\\lib\\\\site-packages\\\\win32\\\\lib', 'C:\\\\Users\\\\sande\\\\anaconda3\\\\lib\\\\site-packages\\\\Pythonwin', 'C:\\\\Users\\\\sande\\\\anaconda3\\\\lib\\\\site-packages\\\\IPython\\\\extensions', 'C:\\\\Users\\\\sande\\\\.ipython']\n"
     ]
    }
   ],
   "source": [
    "import sys\n",
    "print(sys.path)     # Used to see the different libraries path that python is using and we can also append custom paths"
   ]
  },
  {
   "cell_type": "code",
   "execution_count": null,
   "metadata": {},
   "outputs": [],
   "source": [
    "import prime as p    # Importing prime.py module into the pre-defined folder"
   ]
  },
  {
   "cell_type": "code",
   "execution_count": null,
   "metadata": {},
   "outputs": [],
   "source": [
    "import primecheck as p"
   ]
  },
  {
   "cell_type": "code",
   "execution_count": null,
   "metadata": {},
   "outputs": [],
   "source": [
    "p.checkIfPrime(6)"
   ]
  },
  {
   "cell_type": "markdown",
   "metadata": {},
   "source": [
    "## Placing Modules in a Custom folder"
   ]
  },
  {
   "cell_type": "code",
   "execution_count": 174,
   "metadata": {},
   "outputs": [],
   "source": [
    "# Add below piece of code on the top of the program that you are going to write, so that Python's system path will be updated\n",
    "import sys \n",
    "if '/Users/sandeepputtur/Downloads' not in sys.path:\n",
    "    sys.path.append('/Users/sandeepputtur/Downloads')\n"
   ]
  },
  {
   "cell_type": "code",
   "execution_count": 2,
   "metadata": {},
   "outputs": [
    {
     "name": "stdout",
     "output_type": "stream",
     "text": [
      "['C:\\\\Users\\\\sande\\\\SANDEEPFORAI\\\\AI_ML', 'C:\\\\Users\\\\sande\\\\anaconda3\\\\python38.zip', 'C:\\\\Users\\\\sande\\\\anaconda3\\\\DLLs', 'C:\\\\Users\\\\sande\\\\anaconda3\\\\lib', 'C:\\\\Users\\\\sande\\\\anaconda3', '', 'C:\\\\Users\\\\sande\\\\anaconda3\\\\lib\\\\site-packages', 'C:\\\\Users\\\\sande\\\\anaconda3\\\\lib\\\\site-packages\\\\locket-0.2.1-py3.8.egg', 'C:\\\\Users\\\\sande\\\\anaconda3\\\\lib\\\\site-packages\\\\win32', 'C:\\\\Users\\\\sande\\\\anaconda3\\\\lib\\\\site-packages\\\\win32\\\\lib', 'C:\\\\Users\\\\sande\\\\anaconda3\\\\lib\\\\site-packages\\\\Pythonwin', 'C:\\\\Users\\\\sande\\\\anaconda3\\\\lib\\\\site-packages\\\\IPython\\\\extensions', 'C:\\\\Users\\\\sande\\\\.ipython']\n",
      "['C:\\\\Users\\\\sande\\\\SANDEEPFORAI\\\\AI_ML', 'C:\\\\Users\\\\sande\\\\anaconda3\\\\python38.zip', 'C:\\\\Users\\\\sande\\\\anaconda3\\\\DLLs', 'C:\\\\Users\\\\sande\\\\anaconda3\\\\lib', 'C:\\\\Users\\\\sande\\\\anaconda3', '', 'C:\\\\Users\\\\sande\\\\anaconda3\\\\lib\\\\site-packages', 'C:\\\\Users\\\\sande\\\\anaconda3\\\\lib\\\\site-packages\\\\locket-0.2.1-py3.8.egg', 'C:\\\\Users\\\\sande\\\\anaconda3\\\\lib\\\\site-packages\\\\win32', 'C:\\\\Users\\\\sande\\\\anaconda3\\\\lib\\\\site-packages\\\\win32\\\\lib', 'C:\\\\Users\\\\sande\\\\anaconda3\\\\lib\\\\site-packages\\\\Pythonwin', 'C:\\\\Users\\\\sande\\\\anaconda3\\\\lib\\\\site-packages\\\\IPython\\\\extensions', 'C:\\\\Users\\\\sande\\\\.ipython', 'C:\\\\Users\\\\sande\\\\SANDEEPFORAI\\\\AI_ML\\\\APPS']\n"
     ]
    }
   ],
   "source": [
    "import sys\n",
    "print(sys.path)\n",
    "if 'C:\\\\Users\\\\sande\\\\SANDEEPFORAI\\\\AI_ML\\\\APPS' not in sys.path:\n",
    "    sys.path.append('C:\\\\Users\\\\sande\\\\SANDEEPFORAI\\\\AI_ML\\\\APPS')\n",
    "print(sys.path)"
   ]
  },
  {
   "cell_type": "code",
   "execution_count": null,
   "metadata": {},
   "outputs": [],
   "source": [
    "import prime1 as p2"
   ]
  },
  {
   "cell_type": "code",
   "execution_count": null,
   "metadata": {},
   "outputs": [],
   "source": [
    "p2.checkIfPrime(11)"
   ]
  },
  {
   "cell_type": "markdown",
   "metadata": {},
   "source": [
    "# <a id='Package'></a>Package\n",
    "__Package__: The package is a simple directory having collections of modules. This directory contains Python modules and also having __init__.py file by which the interpreter interprets it as a Package. The package is simply a namespace. The package also contains sub-packages inside it.\n",
    "\n",
    "<br>https://www.geeksforgeeks.org/what-is-the-difference-between-pythons-module-package-and-library/"
   ]
  },
  {
   "cell_type": "markdown",
   "metadata": {},
   "source": [
    "# <a id='Library'></a>Library\n",
    "__Library__: The library is having a collection of related functionality of codes that allows you to perform many tasks without writing your code. It is a reusable chunk of code that we can use by importing it in our program, we can just use it by importing that library and calling the method of that library with period(.)."
   ]
  },
  {
   "cell_type": "code",
   "execution_count": null,
   "metadata": {},
   "outputs": [],
   "source": [
    "# Importing pandas library and call read_csv method using alias of pandas i.e. pd\n",
    "import pandas as pd\n",
    "\n",
    "df = pd.read_csv(\"file_name.csv\")"
   ]
  },
  {
   "cell_type": "markdown",
   "metadata": {},
   "source": [
    "# <a id='File_Handling'></a>File Handling / Working with Files\n",
    "**FILE ACCESS MODES**\n",
    "\n",
    " * ***`Read Only (‘r’)`*** : It opens the text file for reading. If the file does not exists, raises I/O error.\n",
    " * ***`Read and Write (‘r+’)`*** : It opens the file for reading and writing. Raises I/O error if the file does not exists.\n",
    " * ***`Write Only (‘w’)`*** : It opens the file for writing. For existing file, the data over-written. Creates the file if the file does not exists.\n",
    " * ***`Write and Read (‘w+’)`*** : It opens the file for reading and writing. For existing file, data is truncated and over-written.\n",
    " * ***`Append Only (‘a’)`*** : It opens the file for writing. The file is created if it does not exist. The data being written will be inserted at the end, after the existing data.\n",
    " * ***`Append and Read (‘a+’)`*** : It opens the file for reading and writing. The file is created if it does not exist. The data being written will be inserted at the end, after the existing data.\n",
    "\n",
    "* read() or readline() always keeps track of pointer where it reads (at which character or line) the reads\n",
    "* close() method resets the pointer to initial position. It's always important to close the file for obvious reasons. Otherwise you can use 'with' syntax to take care of closing automatically by Python\n",
    "* seek() methods sets the position (or offset) of the pointer"
   ]
  },
  {
   "cell_type": "code",
   "execution_count": 1,
   "metadata": {
    "colab": {},
    "colab_type": "code",
    "id": "v-RDWQLShxxj"
   },
   "outputs": [],
   "source": [
    "# Open the file in read only mode.\n",
    "\n",
    "text_file = open(\"./Media/file_1.txt\", \"r\")"
   ]
  },
  {
   "cell_type": "code",
   "execution_count": 2,
   "metadata": {
    "colab": {},
    "colab_type": "code",
    "id": "6AGE86_hhxx5",
    "outputId": "deb94501-20c4-4c2f-b46d-7704d27c83e1"
   },
   "outputs": [
    {
     "data": {
      "text/plain": [
       "'This is line number 1.\\nThis is line number 2.\\nThis is line number 3.\\nThis is line number 4.\\nThis is line number 5.\\nThis is line number 6.\\nThis is line number 7.\\nThis is line number 8.\\nThis is line number 9.\\nThis is line number 10.\\nThis is line number 11.\\nThis is line number 12.\\nThis is line number 13.\\nThis is line number 14.\\nThis is line number 15.\\nThis is line number 16.\\nThis is line number 17.\\nThis is line number 18.\\nThis is line number 19.\\nThis is line number 20.\\nThis is line number 21.\\nThis is line number 22.\\nThis is line number 23.\\nThis is line number 24.\\nThis is line number 25.\\nThis is line number 26.\\nThis is line number 27.\\nThis is line number 28.\\nThis is line number 29.\\nThis is line number 30.\\n'"
      ]
     },
     "execution_count": 2,
     "metadata": {},
     "output_type": "execute_result"
    }
   ],
   "source": [
    "# read the file and store the text in a variable\n",
    "complete_text = text_file.read()\n",
    "complete_text"
   ]
  },
  {
   "cell_type": "markdown",
   "metadata": {
    "colab_type": "text",
    "id": "fHI9KsiDhxyM"
   },
   "source": [
    "***Read the file again***"
   ]
  },
  {
   "cell_type": "code",
   "execution_count": 3,
   "metadata": {
    "colab": {},
    "colab_type": "code",
    "id": "wbFhUC5yhxyS",
    "outputId": "31a45576-c478-4f52-cb6d-772c94bc96db"
   },
   "outputs": [
    {
     "data": {
      "text/plain": [
       "''"
      ]
     },
     "execution_count": 3,
     "metadata": {},
     "output_type": "execute_result"
    }
   ],
   "source": [
    "# read the file again\n",
    "complete_text = text_file.read()\n",
    "\n",
    "complete_text"
   ]
  },
  {
   "cell_type": "code",
   "execution_count": 4,
   "metadata": {
    "colab": {},
    "colab_type": "code",
    "id": "Ed_NBdXEhxyi"
   },
   "outputs": [],
   "source": [
    "'''\n",
    "As you can see we got an empty string.\n",
    "This is because the file is already opened \n",
    "and the file pointer is at the end of the file \n",
    "so one way is to close the file first to read it again.\n",
    "'''\n",
    "\n",
    "text_file.close()"
   ]
  },
  {
   "cell_type": "code",
   "execution_count": 7,
   "metadata": {
    "colab": {},
    "colab_type": "code",
    "id": "5l0294PKhxyw"
   },
   "outputs": [],
   "source": [
    "complete_text = open(\"./Media/file_1.txt\", \"r\")"
   ]
  },
  {
   "cell_type": "code",
   "execution_count": 8,
   "metadata": {
    "colab": {},
    "colab_type": "code",
    "id": "OZ_FbxMwhxy8",
    "outputId": "b8984e82-07a1-4dfb-e551-2d4203c6137e"
   },
   "outputs": [
    {
     "data": {
      "text/plain": [
       "'This is line number 1.\\nThis is line number 2.\\nThis is line number 3.\\nThis is line number 4.\\nThis is line number 5.\\nThis is line number 6.\\nThis is line number 7.\\nThis is line number 8.\\nThis is line number 9.\\nThis is line number 10.\\nThis is line number 11.\\nThis is line number 12.\\nThis is line number 13.\\nThis is line number 14.\\nThis is line number 15.\\nThis is line number 16.\\nThis is line number 17.\\nThis is line number 18.\\nThis is line number 19.\\nThis is line number 20.\\nThis is line number 21.\\nThis is line number 22.\\nThis is line number 23.\\nThis is line number 24.\\nThis is line number 25.\\nThis is line number 26.\\nThis is line number 27.\\nThis is line number 28.\\nThis is line number 29.\\nThis is line number 30.\\n'"
      ]
     },
     "execution_count": 8,
     "metadata": {},
     "output_type": "execute_result"
    }
   ],
   "source": [
    "complete_text.read()"
   ]
  },
  {
   "cell_type": "markdown",
   "metadata": {
    "colab_type": "text",
    "id": "gZJrZhPShxzI"
   },
   "source": [
    "***Another way to read the file again is by moving the pointer to the starting point again using the `seek` function***"
   ]
  },
  {
   "cell_type": "code",
   "execution_count": 9,
   "metadata": {
    "colab": {},
    "colab_type": "code",
    "id": "gQI7yWSehxzN",
    "outputId": "71bbeeeb-dc03-462f-a8d3-9ec0b4d28a73"
   },
   "outputs": [
    {
     "data": {
      "text/plain": [
       "0"
      ]
     },
     "execution_count": 9,
     "metadata": {},
     "output_type": "execute_result"
    }
   ],
   "source": [
    "complete_text.seek(0)"
   ]
  },
  {
   "cell_type": "code",
   "execution_count": 10,
   "metadata": {
    "colab": {},
    "colab_type": "code",
    "id": "BUMzpDFuhxzc",
    "outputId": "55119180-93a3-43b5-a00c-ba77c027919c"
   },
   "outputs": [
    {
     "data": {
      "text/plain": [
       "'This is line number 1.\\nThis is line number 2.\\nThis is line number 3.\\nThis is line number 4.\\nThis is line number 5.\\nThis is line number 6.\\nThis is line number 7.\\nThis is line number 8.\\nThis is line number 9.\\nThis is line number 10.\\nThis is line number 11.\\nThis is line number 12.\\nThis is line number 13.\\nThis is line number 14.\\nThis is line number 15.\\nThis is line number 16.\\nThis is line number 17.\\nThis is line number 18.\\nThis is line number 19.\\nThis is line number 20.\\nThis is line number 21.\\nThis is line number 22.\\nThis is line number 23.\\nThis is line number 24.\\nThis is line number 25.\\nThis is line number 26.\\nThis is line number 27.\\nThis is line number 28.\\nThis is line number 29.\\nThis is line number 30.\\n'"
      ]
     },
     "execution_count": 10,
     "metadata": {},
     "output_type": "execute_result"
    }
   ],
   "source": [
    "complete_text.read()"
   ]
  },
  {
   "cell_type": "markdown",
   "metadata": {
    "colab_type": "text",
    "id": "j70sULbFhxzn"
   },
   "source": [
    "***Using the `seek` function, we can move to any point in the file and read the file.***"
   ]
  },
  {
   "cell_type": "code",
   "execution_count": 11,
   "metadata": {
    "colab": {},
    "colab_type": "code",
    "id": "UPaghT12hxzr",
    "outputId": "baf9fb05-71c9-4ffd-f789-7755175e4330"
   },
   "outputs": [
    {
     "data": {
      "text/plain": [
       "300"
      ]
     },
     "execution_count": 11,
     "metadata": {},
     "output_type": "execute_result"
    }
   ],
   "source": [
    "# read from 300th character in the file\n",
    "complete_text.seek(300)"
   ]
  },
  {
   "cell_type": "code",
   "execution_count": 12,
   "metadata": {
    "colab": {},
    "colab_type": "code",
    "id": "C0kOqSANhxz6",
    "outputId": "7f33e47b-c170-463c-a235-476eac0a5ea0"
   },
   "outputs": [
    {
     "data": {
      "text/plain": [
       "'3.\\nThis is line number 14.\\nThis is line number 15.\\nThis is line number 16.\\nThis is line number 17.\\nThis is line number 18.\\nThis is line number 19.\\nThis is line number 20.\\nThis is line number 21.\\nThis is line number 22.\\nThis is line number 23.\\nThis is line number 24.\\nThis is line number 25.\\nThis is line number 26.\\nThis is line number 27.\\nThis is line number 28.\\nThis is line number 29.\\nThis is line number 30.\\n'"
      ]
     },
     "execution_count": 12,
     "metadata": {},
     "output_type": "execute_result"
    }
   ],
   "source": [
    "# read the file\n",
    "complete_text.read()"
   ]
  },
  {
   "cell_type": "code",
   "execution_count": 13,
   "metadata": {
    "colab": {},
    "colab_type": "code",
    "id": "FwgOwcW1hx0G"
   },
   "outputs": [],
   "source": [
    "# close the file\n",
    "complete_text.close()"
   ]
  },
  {
   "cell_type": "markdown",
   "metadata": {
    "colab_type": "text",
    "id": "VkZ_OMzWhx0T"
   },
   "source": [
    "***Read the file line by line***"
   ]
  },
  {
   "cell_type": "code",
   "execution_count": 14,
   "metadata": {
    "colab": {},
    "colab_type": "code",
    "id": "53iUSxefhx0U",
    "outputId": "8115acf9-3100-4c02-f370-370ff086e006"
   },
   "outputs": [
    {
     "name": "stdout",
     "output_type": "stream",
     "text": [
      "No of lines in file is  30\n"
     ]
    }
   ],
   "source": [
    "# read the file again store each line in a list\n",
    "text_file = open(\"./Media/file_1.txt\", \"r\")\n",
    "\n",
    "lines = text_file.readlines()\n",
    "\n",
    "# no of lines\n",
    "print('No of lines in file is ',format(len(lines)))"
   ]
  },
  {
   "cell_type": "code",
   "execution_count": 15,
   "metadata": {
    "colab": {},
    "colab_type": "code",
    "id": "TXiZwNbzhx0e",
    "outputId": "4b4c5748-df7c-459b-d44a-6336037999fe"
   },
   "outputs": [
    {
     "name": "stdout",
     "output_type": "stream",
     "text": [
      "This is line number 1.\n",
      "\n",
      "This is line number 2.\n",
      "\n",
      "This is line number 3.\n",
      "\n",
      "This is line number 4.\n",
      "\n",
      "This is line number 5.\n",
      "\n",
      "This is line number 6.\n",
      "\n",
      "This is line number 7.\n",
      "\n",
      "This is line number 8.\n",
      "\n",
      "This is line number 9.\n",
      "\n",
      "This is line number 10.\n",
      "\n",
      "This is line number 11.\n",
      "\n",
      "This is line number 12.\n",
      "\n",
      "This is line number 13.\n",
      "\n",
      "This is line number 14.\n",
      "\n",
      "This is line number 15.\n",
      "\n",
      "This is line number 16.\n",
      "\n",
      "This is line number 17.\n",
      "\n",
      "This is line number 18.\n",
      "\n",
      "This is line number 19.\n",
      "\n",
      "This is line number 20.\n",
      "\n",
      "This is line number 21.\n",
      "\n",
      "This is line number 22.\n",
      "\n",
      "This is line number 23.\n",
      "\n",
      "This is line number 24.\n",
      "\n",
      "This is line number 25.\n",
      "\n",
      "This is line number 26.\n",
      "\n",
      "This is line number 27.\n",
      "\n",
      "This is line number 28.\n",
      "\n",
      "This is line number 29.\n",
      "\n",
      "This is line number 30.\n",
      "\n"
     ]
    }
   ],
   "source": [
    "# print each line text\n",
    "for line in lines :\n",
    "    print(line)\n",
    "\n",
    "# close the file\n",
    "text_file.close()"
   ]
  },
  {
   "cell_type": "markdown",
   "metadata": {
    "colab_type": "text",
    "id": "eJfAiMhVhx0q"
   },
   "source": [
    "***Another way to read text files***  - This is Preferred Method"
   ]
  },
  {
   "cell_type": "code",
   "execution_count": 16,
   "metadata": {
    "colab": {},
    "colab_type": "code",
    "id": "FtecXDR0hx0t"
   },
   "outputs": [],
   "source": [
    "with open('./Media/file_1.txt','r') as f:\n",
    "    complete_text =  f.read()"
   ]
  },
  {
   "cell_type": "code",
   "execution_count": 17,
   "metadata": {
    "colab": {},
    "colab_type": "code",
    "id": "XjnIjU2Khx03",
    "outputId": "1b132a60-fc84-4005-aa77-8004ea50c8c1"
   },
   "outputs": [
    {
     "data": {
      "text/plain": [
       "'This is line number 1.\\nThis is line number 2.\\nThis is line number 3.\\nThis is line number 4.\\nThis is line number 5.\\nThis is line number 6.\\nThis is line number 7.\\nThis is line number 8.\\nThis is line number 9.\\nThis is line number 10.\\nThis is line number 11.\\nThis is line number 12.\\nThis is line number 13.\\nThis is line number 14.\\nThis is line number 15.\\nThis is line number 16.\\nThis is line number 17.\\nThis is line number 18.\\nThis is line number 19.\\nThis is line number 20.\\nThis is line number 21.\\nThis is line number 22.\\nThis is line number 23.\\nThis is line number 24.\\nThis is line number 25.\\nThis is line number 26.\\nThis is line number 27.\\nThis is line number 28.\\nThis is line number 29.\\nThis is line number 30.\\n'"
      ]
     },
     "execution_count": 17,
     "metadata": {},
     "output_type": "execute_result"
    }
   ],
   "source": [
    "complete_text"
   ]
  },
  {
   "cell_type": "markdown",
   "metadata": {
    "colab_type": "text",
    "id": "8OITSz2nhx1A"
   },
   "source": [
    "***Using `with` statement, python will automatically closes the file after reading it.***"
   ]
  },
  {
   "cell_type": "markdown",
   "metadata": {
    "colab_type": "text",
    "id": "Jc8qx8aChx1D"
   },
   "source": [
    "#### `WRITING TEXT FILES`"
   ]
  },
  {
   "cell_type": "code",
   "execution_count": 18,
   "metadata": {
    "colab": {},
    "colab_type": "code",
    "id": "MvTcwOMKhx1F",
    "outputId": "72a9048f-0959-4b47-e96c-accf8c08188b"
   },
   "outputs": [
    {
     "data": {
      "text/plain": [
       "24"
      ]
     },
     "execution_count": 18,
     "metadata": {},
     "output_type": "execute_result"
    }
   ],
   "source": [
    "# let's open a file in write only mode\n",
    "my_file = open('./Media/file_1.txt','w')\n",
    "\n",
    "# write function will return the length of text written in the file.\n",
    "my_file.write('Data Science is Awesome!')"
   ]
  },
  {
   "cell_type": "markdown",
   "metadata": {
    "colab_type": "text",
    "id": "s6RK7oF9hx1P"
   },
   "source": [
    "***`write` function will return the number of characters written in the file.***\n",
    "\n",
    "___"
   ]
  },
  {
   "cell_type": "code",
   "execution_count": 19,
   "metadata": {
    "colab": {},
    "colab_type": "code",
    "id": "FFQyZ40-hx1R",
    "outputId": "e12f65d9-245f-405f-fc4e-388311c008fe"
   },
   "outputs": [
    {
     "data": {
      "text/plain": [
       "'Data Science is Awesome!'"
      ]
     },
     "execution_count": 19,
     "metadata": {},
     "output_type": "execute_result"
    }
   ],
   "source": [
    "# open the file write and read mode\n",
    "my_file = open('./Media/file_1.txt','w+')\n",
    "#  read the file \n",
    "my_file.read()"
   ]
  },
  {
   "cell_type": "code",
   "execution_count": 20,
   "metadata": {
    "colab": {},
    "colab_type": "code",
    "id": "NqUWMsw6hx1a"
   },
   "outputs": [],
   "source": [
    "# close the file\n",
    "my_file.close()"
   ]
  },
  {
   "cell_type": "code",
   "execution_count": 21,
   "metadata": {
    "colab": {},
    "colab_type": "code",
    "id": "-MtvfJO4hx1l"
   },
   "outputs": [],
   "source": [
    "# Now, add some lines to the file again\n",
    "\n",
    "my_file = open('./Media/file_1.txt','w+')"
   ]
  },
  {
   "cell_type": "code",
   "execution_count": 22,
   "metadata": {
    "colab": {},
    "colab_type": "code",
    "id": "51gSiFNDhx1s"
   },
   "outputs": [],
   "source": [
    "# create a list of strings\n",
    "lines = ['Line 1','Line 2','Line 3','Line 4']\n",
    "my_file.writelines(lines)"
   ]
  },
  {
   "cell_type": "code",
   "execution_count": 23,
   "metadata": {
    "colab": {},
    "colab_type": "code",
    "id": "3ZwdGrArhx10",
    "outputId": "283cab6c-93ac-4edc-bb62-6dadcac94696"
   },
   "outputs": [
    {
     "name": "stdout",
     "output_type": "stream",
     "text": [
      "Line 1Line 2Line 3Line 4\n"
     ]
    }
   ],
   "source": [
    "# take the pointer to the initial position\n",
    "my_file.seek(0)\n",
    "# read the data\n",
    "print(my_file.read())\n",
    "my_file.close()"
   ]
  },
  {
   "cell_type": "markdown",
   "metadata": {
    "colab_type": "text",
    "id": "t8_vbKFOhx19"
   },
   "source": [
    "***The content is overwritten when we tried to write again on the same file***\n",
    "\n",
    "---\n",
    "\n",
    "####  `APPEND TEXT IN FILE`"
   ]
  },
  {
   "cell_type": "code",
   "execution_count": 24,
   "metadata": {
    "colab": {},
    "colab_type": "code",
    "id": "aOlqrSXdhx2A"
   },
   "outputs": [
    {
     "data": {
      "text/plain": [
       "'Line 1Line 2Line 3Line 4Welcome to the python course'"
      ]
     },
     "execution_count": 24,
     "metadata": {},
     "output_type": "execute_result"
    }
   ],
   "source": [
    "# open the file in the append and read mode.\n",
    "my_file = open('./Media/file_1.txt','a+')\n",
    "\n",
    "my_file.write('Welcome to the python course')\n",
    "#  take the pointer to the initial position of the file\n",
    "my_file.seek(0)\n",
    "\n",
    "# read the file\n",
    "my_file.read()"
   ]
  },
  {
   "cell_type": "code",
   "execution_count": null,
   "metadata": {},
   "outputs": [],
   "source": [
    "# Opening and Reading Text Files\n",
    "f = open('myfile.txt','r')\n",
    "print(f.readline())\n",
    "print(f.readline())\n",
    "print(f.readline())\n",
    "f.close()"
   ]
  },
  {
   "cell_type": "code",
   "execution_count": null,
   "metadata": {},
   "outputs": [],
   "source": [
    "x = open('/Users/sandeepputtur/Desktop/myfilemac.txt','r+')\n",
    "f = open('myfile.txt','r')\n",
    "print(f.readline())       #This adds \\n character to everyline\n",
    "print(f.readline(),end = '')\n",
    "print(f.readline(),end = '')\n",
    "mf = open('myfile.txt','r')\n",
    "\n",
    "# Using a For Loop to Read Text Files\n",
    "\n",
    "# Method 1: Using readline() function\n",
    "for line in mf:\n",
    "    print(mf.readline(),end = '')\n",
    "mf.close()\n",
    "\n",
    "# Method 2: Without using readline() function\n",
    "for line in mf:\n",
    "    print(line)\n",
    "mf.close()"
   ]
  },
  {
   "cell_type": "code",
   "execution_count": null,
   "metadata": {},
   "outputs": [],
   "source": [
    "# Writing to a Text file\n",
    "f = open('newfile.txt','w')\n",
    "f.write('Sandeep is good boy')\n",
    "f.close()"
   ]
  },
  {
   "cell_type": "code",
   "execution_count": null,
   "metadata": {},
   "outputs": [],
   "source": [
    "f = open('newfile.txt','r')\n",
    "print(f.readline())"
   ]
  },
  {
   "cell_type": "code",
   "execution_count": null,
   "metadata": {},
   "outputs": [],
   "source": [
    "f = open('newfile.txt','a')\n",
    "f.write('This line will be appended')\n",
    "f.write('\\nPython is Fun')\n",
    "f.close()"
   ]
  },
  {
   "cell_type": "code",
   "execution_count": null,
   "metadata": {},
   "outputs": [],
   "source": [
    "f = open('newfile.txt','r')\n",
    "print(f.readline())\n",
    "print(f.readline())"
   ]
  },
  {
   "cell_type": "code",
   "execution_count": null,
   "metadata": {},
   "outputs": [],
   "source": [
    "# Opening and Reading Text Files by Buffer Size\n",
    "inputfile = open('myfile.txt','r')\n",
    "outputfile = open('newoutfile.txt','w')\n",
    "msg = inputfile.read(10)\n",
    "while len(msg):\n",
    "    outputfile.write(msg)    # If you want to add newline at the end then 'outputfile.write(msg + '\\n')'\n",
    "    msg = inputfile.read(10)\n",
    "inputfile.close()\n",
    "outputfile.close()"
   ]
  },
  {
   "cell_type": "code",
   "execution_count": null,
   "metadata": {},
   "outputs": [],
   "source": [
    "l = open('myfile.txt','r')\n",
    "for line in l:\n",
    "    print(l.readline())\n",
    "l.close()\n",
    "\n",
    "import os\n",
    "os.rename('myfile.txt','myfile3.txt')       # rename(old_name, new_name)  (i.e., old_name ----> new_name)\n",
    "os.remove('myfile3.txt')"
   ]
  },
  {
   "cell_type": "code",
   "execution_count": null,
   "metadata": {},
   "outputs": [],
   "source": [
    "msg = open('myfilenew.txt','r')\n",
    "outfile = open('myoutfile','w')\n",
    "outfile.write(msg.read(10))\n",
    "msg.close()\n",
    "outfile.close()"
   ]
  },
  {
   "cell_type": "code",
   "execution_count": null,
   "metadata": {},
   "outputs": [],
   "source": [
    "img_in = open('testimg.JPG','rb')\n",
    "img_out = open('temptestimg.JPG','wb')\n",
    "dta = img_in.read(10)\n",
    "while len(dta):\n",
    "    img_out.write(dta)\n",
    "    dta = img_in.read(10)\n",
    "img_in.close()\n",
    "img_out.close()"
   ]
  },
  {
   "cell_type": "code",
   "execution_count": null,
   "metadata": {},
   "outputs": [],
   "source": [
    "import os\n",
    "os.rename('temptestimg.JPG','temptestimgnew.JPG')        # rename(old_name, new_name)  (i.e., old_name ----> new_name) "
   ]
  },
  {
   "cell_type": "code",
   "execution_count": null,
   "metadata": {},
   "outputs": [],
   "source": [
    "os.remove('temptestimgnew.JPG')"
   ]
  },
  {
   "cell_type": "markdown",
   "metadata": {},
   "source": [
    "# <a id='Object_Oriented_Programming'></a>Object Oriented Programming"
   ]
  },
  {
   "cell_type": "markdown",
   "metadata": {},
   "source": [
    "## Class Example"
   ]
  },
  {
   "cell_type": "code",
   "execution_count": 178,
   "metadata": {},
   "outputs": [
    {
     "name": "stdout",
     "output_type": "stream",
     "text": [
      "Initialized an object\n",
      "Name: Sandeep, Position:Basic, Pay:0\n",
      "Enter the per hour rate700\n",
      "Enter the number of hours worked40\n",
      "Name: Sandeep, Position:Manager, Pay:28000\n"
     ]
    }
   ],
   "source": [
    "class Staff:\n",
    "    def __init__(self,pName,pPosition,pPay):           #Special Method\n",
    "        self._name=pName\n",
    "        self._position=pPosition\n",
    "        self._pay=pPay\n",
    "        print('Initialized an object')\n",
    "    def __str__(self):                              #Special Method\n",
    "        return('Name: %s, Position:%s, Pay:%d'%(self._name,self._position,self._pay))\n",
    "    def calculatePay(self):\n",
    "        perhour = int(input('Enter the per hour rate'))\n",
    "        numberhours = int(input('Enter the number of hours worked'))\n",
    "        self._pay = perhour * numberhours\n",
    "        return(self._pay)\n",
    "\n",
    "officeStaff = Staff('Sandeep','Basic',0)                   #Instanciating an Object\n",
    "print(officeStaff)\n",
    "officeStaff.calculatePay()\n",
    "officeStaff._position = 'Manager'\n",
    "print(officeStaff)"
   ]
  },
  {
   "cell_type": "markdown",
   "metadata": {},
   "source": [
    "## Property Example"
   ]
  },
  {
   "cell_type": "code",
   "execution_count": 177,
   "metadata": {},
   "outputs": [
    {
     "name": "stdout",
     "output_type": "stream",
     "text": [
      "Initialized an object\n",
      "Name: Sandeep, Position:Basic, Pay:0\n",
      "Invalid Position. No Changes made to the Position\n",
      "Name: Sandeep, Position:Basic, Pay:0\n",
      "Name: Sandeep, Position:CEO, Pay:0\n"
     ]
    }
   ],
   "source": [
    "class Staff:\n",
    "    @property     #This is called decorator\n",
    "    def position(self):\n",
    "        print('\\nGetter Method')\n",
    "        return (self._position)\n",
    "    @position.setter\n",
    "    def position(self,value):\n",
    "        if value == 'Basic' or value == 'Manager':\n",
    "            self._position=value\n",
    "        else:\n",
    "            print('Invalid Position. No Changes made to the Position')\n",
    "    def __init__(self,pName,pPosition,pPay):   #Special Method\n",
    "        self._name=pName\n",
    "        self._position=pPosition\n",
    "        self._pay=pPay\n",
    "        print('Initialized an object')\n",
    "    def __str__(self):               #Special Method\n",
    "        return('Name: %s, Position:%s, Pay:%d'%(self._name,self._position,self._pay))\n",
    "    def calculatePay(self):\n",
    "        perhour = int(input('Enter the per hour rate'))\n",
    "        numberhours = int(input('Enter the number of hours worked'))\n",
    "        self._pay = perhour * numberhours\n",
    "        return(self._pay)\n",
    "\n",
    "officeStaff = Staff('Sandeep','Basic',0)\n",
    "print(officeStaff)\n",
    "officeStaff.position = 'CEO'\n",
    "print(officeStaff)\n",
    "officeStaff._position = 'CEO'      #Forcing to override the property\n",
    "print(officeStaff)"
   ]
  },
  {
   "cell_type": "markdown",
   "metadata": {},
   "source": [
    "## Name Mangling\n",
    "__Note__: Name Mangling is working in Jupyter Notebook only if all the code is present in single cell rather than multiple cells"
   ]
  },
  {
   "cell_type": "code",
   "execution_count": 178,
   "metadata": {},
   "outputs": [
    {
     "name": "stdout",
     "output_type": "stream",
     "text": [
      "Var A value is 10\n",
      "Var A value is 10\n",
      "Var A value is 20\n"
     ]
    }
   ],
   "source": [
    "class A:\n",
    "    def __init__(self,value):\n",
    "        self.__nm = int(value)\n",
    "    def __str__(self):\n",
    "        return('Var A value is %d'%self.__nm)\n",
    "varA = A(10)\n",
    "print(varA)\n",
    "varA.__nm = 20     #Python uses Name Mangling and hence value remains unchanged\n",
    "print(varA)\n",
    "varA._A__nm = 20   #Forcing to override the Name Mangling\n",
    "print(varA)"
   ]
  },
  {
   "cell_type": "markdown",
   "metadata": {},
   "source": [
    "## Self, Class Variables vs Instance Variables"
   ]
  },
  {
   "cell_type": "code",
   "execution_count": 179,
   "metadata": {},
   "outputs": [
    {
     "name": "stdout",
     "output_type": "stream",
     "text": [
      "Company Name is Programming Lab and Salary is 1000\n",
      "Company Name is Programming Lab and Salary is 2000\n",
      "Company Name is Programming School and Salary is 1000\n",
      "Company Name is Programming School and Salary is 2000\n",
      "Company Name is Programming School and Salary is 2000\n",
      "Company Name is Programming School and Salary is 2000\n"
     ]
    }
   ],
   "source": [
    "class ProgSchool:\n",
    "    companyName = 'Programming Lab'  #Class Variable\n",
    "    def __init__(self,pSalary):\n",
    "        self._salary = pSalary\n",
    "    def printInfo(self):\n",
    "        print('Company Name is %s and Salary is %d'%(ProgSchool.companyName,self._salary))\n",
    "john = ProgSchool(1000)\n",
    "ramu = ProgSchool(2000)\n",
    "john.printInfo()\n",
    "ramu.printInfo()\n",
    "ProgSchool.companyName = 'Programming School'   #Modifying Class Variable\n",
    "john.printInfo()\n",
    "ramu.printInfo()\n",
    "john._salary =  2000  #Modifying Instance Variable\n",
    "john.printInfo()\n",
    "ramu.printInfo()"
   ]
  },
  {
   "cell_type": "markdown",
   "metadata": {},
   "source": [
    "## Class Method and Static Method"
   ]
  },
  {
   "cell_type": "code",
   "execution_count": 180,
   "metadata": {},
   "outputs": [],
   "source": [
    "class MethodDemo:\n",
    "    a = 1\n",
    "    @classmethod\n",
    "    def classM(cls):\n",
    "        print('Class Method cls.a =%d'%cls.a)\n",
    "    @staticmethod\n",
    "    def staticM():\n",
    "        print('Static Method')"
   ]
  },
  {
   "cell_type": "code",
   "execution_count": 181,
   "metadata": {},
   "outputs": [
    {
     "name": "stdout",
     "output_type": "stream",
     "text": [
      "Class Method cls.a =1\n",
      "Static Method\n"
     ]
    }
   ],
   "source": [
    "cmd1 = MethodDemo()    #call class method using class name\n",
    "cmd1.classM()\n",
    "smd1 = MethodDemo()    #call static method using class name\n",
    "smd1.staticM()"
   ]
  },
  {
   "cell_type": "code",
   "execution_count": 182,
   "metadata": {},
   "outputs": [
    {
     "name": "stdout",
     "output_type": "stream",
     "text": [
      "Class Method cls.a =1\n",
      "Static Method\n"
     ]
    }
   ],
   "source": [
    "cmd2 = MethodDemo.classM() #call class method using instance name. This is exactly similar to calling instance Method. see below example\n",
    "smd2 = MethodDemo.staticM() #call static method using instance name. This is exactly similar to calling instance Method. see below example"
   ]
  },
  {
   "cell_type": "code",
   "execution_count": 183,
   "metadata": {},
   "outputs": [],
   "source": [
    "class ProgSchool1:\n",
    "    companyName = 'Programming Lab'  #Class Variable\n",
    "    def __init__(self,sal):\n",
    "        self._sal = sal\n",
    "    def printInfo(self):      # This is an example of Static method\n",
    "        print('Company Name is %s and salary is %d'%(ProgSchool1.companyName,self._sal))\n",
    "        return 'Chennai'"
   ]
  },
  {
   "cell_type": "code",
   "execution_count": 184,
   "metadata": {},
   "outputs": [
    {
     "name": "stdout",
     "output_type": "stream",
     "text": [
      "Company Name is Programming Lab and salary is 100\n",
      "Chennai\n"
     ]
    }
   ],
   "source": [
    "location = ProgSchool1(100).printInfo()\n",
    "print(location)"
   ]
  },
  {
   "cell_type": "markdown",
   "metadata": {},
   "source": [
    "## Child Class with inheritance, overridden and upgradation"
   ]
  },
  {
   "cell_type": "code",
   "execution_count": 185,
   "metadata": {},
   "outputs": [
    {
     "name": "stdout",
     "output_type": "stream",
     "text": [
      "Initialized an object\n",
      "Initialized an object\n",
      "Name: Jackson, Position: Manager, Pay: 0, Allowance: 2000, Bonus: 0\n",
      "Enter the per hour rate80\n",
      "Enter the number of hours worked40\n",
      "5200\n",
      "Enter the Gradea\n",
      "1000\n",
      "Name: Jackson, Position: Manager, Pay: 5200, Allowance: 2000, Bonus: 1000\n"
     ]
    }
   ],
   "source": [
    "class ManagementStaff(Staff):\n",
    "    def __init__(self,pName,pPay,pAllowance,pBonus):       #Overriding happens\n",
    "        super().__init__(pName,'Manager',pPay)      #Inherited _name,_pay\n",
    "        self.allowance = pAllowance\n",
    "        self.bonus = pBonus\n",
    "    def calculatePay(self):         #Overriding happens\n",
    "        basicPay = super().calculatePay()       #basicPay is a local variable\n",
    "        self._pay = basicPay + self.allowance\n",
    "        return(self._pay)\n",
    "    def __str__(self):\n",
    "        return('Name: %s, Position: %s, Pay: %d, Allowance: %s, Bonus: %s'%(self._name,self._position,self._pay,self.allowance,self.bonus))\n",
    "    def calculatePerfBonus(self):\n",
    "        grade = input('Enter the Grade')\n",
    "        if grade == 'A' or 'a':\n",
    "            self.bonus = 1000\n",
    "        else:\n",
    "            self.bonus = 0\n",
    "        return self.bonus\n",
    "        \n",
    "ust1 = ManagementStaff('Jackson',0,2000,0)\n",
    "ust2 = Staff('Sandeep','Basic',1000)\n",
    "print(ust1)\n",
    "print(ust1.calculatePay())\n",
    "print(ust1.calculatePerfBonus())\n",
    "print(ust1)"
   ]
  },
  {
   "cell_type": "code",
   "execution_count": 186,
   "metadata": {},
   "outputs": [],
   "source": [
    "# Above example with Nested Function\n",
    "class Staff:\n",
    "    @property\n",
    "    def position(self):\n",
    "        print('Getter Method')\n",
    "        return(self._position)\n",
    "    @position.setter\n",
    "    def position(self,value):\n",
    "        if value == 'Manager' or value == 'Basic':\n",
    "            self._position = value\n",
    "        else:\n",
    "            print('Invalid position and please enter the valid position')\n",
    "    def __init__(self,pName,pPosition,pPay):\n",
    "        self._name = pName\n",
    "        self._position = pPosition\n",
    "        self._pay = pPay\n",
    "    def __str__(self):\n",
    "        return('Name: %s, Position: %s, Pay: %d'%(self._name,self._position,self._pay))\n",
    "    def calculatePay(self):\n",
    "        noh = int(input('Enter the number of hours worked per week'))\n",
    "        perHR = int(input('Enter the per Hour Rate'))          \n",
    "        self._pay = noh * perHR\n",
    "        return(self._pay)\n",
    "\n",
    "class ManagerStaff(Staff):\n",
    "    def __init__(self,pName,pPay,pAllowance):\n",
    "        super().__init__(pName,'Manager',pPay) # Overriding Method\n",
    "        self._allowance = pAllowance\n",
    "    def __str__(self):\n",
    "         return('Name: %s, Position: %s, Pay: %d, Allowance: %d'%(self._name,self._position,self._pay,self._allowance))\n",
    "    def calculatePerfBonus(self):         # This method will not be revealed outside class and it's called Encapsulation\n",
    "        grade = input('Enter the Grade')\n",
    "        if grade == 'A' or grade == 'a':\n",
    "            return(1000)\n",
    "        else:\n",
    "            return(0)\n",
    "    def calculatePay(self):       # Overriding Method\n",
    "        basicpay = super().calculatePay()\n",
    "        bonus = self.calculatePerfBonus()   # Nested Function or Encapsulation. Just like you access variable you access method with .self\n",
    "        self._pay =  basicpay + bonus + self._allowance   # Overriding variable\n"
   ]
  },
  {
   "cell_type": "code",
   "execution_count": 187,
   "metadata": {},
   "outputs": [
    {
     "name": "stdout",
     "output_type": "stream",
     "text": [
      "Name: Sandeep, Position: Manager, Pay: 0, Allowance: 500\n",
      "Enter the number of hours worked per week45\n",
      "Enter the per Hour Rate50\n",
      "Enter the GradeA\n",
      "Name: Sandeep, Position: Manager, Pay: 3750, Allowance: 500\n"
     ]
    }
   ],
   "source": [
    "stf1 = ManagerStaff('Sandeep',0,500)\n",
    "print(stf1)\n",
    "stf1.calculatePay()\n",
    "print(stf1)"
   ]
  },
  {
   "cell_type": "markdown",
   "metadata": {},
   "source": [
    "## Child Class with just inheritance and overridding"
   ]
  },
  {
   "cell_type": "code",
   "execution_count": 188,
   "metadata": {},
   "outputs": [
    {
     "name": "stdout",
     "output_type": "stream",
     "text": [
      "Name: Jithin, Position: Basic, Pay: 1000\n"
     ]
    }
   ],
   "source": [
    "class BasicStaff(Staff):\n",
    "    def __init__(self,pName,pPay):\n",
    "        super().__init__(pName,'Basic',pPay)\n",
    "ust2 = BasicStaff('Jithin',1000)\n",
    "print(ust2)"
   ]
  },
  {
   "cell_type": "markdown",
   "metadata": {},
   "source": [
    "# <a id='Python_Built-in_Methods'></a>Python Built-in Methods\n",
    "<br>https://www.geeksforgeeks.org/difference-method-function-python/\n",
    "* Method is called by its name, but it is associated to an object (dependent).\n",
    "* A method is implicitly passed the object on which it is invoked.\n",
    "* It may or may not return any data.\n",
    "* A method can operate on the data (instance variables) that is contained by the corresponding class"
   ]
  },
  {
   "cell_type": "markdown",
   "metadata": {},
   "source": [
    "<br> __isinstance(object,class)__\n",
    "<br> __issubclass(class,class)__\n",
    "<br> __hasattr(object,'attribute')__    # Attribute - variable or method has to be in single quotes. Never ever forget it."
   ]
  },
  {
   "cell_type": "code",
   "execution_count": 192,
   "metadata": {},
   "outputs": [],
   "source": [
    "class ParentClass:\n",
    "    def __init__(self):\n",
    "        self.a = 1\n",
    "        print('Parent Object Initiated')\n",
    "    def someMethod(self):\n",
    "        print('Hello')\n",
    "class ChildClass(ParentClass):\n",
    "    def __init__(self):\n",
    "        print('Child Object Initiated')"
   ]
  },
  {
   "cell_type": "code",
   "execution_count": 193,
   "metadata": {},
   "outputs": [
    {
     "name": "stdout",
     "output_type": "stream",
     "text": [
      "Parent Object Initiated\n",
      "Child Object Initiated\n"
     ]
    }
   ],
   "source": [
    "parent = ParentClass()\n",
    "child = ChildClass()"
   ]
  },
  {
   "cell_type": "code",
   "execution_count": 194,
   "metadata": {},
   "outputs": [
    {
     "data": {
      "text/plain": [
       "True"
      ]
     },
     "execution_count": 194,
     "metadata": {},
     "output_type": "execute_result"
    }
   ],
   "source": [
    "isinstance(child,ParentClass)"
   ]
  },
  {
   "cell_type": "code",
   "execution_count": 195,
   "metadata": {},
   "outputs": [
    {
     "data": {
      "text/plain": [
       "True"
      ]
     },
     "execution_count": 195,
     "metadata": {},
     "output_type": "execute_result"
    }
   ],
   "source": [
    "isinstance(child,ChildClass)"
   ]
  },
  {
   "cell_type": "code",
   "execution_count": 196,
   "metadata": {},
   "outputs": [
    {
     "data": {
      "text/plain": [
       "True"
      ]
     },
     "execution_count": 196,
     "metadata": {},
     "output_type": "execute_result"
    }
   ],
   "source": [
    "issubclass(ChildClass,ParentClass)"
   ]
  },
  {
   "cell_type": "code",
   "execution_count": 197,
   "metadata": {},
   "outputs": [
    {
     "data": {
      "text/plain": [
       "False"
      ]
     },
     "execution_count": 197,
     "metadata": {},
     "output_type": "execute_result"
    }
   ],
   "source": [
    "issubclass(ParentClass,ChildClass)"
   ]
  },
  {
   "cell_type": "code",
   "execution_count": 198,
   "metadata": {},
   "outputs": [
    {
     "data": {
      "text/plain": [
       "False"
      ]
     },
     "execution_count": 198,
     "metadata": {},
     "output_type": "execute_result"
    }
   ],
   "source": [
    "isinstance(parent,ChildClass)"
   ]
  },
  {
   "cell_type": "code",
   "execution_count": 199,
   "metadata": {},
   "outputs": [
    {
     "data": {
      "text/plain": [
       "True"
      ]
     },
     "execution_count": 199,
     "metadata": {},
     "output_type": "execute_result"
    }
   ],
   "source": [
    "hasattr(parent,'a')"
   ]
  },
  {
   "cell_type": "code",
   "execution_count": 200,
   "metadata": {},
   "outputs": [
    {
     "data": {
      "text/plain": [
       "False"
      ]
     },
     "execution_count": 200,
     "metadata": {},
     "output_type": "execute_result"
    }
   ],
   "source": [
    "hasattr(parent,'b')"
   ]
  },
  {
   "cell_type": "code",
   "execution_count": 201,
   "metadata": {},
   "outputs": [
    {
     "data": {
      "text/plain": [
       "True"
      ]
     },
     "execution_count": 201,
     "metadata": {},
     "output_type": "execute_result"
    }
   ],
   "source": [
    "hasattr(parent,'someMethod')"
   ]
  },
  {
   "cell_type": "markdown",
   "metadata": {},
   "source": [
    "# <a id='Platform_Specific_Methods'></a>Platform Specific Methods"
   ]
  },
  {
   "cell_type": "code",
   "execution_count": 2,
   "metadata": {},
   "outputs": [],
   "source": [
    "import platform"
   ]
  },
  {
   "cell_type": "code",
   "execution_count": 3,
   "metadata": {},
   "outputs": [
    {
     "data": {
      "text/plain": [
       "'3.8.8'"
      ]
     },
     "execution_count": 3,
     "metadata": {},
     "output_type": "execute_result"
    }
   ],
   "source": [
    "# VIMP\n",
    "platform.python_version()"
   ]
  },
  {
   "cell_type": "code",
   "execution_count": 4,
   "metadata": {},
   "outputs": [],
   "source": [
    "import sys"
   ]
  },
  {
   "cell_type": "code",
   "execution_count": 5,
   "metadata": {},
   "outputs": [
    {
     "data": {
      "text/plain": [
       "'3.8.8 (default, Apr 13 2021, 15:08:03) [MSC v.1916 64 bit (AMD64)]'"
      ]
     },
     "execution_count": 5,
     "metadata": {},
     "output_type": "execute_result"
    }
   ],
   "source": [
    "sys.version"
   ]
  },
  {
   "cell_type": "markdown",
   "metadata": {},
   "source": [
    "# <a id='Python_Special_Methods'></a>Python Special Methods\n",
    "<b> Python comes with a large number of special methods. These methods are also known as magic methods and are always surrounded by double underscores. Two of the magic methods that we have encountered so far are __init__ and __str__. One of the magical properties of a special method is that you do not need to invoke it directly.\n",
    "There is a special method for every operator sign. We can override the corresponding special method to provide even more meaning to them. This is known as __overloading the operators__. The special methods for +, -, *, / are __add__, __sub__, __mul__ and __div__ respectively."
   ]
  },
  {
   "cell_type": "code",
   "execution_count": null,
   "metadata": {},
   "outputs": [],
   "source": [
    "'''There is a special method for every operator sign. We can override the corresponding special method to provide even more meaning to \n",
    "them. This is known as overloading the operators. The special methods for +, -, *, / are __add__, __sub__, __mul__ and __div__ \n",
    "respectively.'''\n",
    "\n",
    "print(officeStaff1.__str__())  # Instead, you simply write print(officeStaff1)\n"
   ]
  },
  {
   "cell_type": "code",
   "execution_count": 191,
   "metadata": {},
   "outputs": [
    {
     "name": "stdout",
     "output_type": "stream",
     "text": [
      "5200\n",
      "1000\n",
      "6200\n"
     ]
    }
   ],
   "source": [
    "def __add__(self,other):    #Overloading an operator\n",
    "    return self._pay + other._pay\n",
    "print(ust1._pay)\n",
    "print(ust2._pay)\n",
    "totalpay = ust1._pay + ust2._pay\n",
    "print(totalpay)"
   ]
  },
  {
   "cell_type": "markdown",
   "metadata": {},
   "source": [
    "## <a id='main_program'></a>What is if `__name__ == \"__main__\"` ??\n",
    "<br>https://thepythonguru.com/what-is-if-__name__-__main__/"
   ]
  },
  {
   "cell_type": "markdown",
   "metadata": {},
   "source": [
    "# <a id='Comprehension_Solutions'></a>Comprehension Solutions\n",
    "<b> Comprehending the multiple lines of code / program into one or two lines of code / program"
   ]
  },
  {
   "cell_type": "markdown",
   "metadata": {},
   "source": [
    "## list Comprehension"
   ]
  },
  {
   "cell_type": "code",
   "execution_count": 254,
   "metadata": {},
   "outputs": [],
   "source": [
    "x = [1,2,3,4]"
   ]
  },
  {
   "cell_type": "code",
   "execution_count": 255,
   "metadata": {},
   "outputs": [
    {
     "name": "stdout",
     "output_type": "stream",
     "text": [
      "[1, 4, 9, 16]\n"
     ]
    }
   ],
   "source": [
    "out = []\n",
    "for item in x:\n",
    "    out.append(item**2)\n",
    "print(out)"
   ]
  },
  {
   "cell_type": "code",
   "execution_count": 256,
   "metadata": {},
   "outputs": [
    {
     "data": {
      "text/plain": [
       "[1, 4, 9, 16]"
      ]
     },
     "execution_count": 256,
     "metadata": {},
     "output_type": "execute_result"
    }
   ],
   "source": [
    "[item**2 for item in x]"
   ]
  },
  {
   "cell_type": "code",
   "execution_count": 257,
   "metadata": {},
   "outputs": [
    {
     "data": {
      "text/plain": [
       "[16, 9, 4, 1]"
      ]
     },
     "execution_count": 257,
     "metadata": {},
     "output_type": "execute_result"
    }
   ],
   "source": [
    "def sqre(lst):\n",
    "    sqlst = []\n",
    "    for i in lst:\n",
    "        sqlst.append(i*i)\n",
    "    return sqlst\n",
    "sqre([4,3,2,1])"
   ]
  },
  {
   "cell_type": "markdown",
   "metadata": {},
   "source": [
    "## for comprehension / comprehension solution using 'for'"
   ]
  },
  {
   "cell_type": "code",
   "execution_count": 258,
   "metadata": {},
   "outputs": [
    {
     "data": {
      "text/plain": [
       "[16, 9, 4, 1]"
      ]
     },
     "execution_count": 258,
     "metadata": {},
     "output_type": "execute_result"
    }
   ],
   "source": [
    "# Comprehending Solution for above program\n",
    "n = [4,3,2,1]\n",
    "list(i*i for i in n)   # You can also write it as [i*i for i in n]"
   ]
  },
  {
   "cell_type": "markdown",
   "metadata": {},
   "source": [
    "## for - if comprehension / Comprehension Solution using for - if combination"
   ]
  },
  {
   "cell_type": "code",
   "execution_count": 259,
   "metadata": {},
   "outputs": [
    {
     "data": {
      "text/plain": [
       "[4, 3]"
      ]
     },
     "execution_count": 259,
     "metadata": {},
     "output_type": "execute_result"
    }
   ],
   "source": [
    "# Example for list of number greater than 2 \n",
    "def greater_two(lst):\n",
    "    lst2 = [i for i in lst if i>2]  # Comprehension Solution using for - if combination\n",
    "    return lst2\n",
    "greater_two([4,3,2,1])"
   ]
  },
  {
   "cell_type": "code",
   "execution_count": 260,
   "metadata": {},
   "outputs": [
    {
     "data": {
      "text/plain": [
       "[4, 3]"
      ]
     },
     "execution_count": 260,
     "metadata": {},
     "output_type": "execute_result"
    }
   ],
   "source": [
    "# Above program can be comprehended further\n",
    "n = [4,3,2,1]\n",
    "list(filter(lambda x: x>2,n))"
   ]
  },
  {
   "cell_type": "code",
   "execution_count": 261,
   "metadata": {},
   "outputs": [
    {
     "data": {
      "text/plain": [
       "[4, 3]"
      ]
     },
     "execution_count": 261,
     "metadata": {},
     "output_type": "execute_result"
    }
   ],
   "source": [
    "# Above program can be comprehended further\n",
    "n = [4,3,2,1]\n",
    "list(i for i in n if i>2)"
   ]
  },
  {
   "cell_type": "markdown",
   "metadata": {},
   "source": [
    "# <a id='Executing_IPython_Magic_Commands_in_Jupyter_Notebook'></a>Executing IPython Magic Commands in Jupyter Notebook\n",
    "\n",
    "<br>https://www.dataquest.io/blog/jupyter-notebook-tips-tricks-shortcuts/\n",
    "* Jupyter has access to all the Magics from the IPython kernel, and they can make your life a lot easier!\n",
    "* Line Magic commands are preceeded by %\n",
    "* Cell Magic commands are preceeded by %%\n",
    "* %automagic - 0 to Off, 1 to On (when set to one you no need to use % or %% before magic commands)\n",
    "* %lsmagic - Lists all the magic commands that are avilable\n",
    "* %matplotlib inline - To display plots inline\n",
    "* %env - Set Environment Variables\n",
    "* %run - Execute python code (.py files) and also .ipynb files (This command runs a Python script from within IPython shell)\n",
    "* %load - Insert the code from an external script\n",
    "* %pwd - returns the present working directory\n",
    "* %who (str/function) - List all variables of global scope\n",
    "* %store - Pass variables and their values between notebooks\n",
    "* %cd - to change the directory\n",
    "* %cd and hit tab to see help, which is very useful"
   ]
  },
  {
   "cell_type": "code",
   "execution_count": 137,
   "metadata": {},
   "outputs": [
    {
     "name": "stderr",
     "output_type": "stream",
     "text": [
      "UsageError: Line magic function `%cat` not found.\n"
     ]
    }
   ],
   "source": [
    "%cd --"
   ]
  },
  {
   "cell_type": "code",
   "execution_count": 84,
   "metadata": {},
   "outputs": [
    {
     "name": "stdout",
     "output_type": "stream",
     "text": [
      "\n",
      "Automagic is OFF, % prefix IS needed for line magics.\n"
     ]
    }
   ],
   "source": [
    "%automagic 0"
   ]
  },
  {
   "cell_type": "code",
   "execution_count": 85,
   "metadata": {},
   "outputs": [
    {
     "ename": "NameError",
     "evalue": "name 'pwd' is not defined",
     "output_type": "error",
     "traceback": [
      "\u001b[1;31m---------------------------------------------------------------------------\u001b[0m",
      "\u001b[1;31mNameError\u001b[0m                                 Traceback (most recent call last)",
      "\u001b[1;32m<ipython-input-85-86938b1e80ee>\u001b[0m in \u001b[0;36m<module>\u001b[1;34m\u001b[0m\n\u001b[1;32m----> 1\u001b[1;33m \u001b[0mpwd\u001b[0m\u001b[1;33m\u001b[0m\u001b[1;33m\u001b[0m\u001b[0m\n\u001b[0m",
      "\u001b[1;31mNameError\u001b[0m: name 'pwd' is not defined"
     ]
    }
   ],
   "source": [
    "pwd"
   ]
  },
  {
   "cell_type": "code",
   "execution_count": 86,
   "metadata": {},
   "outputs": [
    {
     "name": "stdout",
     "output_type": "stream",
     "text": [
      "\n",
      "Automagic is ON, % prefix IS NOT needed for line magics.\n"
     ]
    }
   ],
   "source": [
    "%automagic 1"
   ]
  },
  {
   "cell_type": "code",
   "execution_count": 87,
   "metadata": {},
   "outputs": [
    {
     "data": {
      "text/plain": [
       "'C:\\\\Users\\\\sande\\\\Google Drive\\\\PythonScripts'"
      ]
     },
     "execution_count": 87,
     "metadata": {},
     "output_type": "execute_result"
    }
   ],
   "source": [
    "pwd"
   ]
  },
  {
   "cell_type": "code",
   "execution_count": 135,
   "metadata": {},
   "outputs": [
    {
     "name": "stdout",
     "output_type": "stream",
     "text": [
      "C:\\Users\\sande\\Google Drive\\PythonScripts\n"
     ]
    }
   ],
   "source": [
    "%cd C:\\\\Users\\\\sande\\\\Google Drive\\\\PythonScripts"
   ]
  },
  {
   "cell_type": "code",
   "execution_count": 116,
   "metadata": {},
   "outputs": [
    {
     "name": "stdout",
     "output_type": "stream",
     "text": [
      "one_million_dice\t \n"
     ]
    }
   ],
   "source": [
    "%who function"
   ]
  },
  {
   "cell_type": "code",
   "execution_count": 117,
   "metadata": {},
   "outputs": [
    {
     "name": "stdout",
     "output_type": "stream",
     "text": [
      "No variables match your requested type.\n"
     ]
    }
   ],
   "source": [
    "%who str"
   ]
  },
  {
   "cell_type": "code",
   "execution_count": 88,
   "metadata": {},
   "outputs": [
    {
     "data": {
      "application/json": {
       "cell": {
        "!": "OSMagics",
        "HTML": "Other",
        "SVG": "Other",
        "bash": "Other",
        "capture": "ExecutionMagics",
        "cmd": "Other",
        "debug": "ExecutionMagics",
        "file": "Other",
        "html": "DisplayMagics",
        "javascript": "DisplayMagics",
        "js": "DisplayMagics",
        "latex": "DisplayMagics",
        "markdown": "DisplayMagics",
        "perl": "Other",
        "prun": "ExecutionMagics",
        "pypy": "Other",
        "python": "Other",
        "python2": "Other",
        "python3": "Other",
        "ruby": "Other",
        "script": "ScriptMagics",
        "sh": "Other",
        "svg": "DisplayMagics",
        "sx": "OSMagics",
        "system": "OSMagics",
        "time": "ExecutionMagics",
        "timeit": "ExecutionMagics",
        "writefile": "OSMagics"
       },
       "line": {
        "alias": "OSMagics",
        "alias_magic": "BasicMagics",
        "autoawait": "AsyncMagics",
        "autocall": "AutoMagics",
        "automagic": "AutoMagics",
        "autosave": "KernelMagics",
        "bookmark": "OSMagics",
        "cd": "OSMagics",
        "clear": "KernelMagics",
        "cls": "KernelMagics",
        "colors": "BasicMagics",
        "conda": "PackagingMagics",
        "config": "ConfigMagics",
        "connect_info": "KernelMagics",
        "copy": "Other",
        "ddir": "Other",
        "debug": "ExecutionMagics",
        "dhist": "OSMagics",
        "dirs": "OSMagics",
        "doctest_mode": "BasicMagics",
        "echo": "Other",
        "ed": "Other",
        "edit": "KernelMagics",
        "env": "OSMagics",
        "gui": "BasicMagics",
        "hist": "Other",
        "history": "HistoryMagics",
        "killbgscripts": "ScriptMagics",
        "ldir": "Other",
        "less": "KernelMagics",
        "load": "CodeMagics",
        "load_ext": "ExtensionMagics",
        "loadpy": "CodeMagics",
        "logoff": "LoggingMagics",
        "logon": "LoggingMagics",
        "logstart": "LoggingMagics",
        "logstate": "LoggingMagics",
        "logstop": "LoggingMagics",
        "ls": "Other",
        "lsmagic": "BasicMagics",
        "macro": "ExecutionMagics",
        "magic": "BasicMagics",
        "matplotlib": "PylabMagics",
        "mkdir": "Other",
        "more": "KernelMagics",
        "notebook": "BasicMagics",
        "page": "BasicMagics",
        "pastebin": "CodeMagics",
        "pdb": "ExecutionMagics",
        "pdef": "NamespaceMagics",
        "pdoc": "NamespaceMagics",
        "pfile": "NamespaceMagics",
        "pinfo": "NamespaceMagics",
        "pinfo2": "NamespaceMagics",
        "pip": "PackagingMagics",
        "popd": "OSMagics",
        "pprint": "BasicMagics",
        "precision": "BasicMagics",
        "prun": "ExecutionMagics",
        "psearch": "NamespaceMagics",
        "psource": "NamespaceMagics",
        "pushd": "OSMagics",
        "pwd": "OSMagics",
        "pycat": "OSMagics",
        "pylab": "PylabMagics",
        "qtconsole": "KernelMagics",
        "quickref": "BasicMagics",
        "recall": "HistoryMagics",
        "rehashx": "OSMagics",
        "reload_ext": "ExtensionMagics",
        "ren": "Other",
        "rep": "Other",
        "rerun": "HistoryMagics",
        "reset": "NamespaceMagics",
        "reset_selective": "NamespaceMagics",
        "rmdir": "Other",
        "run": "ExecutionMagics",
        "save": "CodeMagics",
        "sc": "OSMagics",
        "set_env": "OSMagics",
        "store": "StoreMagics",
        "sx": "OSMagics",
        "system": "OSMagics",
        "tb": "ExecutionMagics",
        "time": "ExecutionMagics",
        "timeit": "ExecutionMagics",
        "unalias": "OSMagics",
        "unload_ext": "ExtensionMagics",
        "who": "NamespaceMagics",
        "who_ls": "NamespaceMagics",
        "whos": "NamespaceMagics",
        "xdel": "NamespaceMagics",
        "xmode": "BasicMagics"
       }
      },
      "text/plain": [
       "Available line magics:\n",
       "%alias  %alias_magic  %autoawait  %autocall  %automagic  %autosave  %bookmark  %cd  %clear  %cls  %colors  %conda  %config  %connect_info  %copy  %ddir  %debug  %dhist  %dirs  %doctest_mode  %echo  %ed  %edit  %env  %gui  %hist  %history  %killbgscripts  %ldir  %less  %load  %load_ext  %loadpy  %logoff  %logon  %logstart  %logstate  %logstop  %ls  %lsmagic  %macro  %magic  %matplotlib  %mkdir  %more  %notebook  %page  %pastebin  %pdb  %pdef  %pdoc  %pfile  %pinfo  %pinfo2  %pip  %popd  %pprint  %precision  %prun  %psearch  %psource  %pushd  %pwd  %pycat  %pylab  %qtconsole  %quickref  %recall  %rehashx  %reload_ext  %ren  %rep  %rerun  %reset  %reset_selective  %rmdir  %run  %save  %sc  %set_env  %store  %sx  %system  %tb  %time  %timeit  %unalias  %unload_ext  %who  %who_ls  %whos  %xdel  %xmode\n",
       "\n",
       "Available cell magics:\n",
       "%%!  %%HTML  %%SVG  %%bash  %%capture  %%cmd  %%debug  %%file  %%html  %%javascript  %%js  %%latex  %%markdown  %%perl  %%prun  %%pypy  %%python  %%python2  %%python3  %%ruby  %%script  %%sh  %%svg  %%sx  %%system  %%time  %%timeit  %%writefile\n",
       "\n",
       "Automagic is ON, % prefix IS NOT needed for line magics."
      ]
     },
     "execution_count": 88,
     "metadata": {},
     "output_type": "execute_result"
    }
   ],
   "source": [
    "%lsmagic"
   ]
  },
  {
   "cell_type": "code",
   "execution_count": 22,
   "metadata": {},
   "outputs": [],
   "source": [
    "import random, numpy as np\n",
    "def one_million_dice():\n",
    "    return np.random.randint(1,7,100000)"
   ]
  },
  {
   "cell_type": "code",
   "execution_count": 24,
   "metadata": {},
   "outputs": [
    {
     "name": "stdout",
     "output_type": "stream",
     "text": [
      "Wall time: 1.75 ms\n",
      "Wall time: 980 µs\n"
     ]
    }
   ],
   "source": [
    "%time throws = one_million_dice()\n",
    "%time smean = np.mean(throws)"
   ]
  },
  {
   "cell_type": "code",
   "execution_count": 27,
   "metadata": {},
   "outputs": [
    {
     "name": "stdout",
     "output_type": "stream",
     "text": [
      "787 µs ± 2.2 µs per loop (mean ± std. dev. of 7 runs, 1000 loops each)\n",
      "82.4 µs ± 300 ns per loop (mean ± std. dev. of 7 runs, 10000 loops each)\n"
     ]
    }
   ],
   "source": [
    "%timeit throws = one_million_dice()\n",
    "%timeit smean = np.mean(throws)"
   ]
  },
  {
   "cell_type": "code",
   "execution_count": 29,
   "metadata": {},
   "outputs": [
    {
     "name": "stdout",
     "output_type": "stream",
     "text": [
      "Wall time: 966 µs\n"
     ]
    }
   ],
   "source": [
    "%%time\n",
    "throws = one_million_dice()\n",
    "smean = np.mean(throws)"
   ]
  },
  {
   "cell_type": "code",
   "execution_count": 78,
   "metadata": {},
   "outputs": [],
   "source": [
    "%matplotlib inline\n",
    "# magic command in combination with the inline parameter. Using this command ensures that Jupyter Notebooks show your plots."
   ]
  },
  {
   "cell_type": "code",
   "execution_count": 140,
   "metadata": {},
   "outputs": [
    {
     "name": "stdout",
     "output_type": "stream",
     "text": [
      "Sandeep, Hello World\n",
      "['hello.py']\n"
     ]
    }
   ],
   "source": []
  },
  {
   "cell_type": "code",
   "execution_count": 81,
   "metadata": {},
   "outputs": [
    {
     "name": "stdout",
     "output_type": "stream",
     "text": [
      "Sandeep, Hello World\n",
      "['Hello.py']\n"
     ]
    }
   ],
   "source": [
    "%run Hello.py # can execute python code from .py files – this is well-documented behavior. Lesser known is the fact that it can also execute other jupyter notebooks, which can quite useful."
   ]
  },
  {
   "cell_type": "code",
   "execution_count": null,
   "metadata": {},
   "outputs": [],
   "source": [
    "# To List all the environement variable\n",
    "%env"
   ]
  },
  {
   "cell_type": "code",
   "execution_count": 109,
   "metadata": {},
   "outputs": [
    {
     "name": "stdout",
     "output_type": "stream",
     "text": [
      "env: OMP_NUM_THREADS=None\n"
     ]
    }
   ],
   "source": [
    "%env OMP_NUM_THREADS=None"
   ]
  },
  {
   "cell_type": "code",
   "execution_count": 110,
   "metadata": {},
   "outputs": [
    {
     "data": {
      "text/plain": [
       "'None'"
      ]
     },
     "execution_count": 110,
     "metadata": {},
     "output_type": "execute_result"
    }
   ],
   "source": [
    "# To view the environement variable\n",
    "%env OMP_NUM_THREADS"
   ]
  },
  {
   "cell_type": "code",
   "execution_count": 111,
   "metadata": {},
   "outputs": [],
   "source": [
    "# To delete the above added environement variable\n",
    "del os.environ['OMP_NUM_THREADS']"
   ]
  },
  {
   "cell_type": "code",
   "execution_count": null,
   "metadata": {},
   "outputs": [],
   "source": [
    "%load hello.py"
   ]
  },
  {
   "cell_type": "code",
   "execution_count": 141,
   "metadata": {},
   "outputs": [
    {
     "name": "stdout",
     "output_type": "stream",
     "text": [
      "Sandeep, Hello World\n",
      "['Hello.py']\n"
     ]
    }
   ],
   "source": [
    "%run Hello.py"
   ]
  },
  {
   "cell_type": "markdown",
   "metadata": {},
   "source": [
    "## Jupyter Notebook Help Command"
   ]
  },
  {
   "cell_type": "code",
   "execution_count": null,
   "metadata": {},
   "outputs": [],
   "source": [
    "# This command or 'jupyter notebook --help-all' gives all that is needed\n",
    "!python -m jupyter notebook --help-all"
   ]
  },
  {
   "cell_type": "markdown",
   "metadata": {},
   "source": [
    "## To get the help of a command\n",
    "Syntax: `<any keyword>?`"
   ]
  },
  {
   "cell_type": "code",
   "execution_count": 3,
   "metadata": {},
   "outputs": [],
   "source": [
    "list?"
   ]
  },
  {
   "cell_type": "markdown",
   "metadata": {},
   "source": [
    "# <a id='Executing_Shell_or_Windows_commands'></a>Executing Shell / Windows commands\n",
    "* Unix / Windows commands are preceeded by !\n",
    "* You no need to open the command prompt at all and you can also manage packages like below\n",
    "    * !pip install numpy    \n",
    "    * !pip list | grep pandas\n",
    "* !ls *.csv         # To list all the csv files in Unix box\n",
    "* __NOTE__: !cd   __You cannot use !cd to navigate the filesystem from Jupyter notebook. The reason is that shell commands in the notebook are executed in a temporary subshell. If you'd like to change the working directory, you can use the %cd magic command__"
   ]
  },
  {
   "cell_type": "code",
   "execution_count": 34,
   "metadata": {},
   "outputs": [
    {
     "name": "stdout",
     "output_type": "stream",
     "text": [
      "C:\\Users\\sande\n"
     ]
    }
   ],
   "source": [
    "# To execute unix commands inline\n",
    "!cd       # To list the current working directory in Windows / Dos"
   ]
  },
  {
   "cell_type": "code",
   "execution_count": 126,
   "metadata": {},
   "outputs": [
    {
     "data": {
      "text/plain": [
       "'C:\\\\Users\\\\sande\\\\Google Drive\\\\PythonScripts'"
      ]
     },
     "execution_count": 126,
     "metadata": {},
     "output_type": "execute_result"
    }
   ],
   "source": [
    "pwd"
   ]
  },
  {
   "cell_type": "code",
   "execution_count": null,
   "metadata": {},
   "outputs": [],
   "source": [
    "!dir            # !ls will not work in DOS / Windows Machine as it's bash shell command and !dir will not work in Linux Machine"
   ]
  },
  {
   "cell_type": "code",
   "execution_count": 73,
   "metadata": {},
   "outputs": [],
   "source": [
    "import os\n",
    "os.chdir(r'C:\\Users\\sande\\Google Drive\\PythonScripts')"
   ]
  },
  {
   "cell_type": "code",
   "execution_count": 74,
   "metadata": {},
   "outputs": [
    {
     "name": "stdout",
     "output_type": "stream",
     "text": [
      "Sandeep, Hello World\n",
      "['Hello.py']\n"
     ]
    }
   ],
   "source": [
    "!python Hello.py"
   ]
  },
  {
   "cell_type": "code",
   "execution_count": 1,
   "metadata": {},
   "outputs": [
    {
     "name": "stderr",
     "output_type": "stream",
     "text": [
      "The system cannot find the path specified.\n"
     ]
    }
   ],
   "source": [
    "!cd C:\\Users\\sande\\     # This will not work use %cd to change the directory"
   ]
  },
  {
   "cell_type": "markdown",
   "metadata": {},
   "source": [
    "# <a id='Python_Environement'></a>Python Environement\n",
    "<br>https://docs.conda.io/projects/conda/en/latest/user-guide/tasks/manage-environments.html\n",
    "<br>\n",
    "<br>https://docs.anaconda.com/anaconda/user-guide/tasks/pycharm/"
   ]
  },
  {
   "cell_type": "code",
   "execution_count": null,
   "metadata": {},
   "outputs": [],
   "source": [
    "# Viewing a list of the packages in an environment\n",
    "\n",
    "To see a list of all packages installed in a specific environment:\n",
    "\n",
    "If the environment is not activated, in your terminal window or an Anaconda Prompt, run:\n",
    "\n",
    "conda list -n myenv\n",
    "\n",
    "If the environment is activated, in your terminal window or an Anaconda Prompt, run:\n",
    "\n",
    "conda list\n",
    "To see if a specific package is installed in an environment, in your terminal window or an Anaconda Prompt, run:\n",
    "\n",
    "conda list -n myenv scipy\n",
    "\n",
    "\n",
    "To remove the environement file\n",
    "\n",
    "conda env remove -n ENV_NAME"
   ]
  },
  {
   "cell_type": "markdown",
   "metadata": {},
   "source": [
    "## Addition of conda path to .bashrc file"
   ]
  },
  {
   "cell_type": "code",
   "execution_count": null,
   "metadata": {},
   "outputs": [],
   "source": [
    "Creating .bash_profile and adding a python bin directory\n",
    "touch .bash_profile\n",
    "vi .bash_profile\n",
    "export PATH=\"/home/sandeep/anaconda3/bin:$PATH\"\n",
    ":wq\n",
    "source ~/.bash_profile (or instead of this command you can close the shell and re-open open the shell)\n",
    "------------------------------------------------\n",
    "You can avoid above steps by simply typing 'yes' while doing installation. conda installation will take care of adding path and all\n",
    "\n",
    "Do you wish the installer to initialize Anaconda3\n",
    "by running conda init? [yes|no]\n",
    "[no] >>> yes\n",
    "no change     /home/sandeep/anaconda3/condabin/conda\n",
    "no change     /home/sandeep/anaconda3/bin/conda\n",
    "no change     /home/sandeep/anaconda3/bin/conda-env\n",
    "no change     /home/sandeep/anaconda3/bin/activate\n",
    "no change     /home/sandeep/anaconda3/bin/deactivate\n",
    "no change     /home/sandeep/anaconda3/etc/profile.d/conda.sh\n",
    "no change     /home/sandeep/anaconda3/etc/fish/conf.d/conda.fish\n",
    "no change     /home/sandeep/anaconda3/shell/condabin/Conda.psm1\n",
    "no change     /home/sandeep/anaconda3/shell/condabin/conda-hook.ps1\n",
    "no change     /home/sandeep/anaconda3/lib/python3.7/site-packages/xontrib/conda.xsh\n",
    "no change     /home/sandeep/anaconda3/etc/profile.d/conda.csh\n",
    "modified      /home/sandeep/.bashrc\n",
    "\n",
    "==> For changes to take effect, close and re-open your current shell. <==\n",
    "\n",
    "If you'd prefer that conda's base environment not be activated on startup,\n",
    "   set the auto_activate_base parameter to false:\n",
    "\n",
    "conda config --set auto_activate_base false\n",
    "\n",
    "Thank you for installing Anaconda3!\n",
    "\n",
    "==========================================================================="
   ]
  },
  {
   "cell_type": "markdown",
   "metadata": {},
   "source": [
    "## <a id='aliases'></a>bash_aliases\n",
    "__In Mac, you add aliases to .bash_profile and in Linux, you add aliases to .bash_aliases. In Mac, you can add it to .bash_aliases also provided you modify .bash_profile similar to Linux__  VIMP"
   ]
  },
  {
   "cell_type": "markdown",
   "metadata": {},
   "source": [
    "# <a id='Python_Method_Vs_Function'></a>Python Method Vs Function\n",
    "* There’s a thin line between method and function in python. The only major difference is that we call Python method on an object, but it’s not the same with functions. Also, methods may modify an object; Python functions don’t.\n",
    "* Python Functions are two types Built-in Function and User-Defined Functions\n",
    "* Python function is a sequence of statements that execute in a certain order, given a name. They let us implement code reusability. When we talked about Python Functions, we talked about built-in and user-defined functions.\n",
    "* Python method is like a function, except it is attached to an object. We call a method on an object, and it possibly makes changes to that object. A method, then, belongs to a class.\n",
    "<br>https://data-flair.training/blogs/python-method-and-function/"
   ]
  },
  {
   "cell_type": "markdown",
   "metadata": {},
   "source": [
    "# <a id='Memory_Management_in_Python'></a>Memory Management in Python"
   ]
  },
  {
   "cell_type": "code",
   "execution_count": null,
   "metadata": {},
   "outputs": [],
   "source": []
  }
 ],
 "metadata": {
  "kernelspec": {
   "display_name": "Python 3",
   "language": "python",
   "name": "python3"
  },
  "language_info": {
   "codemirror_mode": {
    "name": "ipython",
    "version": 3
   },
   "file_extension": ".py",
   "mimetype": "text/x-python",
   "name": "python",
   "nbconvert_exporter": "python",
   "pygments_lexer": "ipython3",
   "version": "3.8.8"
  },
  "varInspector": {
   "cols": {
    "lenName": 16,
    "lenType": 16,
    "lenVar": 40
   },
   "kernels_config": {
    "python": {
     "delete_cmd_postfix": "",
     "delete_cmd_prefix": "del ",
     "library": "var_list.py",
     "varRefreshCmd": "print(var_dic_list())"
    },
    "r": {
     "delete_cmd_postfix": ") ",
     "delete_cmd_prefix": "rm(",
     "library": "var_list.r",
     "varRefreshCmd": "cat(var_dic_list()) "
    }
   },
   "types_to_exclude": [
    "module",
    "function",
    "builtin_function_or_method",
    "instance",
    "_Feature"
   ],
   "window_display": false
  }
 },
 "nbformat": 4,
 "nbformat_minor": 2
}
