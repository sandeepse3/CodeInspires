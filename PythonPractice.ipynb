{
 "cells": [
  {
   "cell_type": "markdown",
   "metadata": {},
   "source": [
    "# Problems and Solutions using Python"
   ]
  },
  {
   "cell_type": "code",
   "execution_count": 1,
   "metadata": {},
   "outputs": [
    {
     "name": "stdout",
     "output_type": "stream",
     "text": [
      "Last Updated Date: 30 April 2021\n"
     ]
    }
   ],
   "source": [
    "from datetime import date\n",
    "today = date.today()\n",
    "print(\"Last Updated Date:\", today.strftime(\"%d %B %Y\"))"
   ]
  },
  {
   "cell_type": "markdown",
   "metadata": {},
   "source": [
    "# Problems"
   ]
  },
  {
   "cell_type": "markdown",
   "metadata": {},
   "source": [
    "<br>[1. Cascading of Operators (PrintFunction)](#1._Cascading_of_Operators_(PrintFunction))\n",
    "<br>[2. Lowest Number Out of Three Numbers (NumberCheck)](#2._Lowest_Number_Out_of_Three_Numbers)\n",
    "<br>[3. Odd Numbers up to a Range (NumberCheck)](#3._Odd_Numbers_up_to_a_Range)\n",
    "<br>[4. Average of all Even Numbers up to a Range (NumberCheck)](#4._Average_of_all_Even_Numbers_up_to_a_Range)\n",
    "<br>[5. Prime Number Check (NumberCheck)](#5._Prime_Number_Check)\n",
    "<br>[6. Perfect Number Check (NumberCheck)](#6._Perfect_Number_Check)\n",
    "<br>[7. Armstrong Number Check (NumberCheck)](#7._Armstrong_Number_Check)\n",
    "<br>[8. Multiplication Tables (NumberFormatting)](#8._Multiplication_Tables_(NumberFormatting))\n",
    "<br>[9. Floyd’s Triangle (NumberFormatting)](#9._Floyd’s_Triangle_(NumberFormatting))\n",
    "<br>[10. Fibonacci Series (NumberCheck)](#10._Fibonacci_Series)\n",
    "<br>[11. Factorial of a Number](#11._Factorial_of_a_Number)\n",
    "<br>[12. Prime Factors of a Number](#12._Prime_Factors_of_a_Number)\n",
    "<br>[13. Pyramid of Digits (NumberFormatting)](#13._Pyramid_of_Digits_(NumberFormatting))\n",
    "<br>[14. Number of Odd and Even Numbers in an Array](#14._Number_of_Odd_and_Even_Numbers_in_an_Array)\n",
    "<br>[15. Conversion from Fahrenheit into Celsius](#15._Conversion_from_Fahrenheit_into_Celsius)\n",
    "<br>[16. Printing numbers in an Ordered Form](#16._Printing_numbers_in_an_Ordered_Form)\n",
    "<br>[19. Conversion of Integers into Words](#19._Conversion_of_Integers_into_Words)\n",
    "<br>[20. *Condensing a Number into a Single Digit](#20._Condensing_a_Number_into_a_Single_Digit)\n",
    "<br>[22. Printing ASCII Values](#22._Printing_ASCII_Values)\n",
    "<br>[23. Swapping of Two Integers](#23._Swapping_of_Two_Integers)\n",
    "<br>[26. Checking Leap Year and Printing Leap Years](#26._Checking_Leap_Year_and_Printing_Leap_Years)\n",
    "<br>[27. Conversion of Decimal Number into Binary Number](#27._Conversion_of_Decimal_Number_into_Binary_Number)\n",
    "<br>[28. Conversion of Binary Number into Decimal Number](#28._Conversion_of_Binary_Number_into_Decimal_Number)\n",
    "<br>[30. Conversion of Decimal Number into Octal Number](#30._Conversion_of_Decimal_Number_into_Octal_Number)\n",
    "<br>[29. Checking the given Number is Binary or Not](#29._Checking_the_given_Number_is_Binary_or_Not)\n",
    "<br>[31. Swapping of Two Arrays](#31._Swapping_of_Two_Arrays)\n",
    "<br>[32. Finding NCR Factor](#32._Finding_NCR_Factor)\n",
    "<br>[33. LCM and GCD of Numbers](#33._LCM_and_GCD_of_Numbers)\n",
    "<br>[34. Number of Times the Given Number Occurred](#34._Number_of_Times_the_Given_Number_Occurred)\n",
    "<br>[35. Pascal’s Triangle](#35._Pascal’s_Triangle)\n",
    "<br>[36. Biggest and Lowest Elements of an Array](#36._Biggest_and_Lowest_Elements_of_an_Array)\n",
    "<br>[37. Double Dimensional Arrays](#37._Double_Dimensional_Arrays)\n",
    "<br>[38. Addition of Matrices](#38._Addition_of_Matrices)\n",
    "<br>[39. Multiplication of Two Matrices](#39._Multiplication_of_Two_Matrices)\n",
    "<br>[40. Transposing of a Matrix](#40._Transposing_of_a_Matrix)\n",
    "<br>[41. Sum of Diagonal Elements of a Matrix](#41._Sum_of_Diagonal_Elements_of_a_Matrix)\n",
    "<br>[42. Upper Right and Lower Left Triangles of a Matrix](#42._Upper_Right_and_Lower_Left_Triangles_of_a_Matrix)\n",
    "<br>[43. Largest and Smallest Values of a Matrix](#43._Largest_and_Smallest_Values_of_a_Matrix)\n",
    "<br>[44. Sorting all Elements of a Matrix](#44._Sorting_all_Elements_of_a_Matrix)\n",
    "<br>[45. Sorting of a Matrix by Rows](#45._Sorting_of_a_Matrix_by_Rows)\n",
    "<br>[46. Converting a Series of Numbers into a Single Number](#46._Converting_a_Series_of_Numbers_into_a_Single_Number)\n",
    "<br>[47. Multiplication of any Number of Matrices](#47._Multiplication_of_any_Number_of_Matrices)\n",
    "<br>[48. Triple Dimensional Arrays](#48._Triple_Dimensional_Arrays)\n",
    "<br>[49. Inverse of a Matrix](#49._Inverse_of_a_Matrix)\n",
    "<br>[50. Combination of Characters](#50._Combination_of_Characters)\n",
    "<br>[51. Determinant of a Matrix](#51._Determinant_of_a_Matrix)\n",
    "<br>[52. Numerology Program (Numerology)](#52._Numerology_Program)\n",
    "<br>[53. Counting characters in a string](#53._Counting_characters_in_a_string)\n",
    "<br>[54. Counting repetitive words in a string](#54._Counting_repetitive_words_in_a_string)\n",
    "<br>[55. Leap Year](#55._Leap_Year)\n",
    "<br>[56. Given the names and grades for each student in a Physics class of  students, store them in a nested list and print the name(s) of any student(s) having the second lowest grade.](#56._Given_the_names)\n",
    "<br>[57. You are given an integer, your task is to print an alphabet rangoli of size (Rangoli is a form of Indian folk art based on creation of patterns) (To Be Understood)](#57._You_are_given_an)\n",
    "<br>[58. Capitalize! (Example for join, split functions and for loop comprehension)](#58._Capitalize)\n",
    "<br>[59. You are given an immutable string, and you want to make changes to it. We have seen that lists are mutable (they can be changed), and tuples, strings are immutable (they cannot be changed).](#59._You_are_given_an)\n",
    "<br>[60. List Comprehension (Cubiod Example)](#60._List_Comprehension_Cubiod_Example)\n",
    "<br>[61. String Validators using \"any\" or \"all\"](#61._String_Validators)\n"
   ]
  },
  {
   "cell_type": "markdown",
   "metadata": {},
   "source": [
    "# Solutions"
   ]
  },
  {
   "cell_type": "markdown",
   "metadata": {},
   "source": [
    "#### <a id='1._Cascading_of_Operators_(PrintFunction)'></a>1. Cascading of Operators (PrintFunction)"
   ]
  },
  {
   "cell_type": "code",
   "execution_count": 2,
   "metadata": {},
   "outputs": [
    {
     "name": "stdout",
     "output_type": "stream",
     "text": [
      "I am Sandeep\n",
      "19\n",
      "Hi... This is Sandeep\n"
     ]
    }
   ],
   "source": [
    "a = 'I am'\n",
    "b = ' Sandeep'\n",
    "print(a+b)\n",
    "c = 10\n",
    "d = 9\n",
    "print(c+d)\n",
    "print('Hi...'+' This is Sandeep')"
   ]
  },
  {
   "cell_type": "code",
   "execution_count": 3,
   "metadata": {},
   "outputs": [
    {
     "name": "stdout",
     "output_type": "stream",
     "text": [
      "1\n",
      "3.3333333333333335\n",
      "3\n"
     ]
    }
   ],
   "source": [
    "# 1a. Exponent, Floor Division, Division and Modulus examples\n",
    "\n",
    "c = 10\n",
    "d = 9\n",
    "print(c%3)           #Always Remainder - Always Integer\n",
    "print(c/3)           #Division - Always gives Integer or Decimal in Quotient                      \n",
    "print(c//3)          #Division - Always gives Integer in Quotient\n"
   ]
  },
  {
   "cell_type": "markdown",
   "metadata": {},
   "source": [
    "#### <a id='2._Lowest_Number_Out_of_Three_Numbers'></a>2. Lowest Number Out of Three Numbers (NumberCheck)"
   ]
  },
  {
   "cell_type": "code",
   "execution_count": 4,
   "metadata": {},
   "outputs": [
    {
     "name": "stdout",
     "output_type": "stream",
     "text": [
      "Enter the number a\n",
      "20\n",
      "Enter the number b\n",
      "2\n",
      "Enter the number c\n",
      "5\n",
      "20 is largest number\n"
     ]
    }
   ],
   "source": [
    "a = int(input('Enter the number a\\n'))\n",
    "b = int(input('Enter the number b\\n'))\n",
    "c = int(input('Enter the number c\\n'))\n",
    "\n",
    "if a>=b and a>=c:\n",
    "    print('%d is largest number'%a)\n",
    "elif b>=a and b>=c:\n",
    "    print('%d is largest number'%b)\n",
    "elif c>=a and c>=b:\n",
    "    print('%d is largest number'%c)"
   ]
  },
  {
   "cell_type": "markdown",
   "metadata": {},
   "source": [
    "#### <a id='3._Odd_Numbers_up_to_a_Range'></a>3. Odd Numbers up to a Range (NumberCheck))"
   ]
  },
  {
   "cell_type": "code",
   "execution_count": 1,
   "metadata": {},
   "outputs": [
    {
     "name": "stdout",
     "output_type": "stream",
     "text": [
      "Enter the range of odd numbers a\n",
      "10\n",
      "1\n",
      "3\n",
      "5\n",
      "7\n",
      "9\n",
      "Enter the range of odd numbers a\n",
      "10\n",
      "0\n",
      "2\n",
      "4\n",
      "6\n",
      "8\n"
     ]
    }
   ],
   "source": [
    "a = int(input('Enter the range of odd numbers a\\n'))\n",
    "\n",
    "for i in range(a):\n",
    "    if i%2 !=0:\n",
    "        print(i)\n",
    "\n",
    "# 3a. Even Numbers up to a Range (NumberCheck))\n",
    "a = int(input('Enter the range of odd numbers a\\n'))\n",
    "\n",
    "for i in range(a):\n",
    "    if i%2 ==0:\n",
    "        print(i)"
   ]
  },
  {
   "cell_type": "markdown",
   "metadata": {},
   "source": [
    "#### <a id='4._Average_of_all_Even_Numbers_up_to_a_Range'></a>4. Average of all Even Numbers up to a Range (NumberCheck)"
   ]
  },
  {
   "cell_type": "code",
   "execution_count": null,
   "metadata": {},
   "outputs": [],
   "source": [
    "a = int(input('Enter the range of odd numbers a\\n'))\n",
    "s = 0\n",
    "avg = 0\n",
    "for i in range(1,a):\n",
    "    if i%2 ==0:\n",
    "        s+=i\n",
    "        avg+=1\n",
    "avgs = s/avg \n",
    "print('{0:d} is the Sum Even numbers upto the Range {1:d}'.format(s,a))\n",
    "print('%d is the Sum Even numbers upto the Range %d'%(s,a))\n",
    "print('%f is the Average of Sum Even numbers upto the Range %d'%(avgs,a))"
   ]
  },
  {
   "cell_type": "markdown",
   "metadata": {},
   "source": [
    "#### <a id='5._Prime_Number_Check'></a>5. Prime Number Check (NumberCheck)"
   ]
  },
  {
   "cell_type": "code",
   "execution_count": 2,
   "metadata": {},
   "outputs": [
    {
     "name": "stdout",
     "output_type": "stream",
     "text": [
      "Enter the number for prime number check\n",
      "10\n",
      "10 is not a prime number\n"
     ]
    }
   ],
   "source": [
    "p = int(input('Enter the number for prime number check\\n'))\n",
    "flg = 1\n",
    "for i in range(2,p):\n",
    "    if p%i ==0:\n",
    "        flg = 0\n",
    "        break\n",
    "\n",
    "print('%d is a prime number'%p) if flg else print('%d is not a prime number'%p)"
   ]
  },
  {
   "cell_type": "code",
   "execution_count": 2,
   "metadata": {},
   "outputs": [
    {
     "name": "stdout",
     "output_type": "stream",
     "text": [
      "3\n",
      "1000000000987\n",
      "Not Prime\n",
      "21\n",
      "Not Prime\n",
      "37\n",
      "Prime\n"
     ]
    }
   ],
   "source": [
    "# Above code is not suitable if 'n' is a huge number and it takes lot of time.\n",
    "import math\n",
    "def isPrime(n):\n",
    "    if n==2:\n",
    "        return True\n",
    "    elif n==1:\n",
    "        return False\n",
    "    else:\n",
    "        for i in range(2,int(math.sqrt(n))):\n",
    "            if n%i==0:\n",
    "                return False\n",
    "        return True\n",
    "\n",
    "if __name__=='__main__':\n",
    "    T = int(input())\n",
    "    for i in range(T):\n",
    "        n = int(input())\n",
    "        if isPrime(n):\n",
    "            print('Prime')\n",
    "        else:\n",
    "            print('Not Prime')  "
   ]
  },
  {
   "cell_type": "markdown",
   "metadata": {},
   "source": [
    "#### <a id='6._Perfect_Number_Check'></a>6. Perfect Number Check (NumberCheck)"
   ]
  },
  {
   "cell_type": "code",
   "execution_count": null,
   "metadata": {},
   "outputs": [],
   "source": [
    "p = int(input('Please enter the number to check whether its perfect or not\\n'))\n",
    "x = []\n",
    "s=0\n",
    "for i in range(1,p):\n",
    "    if p%i == 0:\n",
    "        x.append(i)\n",
    "for i in range(len(x)):\n",
    "    s+=x[i]\n",
    "print('%d is a Perfect number'%s) if s==p else print('%d is not a perfect number'%p)"
   ]
  },
  {
   "cell_type": "markdown",
   "metadata": {},
   "source": [
    "#### <a id='7._Armstrong_Number_Check'></a>7. Armstrong Number Check (NumberCheck)"
   ]
  },
  {
   "cell_type": "code",
   "execution_count": 2,
   "metadata": {},
   "outputs": [
    {
     "name": "stdout",
     "output_type": "stream",
     "text": [
      "Enter the number to be checked for Armstrong or not\n",
      "10\n",
      "10 is not an Armstrong Number\n"
     ]
    }
   ],
   "source": [
    "a = int(input('Enter the number to be checked for Armstrong or not\\n'))\n",
    "tmp = a\n",
    "x = []\n",
    "s = 0\n",
    "while tmp!=0:\n",
    "    x.append(tmp%10)    #Always picks last digit when modulus by 10\n",
    "    tmp = tmp//10       #Always integers will be calculated when Floor Divisioned\n",
    "po = len(x)\n",
    "for i in range(po):\n",
    "    s+= x[i]**po\n",
    "print('%d is an Armstrong Number'%s) if s==a else print('%d is not an Armstrong Number'%a)"
   ]
  },
  {
   "cell_type": "markdown",
   "metadata": {},
   "source": [
    "#### 7a. Print Reverse of a given numbers"
   ]
  },
  {
   "cell_type": "code",
   "execution_count": null,
   "metadata": {},
   "outputs": [],
   "source": [
    "a = int(input('Enter the number to be reversed\\n'))\n",
    "x = []\n",
    "while a!=0:\n",
    "    x.append(a%10)\n",
    "    a//=10\n",
    "s = 1\n",
    "for i in range(1,len(x)):\n",
    "    s*=10\n",
    "a=0\n",
    "for i in range(len(x)):\n",
    "    a+=x[i]*s\n",
    "    s//=10\n",
    "print(a)"
   ]
  },
  {
   "cell_type": "markdown",
   "metadata": {},
   "source": [
    "#### <a id='8._Multiplication_Tables_(NumberFormatting)'></a>8. Multiplication Tables (NumberFormatting)"
   ]
  },
  {
   "cell_type": "code",
   "execution_count": null,
   "metadata": {},
   "outputs": [],
   "source": [
    "t = int(input('Please enter the table number to be displayed\\n'))\n",
    "for i in range(1,11):\n",
    "    print('%d x %d = %d'%(t,i,t*i))"
   ]
  },
  {
   "cell_type": "markdown",
   "metadata": {},
   "source": [
    "#### <a id='9._Floyd’s_Triangle_(NumberFormatting)'></a>9. Floyd’s Triangle (NumberFormatting)"
   ]
  },
  {
   "cell_type": "code",
   "execution_count": null,
   "metadata": {},
   "outputs": [],
   "source": [
    "def digitCount(n):\n",
    "    s=0\n",
    "    while(n!=0):\n",
    "        n//=10\n",
    "        s+=1\n",
    "    return(s)\n",
    "a = int(input('Enter how many rows to be displayed in Floyd\\'s Triangle\\n'))\n",
    "k=1\n",
    "print()\n",
    "for i in range(1,a+1):\n",
    "    j=1\n",
    "    while j<=i:\n",
    "        if digitCount(k)==1:\n",
    "            print(k,end='   ')\n",
    "            k+=1\n",
    "            j+=1\n",
    "        elif digitCount(k)==2:\n",
    "            print(k,end='  ')\n",
    "            k+=1\n",
    "            j+=1\n",
    "        else:\n",
    "            print(k,end='')\n",
    "            k+=1\n",
    "            j+=1\n",
    "    print()"
   ]
  },
  {
   "cell_type": "markdown",
   "metadata": {},
   "source": [
    "#### <a id='10._Fibonacci_Series'></a>10. Fibonacci Series (NumberCheck)"
   ]
  },
  {
   "cell_type": "code",
   "execution_count": null,
   "metadata": {},
   "outputs": [],
   "source": [
    "def fibs(n):\n",
    "    pre = 0\t\n",
    "    nxt = 1\n",
    "    fib = []\n",
    "    for i in range(n):\n",
    "            fib.append(pre+nxt)\n",
    "            pre = nxt\n",
    "            nxt = fib[i]\n",
    "            if fib[-1] >= n:\n",
    "                break\n",
    "    return fib\n",
    "n = int(input('Enter the number to check whether it is Fibnocci number or not'))\n",
    "fiList = fibs(n)\n",
    "print(fiList)\n",
    "if n not in fiList:\n",
    "    print('%d is not a Fibnocci number'%n)\n",
    "else:\n",
    "    print('%d is a Fibnocci number'%n)"
   ]
  },
  {
   "cell_type": "markdown",
   "metadata": {},
   "source": [
    "#### <a id='11._Factorial_of_a_Number'></a>11. Factorial of a Number"
   ]
  },
  {
   "cell_type": "code",
   "execution_count": 79,
   "metadata": {},
   "outputs": [
    {
     "name": "stdout",
     "output_type": "stream",
     "text": [
      "Enter the number to calculate the Factorial\n",
      "10\n",
      "3628800\n"
     ]
    }
   ],
   "source": [
    "def fact(n):\n",
    "    f = []\n",
    "    m=1\n",
    "    for i in range(n):\n",
    "        f.append(n-i)\n",
    "        m*=f[i]\n",
    "    return m\n",
    "n = int(input('Enter the number to calculate the Factorial\\n'))\n",
    "print(fact(n))"
   ]
  },
  {
   "cell_type": "code",
   "execution_count": 81,
   "metadata": {},
   "outputs": [
    {
     "name": "stdout",
     "output_type": "stream",
     "text": [
      "Enter the number to calculate the Factorial\n",
      "10\n"
     ]
    },
    {
     "data": {
      "text/plain": [
       "3628800"
      ]
     },
     "execution_count": 81,
     "metadata": {},
     "output_type": "execute_result"
    }
   ],
   "source": [
    "# 11a. Factorial of a Number (Using reduce and lambda functions)\n",
    "from functools import reduce\n",
    "n = int(input('Enter the number to calculate the Factorial\\n'))\n",
    "lst = [i for i in range(1,n+1)]\n",
    "reduce(lambda i,j: i*j, lst)"
   ]
  },
  {
   "cell_type": "markdown",
   "metadata": {},
   "source": [
    "#### <a id='12._Prime_Factors_of_a_Number'></a>12. Prime Factors of a Number"
   ]
  },
  {
   "cell_type": "code",
   "execution_count": 1,
   "metadata": {},
   "outputs": [
    {
     "name": "stdout",
     "output_type": "stream",
     "text": [
      "Enter the number to calculate the prime factors10\n",
      "[1, 2, 5, 10]\n"
     ]
    }
   ],
   "source": [
    "def pfact(n):\n",
    "    f = []\n",
    "    for i in range(1,n+1):\n",
    "        if n%i == 0:\n",
    "            f.append(i)\n",
    "    return f      \n",
    "n = int(input('Enter the number to calculate the prime factors'))\n",
    "print(pfact(n))"
   ]
  },
  {
   "cell_type": "markdown",
   "metadata": {},
   "source": [
    "#### <a id='13._Pyramid_of_Digits_(NumberFormatting)'></a>13. Pyramid of Digits / Numbers Triangle (NumberFormatting)"
   ]
  },
  {
   "cell_type": "code",
   "execution_count": null,
   "metadata": {},
   "outputs": [],
   "source": [
    "def digitCount(n):\n",
    "    s = 0\n",
    "    while(n!=0):\n",
    "        n//=10\n",
    "        s+=1\n",
    "    return s \n",
    "n = int(input('Enter the number of lines to be displayed'))\n",
    "c = 1\n",
    "for i in range(n):\n",
    "    j=n-i\n",
    "    print()\n",
    "    while(j>=0):\n",
    "        print('  ',end='')\n",
    "        j-=1       #When you are using minus(-)/depriciation, always opposite of depreciation happens in while loop\n",
    "    for k in range(i):\n",
    "        if digitCount(c) == 1:\n",
    "            print(c,end='   ')\n",
    "        elif digitCount(c) == 2:\n",
    "            print(c,end='  ')\n",
    "        else:\n",
    "            print(c,end=' ')\n",
    "        c+=1"
   ]
  },
  {
   "cell_type": "markdown",
   "metadata": {},
   "source": [
    "#### <a id='14._Number_of_Odd_and_Even_Numbers_in_an_Array'></a>14. Number of Odd and Even Numbers in an Array"
   ]
  },
  {
   "cell_type": "code",
   "execution_count": null,
   "metadata": {},
   "outputs": [],
   "source": [
    "def arr(n):\n",
    "    arrn = []\n",
    "    for i in range(1,n+1):\n",
    "        arrn.append(i)\n",
    "    return arrn \n",
    "n = int(input('Enter the highest number in the array'))\n",
    "cnt = 0\n",
    "arrl = arr(n)\n",
    "print(arrl)\n",
    "for i in range(len(arrl)):\n",
    "    if arrl[i]%2 == 0:\n",
    "        cnt+=1\n",
    "print('%d are the even numbers in the array'%cnt)\n",
    "print('%d are the odd numbers in the array'%(n-cnt))"
   ]
  },
  {
   "cell_type": "markdown",
   "metadata": {},
   "source": [
    "#### <a id='15._Conversion_from_Fahrenheit_into_Celsius'></a>15. Conversion from Fahrenheit into Celsius"
   ]
  },
  {
   "cell_type": "code",
   "execution_count": null,
   "metadata": {},
   "outputs": [],
   "source": [
    "def celtoF(c):\n",
    "    return ((9/5)*c + 32)\n",
    "c = float(input('Enter the Temparature in Celsius'))\n",
    "print('Temparature in Farenheit is %3.2f'%(celtoF(c)))"
   ]
  },
  {
   "cell_type": "markdown",
   "metadata": {},
   "source": [
    "#### <a id='16._Printing_numbers_in_an_Ordered_Form'></a>16. Printing numbers in an Ordered Form in an Array"
   ]
  },
  {
   "cell_type": "markdown",
   "metadata": {},
   "source": [
    "#### <a id='19._Conversion_of_Integers_into_Words'></a>19. Conversion of Integers into Words/Letters"
   ]
  },
  {
   "cell_type": "code",
   "execution_count": null,
   "metadata": {},
   "outputs": [],
   "source": [
    "name = input('Enter the name')\n",
    "for i in name:\n",
    "    print(chr(ord(i)))    #chr() function converts ASCII value to a Character"
   ]
  },
  {
   "cell_type": "markdown",
   "metadata": {},
   "source": [
    "#### <a id='20._Condensing_a_Number_into_a_Single_Digit'></a>20. *Condensing a Number into a Single Digit"
   ]
  },
  {
   "cell_type": "code",
   "execution_count": 6,
   "metadata": {},
   "outputs": [],
   "source": [
    "For String Consolidation see ‘Numerology’ Program\n",
    "For Number Consolidation see below example\n",
    "num = 123\n",
    "tot = 0\n",
    "while(num!=0):\n",
    "    tot+=num%10\n",
    "    num = num//10\n",
    "    if num==0:\n",
    "        break\n",
    "print(tot)"
   ]
  },
  {
   "cell_type": "markdown",
   "metadata": {},
   "source": [
    "#### <a id='22._Printing_ASCII_Values'></a>22. Printing ASCII Values"
   ]
  },
  {
   "cell_type": "code",
   "execution_count": 7,
   "metadata": {},
   "outputs": [
    {
     "ename": "SyntaxError",
     "evalue": "invalid syntax (<ipython-input-7-5d3221f8cc00>, line 1)",
     "output_type": "error",
     "traceback": [
      "\u001b[0;36m  File \u001b[0;32m\"<ipython-input-7-5d3221f8cc00>\"\u001b[0;36m, line \u001b[0;32m1\u001b[0m\n\u001b[0;31m    22. Printing ASCII Values\u001b[0m\n\u001b[0m               ^\u001b[0m\n\u001b[0;31mSyntaxError\u001b[0m\u001b[0;31m:\u001b[0m invalid syntax\n"
     ]
    }
   ],
   "source": [
    "name = input('Enter the name')\n",
    "for i in name:\n",
    "    print(ord(i))"
   ]
  },
  {
   "cell_type": "markdown",
   "metadata": {},
   "source": [
    "#### <a id='23._Swapping_of_Two_Integers'></a>23. Swapping of Two Integers"
   ]
  },
  {
   "cell_type": "code",
   "execution_count": 2,
   "metadata": {},
   "outputs": [
    {
     "name": "stdout",
     "output_type": "stream",
     "text": [
      "50 100\n"
     ]
    }
   ],
   "source": [
    "#Swapping using the third variable tmp\n",
    "a = 100\n",
    "b = 50\n",
    "tmp = a\n",
    "a = b\n",
    "b = tmp\n",
    "print(a,b)"
   ]
  },
  {
   "cell_type": "code",
   "execution_count": 3,
   "metadata": {},
   "outputs": [
    {
     "name": "stdout",
     "output_type": "stream",
     "text": [
      "50 100\n"
     ]
    }
   ],
   "source": [
    "# 23. Swapping of Two Integers\n",
    "#Swapping without using the third variable tmp\n",
    "a = 100\n",
    "b = 50\n",
    "a = a+b\n",
    "b = a-b\n",
    "a = a-b\n",
    "print(a,b)\n",
    "# Swapping with one line of code\n",
    "a,b = b,a"
   ]
  },
  {
   "cell_type": "code",
   "execution_count": 4,
   "metadata": {},
   "outputs": [
    {
     "name": "stdout",
     "output_type": "stream",
     "text": [
      "50 100\n"
     ]
    }
   ],
   "source": [
    "# 23. Swapping of Two Integers\n",
    "# Swapping with one line of code\n",
    "a,b = b,a\n",
    "print(a,b)"
   ]
  },
  {
   "cell_type": "markdown",
   "metadata": {},
   "source": [
    "#### <a id='26._Checking_Leap_Year_and_Printing_Leap_Years'></a>26. Checking Leap Year and Printing Leap Years"
   ]
  },
  {
   "cell_type": "code",
   "execution_count": 9,
   "metadata": {},
   "outputs": [
    {
     "name": "stdout",
     "output_type": "stream",
     "text": [
      "1904 is a leap year\n",
      "1908 is a leap year\n",
      "1912 is a leap year\n",
      "1916 is a leap year\n",
      "1920 is a leap year\n",
      "1924 is a leap year\n",
      "1928 is a leap year\n",
      "1932 is a leap year\n",
      "1936 is a leap year\n",
      "1940 is a leap year\n",
      "1944 is a leap year\n",
      "1948 is a leap year\n",
      "1952 is a leap year\n",
      "1956 is a leap year\n",
      "1960 is a leap year\n",
      "1964 is a leap year\n",
      "1968 is a leap year\n",
      "1972 is a leap year\n",
      "1976 is a leap year\n",
      "1980 is a leap year\n",
      "1984 is a leap year\n",
      "1988 is a leap year\n",
      "1992 is a leap year\n",
      "1996 is a leap year\n",
      "2000 is a leap year\n"
     ]
    }
   ],
   "source": [
    "num = [1904,1908,1912,1916,1920,1924,1928, 1932,1936,1940, 1944, 1948, 1952,1956,1960,1964,1968,1972,1976,1980,1984,1988,1992,1996,2000]\n",
    "for i in num:\n",
    "    if (i%4 == 0 and i%100 != 0) or (i%4 ==0 and i%100 ==0 and i%400 ==0) :\n",
    "        print('%d is a leap year'%i)\n",
    "    else:\n",
    "        print('%d is not a leap year'%i)"
   ]
  },
  {
   "cell_type": "markdown",
   "metadata": {},
   "source": [
    "#### <a id='27._Conversion_of_Decimal_Number_into_Binary_Number'></a>27. Conversion of Decimal Number into Binary Number"
   ]
  },
  {
   "cell_type": "code",
   "execution_count": 67,
   "metadata": {},
   "outputs": [
    {
     "name": "stdout",
     "output_type": "stream",
     "text": [
      "1010110\n"
     ]
    }
   ],
   "source": [
    "def decimaltobinary(n):\n",
    "    lst = []\n",
    "    while(n!=0):\n",
    "        lst.append(n%2)\n",
    "        n//=2\n",
    "    lst.reverse()\n",
    "    for i in lst:\n",
    "        print(i,end='')\n",
    "    print()\n",
    "n = [86]\n",
    "for i in n: decimaltobinary(i)"
   ]
  },
  {
   "cell_type": "markdown",
   "metadata": {},
   "source": [
    "#### <a id='28._Conversion_of_Binary_Number_into_Decimal_Number'></a>28. Conversion of Binary Number into Decimal Number"
   ]
  },
  {
   "cell_type": "code",
   "execution_count": 84,
   "metadata": {},
   "outputs": [
    {
     "name": "stdout",
     "output_type": "stream",
     "text": [
      "Enter the Binary Number\n",
      "1010110\n"
     ]
    },
    {
     "data": {
      "text/plain": [
       "86"
      ]
     },
     "execution_count": 84,
     "metadata": {},
     "output_type": "execute_result"
    }
   ],
   "source": [
    "def binarytodecimal(st):\n",
    "    prod = 0\n",
    "    st = st[::-1]  # Reversing the string\n",
    "    for i,j in enumerate(st):\n",
    "        prod+=((2**(int(i)))*int(st[i]))\n",
    "    return(prod)\n",
    "x = input('Enter the Binary Number\\n')\n",
    "binarytodecimal(x)"
   ]
  },
  {
   "cell_type": "markdown",
   "metadata": {},
   "source": [
    "#### <a id='29._Checking_the_given_Number_is_Binary_or_Not'></a>29. Checking the given Number is Binary or Not"
   ]
  },
  {
   "cell_type": "code",
   "execution_count": null,
   "metadata": {},
   "outputs": [],
   "source": []
  },
  {
   "cell_type": "markdown",
   "metadata": {},
   "source": [
    "#### <a id='30._Conversion_of_Decimal_Number_into_Octal_Number'></a>30. Conversion of Decimal Number into Octal Number"
   ]
  },
  {
   "cell_type": "code",
   "execution_count": 90,
   "metadata": {},
   "outputs": [
    {
     "name": "stdout",
     "output_type": "stream",
     "text": [
      "113553\n"
     ]
    }
   ],
   "source": [
    "def decimaltooctal(n):\n",
    "    lst = []\n",
    "    while(n!=0):\n",
    "        lst.append(n%8)\n",
    "        n//=8\n",
    "    lst.reverse()\n",
    "    for i in lst:\n",
    "        print(i,end='')\n",
    "    print()\n",
    "decimaltooctal(38763)"
   ]
  },
  {
   "cell_type": "markdown",
   "metadata": {},
   "source": [
    "#### <a id='31._Swapping_of_Two_Arrays'></a>31. Swapping of Two Arrays"
   ]
  },
  {
   "cell_type": "code",
   "execution_count": null,
   "metadata": {},
   "outputs": [],
   "source": []
  },
  {
   "cell_type": "markdown",
   "metadata": {},
   "source": [
    "#### <a id='32._Finding_NCR_Factor'></a>32. Finding NCR Factor"
   ]
  },
  {
   "cell_type": "code",
   "execution_count": null,
   "metadata": {},
   "outputs": [],
   "source": []
  },
  {
   "cell_type": "markdown",
   "metadata": {},
   "source": [
    "#### <a id='33._LCM_and_GCD_of_Numbers'></a>33. LCM and GCD of Numbers"
   ]
  },
  {
   "cell_type": "code",
   "execution_count": null,
   "metadata": {},
   "outputs": [],
   "source": []
  },
  {
   "cell_type": "markdown",
   "metadata": {},
   "source": [
    "#### <a id='34._Number_of_Times_the_Given_Number_Occurred'></a>34. Number of Times the Given Number Occurred"
   ]
  },
  {
   "cell_type": "code",
   "execution_count": null,
   "metadata": {},
   "outputs": [],
   "source": []
  },
  {
   "cell_type": "markdown",
   "metadata": {},
   "source": [
    "#### <a id='35._Pascal’s_Triangle'></a>35. Pascal’s Triangle"
   ]
  },
  {
   "cell_type": "code",
   "execution_count": null,
   "metadata": {},
   "outputs": [],
   "source": []
  },
  {
   "cell_type": "markdown",
   "metadata": {},
   "source": [
    "#### <a id='36._Biggest_and_Lowest_Elements_of_an_Array'></a>36. Biggest and Lowest Elements of an Array"
   ]
  },
  {
   "cell_type": "code",
   "execution_count": null,
   "metadata": {},
   "outputs": [],
   "source": []
  },
  {
   "cell_type": "markdown",
   "metadata": {},
   "source": [
    "#### <a id='37._Double_Dimensional_Arrays'></a>37. Double Dimensional Arrays"
   ]
  },
  {
   "cell_type": "code",
   "execution_count": null,
   "metadata": {},
   "outputs": [],
   "source": []
  },
  {
   "cell_type": "markdown",
   "metadata": {},
   "source": [
    "#### <a id='38._Addition_of_Matrices'></a>38. Addition of Matrices"
   ]
  },
  {
   "cell_type": "code",
   "execution_count": null,
   "metadata": {},
   "outputs": [],
   "source": []
  },
  {
   "cell_type": "markdown",
   "metadata": {},
   "source": [
    "#### <a id='39._Multiplication_of_Two_Matrices'></a>39. Multiplication of Two Matrices"
   ]
  },
  {
   "cell_type": "code",
   "execution_count": null,
   "metadata": {},
   "outputs": [],
   "source": []
  },
  {
   "cell_type": "markdown",
   "metadata": {},
   "source": [
    "#### <a id='40._Transposing_of_a_Matrix'></a>40. Transposing of a Matrix"
   ]
  },
  {
   "cell_type": "code",
   "execution_count": null,
   "metadata": {},
   "outputs": [],
   "source": []
  },
  {
   "cell_type": "markdown",
   "metadata": {},
   "source": [
    "#### <a id='41._Sum_of_Diagonal_Elements_of_a_Matrix'></a>41. Sum of Diagonal Elements of a Matrix"
   ]
  },
  {
   "cell_type": "code",
   "execution_count": null,
   "metadata": {},
   "outputs": [],
   "source": []
  },
  {
   "cell_type": "markdown",
   "metadata": {},
   "source": [
    "#### <a id='42._Upper_Right_and_Lower_Left_Triangles_of_a_Matrix'></a>42. Upper Right and Lower Left Triangles of a Matrix"
   ]
  },
  {
   "cell_type": "code",
   "execution_count": null,
   "metadata": {},
   "outputs": [],
   "source": []
  },
  {
   "cell_type": "markdown",
   "metadata": {},
   "source": [
    "#### <a id='43._Largest_and_Smallest_Values_of_a_Matrix'></a>43. Largest and Smallest Values of a Matrix"
   ]
  },
  {
   "cell_type": "code",
   "execution_count": null,
   "metadata": {},
   "outputs": [],
   "source": []
  },
  {
   "cell_type": "markdown",
   "metadata": {},
   "source": [
    "#### <a id='44._Sorting_all_Elements_of_a_Matrix'></a>44. Sorting all Elements of a Matrix"
   ]
  },
  {
   "cell_type": "code",
   "execution_count": null,
   "metadata": {},
   "outputs": [],
   "source": []
  },
  {
   "cell_type": "markdown",
   "metadata": {},
   "source": [
    "#### <a id='45._Sorting_of_a_Matrix_by_Rows'></a>45. Sorting of a Matrix by Rows"
   ]
  },
  {
   "cell_type": "code",
   "execution_count": null,
   "metadata": {},
   "outputs": [],
   "source": []
  },
  {
   "cell_type": "markdown",
   "metadata": {},
   "source": [
    "#### <a id='46._Converting_a_Series_of_Numbers_into_a_Single_Number'></a>46. Converting a Series of Numbers into a Single Number"
   ]
  },
  {
   "cell_type": "code",
   "execution_count": null,
   "metadata": {},
   "outputs": [],
   "source": []
  },
  {
   "cell_type": "markdown",
   "metadata": {},
   "source": [
    "#### <a id='47._Multiplication_of_any_Number_of_Matrices'></a>47. Multiplication of any Number of Matrices"
   ]
  },
  {
   "cell_type": "code",
   "execution_count": null,
   "metadata": {},
   "outputs": [],
   "source": []
  },
  {
   "cell_type": "markdown",
   "metadata": {},
   "source": [
    "#### <a id='48._Triple_Dimensional_Arrays'></a>48. Triple Dimensional Arrays"
   ]
  },
  {
   "cell_type": "code",
   "execution_count": null,
   "metadata": {},
   "outputs": [],
   "source": []
  },
  {
   "cell_type": "markdown",
   "metadata": {},
   "source": [
    "#### <a id='49._Inverse_of_a_Matrix'></a>49. Inverse of a Matrix"
   ]
  },
  {
   "cell_type": "code",
   "execution_count": null,
   "metadata": {},
   "outputs": [],
   "source": []
  },
  {
   "cell_type": "markdown",
   "metadata": {},
   "source": [
    "#### <a id='50._Combination_of_Characters'></a>50. Combination of Characters"
   ]
  },
  {
   "cell_type": "code",
   "execution_count": null,
   "metadata": {},
   "outputs": [],
   "source": []
  },
  {
   "cell_type": "markdown",
   "metadata": {},
   "source": [
    "#### <a id='51._Determinant_of_a_Matrix'></a>51. Determinant of a Matrix"
   ]
  },
  {
   "cell_type": "code",
   "execution_count": null,
   "metadata": {},
   "outputs": [],
   "source": []
  },
  {
   "cell_type": "markdown",
   "metadata": {},
   "source": [
    "#### 52. <a id='52._Numerology_Program'></a>Numerology"
   ]
  },
  {
   "cell_type": "code",
   "execution_count": 10,
   "metadata": {},
   "outputs": [
    {
     "name": "stdout",
     "output_type": "stream",
     "text": [
      "\n",
      "1\n"
     ]
    }
   ],
   "source": [
    "def numerology(name):\n",
    "    s = 999\n",
    "    tmp = name\n",
    "    def chareqinum(c):      \n",
    "        if c == 'A' or c == 'a': return 1\n",
    "        elif c == 'B' or c == 'b': return 2\n",
    "        elif c == 'C' or c == 'c': return 3\n",
    "        elif c == 'D' or c == 'd': return 4            \n",
    "        elif c == 'E' or c == 'e': return 5\n",
    "        elif c == 'F' or c == 'f': return 6\n",
    "        elif c == 'G' or c == 'g': return 7\n",
    "        elif c == 'H' or c == 'h': return 8\n",
    "        elif c == 'I' or c == 'i': return 9\n",
    "        elif c == 'J' or c == 'j': return 10\n",
    "        elif c == 'K' or c == 'k': return 11\n",
    "        elif c == 'L' or c == 'l': return 12\n",
    "        elif c == 'M' or c == 'm': return 13\n",
    "        elif c == 'N' or c == 'n': return 14\n",
    "        elif c == 'O' or c == 'o': return 15\n",
    "        elif c == 'P' or c == 'p': return 16\n",
    "        elif c == 'Q' or c == 'q': return 17\n",
    "        elif c == 'R' or c == 'r': return 18\n",
    "        elif c == 'S' or c == 's': return 19\n",
    "        elif c == 'T' or c == 't': return 20\n",
    "        elif c == 'U' or c == 'u': return 21\n",
    "        elif c == 'V' or c == 'v': return 22\n",
    "        elif c == 'W' or c == 'w': return 23\n",
    "        elif c == 'X' or c == 'x': return 24\n",
    "        elif c == 'Y' or c == 'y': return 25\n",
    "        elif c == 'Z' or c == 'z': return 26\n",
    "        elif c == '1': return 1\n",
    "        elif c == '2': return 2\n",
    "        elif c == '3': return 3\n",
    "        elif c == '4': return 4\n",
    "        elif c == '5': return 5\n",
    "        elif c == '6': return 6\n",
    "        elif c == '7': return 7\n",
    "        elif c == '8': return 8\n",
    "        elif c == '9': return 9\n",
    "        else: return 0\n",
    "    def consolidate(stri):                 #Nested Functions\n",
    "        tot = 0\n",
    "        for i in stri:                            #Global Variable\n",
    "            tot+=chareqinum(i)\n",
    "        return tot\n",
    "    while (s!=0):\n",
    "        if s!=0 and s<=9:\n",
    "            break\n",
    "        else:\n",
    "            s = consolidate(tmp)\n",
    "            tmp = str(s)\n",
    "    return s\n",
    "print()\n",
    "print(numerology('puttur sandeep rishtih'))"
   ]
  },
  {
   "cell_type": "markdown",
   "metadata": {},
   "source": [
    "#### <a id='53._Counting_characters_in_a_string'></a>53. Counting characters in a string"
   ]
  },
  {
   "cell_type": "code",
   "execution_count": 5,
   "metadata": {},
   "outputs": [
    {
     "name": "stdout",
     "output_type": "stream",
     "text": [
      "{'r': 9, ' ': 25, 's': 3, 'u': 8, 'G': 2, 'b': 4, 'i': 11, 't': 14, '-': 1, 'P': 2, 'f': 3, 'A': 1, 'g': 3, 'e': 18, 'L': 1, 'c': 7, 'm': 2, ',': 1, 'v': 1, 'n': 12, 'k': 1, 'p': 2, 'o': 16, 'j': 2, 'h': 7, 'a': 4, 'w': 4, 'T': 1, 'd': 4, 'l': 3}\n"
     ]
    }
   ],
   "source": [
    "strs = 'This website include free information about the Project Gutenberg-including how to make donations to the Project Gutenberg Li Archive founction, how to help produce our new'\n",
    "cnt = {}  # creating an empty dictionary\n",
    "for i in strs:\n",
    "    cnt.setdefault(i,0)\n",
    "    cnt[i]+=1\n",
    "print(cnt)"
   ]
  },
  {
   "cell_type": "code",
   "execution_count": 6,
   "metadata": {},
   "outputs": [
    {
     "name": "stdout",
     "output_type": "stream",
     "text": [
      "{' ': 25,\n",
      " ',': 1,\n",
      " '-': 1,\n",
      " 'A': 1,\n",
      " 'G': 2,\n",
      " 'L': 1,\n",
      " 'P': 2,\n",
      " 'T': 1,\n",
      " 'a': 4,\n",
      " 'b': 4,\n",
      " 'c': 7,\n",
      " 'd': 4,\n",
      " 'e': 18,\n",
      " 'f': 3,\n",
      " 'g': 3,\n",
      " 'h': 7,\n",
      " 'i': 11,\n",
      " 'j': 2,\n",
      " 'k': 1,\n",
      " 'l': 3,\n",
      " 'm': 2,\n",
      " 'n': 12,\n",
      " 'o': 16,\n",
      " 'p': 2,\n",
      " 'r': 9,\n",
      " 's': 3,\n",
      " 't': 14,\n",
      " 'u': 8,\n",
      " 'v': 1,\n",
      " 'w': 4}\n"
     ]
    }
   ],
   "source": [
    "# 53. Counting characters in a string using pprint\n",
    "from pprint import pprint,pformat\n",
    "strs = 'This website include free information about the Project Gutenberg-including how to make donations to the Project Gutenberg Li Archive founction, how to help produce our new'\n",
    "cnt = {}  # creating an empty dictionary\n",
    "for i in strs:\n",
    "    cnt.setdefault(i,0)\n",
    "    cnt[i]+=1\n",
    "pprint(cnt)"
   ]
  },
  {
   "cell_type": "markdown",
   "metadata": {},
   "source": [
    "#### <a id='54._Counting_repetitive_words_in_a_string'></a>54. Counting repetitive words in a string"
   ]
  },
  {
   "cell_type": "code",
   "execution_count": null,
   "metadata": {},
   "outputs": [],
   "source": []
  },
  {
   "cell_type": "markdown",
   "metadata": {},
   "source": [
    "#### <a id='55._Leap_Year'></a>55. Leap Year"
   ]
  },
  {
   "cell_type": "code",
   "execution_count": 3,
   "metadata": {},
   "outputs": [
    {
     "name": "stdout",
     "output_type": "stream",
     "text": [
      "Enter the Year1700\n",
      "Not Leap Year\n"
     ]
    }
   ],
   "source": [
    "def leap_year(n):\n",
    "    if n%4==0:\n",
    "        if n%100==0:\n",
    "            if n%400==0:\n",
    "                print('Leap Year')\n",
    "            else:\n",
    "                print('Not Leap Year')\n",
    "        else:\n",
    "            print('Leap Year')\n",
    "    else:\n",
    "        print('Not Leap Year')\n",
    "leap_year(int(input('Enter the Year')))"
   ]
  },
  {
   "cell_type": "markdown",
   "metadata": {},
   "source": [
    "#### <a id='56._Given_the_names'></a>56. Given the names and grades for each student in a Physics class of  students, store them in a nested list and print the name(s) of any student(s) having the second lowest grade.\n",
    "<br>https://www.hackerrank.com/challenges/nested-list/problem"
   ]
  },
  {
   "cell_type": "code",
   "execution_count": null,
   "metadata": {},
   "outputs": [],
   "source": [
    "marksheet = []\n",
    "scorelist =[]\n",
    "if __name__ == '__main__':\n",
    "    for _ in range(int(input())):\n",
    "        name = input()\n",
    "        score = float(input())\n",
    "        marksheet+=[[name,score]]\n",
    "        scorelist+=[score]\n",
    "\n",
    "    b = sorted(dict.fromkeys(scorelist))[1]\n",
    "    for a,c in sorted(marksheet):\n",
    "        if c==b:\n",
    "            print(a)"
   ]
  },
  {
   "cell_type": "markdown",
   "metadata": {},
   "source": [
    "#### <a id='57._You_are_given_an'></a>57. You are given an integer, your task is to print an alphabet rangoli of size (Rangoli is a form of Indian folk art based on creation of patterns)"
   ]
  },
  {
   "cell_type": "code",
   "execution_count": 1,
   "metadata": {},
   "outputs": [
    {
     "name": "stdout",
     "output_type": "stream",
     "text": [
      "10\n",
      "------------------j------------------\n",
      "----------------j-i-j----------------\n",
      "--------------j-i-h-i-j--------------\n",
      "------------j-i-h-g-h-i-j------------\n",
      "----------j-i-h-g-f-g-h-i-j----------\n",
      "--------j-i-h-g-f-e-f-g-h-i-j--------\n",
      "------j-i-h-g-f-e-d-e-f-g-h-i-j------\n",
      "----j-i-h-g-f-e-d-c-d-e-f-g-h-i-j----\n",
      "--j-i-h-g-f-e-d-c-b-c-d-e-f-g-h-i-j--\n",
      "j-i-h-g-f-e-d-c-b-a-b-c-d-e-f-g-h-i-j\n",
      "--j-i-h-g-f-e-d-c-b-c-d-e-f-g-h-i-j--\n",
      "----j-i-h-g-f-e-d-c-d-e-f-g-h-i-j----\n",
      "------j-i-h-g-f-e-d-e-f-g-h-i-j------\n",
      "--------j-i-h-g-f-e-f-g-h-i-j--------\n",
      "----------j-i-h-g-f-g-h-i-j----------\n",
      "------------j-i-h-g-h-i-j------------\n",
      "--------------j-i-h-i-j--------------\n",
      "----------------j-i-j----------------\n",
      "------------------j------------------\n"
     ]
    }
   ],
   "source": [
    "import string\n",
    "alpha = string.ascii_lowercase\n",
    "\n",
    "n = int(input())\n",
    "L = []\n",
    "\n",
    "for i in range(n):\n",
    "    s = \"-\".join(alpha[i:n])\n",
    "    L.append(s[::-1]+s[1:])\n",
    "\n",
    "width = len(L[0])\n",
    "\n",
    "for i in range(n-1, 0, -1):\n",
    "    print(L[i].center(width, \"-\"))\n",
    "\n",
    "for i in range(n):\n",
    "    print(L[i].center(width, \"-\"))"
   ]
  },
  {
   "cell_type": "markdown",
   "metadata": {},
   "source": [
    "#### <a id='58._Capitalize'></a>58. Capitalize! (Example for join, split functions and for loop comprehension)\n",
    "You are asked to ensure that the first and last names of people begin with a capital letter in their passports. For example, alison heck should be capitalised correctly as Alison Heck."
   ]
  },
  {
   "cell_type": "code",
   "execution_count": 2,
   "metadata": {},
   "outputs": [
    {
     "name": "stdout",
     "output_type": "stream",
     "text": [
      "alison   heck\n",
      "Alison   Heck\n"
     ]
    }
   ],
   "source": [
    "def solve(s):\n",
    "    return(' '.join(i.capitalize() for i in s.split(' ')))  # You can try removing space in split function\n",
    "s = input()\n",
    "print(solve(s))"
   ]
  },
  {
   "cell_type": "markdown",
   "metadata": {},
   "source": [
    "#### <a id='59._You_are_given_an'></a>59. You are given an immutable string, and you want to make changes to it. We have seen that lists are mutable (they can be changed), and tuples, strings are immutable (they cannot be changed)."
   ]
  },
  {
   "cell_type": "code",
   "execution_count": null,
   "metadata": {},
   "outputs": [],
   "source": [
    "# Method 1\n",
    "string = \"abracadabra\"\n",
    "l = list(string)\n",
    "l[5] = 'k'\n",
    "string = ''.join(l)\n",
    "print (string)\n",
    "abrackdabra\n",
    "# Method 2\n",
    "string = string[:5] + \"k\" + string[6:]\n",
    "print(string)\n",
    "abrackdabra"
   ]
  },
  {
   "cell_type": "markdown",
   "metadata": {},
   "source": [
    "#### <a id='60._List_Comprehension_Cubiod_Example'></a>60. List Comprehension (Cubiod Example)\n",
    "You are given three integers X, Y, Z  and  representing the dimensions of a cuboid along with an integer N . You have to print a list of all possible coordinates given by (i,j,k)  on a 3D grid where the sum of (i + j + k) is not equal to N. "
   ]
  },
  {
   "cell_type": "code",
   "execution_count": 1,
   "metadata": {},
   "outputs": [
    {
     "name": "stdout",
     "output_type": "stream",
     "text": [
      "1\n",
      "1\n",
      "1\n",
      "2\n",
      "[[0, 0, 0], [0, 0, 1], [0, 1, 0], [1, 0, 0], [1, 1, 1]]\n"
     ]
    }
   ],
   "source": [
    "if __name__ == '__main__':\n",
    "    x = int(input())\n",
    "    y = int(input())\n",
    "    z = int(input())\n",
    "    n = int(input())\n",
    "\n",
    "print([ [ i, j, k] for i in range( x + 1) for j in range( y + 1) for k in range( z + 1) if ( ( i + j + k ) != n )])"
   ]
  },
  {
   "cell_type": "markdown",
   "metadata": {},
   "source": [
    "#### <a id='61._String_Validators'></a>61. String Validators using 'any' or 'all'\n",
    "#### https://www.hackerrank.com/challenges/string-validators/problem"
   ]
  },
  {
   "cell_type": "code",
   "execution_count": 1,
   "metadata": {},
   "outputs": [
    {
     "name": "stdout",
     "output_type": "stream",
     "text": [
      "qA2\n",
      "True\n",
      "True\n",
      "True\n",
      "True\n",
      "True\n"
     ]
    }
   ],
   "source": [
    "if __name__ == '__main__':\n",
    "    s = input()\n",
    "    print(any([c.isalnum() for c in s]))\n",
    "    print(any([c.isalpha() for c in s]))\n",
    "    print(any([c.isdigit() for c in s]))\n",
    "    print(any([c.islower() for c in s]))\n",
    "    print(any([c.isupper() for c in s]))"
   ]
  },
  {
   "cell_type": "markdown",
   "metadata": {},
   "source": [
    "#### Generation of Numbers using comprehension"
   ]
  },
  {
   "cell_type": "code",
   "execution_count": 6,
   "metadata": {},
   "outputs": [
    {
     "data": {
      "text/plain": [
       "[0, 1, 2, 3, 4, 5, 6, 7, 8, 9]"
      ]
     },
     "execution_count": 6,
     "metadata": {},
     "output_type": "execute_result"
    }
   ],
   "source": [
    "[i for i in range(10)]"
   ]
  },
  {
   "cell_type": "markdown",
   "metadata": {},
   "source": [
    "#### Generation of Odd Numbers using comprehension"
   ]
  },
  {
   "cell_type": "code",
   "execution_count": 9,
   "metadata": {},
   "outputs": [
    {
     "data": {
      "text/plain": [
       "[1, 3, 5, 7, 9]"
      ]
     },
     "execution_count": 9,
     "metadata": {},
     "output_type": "execute_result"
    }
   ],
   "source": [
    "[i for i in range(10) if i%2!=0]"
   ]
  },
  {
   "cell_type": "markdown",
   "metadata": {},
   "source": [
    "#### Generation of Even Numbers using comprehension"
   ]
  },
  {
   "cell_type": "code",
   "execution_count": 10,
   "metadata": {},
   "outputs": [
    {
     "data": {
      "text/plain": [
       "[0, 2, 4, 6, 8]"
      ]
     },
     "execution_count": 10,
     "metadata": {},
     "output_type": "execute_result"
    }
   ],
   "source": [
    "[i for i in range(10) if i%2==0]"
   ]
  },
  {
   "cell_type": "markdown",
   "metadata": {},
   "source": [
    "#### Linked List Problem: https://www.hackerrank.com/challenges/30-linked-list/problem"
   ]
  },
  {
   "cell_type": "code",
   "execution_count": 1,
   "metadata": {},
   "outputs": [
    {
     "name": "stdout",
     "output_type": "stream",
     "text": [
      "5\n",
      "8\n",
      "3\n",
      "8\n",
      "4\n",
      "9\n",
      "8 3 8 4 9 "
     ]
    }
   ],
   "source": [
    "class Node:\n",
    "    def __init__(self,data):\n",
    "        self.data = data\n",
    "        self.next = None \n",
    "class Solution: \n",
    "    def display(self,head):\n",
    "        current = head\n",
    "        while current:\n",
    "            print(current.data,end=' ')\n",
    "            current = current.next\n",
    "\n",
    "    def insert(self,head,data):\n",
    "        if head == None:\n",
    "            head = Node(data)\n",
    "            return head\n",
    "        else:\n",
    "            current = head\n",
    "            while(current):\n",
    "                if current.next == None:\n",
    "                    temp = Node(data)        # It's very very important to create a Node and assign it to some temp variable\n",
    "                    current.next = temp      # if you give directly current.next = Node(data) to skip above step then it will not work\n",
    "                    current = temp.next\n",
    "                else:\n",
    "                    current = current.next\n",
    "            return head\n",
    "mylist= Solution()\n",
    "T=int(input())\n",
    "head=None\n",
    "for i in range(T):\n",
    "    data=int(input())\n",
    "    head=mylist.insert(head,data)    \n",
    "mylist.display(head);"
   ]
  },
  {
   "cell_type": "code",
   "execution_count": 3,
   "metadata": {},
   "outputs": [
    {
     "name": "stdout",
     "output_type": "stream",
     "text": [
      "5\n",
      "1\n",
      "5\n",
      "2\n",
      "6\n",
      "4\n",
      "1 5 2 6 4 "
     ]
    }
   ],
   "source": [
    "# Another way to solve above problem\n",
    "class Node:\n",
    "    def __init__(self,data):\n",
    "        self.data = data\n",
    "        self.next = None \n",
    "class Solution: \n",
    "    def insert(self,head,data):\n",
    "            p = Node(data)           \n",
    "            if head==None:\n",
    "                head=p\n",
    "            elif head.next==None:\n",
    "                head.next=p\n",
    "            else:\n",
    "                start=head\n",
    "                while(start.next!=None):\n",
    "                    start=start.next\n",
    "                start.next=p\n",
    "            return head  \n",
    "    def display(self,head):\n",
    "        current = head\n",
    "        while current:\n",
    "            print(current.data,end=' ')\n",
    "            current = current.next\n",
    "\n",
    "mylist= Solution()\n",
    "T=int(input())\n",
    "head=None\n",
    "for i in range(T):\n",
    "    data=int(input())\n",
    "    head=mylist.insert(head,data)\n",
    "mylist.display(head); "
   ]
  },
  {
   "cell_type": "markdown",
   "metadata": {},
   "source": [
    "#### Remove Duplicates in Linked List: https://www.hackerrank.com/challenges/30-linked-list-deletion/problem?utm_campaign=30_days_of_code_continuous&utm_medium=email&utm_source=daily_reminder\n",
    "<bn>\n",
    "* Constraints: The data elements of the linked list argument will always be in non-decreasing order.\n",
    "<bn>\n",
    "* Note: The  pointer may be null, indicating that the list is empty. Be sure to reset your  pointer when performing deletions to avoid breaking the list."
   ]
  },
  {
   "cell_type": "code",
   "execution_count": 4,
   "metadata": {},
   "outputs": [
    {
     "name": "stdout",
     "output_type": "stream",
     "text": [
      "5\n",
      "1\n",
      "2\n",
      "2\n",
      "3\n",
      "3\n",
      "1 2 3 "
     ]
    }
   ],
   "source": [
    "class Node:\n",
    "    def __init__(self,data):\n",
    "        self.data = data\n",
    "        self.next = None \n",
    "class Solution: \n",
    "    def insert(self,head,data):\n",
    "            p = Node(data)           \n",
    "            if head==None:\n",
    "                head=p\n",
    "            elif head.next==None:\n",
    "                head.next=p\n",
    "            else:\n",
    "                start=head\n",
    "                while(start.next!=None):\n",
    "                    start=start.next\n",
    "                start.next=p\n",
    "            return head  \n",
    "    def display(self,head):\n",
    "        current = head\n",
    "        while current:\n",
    "            print(current.data,end=' ')\n",
    "            current = current.next\n",
    "\n",
    "    def removeDuplicates(self,head):\n",
    "        #Write your code here\n",
    "        temp = head\n",
    "        if temp==None:\n",
    "            return head\n",
    "        elif temp.next==None:\n",
    "            return head\n",
    "        else:\n",
    "            while(temp.next!=None):\n",
    "                nxtno = temp.next\n",
    "                if temp.data == nxtno.data:\n",
    "                    temp.next = nxtno.next\n",
    "                else:\n",
    "                    temp = temp.next\n",
    "            return head\n",
    "mylist= Solution()\n",
    "T=int(input())\n",
    "head=None\n",
    "for i in range(T):\n",
    "    data=int(input())\n",
    "    head=mylist.insert(head,data)    \n",
    "head=mylist.removeDuplicates(head)\n",
    "mylist.display(head); "
   ]
  },
  {
   "cell_type": "code",
   "execution_count": 10,
   "metadata": {},
   "outputs": [
    {
     "name": "stdout",
     "output_type": "stream",
     "text": [
      "3\n",
      "17\n",
      "Prime\n",
      "8\n",
      "Not prime\n",
      "19\n",
      "Prime\n"
     ]
    }
   ],
   "source": [
    "def prime(n):\n",
    "    if n==2:\n",
    "        return None\n",
    "    else:\n",
    "        for i in range(2,n):\n",
    "            if n%i==0:\n",
    "                return('Not prime')\n",
    "            else:\n",
    "                continue\n",
    "        return None\n",
    "if __name__=='__main__':\n",
    "    T = int(input())\n",
    "    for i in range(T):\n",
    "        n = int(input())\n",
    "        x = prime(n)\n",
    "        if x is None:\n",
    "            print('Prime')\n",
    "        else:\n",
    "            print(x)\n",
    "        "
   ]
  },
  {
   "cell_type": "code",
   "execution_count": 2,
   "metadata": {},
   "outputs": [
    {
     "name": "stdout",
     "output_type": "stream",
     "text": [
      "3.5 ms ± 41.4 µs per loop (mean ± std. dev. of 7 runs, 100 loops each)\n"
     ]
    }
   ],
   "source": [
    "def isprime(num):\n",
    "    if num > 1:\n",
    "        for i in range(2, num):\n",
    "            if num % i == 0:\n",
    "                return False\n",
    "        return True\n",
    "\n",
    "%timeit [i for i in range(1000) if isprime(i)]"
   ]
  },
  {
   "cell_type": "markdown",
   "metadata": {},
   "source": [
    "#### __Nested Logic__: https://www.hackerrank.com/challenges/30-nested-logic/problem"
   ]
  },
  {
   "cell_type": "code",
   "execution_count": 1,
   "metadata": {},
   "outputs": [
    {
     "name": "stdout",
     "output_type": "stream",
     "text": [
      "31 12 2009\n",
      "1 1 2010\n",
      "30 11 -1\n",
      "0\n"
     ]
    }
   ],
   "source": [
    "if __name__=='__main__':\n",
    "    ad,am,ay = map(int,input().split(' '))\n",
    "    ed,em,ey = map(int,input().split(' '))\n",
    "    d = ad-ed\n",
    "    m = am-em\n",
    "    y = ay-ey\n",
    "    print(d,m,y)\n",
    "    if y<0:\n",
    "        fine = 0\n",
    "    elif y==0:\n",
    "        if m<0:\n",
    "            fine = 0\n",
    "        elif m>0:\n",
    "            fine = 500*m\n",
    "        else:\n",
    "            if d<=0:\n",
    "                fine = 0\n",
    "            else:\n",
    "                fine = 15*d\n",
    "    else:\n",
    "        fine = 10000\n",
    "    print(fine)"
   ]
  },
  {
   "cell_type": "markdown",
   "metadata": {},
   "source": [
    "#### __Test Cases:__ https://www.hackerrank.com/challenges/30-testing/problem"
   ]
  },
  {
   "cell_type": "code",
   "execution_count": null,
   "metadata": {},
   "outputs": [],
   "source": [
    "def minimum_index(seq):\n",
    "    if len(seq) == 0:\n",
    "        raise ValueError(\"Cannot get the minimum value index from an empty sequence\")\n",
    "    min_idx = 0\n",
    "    for i in range(1, len(seq)):\n",
    "        if a[i] < a[min_idx]:\n",
    "            min_idx = i\n",
    "    return min_idx"
   ]
  },
  {
   "cell_type": "markdown",
   "metadata": {},
   "source": [
    "#### Converting Nested Lists to a Dictionary"
   ]
  },
  {
   "cell_type": "code",
   "execution_count": 1,
   "metadata": {},
   "outputs": [],
   "source": [
    "x = [['Harry', 37.21], ['Berry', 37.21], ['Tina', 37.2], ['Akriti', 41], ['Harsh', 39]]"
   ]
  },
  {
   "cell_type": "code",
   "execution_count": 2,
   "metadata": {},
   "outputs": [
    {
     "name": "stdout",
     "output_type": "stream",
     "text": [
      "{'Harry': 37.21, 'Tina': 37.2, 'Berry': 37.21, 'Akriti': 41, 'Harsh': 39}\n"
     ]
    }
   ],
   "source": [
    "dic = {}\n",
    "for i in x:\n",
    "    dic.fromkeys(i)\n",
    "    dic.update({i[0]:i[1]})\n",
    "print(dic)"
   ]
  },
  {
   "cell_type": "code",
   "execution_count": 3,
   "metadata": {},
   "outputs": [],
   "source": [
    "x = [[1, 'carnegie', 12345, 30],[2, 'london', 12344, 30], [4, 'berlin', 1345563, 30]]"
   ]
  },
  {
   "cell_type": "code",
   "execution_count": 5,
   "metadata": {},
   "outputs": [
    {
     "name": "stdout",
     "output_type": "stream",
     "text": [
      "{1: ['carnegie', 12345, 30], 2: ['london', 12344, 30], 4: ['berlin', 1345563, 30]}\n"
     ]
    }
   ],
   "source": [
    "dic = {}\n",
    "for i in x:\n",
    "    dic.fromkeys(i)\n",
    "    dic.update({i[0]:i[1:]})\n",
    "print(dic)"
   ]
  }
 ],
 "metadata": {
  "kernelspec": {
   "display_name": "Python 3",
   "language": "python",
   "name": "python3"
  },
  "language_info": {
   "codemirror_mode": {
    "name": "ipython",
    "version": 3
   },
   "file_extension": ".py",
   "mimetype": "text/x-python",
   "name": "python",
   "nbconvert_exporter": "python",
   "pygments_lexer": "ipython3",
   "version": "3.8.8"
  },
  "varInspector": {
   "cols": {
    "lenName": 16,
    "lenType": 16,
    "lenVar": 40
   },
   "kernels_config": {
    "python": {
     "delete_cmd_postfix": "",
     "delete_cmd_prefix": "del ",
     "library": "var_list.py",
     "varRefreshCmd": "print(var_dic_list())"
    },
    "r": {
     "delete_cmd_postfix": ") ",
     "delete_cmd_prefix": "rm(",
     "library": "var_list.r",
     "varRefreshCmd": "cat(var_dic_list()) "
    }
   },
   "types_to_exclude": [
    "module",
    "function",
    "builtin_function_or_method",
    "instance",
    "_Feature"
   ],
   "window_display": false
  }
 },
 "nbformat": 4,
 "nbformat_minor": 2
}
