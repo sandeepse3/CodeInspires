{
 "cells": [
  {
   "cell_type": "code",
   "execution_count": 1,
   "metadata": {
    "scrolled": true
   },
   "outputs": [
    {
     "name": "stdout",
     "output_type": "stream",
     "text": [
      "Last Updated Date: 01 May 2024\n"
     ]
    }
   ],
   "source": [
    "from datetime import date\n",
    "today = date.today()\n",
    "print(\"Last Updated Date:\", today.strftime(\"%d %B %Y\"))"
   ]
  },
  {
   "cell_type": "markdown",
   "metadata": {},
   "source": [
    "# <a id='Jupyter_Notebook_Shortcuts_and_Tips'></a>Jupyter Notebook Tips"
   ]
  },
  {
   "cell_type": "markdown",
   "metadata": {},
   "source": [
    "<b style=\"color:orange\">This is bold and red text</b>\n",
    "<strong style=\"color:blue\">This is bold and blue text</strong>"
   ]
  },
  {
   "cell_type": "markdown",
   "metadata": {},
   "source": [
    "### Useful Format 1:"
   ]
  },
  {
   "cell_type": "markdown",
   "metadata": {},
   "source": [
    "<div class=\"alert alert-danger\" style=\"margin: 10px\"><strong>IMPORTANT NOTE!</strong> Make sure you don't run the cells directly above the example output shown, <br>otherwise you will end up writing over the example output!</div>"
   ]
  },
  {
   "cell_type": "markdown",
   "metadata": {},
   "source": [
    "### Useful Format 2:"
   ]
  },
  {
   "cell_type": "markdown",
   "metadata": {},
   "source": [
    "Pattern: <code>NOUN + such + as + PROPN</code>"
   ]
  },
  {
   "cell_type": "markdown",
   "metadata": {},
   "source": [
    "## Inserting a Mathmatical Equations using Latex"
   ]
  },
  {
   "cell_type": "markdown",
   "metadata": {},
   "source": [
    "### This is inline representation of mathematical equation $ S = V^2 $"
   ]
  },
  {
   "cell_type": "markdown",
   "metadata": {},
   "source": [
    "### For new line representation of mathematical equation $$ S = V^2 $$"
   ]
  },
  {
   "cell_type": "markdown",
   "metadata": {},
   "source": [
    "### Another way using Latex syntax - representation of mathematical equation \n",
    "\\begin{equation}\n",
    "S = V^2\n",
    "\\end{equation}"
   ]
  },
  {
   "cell_type": "markdown",
   "metadata": {},
   "source": [
    "# Jupyter Notebook to HTML Conversion\n",
    "__Problem Statement:__ File -> Download as HTML is not embedding the image. May be the program is not picking the current directory path or relative path correctly. Again this is working fine when you go the file directory in command prompt and execute the command `python -m jupyter nbconvert --to html Automation.ipynb`\n",
    "    \n",
    "* <b> Work around for this problem is by installing notebook extensions using `conda install -c conda-forge jupyter_contrib_nbextensions` and enabling 'Export Embedded HTML' option. Then using File -> Download as 'HTML Embedded' or by using command `python -m jupyter nbconvert --to html_embed Automation.ipynb`"
   ]
  },
  {
   "cell_type": "markdown",
   "metadata": {},
   "source": [
    "# Linking local files (PDF / Jupyter Notebooks) within a Jupyter Notebooks"
   ]
  },
  {
   "cell_type": "markdown",
   "metadata": {},
   "source": [
    "`[file title](relative path to the file)`"
   ]
  },
  {
   "cell_type": "markdown",
   "metadata": {},
   "source": [
    "# Creating Hyperlink in the Jupyter Notebook\n",
    "* Use this code for the link and make sure to test all the links `[section title](#section_ID)`\n",
    "* Internal links: To link to a section, use this code: `[section title](#section_ID)` For the text in the parentheses, replace spaces and special characters with a hyphen. Make sure to test all the links! \n",
    "* External links: Use this code and test all links `![link text](http://url)`\n",
    "\n",
    "## Table of Contents using Hyperlink\n",
    "1. To link to a section / cell, use this code: `[section title](#section_ID)` For the text in the parentheses, replace spaces and special characters with a hyphen/underscore.\n",
    "2. Destination section / cell, Use this code: `<a id='section_ID'></a>` Make sure that the section_ID is unique within the notebook.\n",
    "\n",
    "<br>Make sure to test all the links!\n",
    "<br>You can refer PyTorch_AV.ipynb for reference"
   ]
  },
  {
   "cell_type": "markdown",
   "metadata": {},
   "source": [
    "### (Not Using it) Mouse Clicks using Keyboard in Windows\n",
    "* Toggle it (Start using your Numpad as Mouse On/Off) `Alt+Shift+NumLock`\n",
    "* Press `/` (Once for Left Click Button Activation), For Left Click `5` and For Double Left Click `55` or `+`\n",
    "* Press `*` (Once for Both Mouse Button Activation), For Left & Right Button Click `5`and For Double Click `55` or `+`\n",
    "* Drag an item Press zero `0` and Point to the location you would like to Drop an item and press the decimal point key `.`\n",
    "* Hold down `Ctrl` to Speed up. Hold down `Shift` to Slow down\n",
    "* (Not that Useful) Press `-` (Once for Right Click Button Activation), For Right Click `5`and For Double Right Click `55` or `+`\n",
    "<br>![](./Media/2_60.png)"
   ]
  }
 ],
 "metadata": {
  "kernelspec": {
   "display_name": "Python 3 (ipykernel)",
   "language": "python",
   "name": "python3"
  },
  "language_info": {
   "codemirror_mode": {
    "name": "ipython",
    "version": 3
   },
   "file_extension": ".py",
   "mimetype": "text/x-python",
   "name": "python",
   "nbconvert_exporter": "python",
   "pygments_lexer": "ipython3",
   "version": "3.11.9"
  }
 },
 "nbformat": 4,
 "nbformat_minor": 4
}
