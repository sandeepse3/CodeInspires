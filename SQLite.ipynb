{
 "cells": [
  {
   "cell_type": "code",
   "execution_count": 1,
   "id": "4c864da3-362b-4276-a948-f2e99778a44b",
   "metadata": {},
   "outputs": [
    {
     "name": "stdout",
     "output_type": "stream",
     "text": [
      "Last Updated Date: 11 March 2024\n"
     ]
    }
   ],
   "source": [
    "from datetime import date\n",
    "today = date.today()\n",
    "print(\"Last Updated Date:\", today.strftime(\"%d %B %Y\"))"
   ]
  },
  {
   "cell_type": "markdown",
   "id": "7a3b3a96-0f78-441c-ac57-f7bdb5688e90",
   "metadata": {},
   "source": [
    "##### References:\n",
    "https://www.sqlitetutorial.net/sqlite-cheat-sheet/\n",
    "<br> https://www.sqlitetutorial.net/"
   ]
  },
  {
   "cell_type": "markdown",
   "id": "87cb5ac4-93c0-4b22-9b39-685fe0d80e4c",
   "metadata": {},
   "source": [
    "## SQLite"
   ]
  },
  {
   "cell_type": "markdown",
   "id": "ce930dd5-b8e0-4d83-b243-67ca1b64f8b5",
   "metadata": {},
   "source": [
    "1. <b style=\"color:orange\">cursor = connection.cursor()</b>: This line is used to create a cursor object which is a control structure that enables traversal over the records in a database. You need a cursor object to fetch results, execute SQL commands, etc.\n",
    "2. <b style=\"color:orange\">connection.commit()</b>: This is used to save the changes you make to the database. If you’re making any changes to the database such as inserting, updating, or deleting records, you should use connection.commit() to make sure these changes are saved. If you’re only fetching data and not modifying it, there’s no need to commit\n",
    "3. <b style=\"color:orange\">\n",
    "connection.close(</b>): This is used to close the connection to the database. You should close the connection once you’re done with your database operations and no longer need the connection. It’s a good practice to always close the connection when done\n",
    "* Data Types in SQL: https://www.sqlite.org/datatype3.html."
   ]
  },
  {
   "cell_type": "markdown",
   "id": "75d51e1f-8c8f-41a4-99ad-b03a572f030e",
   "metadata": {},
   "source": [
    "##### <span style=\"color:orange\">Employee and Dept Table Example</span>"
   ]
  },
  {
   "cell_type": "code",
   "execution_count": 1,
   "id": "a103a57c-10b5-4d40-b68f-f6b9f420c7c5",
   "metadata": {},
   "outputs": [],
   "source": [
    "import sqlite3\n",
    "\n",
    "# Connect to the SQLite database (create one if not exists)\n",
    "conn = sqlite3.connect('company.db')\n",
    "cursor = conn.cursor()\n",
    "\n",
    "# Create employee table\n",
    "cursor.execute('''CREATE TABLE IF NOT EXISTS employee (\n",
    "                    emp_id INTEGER PRIMARY KEY,\n",
    "                    emp_name TEXT NOT NULL,\n",
    "                    emp_dept_id INTEGER NOT NULL,\n",
    "                    emp_salary REAL NOT NULL\n",
    "                )''')\n",
    "\n",
    "# Insert records into the employee table\n",
    "employees_data = [\n",
    "    (1, 'John Doe', 101, 50000),\n",
    "    (2, 'Jane Smith', 102, 60000),\n",
    "    (3, 'Michael Johnson', 101, 55000),\n",
    "    (4, 'Emily Brown', 103, 52000),\n",
    "    (5, 'William Wilson', 102, 58000),\n",
    "    (6, 'Emma Davis', 101, 51000),\n",
    "    (7, 'James Taylor', 103, 53000),\n",
    "    (8, 'Olivia Martinez', 101, 54000),\n",
    "    (9, 'Alexander Thomas', 102, 57000),\n",
    "    (10, 'Sophia Anderson', 103, 56000)\n",
    "]\n",
    "\n",
    "cursor.executemany(\"INSERT INTO employee VALUES (?, ?, ?, ?)\", employees_data)\n",
    "\n",
    "# Commit changes and close connection\n",
    "conn.commit()\n",
    "\n",
    "# Create dept table\n",
    "cursor.execute('''CREATE TABLE IF NOT EXISTS dept (\n",
    "                    dept_id INTEGER PRIMARY KEY,\n",
    "                    dept_name TEXT NOT NULL\n",
    "                )''')\n",
    "\n",
    "# Insert records into the dept table\n",
    "dept_data = [\n",
    "    (101, 'Engineering'),\n",
    "    (102, 'Marketing'),\n",
    "    (103, 'Finance')\n",
    "]\n",
    "\n",
    "cursor.executemany(\"INSERT INTO dept VALUES (?, ?)\", dept_data)\n",
    "\n",
    "# Commit changes and close connection\n",
    "conn.commit()\n",
    "conn.close()"
   ]
  },
  {
   "cell_type": "markdown",
   "id": "18878bb6-69ad-4cf9-9bce-da6aa3350fd3",
   "metadata": {},
   "source": [
    "#### <span style=\"color:orange\">CREATE</span>"
   ]
  },
  {
   "cell_type": "code",
   "execution_count": 22,
   "id": "d6c0da3b-bd53-4d01-8971-17ac21cbe55b",
   "metadata": {},
   "outputs": [],
   "source": [
    "import sqlite3"
   ]
  },
  {
   "cell_type": "code",
   "execution_count": 16,
   "id": "c39e69fd-c988-4348-83d8-5ba1c3fef243",
   "metadata": {},
   "outputs": [],
   "source": [
    "connection = sqlite3.connect('hr.db')\n",
    "cursor = connection.cursor() # cursor is like a pointer to the table\n",
    "# It's always recommended to use IF NOT EXISTS to avoid errors\n",
    "cursor.execute('''CREATE TABLE IF NOT EXISTS EMP \n",
    "                (EmpID INT PRIMARY KEY, Name TEXT, Salary REAL)''') # Use triple quotes if you are using double quotes inside or want to wrap lines\n",
    "connection.commit()\n",
    "connection.close() # Once you close the connection, you need to establish the connection again"
   ]
  },
  {
   "cell_type": "code",
   "execution_count": 3,
   "id": "accdc13a-b4c2-45e4-983d-67b42a24c7c2",
   "metadata": {},
   "outputs": [],
   "source": [
    "connection = sqlite3.connect('hr.db')\n",
    "cursor = connection.cursor()\n",
    "cursor.execute(\"CREATE TABLE IF NOT EXISTS Employees (EmpID INT PRIMARY KEY, Name TEXT, Salary REAL)\")\n",
    "connection.commit()\n",
    "connection.close()"
   ]
  },
  {
   "cell_type": "markdown",
   "id": "bff77786-299d-493b-9bfe-5ea9dfe69fc7",
   "metadata": {},
   "source": [
    "#### <span style=\"color:orange\">INSERT</span>"
   ]
  },
  {
   "cell_type": "code",
   "execution_count": 3,
   "id": "1b34b36e-f066-4e29-b531-1f39fefa24cd",
   "metadata": {},
   "outputs": [],
   "source": [
    "import sqlite3\n",
    "connection = sqlite3.connect('hr.db')\n",
    "cursor = connection.cursor()"
   ]
  },
  {
   "cell_type": "code",
   "execution_count": null,
   "id": "7cf27760-76d0-42fe-a530-18919bb379f8",
   "metadata": {},
   "outputs": [],
   "source": [
    "cursor.execute(\"INSERT INTO EMP VALUES (4,'Rishith',200000)\") # In Python you can skip but in DB Browser, semi-colon at the end indicates end of SQL statement (say if you want to run multiple sql statements at once)\n",
    "connection.commit()"
   ]
  },
  {
   "cell_type": "code",
   "execution_count": 7,
   "id": "fe643af1-0f3f-4a5f-876a-e14e6c11575e",
   "metadata": {},
   "outputs": [],
   "source": [
    "cursor.execute(\"INSERT INTO EMP (EmpID, Name, Salary) VALUES (8,'Sravanthi',400000)\") # with column names in INSERT statement\n",
    "connection.commit()"
   ]
  },
  {
   "cell_type": "code",
   "execution_count": 7,
   "id": "322ff05c-8f4c-4aab-bcb1-29ea2321945c",
   "metadata": {},
   "outputs": [],
   "source": [
    "cursor.execute(\"INSERT INTO EMP (EmpID, Name) VALUES (9,'Unknown')\")\n",
    "connection.commit()"
   ]
  },
  {
   "cell_type": "code",
   "execution_count": null,
   "id": "60f9d951-1a60-4b09-861d-7570e004b2e2",
   "metadata": {},
   "outputs": [],
   "source": [
    "cursor.execute(\"INSERT INTO EMP VALUES (5,'Rishith')\") # If you skip column names, then you have to provide all values otherwise it will throw an error\n",
    "connection.commit()"
   ]
  },
  {
   "cell_type": "code",
   "execution_count": 16,
   "id": "527b060e-3c18-44f2-885c-f29eba54bcab",
   "metadata": {},
   "outputs": [
    {
     "name": "stdin",
     "output_type": "stream",
     "text": [
      "Your ID?  194\n",
      "User Name?  Unknown\n"
     ]
    }
   ],
   "source": [
    "empid = input('Your ID? ')\n",
    "name = input('User Name? ')\n",
    "cursor.execute(f\"INSERT INTO EMP (EmpID,Name) VALUES ('{empid}','{name}')\") # This method is not recommended as they can type anything that can harm your db. SQL Attack Injection.\n",
    "connection.commit()"
   ]
  },
  {
   "cell_type": "markdown",
   "id": "ebb8ee02-ea7a-4147-a99e-36c424ed5ead",
   "metadata": {},
   "source": [
    "##### <span style=\"color:orange\">Recommended Syntax for Insertion</span>"
   ]
  },
  {
   "cell_type": "code",
   "execution_count": 15,
   "id": "ee7c467e-9f74-40ad-920e-f1dcb41dd259",
   "metadata": {},
   "outputs": [
    {
     "name": "stdin",
     "output_type": "stream",
     "text": [
      "Your ID?  19747\n",
      "User Name?  Sandeep\n"
     ]
    }
   ],
   "source": [
    "empid = input('Your ID? ')\n",
    "name = input('User Name? ')\n",
    "cursor.execute(\"INSERT INTO EMP (EmpID,Name) VALUES (?,?)\",(empid,name)) # This method is not recommended as they can type anything that can harm your db. SQL Injection attacks.\n",
    "connection.commit()"
   ]
  },
  {
   "cell_type": "markdown",
   "id": "75c3acc0-55f9-46f5-bd7e-f35f7e32227a",
   "metadata": {},
   "source": [
    "##### executemany"
   ]
  },
  {
   "cell_type": "code",
   "execution_count": 18,
   "id": "23d0d575-a726-492a-b1af-ec53fd73394c",
   "metadata": {},
   "outputs": [],
   "source": [
    "employees = [(11,'SA',3908),\n",
    "            (12,'ri',908),\n",
    "            (13,'lk',890),\n",
    "            (14,'man',899)]\n",
    "cursor.executemany(\"INSERT INTO EMP VALUES (?,?,?)\",employees)\n",
    "connection.commit()"
   ]
  },
  {
   "cell_type": "markdown",
   "id": "d7bb0628-10e1-4da4-a5e1-8a6749ec7020",
   "metadata": {},
   "source": [
    "##### <span style=\"color:orange\">Inserting Data from CSV</span>"
   ]
  },
  {
   "cell_type": "code",
   "execution_count": null,
   "id": "8ba1b254-7d0d-4f04-81a0-a7c0b949afa5",
   "metadata": {},
   "outputs": [],
   "source": [
    "import sqlite3\n",
    "import csv\n",
    "\n",
    "connection = sqlite3.connect('citydata.db')\n",
    "cursor = connection.cursor()\n",
    "cursor.execute('''CREATE TABLE IF NOT EXISTS Population\n",
    "             (City TEXT, Country TEXT, Population INT)''')\n",
    "\n",
    "file = open('./Media/population_data.csv')\n",
    "city_data = csv.reader(file)\n",
    "\n",
    "city_data.__next__() # To skip the first line or column name in .csv file\n",
    "cursor.executemany('''INSERT INTO Population VALUES (?, ?, ?)''', city_data)\n",
    "\n",
    "connection.commit()\n",
    "\n",
    "connection.close()"
   ]
  },
  {
   "cell_type": "markdown",
   "id": "32c435ee-4bd9-46f1-bf2f-af7951947f5e",
   "metadata": {},
   "source": [
    "#### <span style=\"color:orange\">SELECT</span>"
   ]
  },
  {
   "cell_type": "code",
   "execution_count": null,
   "id": "baf55e2d-d4af-4529-ac92-8015da8e2748",
   "metadata": {},
   "outputs": [],
   "source": [
    "connection = sqlite3.connect('citydata.db')\n",
    "cursor = connection.cursor()\n",
    "cursor.execute('''SELECT * FROM Population''')\n",
    "# print(cursor.fetchone()) # Fetch One Row\n",
    "print(cursor.fetchall()) # Fetch All is faster than 'FOR' Loop"
   ]
  },
  {
   "cell_type": "code",
   "execution_count": 11,
   "id": "1df2d69f-0c38-4dc9-89f3-9b333c4fafc8",
   "metadata": {
    "collapsed": true,
    "jupyter": {
     "outputs_hidden": true
    }
   },
   "outputs": [
    {
     "name": "stdout",
     "output_type": "stream",
     "text": [
      "('Madrid', 'Spain', 3255944)\n",
      "('Sofia', 'Bulgaria', 1152556)\n",
      "('Rotterdam', 'Netherlands', 598199)\n",
      "('Tyumen', 'Russia', 519119)\n",
      "('Petrozavodsk', 'Russia', 265025)\n",
      "('Kropyvnytskyy', 'Ukraine', 227413)\n",
      "('Favoriten', 'Austria', 201882)\n",
      "('Naberezhnyye Chelny', 'Russia', 509870)\n",
      "('Florence', 'Italy', 349296)\n",
      "('Albacete', 'Spain', 169716)\n",
      "('Reggio Calabria', 'Italy', 169140)\n",
      "('Ljubljana', 'Slovenia', 272220)\n",
      "('Groznyy', 'Russia', 226100)\n",
      "('Valladolid', 'Spain', 317864)\n",
      "('Radom', 'Poland', 226794)\n",
      "('Ludwigshafen am Rhein', 'Germany', 163196)\n",
      "('Osnabrueck', 'Germany', 166462)\n",
      "('Berlin', 'Germany', 3426354)\n",
      "('Bari', 'Italy', 277387)\n",
      "('Almeria', 'Spain', 188810)\n",
      "('Aberdeen', 'United Kingdom', 196670)\n",
      "('Bonn', 'Germany', 330579)\n",
      "('Tiraspol', 'Moldova', 157000)\n",
      "('Wolverhampton', 'United Kingdom', 252791)\n",
      "('Klaipeda', 'Lithuania', 192307)\n",
      "('Praga Poludnie', 'Poland', 179836)\n",
      "('Wigan', 'United Kingdom', 175405)\n",
      "('Riga', 'Latvia', 742572)\n",
      "('Orenburg', 'Russia', 550204)\n",
      "('Nizhnevartovsk', 'Russia', 244937)\n",
      "('Velikiy Novgorod', 'Russia', 215062)\n",
      "('Bournemouth', 'United Kingdom', 163600)\n",
      "('Slough', 'United Kingdom', 163777)\n",
      "('Nuernberg', 'Germany', 515543)\n",
      "('Glasgow', 'United Kingdom', 591620)\n",
      "('Miass', 'Russia', 167500)\n",
      "('Zelenograd', 'Russia', 215727)\n",
      "('Lipetsk', 'Russia', 515655)\n",
      "('Montpellier', 'France', 248252)\n",
      "('Zurich', 'Switzerland', 341730)\n",
      "('Kamyanske', 'Ukraine', 233358)\n",
      "('Antwerpen', 'Belgium', 459805)\n",
      "('Makhachkala', 'Russia', 497959)\n",
      "('Blackpool', 'United Kingdom', 239409)\n",
      "('Eixample', 'Spain', 266477)\n",
      "('Torun', 'Poland', 198613)\n",
      "('Munich', 'Germany', 1260391)\n",
      "('Groningen', 'Netherlands', 181194)\n",
      "('Luton', 'United Kingdom', 258018)\n",
      "('Tula', 'Russia', 468825)\n",
      "('Khabarovsk', 'Russia', 579000)\n",
      "('Breda', 'Netherlands', 167673)\n",
      "(\"Kamensk-Ural'skiy\", 'Russia', 182500)\n",
      "('Murmansk', 'Russia', 319263)\n",
      "('Bratsk', 'Russia', 256600)\n",
      "('Arad', 'Romania', 169065)\n",
      "('Reading', 'United Kingdom', 318014)\n",
      "('Novi Sad', 'Serbia', 215400)\n",
      "('Petropavlovsk-Kamchatsky', 'Russia', 187282)\n",
      "('Rostov-na-Donu', 'Russia', 1074482)\n",
      "('Yuzhno-Sakhalinsk', 'Russia', 176484)\n",
      "('Tambov', 'Russia', 290933)\n",
      "('Trieste', 'Italy', 187056)\n",
      "('Gdynia', 'Poland', 244969)\n",
      "('Mostoles', 'Spain', 206478)\n",
      "('Kurgan', 'Russia', 343129)\n",
      "('Saint Petersburg', 'Russia', 5028000)\n",
      "('Getafe', 'Spain', 167164)\n",
      "('Amsterdam', 'Netherlands', 741636)\n",
      "('Birmingham', 'United Kingdom', 984333)\n",
      "('Saransk', 'Russia', 303394)\n",
      "('Khoroshevo-Mnevniki', 'Russia', 159000)\n",
      "('Turin', 'Italy', 870456)\n",
      "('Eimsbuettel', 'Germany', 251907)\n",
      "('Bialystok', 'Poland', 291855)\n",
      "('Saarbruecken', 'Germany', 181227)\n",
      "('Brest', 'Belarus', 300715)\n",
      "('Bergen', 'Norway', 213585)\n",
      "('Odessa', 'Ukraine', 1013159)\n",
      "('Jerez de la Frontera', 'Spain', 207532)\n",
      "('Gelsenkirchen', 'Germany', 270028)\n",
      "('Yoshkar-Ola', 'Russia', 279100)\n",
      "('Khmelnytskyi', 'Ukraine', 271263)\n",
      "('Krasnoyarsk', 'Russia', 927200)\n",
      "('Naples', 'Italy', 959470)\n",
      "('Marseille', 'France', 794811)\n",
      "('Armavir', 'Russia', 199548)\n",
      "('Saint-Etienne', 'France', 176280)\n",
      "('Vladikavkaz', 'Russia', 317370)\n",
      "('Bryansk', 'Russia', 427236)\n",
      "('Brussels', 'Belgium', 1019022)\n",
      "('Zaragoza', 'Spain', 674317)\n",
      "('Alicante', 'Spain', 334757)\n",
      "('Surgut', 'Russia', 300367)\n",
      "('Anderlecht', 'Belgium', 160553)\n",
      "('Magnitogorsk', 'Russia', 413351)\n",
      "('Szeged', 'Hungary', 164883)\n",
      "('Stoke-on-Trent', 'United Kingdom', 372775)\n",
      "('Karlsruhe', 'Germany', 283799)\n",
      "('Stockholm', 'Sweden', 1515017)\n",
      "('Granada', 'Spain', 234325)\n",
      "('Warsaw', 'Poland', 1702139)\n",
      "('Yekaterinburg', 'Russia', 1349772)\n",
      "('Islington', 'United Kingdom', 319143)\n",
      "('Bucharest', 'Romania', 1877155)\n",
      "('Sterlitamak', 'Russia', 267231)\n",
      "('Novocherkassk', 'Russia', 166974)\n",
      "('Smolensk', 'Russia', 320991)\n",
      "('Duesseldorf', 'Germany', 573057)\n",
      "('Swindon', 'United Kingdom', 185609)\n",
      "('Astrakhan', 'Russia', 502533)\n",
      "('Cordoba', 'Spain', 328428)\n",
      "('Braila', 'Romania', 213569)\n",
      "('Split', 'Croatia', 176314)\n",
      "('Oslo', 'Norway', 580000)\n",
      "('Sector 2', 'Romania', 345370)\n",
      "('Oberhausen', 'Germany', 219176)\n",
      "('Dzerzhinsk', 'Russia', 233126)\n",
      "(\"Mar'ino\", 'Russia', 243000)\n",
      "('Bochum', 'Germany', 385729)\n",
      "('Severnyy', 'Russia', 200000)\n",
      "('Podgorica', 'Montenegro', 236852)\n",
      "('Doncaster', 'United Kingdom', 158141)\n",
      "('Kazan', 'Russia', 1104738)\n",
      "('Fuencarral-El Pardo', 'Spain', 220085)\n",
      "('Chita', 'Russia', 308500)\n",
      "('Birkenhead', 'United Kingdom', 325264)\n",
      "('Rivne', 'Ukraine', 255106)\n",
      "('Irkutsk', 'Russia', 586695)\n",
      "('Brasov', 'Romania', 276088)\n",
      "('Novorossiysk', 'Russia', 241856)\n",
      "('Bologna', 'Italy', 366133)\n",
      "('Brno', 'Czech Republic', 369559)\n",
      "(\"Stavropol'\", 'Russia', 363064)\n",
      "('Blagoveshchensk', 'Russia', 221296)\n",
      "('Kremenchuk', 'Ukraine', 220065)\n",
      "('Strasbourg', 'France', 274845)\n",
      "('Cherepovets', 'Russia', 315738)\n",
      "('Carabanchel', 'Spain', 253678)\n",
      "('Ulan-Ude', 'Russia', 360278)\n",
      "('Vologda', 'Russia', 314900)\n",
      "('Modena', 'Italy', 158886)\n",
      "('Novosibirsk', 'Russia', 1419007)\n",
      "('Wuppertal', 'Germany', 360797)\n",
      "('Olsztyn', 'Poland', 171803)\n",
      "('Vitebsk', 'Belarus', 342700)\n",
      "('Genoa', 'Italy', 580223)\n",
      "('Harburg', 'Germany', 202571)\n",
      "('Kyiv', 'Ukraine', 2797553)\n",
      "('Dudley', 'United Kingdom', 199059)\n",
      "('Volgograd', 'Russia', 1011417)\n",
      "('Puente de Vallecas', 'Spain', 244151)\n",
      "('Budapest', 'Hungary', 1741041)\n",
      "('Southend-on-Sea', 'United Kingdom', 295310)\n",
      "('Muelheim', 'Germany', 170921)\n",
      "('Norwich', 'United Kingdom', 213166)\n",
      "('Santa Cruz de Tenerife', 'Spain', 222417)\n",
      "('Wandsbek', 'Germany', 411422)\n",
      "('Terrassa', 'Spain', 218535)\n",
      "('Brescia', 'Italy', 184826)\n",
      "('Sector 6', 'Romania', 367760)\n",
      "('Orsk', 'Russia', 246836)\n",
      "('Debrecen', 'Hungary', 204124)\n",
      "('Castello de la Plana', 'Spain', 180005)\n",
      "('Burgos', 'Spain', 178966)\n",
      "('Helsinki', 'Finland', 558457)\n",
      "('Staryy Oskol', 'Russia', 226977)\n",
      "('Peterborough', 'United Kingdom', 163379)\n",
      "('Sector 5', 'Romania', 271575)\n",
      "('Floridsdorf', 'Austria', 162779)\n",
      "('Timisoara', 'Romania', 315053)\n",
      "('Nottingham', 'United Kingdom', 321500)\n",
      "('Hamburg-Nord', 'Germany', 280000)\n",
      "('Mariupol', 'Ukraine', 431859)\n",
      "('Kryvyy Rih', 'Ukraine', 624579)\n",
      "('Portsmouth', 'United Kingdom', 194150)\n",
      "(\"Gol'yanovo\", 'Russia', 158000)\n",
      "('Perm', 'Russia', 982419)\n",
      "(\"Prokop'yevsk\", 'Russia', 219000)\n",
      "('Neue Neustadt', 'Germany', 226851)\n",
      "('Mytishchi', 'Russia', 160542)\n",
      "('Tirana', 'Albania', 374801)\n",
      "('Kemerovo', 'Russia', 477090)\n",
      "('Reims', 'France', 196565)\n",
      "('San Sebastian', 'Spain', 185357)\n",
      "('Nicosia', 'Cyprus', 200452)\n",
      "('Aachen', 'Germany', 265208)\n",
      "('Sant Marti', 'Spain', 235719)\n",
      "('Oradea', 'Romania', 206614)\n",
      "('Donetsk', 'Ukraine', 1024700)\n",
      "('Toulon', 'France', 168701)\n",
      "('Augsburg', 'Germany', 259196)\n",
      "('Barcelona', 'Spain', 1621537)\n",
      "('Rzeszow', 'Poland', 158382)\n",
      "('Mansfield', 'United Kingdom', 171958)\n",
      "('Ufa', 'Russia', 1033338)\n",
      "('Vykhino-Zhulebino', 'Russia', 216000)\n",
      "('Gent', 'Belgium', 231493)\n",
      "('Rostock', 'Germany', 198293)\n",
      "('Angarsk', 'Russia', 243158)\n",
      "('Nizhniy Novgorod', 'Russia', 1284164)\n",
      "('Gijon', 'Spain', 277554)\n",
      "('Lyublino', 'Russia', 172000)\n",
      "('Newcastle upon Tyne', 'United Kingdom', 192382)\n",
      "('Nalchik', 'Russia', 272800)\n",
      "('Newport', 'United Kingdom', 306844)\n",
      "('Swansea', 'United Kingdom', 300352)\n",
      "('Hrodna', 'Belarus', 317365)\n",
      "('The Hague', 'Netherlands', 474292)\n",
      "('Sevastopol', 'Ukraine', 464349)\n",
      "('Kaluga', 'Russia', 338978)\n",
      "('Chemnitz', 'Germany', 247220)\n",
      "('Wiesbaden', 'Germany', 272432)\n",
      "(\"Vasyl'evsky Ostrov\", 'Russia', 203058)\n",
      "('Poznan', 'Poland', 570352)\n",
      "('Kaliningrad', 'Russia', 434954)\n",
      "('Sutton', 'United Kingdom', 187600)\n",
      "('Zhytomyr', 'Ukraine', 263507)\n",
      "('Craiova', 'Romania', 304142)\n",
      "('Marienthal', 'Germany', 287101)\n",
      "('Kherson', 'Ukraine', 289096)\n",
      "('Thessaloniki', 'Greece', 354290)\n",
      "('London', 'United Kingdom', 8961989)\n",
      "('Charleroi', 'Belgium', 200132)\n",
      "('Alcala de Henares', 'Spain', 204574)\n",
      "('Le Havre', 'France', 185972)\n",
      "('Turku', 'Finland', 175945)\n",
      "('Bristol', 'United Kingdom', 617280)\n",
      "('Podolsk', 'Russia', 179400)\n",
      "('Nis', 'Serbia', 250000)\n",
      "('Oldenburg', 'Germany', 159218)\n",
      "('Milton Keynes', 'United Kingdom', 229941)\n",
      "('Amadora', 'Portugal', 178858)\n",
      "('Prato', 'Italy', 181820)\n",
      "('Vienna', 'Austria', 1691468)\n",
      "('Dresden', 'Germany', 486854)\n",
      "('Zenica', 'Bosnia and Herzegovina', 164423)\n",
      "('Patra', 'Greece', 168034)\n",
      "('Linz', 'Austria', 204846)\n",
      "('Rubtsovsk', 'Russia', 161065)\n",
      "('Sunderland', 'United Kingdom', 335415)\n",
      "('Luebeck', 'Germany', 212207)\n",
      "('Salamanca', 'Spain', 155619)\n",
      "('Pamplona', 'Spain', 198491)\n",
      "('Balakovo', 'Russia', 199572)\n",
      "('Donaustadt', 'Austria', 187007)\n",
      "('Tampere', 'Finland', 202687)\n",
      "('Croydon', 'United Kingdom', 173314)\n",
      "('Piraeus', 'Greece', 163688)\n",
      "('Lyon', 'France', 472317)\n",
      "('Ruse', 'Bulgaria', 156238)\n",
      "('Kirov', 'Russia', 457383)\n",
      "('Wroclaw', 'Poland', 634893)\n",
      "('Minsk', 'Belarus', 1742124)\n",
      "('Geneve', 'Switzerland', 183981)\n",
      "('Sector 4', 'Romania', 287828)\n",
      "('Cheboksary', 'Russia', 446781)\n",
      "('Biysk', 'Russia', 215430)\n",
      "('Ciudad Lineal', 'Spain', 228171)\n",
      "('Varna', 'Bulgaria', 312770)\n",
      "('Oviedo', 'Spain', 224005)\n",
      "('Yakutsk', 'Russia', 235600)\n",
      "('Braunschweig', 'Germany', 244715)\n",
      "('Athens', 'Greece', 664046)\n",
      "('Katowice', 'Poland', 317316)\n",
      "('Krasnodar', 'Russia', 649851)\n",
      "('Eindhoven', 'Netherlands', 209620)\n",
      "('Dublin', 'Ireland', 1024027)\n",
      "('Arhus', 'Denmark', 237551)\n",
      "('Catania', 'Italy', 290927)\n",
      "('Hagen', 'Germany', 198972)\n",
      "('Bydgoszcz', 'Poland', 366452)\n",
      "('Bexley', 'United Kingdom', 228000)\n",
      "('Muenster', 'Germany', 270184)\n",
      "('Cergy-Pontoise', 'France', 183430)\n",
      "('Porto', 'Portugal', 249633)\n",
      "('Hamm', 'Germany', 178967)\n",
      "('Lisbon', 'Portugal', 517802)\n",
      "('Vinnytsya', 'Ukraine', 369839)\n",
      "('Mainz', 'Germany', 184997)\n",
      "('Fuenlabrada', 'Spain', 197836)\n",
      "('Orel', 'Russia', 324200)\n",
      "('Lviv', 'Ukraine', 717803)\n",
      "('Sochi', 'Russia', 327608)\n",
      "('Vilnius', 'Lithuania', 542366)\n",
      "('City of Westminster', 'United Kingdom', 247614)\n",
      "('Murcia', 'Spain', 436870)\n",
      "('Dortmund', 'Germany', 588462)\n",
      "('Babruysk', 'Belarus', 220517)\n",
      "('Tomsk', 'Russia', 485519)\n",
      "('Burgas', 'Bulgaria', 195966)\n",
      "('Centralniy', 'Russia', 214625)\n",
      "('Sector 1', 'Romania', 225453)\n",
      "('Poltava', 'Ukraine', 288324)\n",
      "('Bacau', 'Romania', 171396)\n",
      "('Southampton', 'United Kingdom', 246201)\n",
      "('Zabrze', 'Poland', 192177)\n",
      "('Lodz', 'Poland', 768755)\n",
      "('Rybinsk', 'Russia', 216724)\n",
      "('Pitesti', 'Romania', 167669)\n",
      "('Skopje', 'North Macedonia', 474889)\n",
      "('Pskov', 'Russia', 201990)\n",
      "('Cluj-Napoca', 'Romania', 316748)\n",
      "('Sector 3', 'Romania', 385439)\n",
      "('Izhevsk', 'Russia', 631038)\n",
      "('Chernivtsi', 'Ukraine', 266533)\n",
      "('Grenoble', 'France', 158552)\n",
      "('Cartagena', 'Spain', 211996)\n",
      "('Valencia', 'Spain', 814208)\n",
      "('Copenhagen', 'Denmark', 1153615)\n",
      "('Shakhty', 'Russia', 221312)\n",
      "('Iasi', 'Romania', 318012)\n",
      "('Vladivostok', 'Russia', 587022)\n",
      "('Mokotow', 'Poland', 217683)\n",
      "('Chelyabinsk', 'Russia', 1062919)\n",
      "('Bibirevo', 'Russia', 159000)\n",
      "('Krasnogvargeisky', 'Russia', 337091)\n",
      "('A Coruna', 'Spain', 246056)\n",
      "('Tilburg', 'Netherlands', 199613)\n",
      "('Admiralteisky', 'Russia', 157897)\n",
      "('Abakan', 'Russia', 167289)\n",
      "('Leipzig', 'Germany', 504971)\n",
      "('Bratislava', 'Slovakia', 423737)\n",
      "('Brent', 'United Kingdom', 329100)\n",
      "('Zaporizhzhya', 'Ukraine', 738728)\n",
      "('Pecs', 'Hungary', 156649)\n",
      "('Liverpool', 'United Kingdom', 864122)\n",
      "('Nizhny Tagil', 'Russia', 381116)\n",
      "('Malmoe', 'Sweden', 301706)\n",
      "('Espoo', 'Finland', 256760)\n",
      "('Krefeld', 'Germany', 237984)\n",
      "('Cork', 'Ireland', 190384)\n",
      "('Hamburg-Mitte', 'Germany', 233144)\n",
      "('Moscow', 'Russia', 10381222)\n",
      "('Berezniki', 'Russia', 167748)\n",
      "('Cherkasy', 'Ukraine', 276360)\n",
      "('Coventry', 'United Kingdom', 359262)\n",
      "('Manchester', 'United Kingdom', 395515)\n",
      "('Leicester', 'United Kingdom', 508916)\n",
      "('Toulouse', 'France', 433055)\n",
      "('Oxford', 'United Kingdom', 171380)\n",
      "('Bielsko-Biala', 'Poland', 176515)\n",
      "('Kaunas', 'Lithuania', 374643)\n",
      "('Solingen', 'Germany', 164359)\n",
      "('Ternopil', 'Ukraine', 221820)\n",
      "('Angers', 'France', 168279)\n",
      "('Nijmegen', 'Netherlands', 158732)\n",
      "('Hamburg', 'Germany', 1739117)\n",
      "('Syktyvkar', 'Russia', 230139)\n",
      "('Plymouth', 'United Kingdom', 260203)\n",
      "('Archway', 'United Kingdom', 215667)\n",
      "('Belgrade', 'Serbia', 1273651)\n",
      "('Kosice', 'Slovakia', 236563)\n",
      "('Altona', 'Germany', 250192)\n",
      "('Prague', 'Czech Republic', 1165581)\n",
      "('Barnaul', 'Russia', 599579)\n",
      "('Rome', 'Italy', 2318895)\n",
      "('Sumy', 'Ukraine', 294456)\n",
      "('Bytom', 'Poland', 189186)\n",
      "('Sants-Montjuic', 'Spain', 183120)\n",
      "('Severodvinsk', 'Russia', 194292)\n",
      "('Bila Tserkva', 'Ukraine', 199163)\n",
      "('Nice', 'France', 338620)\n",
      "('Plovdiv', 'Bulgaria', 340494)\n",
      "('Verona', 'Italy', 219103)\n",
      "('Krakow', 'Poland', 755050)\n",
      "('Gdansk', 'Poland', 461865)\n",
      "('Padova', 'Italy', 203725)\n",
      "('Leganes', 'Spain', 186066)\n",
      "('Ploiesti', 'Romania', 228851)\n",
      "('Yasenevo', 'Russia', 180000)\n",
      "('Ulyanovsk', 'Russia', 640680)\n",
      "('Galati', 'Romania', 294087)\n",
      "('Szczecin', 'Poland', 407811)\n",
      "('Nou Barris', 'Spain', 166310)\n",
      "('Walsall', 'United Kingdom', 172141)\n",
      "('Las Palmas de Gran Canaria', 'Spain', 381847)\n",
      "('Kostroma', 'Russia', 277656)\n",
      "('Horlivka', 'Ukraine', 278550)\n",
      "('Mahilyow', 'Belarus', 369200)\n",
      "('Zlatoust', 'Russia', 191366)\n",
      "('Khimki', 'Russia', 239967)\n",
      "('Northampton', 'United Kingdom', 215963)\n",
      "('Goeteborg', 'Sweden', 572799)\n",
      "('Kassel', 'Germany', 194501)\n",
      "('Yaroslavl', 'Russia', 606730)\n",
      "('Sheffield', 'United Kingdom', 685368)\n",
      "(\"L'Hospitalet de Llobregat\", 'Spain', 257038)\n",
      "('Gliwice', 'Poland', 198835)\n",
      "('Messina', 'Italy', 219948)\n",
      "(\"Nazran'\", 'Russia', 164131)\n",
      "('Palma', 'Spain', 401270)\n",
      "('Derby', 'United Kingdom', 270468)\n",
      "('Czestochowa', 'Poland', 248125)\n",
      "('Taranto', 'Italy', 181082)\n",
      "('Ipswich', 'United Kingdom', 178835)\n",
      "('Mykolayiv', 'Ukraine', 483186)\n",
      "('Duisburg', 'Germany', 504358)\n",
      "('Banja Luka', 'Bosnia and Herzegovina', 221106)\n",
      "('Alcorcon', 'Spain', 167967)\n",
      "(\"Homyel'\", 'Belarus', 480951)\n",
      "('Koeln', 'Germany', 963395)\n",
      "('Khabarovsk Vtoroy', 'Russia', 578303)\n",
      "('Leeds', 'United Kingdom', 455123)\n",
      "('Ivanovo', 'Russia', 420839)\n",
      "('Tallinn', 'Estonia', 394024)\n",
      "('Chisinau', 'Moldova', 635994)\n",
      "('Kalininskiy', 'Russia', 504641)\n",
      "('Chernihiv', 'Ukraine', 307684)\n",
      "('Preston', 'United Kingdom', 313332)\n",
      "('Malaga', 'Spain', 568305)\n",
      "('Kiel', 'Germany', 232758)\n",
      "('Hannover', 'Germany', 515140)\n",
      "('Vigo', 'Spain', 297332)\n",
      "('Makiivka', 'Ukraine', 376610)\n",
      "('Volgodonsk', 'Russia', 167731)\n",
      "('Constanta', 'Romania', 303399)\n",
      "('Simferopol', 'Ukraine', 336460)\n",
      "('Bradford', 'United Kingdom', 299310)\n",
      "(\"Arkhangel'sk\", 'Russia', 356051)\n",
      "('Ussuriysk', 'Russia', 157068)\n",
      "('Sevilla', 'Spain', 703206)\n",
      "('Hortaleza', 'Spain', 161661)\n",
      "('Vladimir', 'Russia', 310024)\n",
      "('Omsk', 'Russia', 1129281)\n",
      "('Komsomolsk-on-Amur', 'Russia', 275908)\n",
      "('Luhansk', 'Ukraine', 452000)\n",
      "('Basel', 'Switzerland', 164488)\n",
      "('Utrecht', 'Netherlands', 290529)\n",
      "('Paris', 'France', 2138551)\n",
      "('Dnipro', 'Ukraine', 998103)\n",
      "('Erfurt', 'Germany', 203254)\n",
      "('Penza', 'Russia', 512602)\n",
      "('Cardiff', 'United Kingdom', 447287)\n",
      "('Magdeburg', 'Germany', 229826)\n",
      "('Belfast', 'United Kingdom', 274770)\n",
      "('Mannheim', 'Germany', 307960)\n",
      "('Sosnowiec', 'Poland', 227295)\n",
      "('Liege', 'Belgium', 182597)\n",
      "('Kharkiv', 'Ukraine', 1430885)\n",
      "('Sabadell', 'Spain', 206493)\n",
      "('Bielefeld', 'Germany', 331906)\n",
      "('Zagreb', 'Croatia', 698966)\n",
      "('Salavat', 'Russia', 159893)\n",
      "('Herne', 'Germany', 172108)\n",
      "('Palermo', 'Italy', 648260)\n",
      "('Sarajevo', 'Bosnia and Herzegovina', 696731)\n",
      "('Samara', 'Russia', 1134730)\n",
      "('Bordeaux', 'France', 231844)\n",
      "('Vantaa', 'Finland', 190058)\n",
      "('Kingston upon Hull', 'United Kingdom', 314018)\n",
      "('Cambridge', 'United Kingdom', 158434)\n",
      "('Tver', 'Russia', 400212)\n",
      "('Santander', 'Spain', 182700)\n",
      "('Milan', 'Italy', 1236837)\n",
      "('Essen', 'Germany', 593085)\n",
      "('Crawley', 'United Kingdom', 180508)\n",
      "('Engels', 'Russia', 196011)\n",
      "('Latina', 'Spain', 256644)\n",
      "('Ivano-Frankivsk', 'Ukraine', 236602)\n",
      "('Neukoelln', 'Germany', 167248)\n",
      "('Graz', 'Austria', 222326)\n",
      "('Badalona', 'Spain', 219547)\n",
      "('Voronezh', 'Russia', 848752)\n",
      "('Bilbao', 'Spain', 354860)\n",
      "('Volzhskiy', 'Russia', 323293)\n",
      "('Rennes', 'France', 209375)\n",
      "('Gasteiz / Vitoria', 'Spain', 235661)\n",
      "('Belgorod', 'Russia', 345289)\n",
      "('Nantes', 'France', 277269)\n",
      "('Edinburgh', 'United Kingdom', 464990)\n",
      "('Freiburg', 'Germany', 215966)\n",
      "('Halle (Saale)', 'Germany', 237865)\n",
      "('Bremen', 'Germany', 546501)\n",
      "('Bochum-Hordel', 'Germany', 380000)\n",
      "('Stuttgart', 'Germany', 589793)\n",
      "('Tolyatti', 'Russia', 702879)\n",
      "('Saratov', 'Russia', 863725)\n",
      "('Kielce', 'Poland', 208598)\n",
      "('San Blas-Canillejas', 'Spain', 157367)\n",
      "('Miskolc', 'Hungary', 172637)\n",
      "('Lutsk', 'Ukraine', 213661)\n",
      "('Kursk', 'Russia', 409431)\n",
      "('Warrington', 'United Kingdom', 165456)\n",
      "('Moenchengladbach', 'Germany', 261742)\n",
      "('Taganrog', 'Russia', 279056)\n",
      "('Almere Stad', 'Netherlands', 176432)\n",
      "(\"Syzran'\", 'Russia', 189338)\n",
      "('Pilsen', 'Czech Republic', 164180)\n",
      "('Nizhnekamsk', 'Russia', 234297)\n",
      "('Lublin', 'Poland', 360044)\n",
      "('Ostrava', 'Czech Republic', 313088)\n",
      "('Leverkusen', 'Germany', 162738)\n",
      "('Horta-Guinardo', 'Spain', 168092)\n",
      "('Frankfurt am Main', 'Germany', 650000)\n",
      "(\"Ryazan'\", 'Russia', 520173)\n",
      "('Lille', 'France', 228328)\n",
      "('Baranovichi', 'Belarus', 168772)\n",
      "('Elche', 'Spain', 230112)\n",
      "('Novokuznetsk', 'Russia', 539616)\n"
     ]
    }
   ],
   "source": [
    "connection = sqlite3.connect('citydata.db')\n",
    "cursor = connection.cursor()\n",
    "results = cursor.execute('''SELECT * FROM Population''')\n",
    "for row in results:\n",
    "    print(row)"
   ]
  },
  {
   "cell_type": "markdown",
   "id": "2b729371-0683-4f13-91d8-d1deb0941cf4",
   "metadata": {},
   "source": [
    "#### <span style=\"color:orange\">WHERE</span>"
   ]
  },
  {
   "cell_type": "raw",
   "id": "f4daa950-d816-4fcb-acf7-043814829397",
   "metadata": {},
   "source": [
    "1. Comparision Operators\n",
    "        >, <, >=, <=, =, !=\n",
    "2. Logical Operators\n",
    "        AND, OR, IN, BETWEEN, LIKE"
   ]
  },
  {
   "cell_type": "code",
   "execution_count": 12,
   "id": "65ae2932-06e4-44b1-8b2b-e1bd8958a744",
   "metadata": {},
   "outputs": [
    {
     "name": "stdout",
     "output_type": "stream",
     "text": [
      "[('Madrid', 'Spain', 3255944)]\n"
     ]
    }
   ],
   "source": [
    "connection = sqlite3.connect('citydata.db')\n",
    "cursor = connection.cursor()\n",
    "cursor.execute('''SELECT * FROM Population WHERE City='Madrid' ''')\n",
    "print(cursor.fetchall())"
   ]
  },
  {
   "cell_type": "code",
   "execution_count": 17,
   "id": "acfaf278-032f-4288-91fe-a2f6941c5b52",
   "metadata": {},
   "outputs": [
    {
     "name": "stdout",
     "output_type": "stream",
     "text": [
      "[('Islington', 'United Kingdom', 319143), ('Irkutsk', 'Russia', 586695), ('Izhevsk', 'Russia', 631038), ('Iasi', 'Romania', 318012), ('Ipswich', 'United Kingdom', 178835), ('Ivanovo', 'Russia', 420839), ('Ivano-Frankivsk', 'Ukraine', 236602)]\n"
     ]
    }
   ],
   "source": [
    "connection = sqlite3.connect('citydata.db')\n",
    "cursor = connection.cursor()\n",
    "cursor.execute('''SELECT * FROM Population WHERE Population>=100000 AND City LIKE 'I%' ''')\n",
    "print(cursor.fetchall())"
   ]
  },
  {
   "cell_type": "markdown",
   "id": "1250fb4f-b204-4d6e-8450-41210143bda3",
   "metadata": {},
   "source": [
    "##### Preferred Method for Querying"
   ]
  },
  {
   "cell_type": "code",
   "execution_count": 18,
   "id": "30bb177e-3f53-48cb-8456-a91e5752ba81",
   "metadata": {},
   "outputs": [
    {
     "name": "stdout",
     "output_type": "stream",
     "text": [
      "[('Islington', 'United Kingdom', 319143), ('Irkutsk', 'Russia', 586695), ('Izhevsk', 'Russia', 631038), ('Iasi', 'Romania', 318012), ('Ipswich', 'United Kingdom', 178835), ('Ivanovo', 'Russia', 420839), ('Ivano-Frankivsk', 'Ukraine', 236602)]\n"
     ]
    }
   ],
   "source": [
    "connection = sqlite3.connect('citydata.db')\n",
    "cursor = connection.cursor()\n",
    "cursor.execute('''SELECT * FROM Population WHERE Population>=? AND City LIKE ? ''',(100000,'I%'))\n",
    "print(cursor.fetchall())"
   ]
  },
  {
   "cell_type": "markdown",
   "id": "52a215fc-8966-4202-89d6-8bbf825ffb25",
   "metadata": {},
   "source": [
    "#### <span style=\"color:orange\">UPDATE</span>"
   ]
  },
  {
   "cell_type": "markdown",
   "id": "9ea429c3-e96c-4056-88d6-30d4ea66fb33",
   "metadata": {},
   "source": [
    "* For Updating One Column\n",
    "    * UPDATE Employees SET Name='Sandeep' WHERE EmpID=19474\n",
    "* For Updating Multiple Columns\n",
    "    * UPDATE Employees SET Name='Sandeep', Salary=150000 WHERE EmpID=19474\n",
    "* For Updating all values in a One Column\n",
    "    * UPDATE Employees SET Salary=150000"
   ]
  },
  {
   "cell_type": "code",
   "execution_count": 3,
   "id": "facd5786-7589-440e-b481-3293002ca473",
   "metadata": {},
   "outputs": [],
   "source": [
    "import sqlite3\n",
    "connection = sqlite3.connect('hr.db')\n",
    "cursor = connection.cursor()\n",
    "cursor.execute('''UPDATE EMP SET Name=?, Salary=? WHERE EmpID=?''',('Sandeep',150000,19747))\n",
    "connection.commit()\n",
    "connection.close()"
   ]
  },
  {
   "cell_type": "code",
   "execution_count": 7,
   "id": "70ff06e3-3328-4710-8551-e53ce1b537a7",
   "metadata": {},
   "outputs": [],
   "source": [
    "import sqlite3\n",
    "connection = sqlite3.connect('hr.db')\n",
    "cursor = connection.cursor()\n",
    "cursor.execute('''UPDATE EMP SET Salary=?''',(150000,)) # if you are giving single value in tuple you should give comma at the end of the value in a tuple\n",
    "connection.commit()\n",
    "connection.close()"
   ]
  },
  {
   "cell_type": "markdown",
   "id": "ef62394e-9fd6-4d13-aa44-9421f4f34063",
   "metadata": {},
   "source": [
    "#### <span style=\"color:orange\">DELETE</span>"
   ]
  },
  {
   "cell_type": "code",
   "execution_count": null,
   "id": "1205b1d0-a425-4839-853d-4d1625dfbf3d",
   "metadata": {},
   "outputs": [],
   "source": [
    "DELELE from EMP # Delete all data from EMP table\n",
    "DELELE from EMP Where EMP_ID=1"
   ]
  },
  {
   "cell_type": "code",
   "execution_count": 10,
   "id": "3a720b36-d420-4724-a240-104d3fc4158e",
   "metadata": {},
   "outputs": [],
   "source": [
    "connection = sqlite3.connect('hr.db')\n",
    "cursor = connection.cursor()\n",
    "id = 3\n",
    "cursor.execute(\"DELETE FROM EMP WHERE EmpID=?\",(id,))\n",
    "connection.commit()\n",
    "connection.close()"
   ]
  },
  {
   "cell_type": "markdown",
   "id": "6b4de19d-3c05-4596-a858-5a05fc4d2880",
   "metadata": {},
   "source": [
    "#### <span style=\"color:orange\">DROP</span>"
   ]
  },
  {
   "cell_type": "code",
   "execution_count": null,
   "id": "0543fdf1-05fc-4fbc-8f3e-d17867be9d76",
   "metadata": {},
   "outputs": [],
   "source": [
    "DROP TABLE EMP\n",
    "DROP TABLE IF EXISTS EMP"
   ]
  },
  {
   "cell_type": "code",
   "execution_count": 15,
   "id": "2d15b496-e08b-4440-a44e-2a9ca60f6fab",
   "metadata": {},
   "outputs": [],
   "source": [
    "connection = sqlite3.connect(\"hr.db\")\n",
    "cursor = connection.cursor()\n",
    "cursor.execute('''DROP TABLE IF EXISTS EMP''')\n",
    "connection.commit()\n",
    "connection.close()"
   ]
  },
  {
   "cell_type": "markdown",
   "id": "159e0556-e2a2-43ef-b884-86d098973cdf",
   "metadata": {},
   "source": [
    "#### <span style=\"color:orange\">JOIN</span>"
   ]
  },
  {
   "cell_type": "code",
   "execution_count": null,
   "id": "4cac8b35-0342-48b2-9a2b-db82415ea692",
   "metadata": {},
   "outputs": [],
   "source": [
    "SELECT * FROM EMP JOIN DEPT ON EMP.DEPT_ID = DEPT.DEPT_ID\n",
    "SELECT EMP.*,DEPT.DEPT_NAME FROM EMP JOIN DEPT ON EMP.DEPT_ID = DEPT.DEPT_ID\n",
    "SELECT EMP.*,DEPT.DEPT_NAME FROM Employees EMP JOIN Departments DEPT ON EMP.DEPT_ID = DEPT.DEPT_ID"
   ]
  },
  {
   "cell_type": "code",
   "execution_count": 15,
   "id": "6a53ddce-02c4-46fe-bad7-c648422936cc",
   "metadata": {},
   "outputs": [],
   "source": [
    "connection = sqlite3.connect(\"hr.db\")\n",
    "cursor = connection.cursor()\n",
    "cursor.execute('''SELECT EMP.*,DEPT.DEPT_NAME FROM EMP JOIN DEPT ON EMP.DEPT_ID = DEPT.DEPT_ID''')\n",
    "connection.commit()\n",
    "connection.close()"
   ]
  },
  {
   "cell_type": "code",
   "execution_count": null,
   "id": "d245fac9-918d-43e3-aab1-c28d401a48e6",
   "metadata": {},
   "outputs": [],
   "source": [
    "connection = sqlite3.connect(\"hr.db\")\n",
    "cursor = connection.cursor()\n",
    "cursor.execute('''CREATE TABLE IF NOT EXISTS Employees \n",
    "                (Emp_ID INTEGER PRIMARY KEY AUTOINCREMENT, Name TEXT, Position TEXT,\n",
    "                Salary INTEGER, Dep_ID INTEGER)''')\n",
    "\n",
    "cursor.execute('''CREATE TABLE IF NOT EXISTS Departments \n",
    "                (Dep_ID INTEGER , Name TEXT)''')\n",
    "\n",
    "employees = [('John Clever', 'Software Engineer', 1000, 111),\n",
    "             ('Edy Lucky', 'Technical Team Lead', 2000, 111),\n",
    "             ('Peter Park', 'Sales Specialist', 1000, 222)]\n",
    "\n",
    "departments = [('111', 'IT'), ('222', 'Sales')]\n",
    "\n",
    "cursor.executemany('''INSERT INTO Employees (Name, Position, Salary, Dep_Id)\n",
    "                VALUES (?, ?, ?, ?)''', employees)\n",
    "\n",
    "cursor.executemany('''INSERT INTO Departments VALUES (?, ?)''', departments)\n",
    "\n",
    "\n",
    "connection.commit()\n",
    "connection.close()"
   ]
  },
  {
   "cell_type": "markdown",
   "id": "228093bc-6d00-47b4-a6b3-0c88564c84d4",
   "metadata": {},
   "source": [
    "##### <span style=\"color:orange\">Schema of a Table</span>"
   ]
  },
  {
   "cell_type": "code",
   "execution_count": 9,
   "id": "bc8d7df8-24d6-400d-b0e8-b59ce3b4092b",
   "metadata": {},
   "outputs": [
    {
     "name": "stdout",
     "output_type": "stream",
     "text": [
      "Schema for table 'employee':\n",
      "(0, 'emp_id', 'INTEGER', 0, None, 1)\n",
      "(1, 'emp_name', 'TEXT', 1, None, 0)\n",
      "(2, 'emp_dept_id', 'INTEGER', 1, None, 0)\n",
      "(3, 'emp_salary', 'REAL', 1, None, 0)\n"
     ]
    }
   ],
   "source": [
    "# Connect to the SQLite database\n",
    "conn = sqlite3.connect('company.db')\n",
    "cursor = conn.cursor()\n",
    "\n",
    "# Specify the table name for which you want to check the schema\n",
    "table_name = 'employee'\n",
    "\n",
    "# Query the sqlite_master table to retrieve the schema of the specified table\n",
    "# PRAGMA table_xinfo() statement is exactly the same as the PRAGMA table_info() statement, except that it also returns hidden columns on virtual tables.\n",
    "cursor.execute(f\"PRAGMA table_info({table_name})\")\n",
    "\n",
    "# Query the sqlite_master table to retrieve the schema of the specified table\n",
    "# cursor.execute(\"SELECT sql FROM sqlite_master WHERE type='table' AND name=?;\", (table_name,))\n",
    "# schema_info = cursor.fetchone()[0]\n",
    "# print(schema_info)\n",
    "\n",
    "schema_info = cursor.fetchall()\n",
    "\n",
    "# Print the schema information\n",
    "print(f\"Schema for table '{table_name}':\")\n",
    "for column in schema_info:\n",
    "    print(column)\n",
    "\n",
    "# Close connection\n",
    "conn.close()\n"
   ]
  }
 ],
 "metadata": {
  "kernelspec": {
   "display_name": "Python 3 (ipykernel)",
   "language": "python",
   "name": "python3"
  },
  "language_info": {
   "codemirror_mode": {
    "name": "ipython",
    "version": 3
   },
   "file_extension": ".py",
   "mimetype": "text/x-python",
   "name": "python",
   "nbconvert_exporter": "python",
   "pygments_lexer": "ipython3",
   "version": "3.11.8"
  }
 },
 "nbformat": 4,
 "nbformat_minor": 5
}
