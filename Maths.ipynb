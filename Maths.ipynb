{
 "cells": [
  {
   "cell_type": "code",
   "execution_count": 1,
   "metadata": {},
   "outputs": [
    {
     "name": "stdout",
     "output_type": "stream",
     "text": [
      "Last Updated Date: 23 May 2021\n"
     ]
    }
   ],
   "source": [
    "from datetime import date\n",
    "today = date.today()\n",
    "print(\"Last Updated Date:\", today.strftime(\"%d %B %Y\"))"
   ]
  },
  {
   "cell_type": "markdown",
   "metadata": {},
   "source": [
    "<br>[Introduction to Partial Derivatives](#Introduction_to_Partial_Derivatives)"
   ]
  },
  {
   "cell_type": "markdown",
   "metadata": {},
   "source": [
    "# <a id='Introduction_to_Partial_Derivatives'></a>Introduction to Partial Derivatives\n",
    "\n",
    "<br>https://www.khanacademy.org/math/multivariable-calculus/multivariable-derivatives/partial-derivative-and-gradient-articles/a/introduction-to-partial-derivatives"
   ]
  },
  {
   "cell_type": "markdown",
   "metadata": {},
   "source": [
    "<b> Derrivation of Sigmoid Function\n",
    "    \n",
    "Simple, value * (1-value) is the derrivation of a sigmoid\n",
    "<br>![](./Media/nlp19.png)\n",
    "\n",
    "References:\n",
    "    \n",
    "<br>https://towardsdatascience.com/derivative-of-the-sigmoid-function-536880cf918e\n",
    "\n",
    "<br>https://www.youtube.com/watch?v=G6djH3I0rG0&ab_channel=BhaveshBhatt"
   ]
  },
  {
   "cell_type": "markdown",
   "metadata": {},
   "source": [
    "<br>![](./Media/DS2.png)"
   ]
  },
  {
   "cell_type": "markdown",
   "metadata": {},
   "source": [
    "__The point to note here is that we must consider the shape of matrices while performing the forward as well as backward propogation__ \n",
    "<br>![](./Media/DS3.png)"
   ]
  },
  {
   "cell_type": "markdown",
   "metadata": {},
   "source": [
    "### Dot and Hadamard (Element -wise Multiplication) Product \n",
    "<br>https://medium.com/linear-algebra/part-14-dot-and-hadamard-product-b7e0723b9133"
   ]
  }
 ],
 "metadata": {
  "kernelspec": {
   "display_name": "Python 3",
   "language": "python",
   "name": "python3"
  },
  "language_info": {
   "codemirror_mode": {
    "name": "ipython",
    "version": 3
   },
   "file_extension": ".py",
   "mimetype": "text/x-python",
   "name": "python",
   "nbconvert_exporter": "python",
   "pygments_lexer": "ipython3",
   "version": "3.8.8"
  }
 },
 "nbformat": 4,
 "nbformat_minor": 4
}
