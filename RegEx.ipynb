{
 "cells": [
  {
   "cell_type": "markdown",
   "metadata": {},
   "source": [
    "# Python Regular Expressions"
   ]
  },
  {
   "cell_type": "code",
   "execution_count": 1,
   "metadata": {},
   "outputs": [
    {
     "name": "stdout",
     "output_type": "stream",
     "text": [
      "Last Updated Date: 03 October 2022\n"
     ]
    }
   ],
   "source": [
    "from datetime import date\n",
    "today = date.today()\n",
    "print(\"Last Updated Date:\", today.strftime(\"%d %B %Y\"))"
   ]
  },
  {
   "cell_type": "markdown",
   "metadata": {},
   "source": [
    "<br>[Text Processing - Handling Text Data](#Text_Processing_Handling_Text_Data)\n",
    "<br>[Regular Expressions](#Regular_Expressions)\n",
    "<br>[Word Boundaries](#Word_Boundaries)\n",
    "<br>[Regex Groups and the Pipe Character](#Regex_Groups_and_the_Pipe_Character)\n",
    "<br>[Non-Capturing Groups](#Non-Capturing_Groups)\n",
    "<br>[Repetition in Regex Patterns and Greedy/Non-Greedy Matching](#Repetition_in_Regex_Patterns)\n",
    "<br>[Regex Character Classes and the findall() Method](#Regex_Character)\n",
    "<br>[Regex Dot Star and Caret Dollar Characters](#Regex_Dot)\n",
    "<br>[Regex sub() Method and Verbose Mode. Substituting Strings with the sub() Method](#Regex_sub)\n",
    "<br>[Regex Example Program: A Phone and Email Scraper](#Regex_Example_Program)\n",
    "<br>[Zero-Width Assertions](#Zero-Width_Assertions)\n",
    "<br>[Using RegEx on Real-World Dataset](#Using_RegEx)"
   ]
  },
  {
   "cell_type": "markdown",
   "metadata": {},
   "source": [
    "You can practice REGEX on https://regex101.com/\n",
    "<br>[Sample Text](./Media/data/SampleText.txt)"
   ]
  },
  {
   "cell_type": "markdown",
   "metadata": {},
   "source": [
    "# <a id='Text_Processing_Handling_Text_Data'></a>Text Processing - Handling Text Data\n",
    "[Text Processing - Handling Text Data.pdf](./Media/Slides/NLP_1_TextProcessingHandlingTextData.pdf)\n",
    "* 11 Metacharacters, 10 Special Sequences, 8 Set Combinations, 8 RegEx Functions\n",
    "\n",
    "## Metacharacters - 11\n",
    "Metacharacters are characters with a special meaning:\n",
    "<br>\n",
    "<br>**Character&emsp;&emsp;Description&emsp;Example**\n",
    "<br>`[ ]`&emsp;A set of characters&emsp;&emsp;&emsp;\"\\[a-m\\]\"\n",
    "<br>`\\`&emsp;&emsp;Signals a special sequence (can also be used to escape special characters)&emsp;&emsp;&emsp;\"\\d\"\n",
    "<br>`.`&emsp;&emsp;Any character (except newline character)&emsp;&emsp;&emsp;\"he..o\"\n",
    "<br>`^`&emsp;&emsp;Starts with&emsp;&emsp;&emsp;\"^hello\"\n",
    "<br>`$` &emsp;&emsp;Ends with&emsp;&emsp;&emsp;\"world\\$\"\n",
    "<br>`*`&emsp;&emsp;Zero or more occurrences&emsp;&emsp;&emsp;\"aix*\"\n",
    "<br>`+`&emsp;&emsp;One or more occurrences&emsp;&emsp;&emsp;\"aix+\"\n",
    "<br>`?`&emsp;&emsp;Zero or One (optional)&emsp;&emsp;&emsp;\"aix?\"\n",
    "<br>`{N}`&emsp;&ensp;Exactly the specified N number of occurrences&emsp;&emsp;&emsp;\"al{2}\"\n",
    "<br>`|`&emsp;&emsp;Either or&emsp;&emsp;&emsp;\"falls|stays\"\n",
    "<br>`()`&emsp;&ensp;Capture and group\n",
    "\n",
    "## Special Sequences - 10\n",
    "\n",
    "A Special Sequence is a `\\` followed by one of the characters in the list below, and has a special meaning:\n",
    "<br> Easy to Remember. Opposite of below is \\\\D, \\\\W, \\\\S\n",
    "* \\\\d indicates 0 to 9 digits\n",
    "* \\\\w indicates alpha-numeric and underscore\n",
    "* \\\\s indicates space, tab, newline\n",
    "\n",
    "<br>**Character&emsp;&emsp;Description&emsp;Example**\n",
    "<br>`\\A`&emsp;&emsp;Returns a match if the specified characters are at the beginning of the string&emsp;&emsp;&emsp;\"\\AThe\"\n",
    "<br>`\\Z`&emsp;&emsp;Returns a match if the specified characters are at the end of the string&emsp;&emsp;&emsp;\"Spain\\Z\"\n",
    "<br>`\\b` (Word) Boundary - Matches at the begining or ending of a word but not in the middle of word (the \"r\" in the beginning is making sure that the string is being treated as a \"raw string”)&emsp;&emsp;&emsp;r\"\\bain\"&emsp;r\"ain\\b\"\n",
    "<br>\\B Opposite of \\b. Matches in the middle of a word but not in the begining or ending of word&emsp;&emsp;&emsp;r\"\\Bain\"&emsp;r\"ain\\B\"\n",
    "<br>`\\d` Matches any decimal digit; this is equivalent to the class [0-9]&emsp;&emsp;&emsp;\"\\d\"\n",
    "<br>`\\D` Matches any non-digit character; this is equivalent to the class [^0-9]&emsp;&emsp;&emsp;\"\\D\"\n",
    "<br>`\\s` Matches any whitespace character; this is equivalent to the class [ \\t\\n\\r\\f\\v]&emsp;&emsp;&emsp;\"\\s\"\n",
    "<br>`\\S` Matches any non-whitespace character; this is equivalent to the class [^ \\t\\n\\r\\f\\v]&emsp;&emsp;&emsp;\"\\S\"\n",
    "<br>`\\w` Matches any alphanumeric character and the underscore _ character; this is equivalent to the class [a-zA-Z0-9_]&emsp;&emsp;&emsp;\"\\w\"\n",
    "<br>`\\W` Matches any non-alphanumeric character and the non-underscore _ character; this is equivalent to the class [^a-zA-Z0-9_]&emsp;&emsp;&emsp;\"\\W\"\n",
    "<br>__NOTE__`\\A` only matches at the beginning of the ENTIRE text and `\\Z` only matches at the end of the ENTIRE text, as opposed to just a line beginning or ending. Functionality of `^` and `\\A` are different. Functionality of Dollar and `\\Z` are different.\n",
    "\n",
    "## Sets - 8\n",
    "A set is a set of characters inside a pair of square brackets \\[\\] with a special meaning:\n",
    "<br>\n",
    "<br>**Set&emsp;&emsp;&emsp;&emsp;Description**\n",
    "<br>`[arn]`&emsp;&emsp;Returns a match where one of the specified characters (a, r, or n) are present\n",
    "<br>`[a-n]`&emsp;&emsp;Returns a match for any lower case character, alphabetically between a and n\n",
    "<br>`[^arn]`&emsp;&ensp;Returns a match for any character EXCEPT a, r, and n\n",
    "<br>`[0123]`&emsp;&ensp;Returns a match where any of the specified digits (0, 1, 2, or 3) are present\n",
    "<br>`[0-9]`&emsp;&emsp;Returns a match for any digit between @ and 9\n",
    "<br>`[0-5][0-9]`&ensp;&ensp;Returns a match for any two-digit numbers from 00 and 59\n",
    "<br>`[a-zA-Z]`&ensp;Returns a match for any character alphabetically between a and z, lower case OR upper case\n",
    "<br>`[+]`&emsp;&emsp;In Sets, `+`, `\\*`, `.`, `|`, `()`, `$`,`{}` has no special meaning, so `[+]` means: return a match for any `+` character in the string"
   ]
  },
  {
   "cell_type": "markdown",
   "metadata": {},
   "source": [
    "## Variations of Metacharacters and Special Sequences\n",
    "<br>`abc...` Letters\n",
    "<br>`123...` Digits\n",
    "<br>`{min,max}` Matches min and can't exceed Max\n",
    "<br>`{min,}` \tMatches min with no max. Unbounded Maximum\n",
    "<br>`{,max}` \tMatches zero upto max. Unbounded Minimum\n",
    "<br>`^$`\tTo find Empty Strings\n",
    "<br>`^Exact Match$`\tTo find out Exact Match\n",
    "<br>`\\group_number` - This tool (\\1 references the first capturing group) matches the same text as previously matched by the capturing group.\n",
    "<br>`(...)` Capture Group\n",
    "<br>`(a(bc))` Capture Sub-group\n",
    "<br>`(.*)` Capture all\n",
    "<br>`(abc|def)` Matches abc or def\n",
    "<br>`(?:pattern)` Non-Capturing Groups - To make a group Non-Capturing\n",
    "   \n",
    "### Greedy / Non-Greedy Matching\n",
    "<br>`*` Greedily matches the expression to its left 0 or more times (append ? for Non-Greedy matching). It tries to match the longest possible string that matches pattern.\n",
    "<br>`.*`\tGreedy Matches\n",
    "<br>`.*?`\tNon Greedy Match\n",
    "<br>`+` \tGreedily matches the expression to its left 1 or more times (append ? for Non-Greedy matching)\n",
    "<br>`.+`  Greedy Matches\n",
    "<br>`*? or +?`  Non-greedy matching\n",
    "<br>`{x,y}?`  Non-greedy matching\n",
    "Note: Here this question mark is different from Zero or One (optional) question mark"
   ]
  },
  {
   "cell_type": "markdown",
   "metadata": {},
   "source": [
    "# <a id='Regular_Expressions'></a>Regular Expressions"
   ]
  },
  {
   "cell_type": "markdown",
   "metadata": {},
   "source": [
    "* A RegEx, or Regular Expression, is a sequence of characters that forms a search pattern\n",
    "* Python has a built-in package called re, which can be used to work with Regular Expressions\n",
    "* re.compile() - It's basically defines the text or pattern that we are looking for\n",
    "* You will usually pass raw strings (r'') to re.compile()\n",
    "<br> __Note__: You no need to use regex object re.compile() everytime, you can directly call functions re.search(pattern,string), re.findall(pattern,string), re.match(pattern,string), re.sub(pattern,replacement,string)"
   ]
  },
  {
   "cell_type": "markdown",
   "metadata": {},
   "source": [
    "<b> Regular Expression Blue Print / Syntax\n",
    "    <br> 1. Specifying the Pattern\n",
    "    <br> 2. Searching the Pattern\n",
    "    <br> 3. Print the result <b>"
   ]
  },
  {
   "cell_type": "markdown",
   "metadata": {},
   "source": [
    "[Regular Expressions.pdf](./Media/Slides/NLP_2_RegularExpressions.pdf)\n",
    "<br> [Regular Expressions Functions.pdf](./Media/Slides/NLP_3_RegularExpressionsPart1.pdf)\n",
    "* Regular Expression Functions are available in __re__ library of Python\n",
    "\n",
    "1. __compile()__\n",
    "2. __match()__\n",
    "3. __search()__\n",
    "4. __findall()__\n",
    "5. __finditer()__\n",
    "6. __sub()__\n",
    "7. __split()__\n",
    "8. __groups__\n",
    "\n",
    "<br>![](./Media/15_15.png)"
   ]
  },
  {
   "cell_type": "markdown",
   "metadata": {},
   "source": [
    "### Match Object\n",
    "* A Match Object is an object containing information about the search and the result.\n",
    "* If there is no match, the value None will be returned, instead of the Match Object.\n",
    "* __.start()__ and __.end()__ also gives the start position and end position\n",
    "* __.span()__ returns a tuple containing the start and end positions of the match. \n",
    "* __.string__ returns the string passed into the function\n",
    "* __.group()__ returns the part of the string where there was a match\n",
    "* __.groups()__ returns all the groups (in the match object) in the form of tuple"
   ]
  },
  {
   "cell_type": "code",
   "execution_count": 2,
   "metadata": {},
   "outputs": [
    {
     "name": "stdout",
     "output_type": "stream",
     "text": [
      "<re.Match object; span=(12, 17), match='Spain'>\n",
      "12\n",
      "17\n",
      "(12, 17)\n",
      "The rain in Spain\n",
      "Spain\n"
     ]
    }
   ],
   "source": [
    "import re\n",
    "str = \"The rain in Spain\"\n",
    "x = re.search(r\"\\bS\\w+\", str)\n",
    "print(x)\n",
    "print(x.start())\n",
    "print(x.end())\n",
    "print(x.span())\n",
    "print(x.string)\n",
    "print(x.group())"
   ]
  },
  {
   "cell_type": "code",
   "execution_count": 3,
   "metadata": {
    "colab": {
     "base_uri": "https://localhost:8080/",
     "height": 34
    },
    "colab_type": "code",
    "id": "5vXhYm30CRi4",
    "outputId": "fb309a36-13f8-49eb-d15c-67965b9641d0"
   },
   "outputs": [
    {
     "name": "stdout",
     "output_type": "stream",
     "text": [
      "['eay', 'easy', 'easssy', 'eay']\n"
     ]
    }
   ],
   "source": [
    "str = \"eay easy easssy eay eaty\"\n",
    "\n",
    "#Check if the string contains \"ea\" followed by 0 or more \"s\" characters and ending with y\n",
    "x = re.findall(\"eas*y\", str)\n",
    "\n",
    "print(x)"
   ]
  },
  {
   "cell_type": "markdown",
   "metadata": {
    "colab_type": "text",
    "id": "mTo7BrfvA1th"
   },
   "source": [
    "## 1. match()\n",
    "* Checks for a match only at the beginning of the string\n",
    "* __re.match()__ function will search the regular expression pattern and return the first occurrence. This method checks for a match only at the beginning of the string. So, if a match is found in the first line, it returns the match object. But if a match is found in some other line, it returns null."
   ]
  },
  {
   "cell_type": "code",
   "execution_count": 2,
   "metadata": {
    "_cell_guid": "b1076dfc-b9ad-4769-8c92-a6c4dae69d19",
    "_uuid": "8f2839f25d086af736a60e9eeb907d3b93b6e0e5",
    "colab": {
     "base_uri": "https://localhost:8080/",
     "height": 34
    },
    "colab_type": "code",
    "executionInfo": {
     "elapsed": 2159,
     "status": "ok",
     "timestamp": 1598462990697,
     "user": {
      "displayName": "Aishwarya Singh",
      "photoUrl": "https://lh3.googleusercontent.com/a-/AOh14GgeJwfn4BdBDCAplWi_kdtB9FRssOpXO7T_aMgg=s64",
      "userId": "01105858832371513140"
     },
     "user_tz": -330
    },
    "id": "x51ZeL5YA1tm",
    "outputId": "dcceec1a-31a2-475e-f704-34a3deee0d03",
    "scrolled": true
   },
   "outputs": [
    {
     "name": "stdout",
     "output_type": "stream",
     "text": [
      "<_sre.SRE_Match object; span=(0, 5), match='Tiger'>\n"
     ]
    }
   ],
   "source": [
    "# Defining a string\n",
    "string = \"Tiger is the national animal of India. Tiger lives in Forest.\"\n",
    "\n",
    "# Defining the pattern\n",
    "pattern = \"Tiger\"\n",
    "\n",
    "# Running match() on a string\n",
    "result = re.match(pattern, string)\n",
    "\n",
    "# Printing the result\n",
    "print(result)"
   ]
  },
  {
   "cell_type": "code",
   "execution_count": 3,
   "metadata": {
    "colab": {
     "base_uri": "https://localhost:8080/",
     "height": 34
    },
    "colab_type": "code",
    "executionInfo": {
     "elapsed": 1090,
     "status": "ok",
     "timestamp": 1598463114036,
     "user": {
      "displayName": "Aishwarya Singh",
      "photoUrl": "https://lh3.googleusercontent.com/a-/AOh14GgeJwfn4BdBDCAplWi_kdtB9FRssOpXO7T_aMgg=s64",
      "userId": "01105858832371513140"
     },
     "user_tz": -330
    },
    "id": "1hvbChN1A1tx",
    "outputId": "00eda4d3-681f-4e2c-9702-5ebfcabfd363"
   },
   "outputs": [
    {
     "name": "stdout",
     "output_type": "stream",
     "text": [
      "Tiger\n"
     ]
    }
   ],
   "source": [
    "# Defining a string\n",
    "string = \"Tiger is the national animal of India. Tiger lives in Forest.\"\n",
    "\n",
    "# Defining the pattern\n",
    "pattern = \"Tiger\"\n",
    "\n",
    "# Extracting String from a match object\n",
    "result = re.match(pattern, string).group()\n",
    "\n",
    "# Printing the result\n",
    "print(result)"
   ]
  },
  {
   "cell_type": "code",
   "execution_count": 4,
   "metadata": {
    "colab": {
     "base_uri": "https://localhost:8080/",
     "height": 34
    },
    "colab_type": "code",
    "executionInfo": {
     "elapsed": 1213,
     "status": "ok",
     "timestamp": 1598463131548,
     "user": {
      "displayName": "Aishwarya Singh",
      "photoUrl": "https://lh3.googleusercontent.com/a-/AOh14GgeJwfn4BdBDCAplWi_kdtB9FRssOpXO7T_aMgg=s64",
      "userId": "01105858832371513140"
     },
     "user_tz": -330
    },
    "id": "E7jP27xLA1t6",
    "outputId": "10b25519-f82a-4472-d939-7d9f229f89e9",
    "scrolled": true
   },
   "outputs": [
    {
     "name": "stdout",
     "output_type": "stream",
     "text": [
      "None\n"
     ]
    }
   ],
   "source": [
    "string = \"The national animal of India is Tiger. Tiger lives in Forest.\"\n",
    "pattern = \"Tiger\"\n",
    "\n",
    "# Checking for match\n",
    "result = re.match(pattern, string)\n",
    "print(result)"
   ]
  },
  {
   "cell_type": "code",
   "execution_count": 2,
   "metadata": {},
   "outputs": [
    {
     "name": "stdout",
     "output_type": "stream",
     "text": [
      "<re.Match object; span=(0, 10), match='guru99 get'>\n",
      "('guru99', 'get')\n",
      "<re.Match object; span=(0, 11), match='guru99 give'>\n",
      "('guru99', 'give')\n",
      "None\n"
     ]
    }
   ],
   "source": [
    "import re\n",
    "list = ['guru99 get','guru99 give','guru Selenium']\n",
    "for element in list:\n",
    "    mo = re.match(r'(g\\w+)\\s(g\\w+)',element)\n",
    "    print(mo)\n",
    "    if mo:\n",
    "        print(mo.groups())"
   ]
  },
  {
   "cell_type": "code",
   "execution_count": 5,
   "metadata": {},
   "outputs": [
    {
     "name": "stdout",
     "output_type": "stream",
     "text": [
      "<re.Match object; span=(0, 15), match='xyz.lmn.pqr....'>\n"
     ]
    }
   ],
   "source": [
    "import re\n",
    "regex_pattern = r\".{3}\\..{3}\\..{3}\\..{3}\"    # .(dot) means any character except new line\n",
    "test_string = 'xyz.lmn.pqr.................'\n",
    "match = re.match(regex_pattern, test_string)\n",
    "print(match)"
   ]
  },
  {
   "cell_type": "code",
   "execution_count": 1,
   "metadata": {},
   "outputs": [
    {
     "name": "stdout",
     "output_type": "stream",
     "text": [
      "CountryCode=1,LocalAreaCode=877,Number=2638277\n",
      "CountryCode=91,LocalAreaCode=011,Number=23413627\n"
     ]
    }
   ],
   "source": [
    "import re\n",
    "txt = ['1 877 2638277','91-011-23413627']\n",
    "pattern = re.compile(r'(\\d{1,3})(-|\\s)(\\d{3})(-|\\s)(\\d{4,10})')\n",
    "# pattern = re.compile(r'(\\d){1,3}(-|\\s)(\\d){3}(-|\\s)(\\d){4,10}') #This has different groups than above groups. Don't Confuse\n",
    "for i in txt:\n",
    "    mo = re.search(pattern,i)\n",
    "    print(f'CountryCode={mo.group(1)},LocalAreaCode={mo.group(3)},Number={mo.group(5)}')"
   ]
  },
  {
   "cell_type": "markdown",
   "metadata": {
    "colab_type": "text",
    "id": "6Yn2DE-EA1uE"
   },
   "source": [
    "## 2. search()\n",
    "* Locates a sub-string matching the RegEx pattern anywhere in the string\n",
    "* The __search()__ function searches the string for a match, and __returns a Match object if there is a match. If there is more than one match, only the first occurrence of the match will be returned__"
   ]
  },
  {
   "cell_type": "code",
   "execution_count": 5,
   "metadata": {
    "_cell_guid": "79c7e3d0-c299-4dcb-8224-4455121ee9b0",
    "_uuid": "d629ff2d2480ee46fbb7e2d37f6b5fab8052498a",
    "colab": {
     "base_uri": "https://localhost:8080/",
     "height": 34
    },
    "colab_type": "code",
    "executionInfo": {
     "elapsed": 954,
     "status": "ok",
     "timestamp": 1598463160439,
     "user": {
      "displayName": "Aishwarya Singh",
      "photoUrl": "https://lh3.googleusercontent.com/a-/AOh14GgeJwfn4BdBDCAplWi_kdtB9FRssOpXO7T_aMgg=s64",
      "userId": "01105858832371513140"
     },
     "user_tz": -330
    },
    "id": "XKpgamKVA1uF",
    "outputId": "15e173d5-1303-4e8e-f24b-5766b0fb8269"
   },
   "outputs": [
    {
     "name": "stdout",
     "output_type": "stream",
     "text": [
      "<_sre.SRE_Match object; span=(32, 37), match='Tiger'>\n"
     ]
    }
   ],
   "source": [
    "string = \"The national animal of India is Tiger. Tiger lives in Forest.\"\n",
    "pattern = \"Tiger\"\n",
    "\n",
    "# Searching a substring using search()\n",
    "result = re.search(pattern, string)\n",
    "print(result)"
   ]
  },
  {
   "cell_type": "code",
   "execution_count": 6,
   "metadata": {
    "colab": {
     "base_uri": "https://localhost:8080/",
     "height": 34
    },
    "colab_type": "code",
    "executionInfo": {
     "elapsed": 974,
     "status": "ok",
     "timestamp": 1598463179567,
     "user": {
      "displayName": "Aishwarya Singh",
      "photoUrl": "https://lh3.googleusercontent.com/a-/AOh14GgeJwfn4BdBDCAplWi_kdtB9FRssOpXO7T_aMgg=s64",
      "userId": "01105858832371513140"
     },
     "user_tz": -330
    },
    "id": "ldnqMaHVA1uN",
    "outputId": "c8876875-f8c0-42f0-e3d0-fecdfe6ee319"
   },
   "outputs": [
    {
     "name": "stdout",
     "output_type": "stream",
     "text": [
      "Tiger\n"
     ]
    }
   ],
   "source": [
    "string = \"The national animal of India is Tiger. Tiger lives in Forest.\"\n",
    "pattern = \"Tiger\"\n",
    "\n",
    "# Extracting searched string\n",
    "result = re.search(pattern, string).group()\n",
    "print(result)"
   ]
  },
  {
   "cell_type": "code",
   "execution_count": 216,
   "metadata": {},
   "outputs": [
    {
     "name": "stdout",
     "output_type": "stream",
     "text": [
      "<re.Match object; span=(0, 17), match='The rain in Spain'>\n"
     ]
    }
   ],
   "source": [
    "txt = \"The rain in Spain\"\n",
    "x = re.search('^The.*in*',txt)\n",
    "print(x)"
   ]
  },
  {
   "cell_type": "code",
   "execution_count": 217,
   "metadata": {},
   "outputs": [
    {
     "name": "stdout",
     "output_type": "stream",
     "text": [
      "Yes\n"
     ]
    }
   ],
   "source": [
    "if x:\n",
    "    print('Yes')\n",
    "else:\n",
    "    print('No')"
   ]
  },
  {
   "cell_type": "code",
   "execution_count": 218,
   "metadata": {},
   "outputs": [
    {
     "name": "stdout",
     "output_type": "stream",
     "text": [
      "<re.Match object; span=(3, 4), match=' '>\n",
      "The first white-space character is located in position: 3\n",
      "The first white-space character is located in position: 4\n",
      "(3, 4)\n"
     ]
    }
   ],
   "source": [
    "str = \"The rain in Spain\"\n",
    "x = re.search(\"\\s\", str)\n",
    "print(x)\n",
    "print(\"The first white-space character is located in position:\", x.start())\n",
    "print(\"The first white-space character is located in position:\", x.end())\n",
    "print(x.span())"
   ]
  },
  {
   "cell_type": "markdown",
   "metadata": {
    "colab_type": "text",
    "id": "5938aTk1A1uV"
   },
   "source": [
    "## 3. findall()\n",
    "* Finds all the sub-strings matching the RegEx pattern\n",
    "* The __re.findall()__ function returns a list containing all matches. If no matches are found, an empty list is returned\n",
    "* __VIMP: When given groups in a pattern, findall() matches only groups but not the entire pattern__"
   ]
  },
  {
   "cell_type": "code",
   "execution_count": 7,
   "metadata": {
    "_uuid": "d855bf8d6fe5b798eb03bb768b6ebc5b897a8d8d",
    "colab": {
     "base_uri": "https://localhost:8080/",
     "height": 34
    },
    "colab_type": "code",
    "executionInfo": {
     "elapsed": 1262,
     "status": "ok",
     "timestamp": 1598463231281,
     "user": {
      "displayName": "Aishwarya Singh",
      "photoUrl": "https://lh3.googleusercontent.com/a-/AOh14GgeJwfn4BdBDCAplWi_kdtB9FRssOpXO7T_aMgg=s64",
      "userId": "01105858832371513140"
     },
     "user_tz": -330
    },
    "id": "7DZgJFyuA1uX",
    "outputId": "471d0f17-6404-4d15-da02-bf140366ace8",
    "scrolled": true
   },
   "outputs": [
    {
     "name": "stdout",
     "output_type": "stream",
     "text": [
      "['Tiger', 'Tiger']\n"
     ]
    }
   ],
   "source": [
    "string = \"The national animal of India is Tiger. Tiger lives in Forest.\"\n",
    "pattern = \"Tiger\"\n",
    "\n",
    "# Using findall() on a string\n",
    "result = re.findall(pattern, string)\n",
    "print(result)"
   ]
  },
  {
   "cell_type": "code",
   "execution_count": 9,
   "metadata": {
    "_uuid": "0174d065ea3d943f1e07ce2a8bb3054de73f246e",
    "colab": {
     "base_uri": "https://localhost:8080/",
     "height": 34
    },
    "colab_type": "code",
    "executionInfo": {
     "elapsed": 1081,
     "status": "ok",
     "timestamp": 1598463323709,
     "user": {
      "displayName": "Aishwarya Singh",
      "photoUrl": "https://lh3.googleusercontent.com/a-/AOh14GgeJwfn4BdBDCAplWi_kdtB9FRssOpXO7T_aMgg=s64",
      "userId": "01105858832371513140"
     },
     "user_tz": -330
    },
    "id": "OpMfeQRPA1ud",
    "outputId": "15935327-c866-4cdc-b7b6-a4a90d584f82"
   },
   "outputs": [
    {
     "data": {
      "text/plain": [
       "['15-08-1947', '26-01-1950']"
      ]
     },
     "execution_count": 9,
     "metadata": {
      "tags": []
     },
     "output_type": "execute_result"
    }
   ],
   "source": [
    "# Defining the string\n",
    "text = \"India got freedom on 15-08-1947, and it is celebrated as Independence Day.\\\n",
    "        Indian Constitution came into effect on 26-01-1950, and it is celebrated as Republic Day.\"\n",
    "\n",
    "# Defining the pattern\n",
    "date_pattern = r'\\d{2}-\\d{2}-\\d{4}'\n",
    "\n",
    "# Extracting dates using findall()\n",
    "re.findall(date_pattern, text)"
   ]
  },
  {
   "cell_type": "code",
   "execution_count": 1,
   "metadata": {},
   "outputs": [
    {
     "data": {
      "text/plain": [
       "['ai', 'ai']"
      ]
     },
     "execution_count": 1,
     "metadata": {},
     "output_type": "execute_result"
    }
   ],
   "source": [
    "import re\n",
    "str = \"The rain in Spain\"\n",
    "x = re.findall('ai',str)\n",
    "x"
   ]
  },
  {
   "cell_type": "code",
   "execution_count": 5,
   "metadata": {},
   "outputs": [
    {
     "name": "stdout",
     "output_type": "stream",
     "text": [
      "['The']\n",
      "['Spain']\n"
     ]
    }
   ],
   "source": [
    "print(re.findall('^The',str))\n",
    "print(re.findall('Spain$',str))"
   ]
  },
  {
   "cell_type": "code",
   "execution_count": 214,
   "metadata": {},
   "outputs": [
    {
     "name": "stdout",
     "output_type": "stream",
     "text": [
      "['34']\n",
      "['Send', 'an', 'email', 'from', 'this', 'email', 'com', 'to', 'test', 'user', 'com', 'times']\n",
      "['this@email.com', 'test@user.com']\n"
     ]
    }
   ],
   "source": [
    "myString = 'Send an email from this@email.com to test@user.com 34 times.'\n",
    "print(re.findall('[0-9]+',myString))\n",
    "print(re.findall('[a-zA-Z]+',myString))\n",
    "print(re.findall('\\S+@\\S+',myString))"
   ]
  },
  {
   "cell_type": "code",
   "execution_count": 6,
   "metadata": {},
   "outputs": [
    {
     "name": "stdout",
     "output_type": "stream",
     "text": [
      "<re.Match object; span=(1, 12), match='i love cats'>\n",
      "i love cats\n",
      "cats\n"
     ]
    }
   ],
   "source": [
    "import re\n",
    "txt = \"\"\"\n",
    "i love cats\n",
    "i love dogs\n",
    "\"\"\"\n",
    "pat = re.compile(r'i love (cats|dogs)')\n",
    "mo = pat.search(txt)\n",
    "print(mo)\n",
    "print(mo.group())\n",
    "print(mo.group(1))"
   ]
  },
  {
   "cell_type": "code",
   "execution_count": 8,
   "metadata": {},
   "outputs": [
    {
     "name": "stdout",
     "output_type": "stream",
     "text": [
      "['cats', 'dogs']\n"
     ]
    }
   ],
   "source": [
    "pat = re.compile(r'i love (cats|dogs)')\n",
    "mo = pat.findall(txt) # findall() only captures groups but not enitre pattern like match(),search(),finditer()\n",
    "print(mo)"
   ]
  },
  {
   "cell_type": "code",
   "execution_count": 10,
   "metadata": {},
   "outputs": [
    {
     "name": "stdout",
     "output_type": "stream",
     "text": [
      "<re.Match object; span=(1, 12), match='i love cats'>\n",
      "i love cats\n",
      "cats\n",
      "------------------\n",
      "<re.Match object; span=(13, 24), match='i love dogs'>\n",
      "i love dogs\n",
      "dogs\n",
      "------------------\n"
     ]
    }
   ],
   "source": [
    "txt = \"\"\"\n",
    "i love cats\n",
    "i love dogs\n",
    "\"\"\"\n",
    "pat = re.compile(r'i love (cats|dogs)')\n",
    "mo = pat.finditer(txt)\n",
    "for i in mo:\n",
    "    print(i)\n",
    "    print(i.group())\n",
    "    print(i.group(1))\n",
    "    print('------------------')"
   ]
  },
  {
   "cell_type": "markdown",
   "metadata": {
    "colab_type": "text",
    "id": "UbIaQpWmA1uk"
   },
   "source": [
    "## 4. finditer()\n",
    "* Similar to findall() but returns an iterator\n",
    "* The re.finditer(patter,string) returns an iterator that contains starting index of a matching string"
   ]
  },
  {
   "cell_type": "code",
   "execution_count": 10,
   "metadata": {
    "colab": {
     "base_uri": "https://localhost:8080/",
     "height": 104
    },
    "colab_type": "code",
    "executionInfo": {
     "elapsed": 1165,
     "status": "ok",
     "timestamp": 1598463345069,
     "user": {
      "displayName": "Aishwarya Singh",
      "photoUrl": "https://lh3.googleusercontent.com/a-/AOh14GgeJwfn4BdBDCAplWi_kdtB9FRssOpXO7T_aMgg=s64",
      "userId": "01105858832371513140"
     },
     "user_tz": -330
    },
    "id": "Ml0mr66_A1um",
    "outputId": "620d422c-81e5-4b21-9b17-4daeb682f2dc"
   },
   "outputs": [
    {
     "name": "stdout",
     "output_type": "stream",
     "text": [
      "<callable_iterator object at 0x7f79f1704b00>\n",
      "<_sre.SRE_Match object; span=(32, 37), match='Tiger'>\n",
      "Start: 32  End: 37  Sub-string: Tiger\n",
      "<_sre.SRE_Match object; span=(39, 44), match='Tiger'>\n",
      "Start: 39  End: 44  Sub-string: Tiger\n"
     ]
    }
   ],
   "source": [
    "string = \"The national animal of India is Tiger. Tiger lives in Forest.\"\n",
    "pattern = \"Tiger\"\n",
    "\n",
    "# Using finditer() on a string\n",
    "result = re.finditer(pattern, string)\n",
    "print(result)\n",
    "\n",
    "# Iterating over the iterator\n",
    "for m in result:\n",
    "    # Printing match object\n",
    "    print(m)\n",
    "    # Printing starting and ending index with matched substring\n",
    "    print('Start:',m.start(),' End:',m.end(),' Sub-string:',m.group())"
   ]
  },
  {
   "cell_type": "code",
   "execution_count": 8,
   "metadata": {},
   "outputs": [
    {
     "name": "stdout",
     "output_type": "stream",
     "text": [
      "<callable_iterator object at 0x000002885D299748>\n"
     ]
    }
   ],
   "source": [
    "string = 'tiger is the national animal of india and national sports is hockey'\n",
    "pattern = 'national'\n",
    "mo = re.finditer(pattern,string)\n",
    "print(mo)"
   ]
  },
  {
   "cell_type": "code",
   "execution_count": 9,
   "metadata": {},
   "outputs": [
    {
     "name": "stdout",
     "output_type": "stream",
     "text": [
      "<re.Match object; span=(13, 21), match='national'>\n",
      "13\n",
      "<re.Match object; span=(42, 50), match='national'>\n",
      "42\n"
     ]
    }
   ],
   "source": [
    "for i in mo:\n",
    "    print(i)\n",
    "    print(i.start())"
   ]
  },
  {
   "cell_type": "markdown",
   "metadata": {
    "colab_type": "text",
    "id": "l4ZatWPxA1us"
   },
   "source": [
    "## 5. sub()\n",
    "* Searches for a substring and replaces it with another string\n",
    "* The __re.sub(pattern,replacement,string) i.e., re.sub(old,new,string)__ function replaces the matches with the text of your choice\n",
    "* You can control the number of replacements by specifying the count parameter"
   ]
  },
  {
   "cell_type": "code",
   "execution_count": 11,
   "metadata": {
    "_uuid": "33fbc134ce0f031a1edad8ceb7cb1f59b5054c63",
    "colab": {
     "base_uri": "https://localhost:8080/",
     "height": 34
    },
    "colab_type": "code",
    "executionInfo": {
     "elapsed": 1127,
     "status": "ok",
     "timestamp": 1598463394101,
     "user": {
      "displayName": "Aishwarya Singh",
      "photoUrl": "https://lh3.googleusercontent.com/a-/AOh14GgeJwfn4BdBDCAplWi_kdtB9FRssOpXO7T_aMgg=s64",
      "userId": "01105858832371513140"
     },
     "user_tz": -330
    },
    "id": "TUyGHQMOA1ut",
    "outputId": "1b851ebe-1f6f-40c9-af41-4b468f1ddb94"
   },
   "outputs": [
    {
     "name": "stdout",
     "output_type": "stream",
     "text": [
      "Analytics Vidhya is largest Analytics community of the World.\n"
     ]
    }
   ],
   "source": [
    "text=\"Analytics Vidhya is largest Analytics community of India.\"\n",
    "\n",
    "# Replacing a substring using sub()\n",
    "result=re.sub('India', 'the World',text)\n",
    "print(result)"
   ]
  },
  {
   "cell_type": "code",
   "execution_count": 221,
   "metadata": {},
   "outputs": [
    {
     "data": {
      "text/plain": [
       "'The9rain9in9Spain'"
      ]
     },
     "execution_count": 221,
     "metadata": {},
     "output_type": "execute_result"
    }
   ],
   "source": [
    "# Example Replace every white-space character with the number 9\n",
    "str = \"The rain in Spain\"\n",
    "x = re.sub('\\s','9',str)\n",
    "x"
   ]
  },
  {
   "cell_type": "code",
   "execution_count": 222,
   "metadata": {},
   "outputs": [
    {
     "data": {
      "text/plain": [
       "'The9rain9in Spain'"
      ]
     },
     "execution_count": 222,
     "metadata": {},
     "output_type": "execute_result"
    }
   ],
   "source": [
    "# Example: Replace the first 2 occurrences\n",
    "str = \"The rain in Spain\"\n",
    "x = re.sub('\\s','9',str,2)  # You can control the number of replacements by specifying the count parameter\n",
    "x"
   ]
  },
  {
   "cell_type": "markdown",
   "metadata": {
    "colab_type": "text",
    "id": "_bWP1kRFA1uz"
   },
   "source": [
    "## 6. split()\n",
    "* Split the text by the given RegEx Pattern\n",
    "* The re.split(pattern,string) function returns a list where the string has been split at each match\n",
    "* You can control the number of occurrences by specifying the __maxsplit__ parameter"
   ]
  },
  {
   "cell_type": "code",
   "execution_count": 2,
   "metadata": {
    "_uuid": "3c9c19a5a0c97d11d81c5eb0f27f19966f92c263",
    "colab": {
     "base_uri": "https://localhost:8080/",
     "height": 34
    },
    "colab_type": "code",
    "executionInfo": {
     "elapsed": 1353,
     "status": "ok",
     "timestamp": 1598463430454,
     "user": {
      "displayName": "Aishwarya Singh",
      "photoUrl": "https://lh3.googleusercontent.com/a-/AOh14GgeJwfn4BdBDCAplWi_kdtB9FRssOpXO7T_aMgg=s64",
      "userId": "01105858832371513140"
     },
     "user_tz": -330
    },
    "id": "frzMC9RSA1u0",
    "outputId": "90beee04-42fe-4a74-f01e-8494fb6a014c"
   },
   "outputs": [
    {
     "data": {
      "text/plain": [
       "['I have a big test tomorrow', \" I can't go out tonight.\"]"
      ]
     },
     "execution_count": 2,
     "metadata": {},
     "output_type": "execute_result"
    }
   ],
   "source": [
    "line = \"I have a big test tomorrow; I can't go out tonight.\"\n",
    "\n",
    "# Splitting a string into multiple substrings\n",
    "re.split(r';', line)"
   ]
  },
  {
   "cell_type": "code",
   "execution_count": 12,
   "metadata": {
    "_uuid": "3c9c19a5a0c97d11d81c5eb0f27f19966f92c263",
    "colab": {
     "base_uri": "https://localhost:8080/",
     "height": 34
    },
    "colab_type": "code",
    "executionInfo": {
     "elapsed": 1353,
     "status": "ok",
     "timestamp": 1598463430454,
     "user": {
      "displayName": "Aishwarya Singh",
      "photoUrl": "https://lh3.googleusercontent.com/a-/AOh14GgeJwfn4BdBDCAplWi_kdtB9FRssOpXO7T_aMgg=s64",
      "userId": "01105858832371513140"
     },
     "user_tz": -330
    },
    "id": "frzMC9RSA1u0",
    "outputId": "90beee04-42fe-4a74-f01e-8494fb6a014c"
   },
   "outputs": [
    {
     "data": {
      "text/plain": [
       "['I have a big test tomorrow', \" I can't go out tonight.\"]"
      ]
     },
     "execution_count": 12,
     "metadata": {
      "tags": []
     },
     "output_type": "execute_result"
    }
   ],
   "source": [
    "line = \"I have a big test tomorrow; I can't go out tonight.\"\n",
    "\n",
    "# Splitting a string into multiple substrings\n",
    "re.split(r'[;]', line)"
   ]
  },
  {
   "cell_type": "code",
   "execution_count": 219,
   "metadata": {},
   "outputs": [
    {
     "data": {
      "text/plain": [
       "['The', 'rain', 'in', 'Spain']"
      ]
     },
     "execution_count": 219,
     "metadata": {},
     "output_type": "execute_result"
    }
   ],
   "source": [
    "str = \"The rain in Spain\"\n",
    "x = re.split('\\s',str)\n",
    "x"
   ]
  },
  {
   "cell_type": "code",
   "execution_count": 220,
   "metadata": {},
   "outputs": [
    {
     "data": {
      "text/plain": [
       "['The', 'rain in Spain']"
      ]
     },
     "execution_count": 220,
     "metadata": {},
     "output_type": "execute_result"
    }
   ],
   "source": [
    "# Example Split the string only at the first occurrence\n",
    "str = \"The rain in Spain\"\n",
    "x = re.split('\\s',str,1)    #You can control the number of occurrences by specifying the maxsplit parameter\n",
    "x"
   ]
  },
  {
   "cell_type": "code",
   "execution_count": 2,
   "metadata": {},
   "outputs": [
    {
     "data": {
      "text/plain": [
       "['this', 'is', 'a', 'sample', 'text', 'string']"
      ]
     },
     "execution_count": 2,
     "metadata": {},
     "output_type": "execute_result"
    }
   ],
   "source": [
    "string = 'this is;a,sample,text string'\n",
    "pattern = r'[;,\\s]'\n",
    "re.split(pattern,string)"
   ]
  },
  {
   "cell_type": "markdown",
   "metadata": {
    "colab_type": "text",
    "id": "hQ5kACDYA1u8"
   },
   "source": [
    "## 7. Groups"
   ]
  },
  {
   "cell_type": "code",
   "execution_count": 13,
   "metadata": {
    "colab": {
     "base_uri": "https://localhost:8080/",
     "height": 34
    },
    "colab_type": "code",
    "executionInfo": {
     "elapsed": 1073,
     "status": "ok",
     "timestamp": 1598463578860,
     "user": {
      "displayName": "Aishwarya Singh",
      "photoUrl": "https://lh3.googleusercontent.com/a-/AOh14GgeJwfn4BdBDCAplWi_kdtB9FRssOpXO7T_aMgg=s64",
      "userId": "01105858832371513140"
     },
     "user_tz": -330
    },
    "id": "x0YFvtRYA1u-",
    "outputId": "9f02c6f5-efea-455c-bcc4-dd03031c31ee"
   },
   "outputs": [
    {
     "name": "stdout",
     "output_type": "stream",
     "text": [
      "['Ajay credited $500 to your account on 13-08-2020', 'Anmol debited $1,700 from your account on 14-08-2020', 'Alex debited $100 on 16-08-2020']\n"
     ]
    }
   ],
   "source": [
    "# Running a simple pattern on some text\n",
    "string=\"Ajay credited $500 to your account on 13-08-2020.\\\n",
    "      Anmol debited $1,700 from your account on 14-08-2020.\\\n",
    "      Alex debited $100 on 16-08-2020 from your account.\"\n",
    "\n",
    "pattern=\"[\\w]+ [\\w]+ \\$[\\d,]+ [a-zA-z ]+ \\d{2}-\\d{2}-\\d{4}\"\n",
    "\n",
    "result=re.findall(pattern,string)\n",
    "\n",
    "print(result)"
   ]
  },
  {
   "cell_type": "code",
   "execution_count": 14,
   "metadata": {
    "colab": {
     "base_uri": "https://localhost:8080/",
     "height": 34
    },
    "colab_type": "code",
    "executionInfo": {
     "elapsed": 1051,
     "status": "ok",
     "timestamp": 1598463627261,
     "user": {
      "displayName": "Aishwarya Singh",
      "photoUrl": "https://lh3.googleusercontent.com/a-/AOh14GgeJwfn4BdBDCAplWi_kdtB9FRssOpXO7T_aMgg=s64",
      "userId": "01105858832371513140"
     },
     "user_tz": -330
    },
    "id": "cQ8xvKvhA1vE",
    "outputId": "d0addbe3-2c94-4881-f210-c25b59891645"
   },
   "outputs": [
    {
     "name": "stdout",
     "output_type": "stream",
     "text": [
      "[('Ajay', 'credited', '$500', '13-08-2020'), ('Anmol', 'debited', '$1,700', '14-08-2020'), ('Alex', 'debited', '$100', '16-08-2020')]\n"
     ]
    }
   ],
   "source": [
    "string=\"Ajay credited $500 to your account on 13-08-2020.\\\n",
    "      Anmol debited $1,700 from your account on 14-08-2020.\\\n",
    "      Alex debited $100 on 16-08-2020 from your account.\"\n",
    "\n",
    "# Creating groups in the previous pattern\n",
    "pattern=\"([\\w]+) ([\\w]+) (\\$[\\d,]+) [a-zA-z ]+ (\\d{2}-\\d{2}-\\d{4})\"\n",
    "\n",
    "result=re.findall(pattern,string)\n",
    "\n",
    "print(result)"
   ]
  },
  {
   "cell_type": "code",
   "execution_count": 15,
   "metadata": {
    "colab": {
     "base_uri": "https://localhost:8080/",
     "height": 143
    },
    "colab_type": "code",
    "executionInfo": {
     "elapsed": 1109,
     "status": "ok",
     "timestamp": 1598463641288,
     "user": {
      "displayName": "Aishwarya Singh",
      "photoUrl": "https://lh3.googleusercontent.com/a-/AOh14GgeJwfn4BdBDCAplWi_kdtB9FRssOpXO7T_aMgg=s64",
      "userId": "01105858832371513140"
     },
     "user_tz": -330
    },
    "id": "UOF8foSKA1vL",
    "outputId": "4d864902-6e10-4735-ecf3-78648a501953"
   },
   "outputs": [
    {
     "data": {
      "text/html": [
       "<div>\n",
       "<style scoped>\n",
       "    .dataframe tbody tr th:only-of-type {\n",
       "        vertical-align: middle;\n",
       "    }\n",
       "\n",
       "    .dataframe tbody tr th {\n",
       "        vertical-align: top;\n",
       "    }\n",
       "\n",
       "    .dataframe thead th {\n",
       "        text-align: right;\n",
       "    }\n",
       "</style>\n",
       "<table border=\"1\" class=\"dataframe\">\n",
       "  <thead>\n",
       "    <tr style=\"text-align: right;\">\n",
       "      <th></th>\n",
       "      <th>Name</th>\n",
       "      <th>Type</th>\n",
       "      <th>Amount</th>\n",
       "      <th>Date</th>\n",
       "    </tr>\n",
       "  </thead>\n",
       "  <tbody>\n",
       "    <tr>\n",
       "      <th>0</th>\n",
       "      <td>Ajay</td>\n",
       "      <td>credited</td>\n",
       "      <td>$500</td>\n",
       "      <td>13-08-2020</td>\n",
       "    </tr>\n",
       "    <tr>\n",
       "      <th>1</th>\n",
       "      <td>Anmol</td>\n",
       "      <td>debited</td>\n",
       "      <td>$1,700</td>\n",
       "      <td>14-08-2020</td>\n",
       "    </tr>\n",
       "    <tr>\n",
       "      <th>2</th>\n",
       "      <td>Alex</td>\n",
       "      <td>debited</td>\n",
       "      <td>$100</td>\n",
       "      <td>16-08-2020</td>\n",
       "    </tr>\n",
       "  </tbody>\n",
       "</table>\n",
       "</div>"
      ],
      "text/plain": [
       "    Name      Type  Amount        Date\n",
       "0   Ajay  credited    $500  13-08-2020\n",
       "1  Anmol   debited  $1,700  14-08-2020\n",
       "2   Alex   debited    $100  16-08-2020"
      ]
     },
     "execution_count": 15,
     "metadata": {
      "tags": []
     },
     "output_type": "execute_result"
    }
   ],
   "source": [
    "import pandas as pd\n",
    "\n",
    "# Creating a dataframe\n",
    "df=pd.DataFrame(result,columns=['Name','Type','Amount','Date'])\n",
    "df"
   ]
  },
  {
   "cell_type": "code",
   "execution_count": 16,
   "metadata": {
    "colab": {
     "base_uri": "https://localhost:8080/",
     "height": 69
    },
    "colab_type": "code",
    "executionInfo": {
     "elapsed": 1026,
     "status": "ok",
     "timestamp": 1598463690222,
     "user": {
      "displayName": "Aishwarya Singh",
      "photoUrl": "https://lh3.googleusercontent.com/a-/AOh14GgeJwfn4BdBDCAplWi_kdtB9FRssOpXO7T_aMgg=s64",
      "userId": "01105858832371513140"
     },
     "user_tz": -330
    },
    "id": "ZwsASy4EA1vS",
    "outputId": "c8e710c8-fecf-449b-be8b-bb84d1cd0dea",
    "scrolled": true
   },
   "outputs": [
    {
     "name": "stdout",
     "output_type": "stream",
     "text": [
      "Ajay credited $500 to your account on 13-08-2020 => Ajay => credited => $500 => 13-08-2020\n",
      "Anmol debited $1,700 from your account on 14-08-2020 => Anmol => debited => $1,700 => 14-08-2020\n",
      "Alex debited $100 on 16-08-2020 => Alex => debited => $100 => 16-08-2020\n"
     ]
    }
   ],
   "source": [
    "# Using finditer() for getting match objects\n",
    "string=\"Ajay credited $500 to your account on 13-08-2020.\\\n",
    "      Anmol debited $1,700 from your account on 14-08-2020.\\\n",
    "      Alex debited $100 on 16-08-2020 from your account.\"\n",
    "\n",
    "pattern=\"([\\w]+) ([\\w]+) (\\$[\\d,]+) [a-zA-z ]+ (\\d{2}-\\d{2}-\\d{4})\"\n",
    "\n",
    "result=re.finditer(pattern,string)\n",
    "\n",
    "# Accessing groups separately\n",
    "for i in result:\n",
    "    print(i.group(0),'=>',i.group(1),'=>',i.group(2),'=>',i.group(3),'=>',i.group(4))"
   ]
  },
  {
   "cell_type": "markdown",
   "metadata": {
    "colab_type": "text",
    "id": "Rh-zWJkOA1vY"
   },
   "source": [
    "**Note:** Syntax for naming groups: `(?P<Group Name>Pattern)`       VIMP"
   ]
  },
  {
   "cell_type": "code",
   "execution_count": 18,
   "metadata": {
    "colab": {},
    "colab_type": "code",
    "executionInfo": {
     "elapsed": 1495,
     "status": "ok",
     "timestamp": 1598463890813,
     "user": {
      "displayName": "Aishwarya Singh",
      "photoUrl": "https://lh3.googleusercontent.com/a-/AOh14GgeJwfn4BdBDCAplWi_kdtB9FRssOpXO7T_aMgg=s64",
      "userId": "01105858832371513140"
     },
     "user_tz": -330
    },
    "id": "b393attMA1vZ"
   },
   "outputs": [],
   "source": [
    "string=\"Ajay credited $500 to your account on 13-08-2020.\\\n",
    "      Anmol debited $1,700 from your account on 14-08-2020.\\\n",
    "      Alex debited $100 on 16-08-2020 from your account.\"\n",
    "\n",
    "# Naming Groups\n",
    "pattern=\"(?P<Name>[\\w]+) (?P<Type>[\\w]+) (?P<Amount>\\$[\\d,]+) [a-zA-z ]+ (?P<Date>\\d{2}-\\d{2}-\\d{4})\"\n",
    "\n",
    "result=list(re.finditer(pattern,string))"
   ]
  },
  {
   "cell_type": "code",
   "execution_count": 19,
   "metadata": {
    "colab": {
     "base_uri": "https://localhost:8080/",
     "height": 69
    },
    "colab_type": "code",
    "executionInfo": {
     "elapsed": 1091,
     "status": "ok",
     "timestamp": 1598463899969,
     "user": {
      "displayName": "Aishwarya Singh",
      "photoUrl": "https://lh3.googleusercontent.com/a-/AOh14GgeJwfn4BdBDCAplWi_kdtB9FRssOpXO7T_aMgg=s64",
      "userId": "01105858832371513140"
     },
     "user_tz": -330
    },
    "id": "EBtiU-zQA1ve",
    "outputId": "61614666-31e5-4b47-e2a1-47d13af61334"
   },
   "outputs": [
    {
     "name": "stdout",
     "output_type": "stream",
     "text": [
      "Ajay => $500 => 13-08-2020 => credited\n",
      "Anmol => $1,700 => 14-08-2020 => debited\n",
      "Alex => $100 => 16-08-2020 => debited\n"
     ]
    }
   ],
   "source": [
    "# Accessing data by group names\n",
    "for i in result:\n",
    "    print(i.group('Name'),'=>',i.group('Amount'),'=>',i.group('Date'),'=>',i.group('Type'))"
   ]
  },
  {
   "cell_type": "code",
   "execution_count": 20,
   "metadata": {
    "colab": {
     "base_uri": "https://localhost:8080/",
     "height": 69
    },
    "colab_type": "code",
    "executionInfo": {
     "elapsed": 1262,
     "status": "ok",
     "timestamp": 1598463914791,
     "user": {
      "displayName": "Aishwarya Singh",
      "photoUrl": "https://lh3.googleusercontent.com/a-/AOh14GgeJwfn4BdBDCAplWi_kdtB9FRssOpXO7T_aMgg=s64",
      "userId": "01105858832371513140"
     },
     "user_tz": -330
    },
    "id": "EW4kaVQjA1vj",
    "outputId": "2e59c5a8-b8ed-4cf1-b8e8-7771b15c7bae",
    "scrolled": true
   },
   "outputs": [
    {
     "name": "stdout",
     "output_type": "stream",
     "text": [
      "{'Name': 'Ajay', 'Type': 'credited', 'Amount': '$500', 'Date': '13-08-2020'}\n",
      "{'Name': 'Anmol', 'Type': 'debited', 'Amount': '$1,700', 'Date': '14-08-2020'}\n",
      "{'Name': 'Alex', 'Type': 'debited', 'Amount': '$100', 'Date': '16-08-2020'}\n"
     ]
    }
   ],
   "source": [
    "# Printing data with group names\n",
    "for i in result:\n",
    "    print(i.groupdict())"
   ]
  },
  {
   "cell_type": "markdown",
   "metadata": {
    "colab_type": "text",
    "id": "Bvc01ip_E_la"
   },
   "source": [
    "## Character Set\n",
    "\n",
    "1. A set is a bunch of characters inside a pair of square brackets `[ ]` with a special meaning."
   ]
  },
  {
   "cell_type": "code",
   "execution_count": 0,
   "metadata": {
    "colab": {
     "base_uri": "https://localhost:8080/",
     "height": 34
    },
    "colab_type": "code",
    "id": "qvUXj2t6EgqK",
    "outputId": "54ee7231-2a4a-4dc9-ac79-c3a4446b841a"
   },
   "outputs": [
    {
     "name": "stdout",
     "output_type": "stream",
     "text": [
      "['y', 'd', 'h', 'y', 'h', 'd']\n"
     ]
    }
   ],
   "source": [
    "str = \"Analytics Vidhya is one of the largest data science communities\"\n",
    "\n",
    "#Check for the characters y, d, or h, in the above string\n",
    "x = re.findall(\"[ydh]\", str)\n",
    "\n",
    "print(x)"
   ]
  },
  {
   "cell_type": "code",
   "execution_count": 0,
   "metadata": {
    "colab": {
     "base_uri": "https://localhost:8080/",
     "height": 34
    },
    "colab_type": "code",
    "id": "SsizfCMeK7w0",
    "outputId": "851dc948-a155-4f24-d56f-b4fc6a371f63"
   },
   "outputs": [
    {
     "name": "stdout",
     "output_type": "stream",
     "text": [
      "['a', 'c', 'd', 'a', 'e', 'e', 'f', 'e', 'a', 'g', 'e', 'd', 'a', 'a', 'c', 'e', 'c', 'e', 'c', 'e']\n"
     ]
    }
   ],
   "source": [
    "str = \"Analytics Vidhya is the one of the largest data science communities\"\n",
    "\n",
    "#Check for the characters between a and g, in the above string\n",
    "x = re.findall(\"[a-g]\", str)\n",
    "\n",
    "print(x)"
   ]
  },
  {
   "cell_type": "markdown",
   "metadata": {
    "colab_type": "text",
    "id": "F9fLACdByqG4"
   },
   "source": [
    "2. `[^]` Check whether string has __other characters__ mentioned after `^`"
   ]
  },
  {
   "cell_type": "code",
   "execution_count": 0,
   "metadata": {
    "colab": {
     "base_uri": "https://localhost:8080/",
     "height": 54
    },
    "colab_type": "code",
    "id": "E-RchTxCFB9Z",
    "outputId": "72d6771b-9fa3-48b6-e54c-dae0b2a2c530"
   },
   "outputs": [
    {
     "name": "stdout",
     "output_type": "stream",
     "text": [
      "['A', 'n', 'a', 'l', 't', 'i', 'c', 's', ' ', 'V', 'i', 'a', ' ', 'i', 's', ' ', 'o', 'n', 'e', ' ', 'o', 'f', ' ', 't', 'e', ' ', 'l', 'a', 'r', 'g', 'e', 's', 't', ' ', 'a', 't', 'a', ' ', 's', 'c', 'i', 'e', 'c', 'e', ' ', 'c', 'o', 'm', 'm', 'u', 'n', 'i', 't', 'i', 'e', 's']\n"
     ]
    }
   ],
   "source": [
    "str = \"Analytics Vidhya is one of the largest data sciece communities\"\n",
    "\n",
    "#Check if every word character has characters other than y, d, or h\n",
    "\n",
    "x = re.findall(\"[^ydh]\", str)\n",
    "\n",
    "print(x)"
   ]
  },
  {
   "cell_type": "code",
   "execution_count": 0,
   "metadata": {
    "colab": {
     "base_uri": "https://localhost:8080/",
     "height": 34
    },
    "colab_type": "code",
    "id": "bnIyO4jBq7ev",
    "outputId": "28488a75-bb6e-40b9-f4c7-d7806547b4bf"
   },
   "outputs": [
    {
     "name": "stdout",
     "output_type": "stream",
     "text": [
      "['A', 'n', 'a', 'l', 'y', 't', 'i', 'c', 's', 'V', 'i', 'd', 'h', 'y', 'a']\n"
     ]
    }
   ],
   "source": [
    "str = \"@AnalyticsVidhya\"\n",
    "\n",
    "x = re.findall(\"[^@]\", str)\n",
    "\n",
    "print(x)"
   ]
  },
  {
   "cell_type": "markdown",
   "metadata": {},
   "source": [
    "# <a id='Word_Boundaries'></a>Word Boundaries\n",
    "* The metacharacter `\\b` is an anchor just like the caret `^` and the dollar `$` sign. It matches at a position that is called a __word boundary__. This match is zero-length.\n",
    "* `\\b` is called 'boundary' and allows you isolate words\n",
    "* `\\b` allows you to perform a __whole words only__ search using a regular expression in the form of `\\bword\\b`. A “word character” is a character that can be used to form words. All characters that are not __word characters__ are __non-word characters__"
   ]
  },
  {
   "cell_type": "code",
   "execution_count": 3,
   "metadata": {},
   "outputs": [
    {
     "name": "stdout",
     "output_type": "stream",
     "text": [
      "['is']\n"
     ]
    },
    {
     "data": {
      "text/plain": [
       "<re.Match object; span=(12, 14), match='is'>"
      ]
     },
     "execution_count": 3,
     "metadata": {},
     "output_type": "execute_result"
    }
   ],
   "source": [
    "import re\n",
    "mstr = 'This island is beautiful'\n",
    "print(re.findall(r'\\bis\\b',mstr))\n",
    "mo = re.search(r'\\bis\\b',mstr)\n",
    "mo"
   ]
  },
  {
   "cell_type": "markdown",
   "metadata": {
    "colab_type": "text",
    "id": "9cuV3PLx_0QN"
   },
   "source": [
    "**\\b** returns a match where the specified pattern is at the beginning or at the end of a word."
   ]
  },
  {
   "cell_type": "code",
   "execution_count": 0,
   "metadata": {
    "colab": {
     "base_uri": "https://localhost:8080/",
     "height": 34
    },
    "colab_type": "code",
    "id": "WHo26_h_-QcB",
    "outputId": "609e9e28-6fca-4f22-b38e-1b929d8a8373"
   },
   "outputs": [
    {
     "name": "stdout",
     "output_type": "stream",
     "text": [
      "['ics']\n"
     ]
    }
   ],
   "source": [
    "# Check if there is any word that ends with \"est\"\n",
    "x = re.findall(r\"ics\\b\", \"Analytics Vidhya is one of the largest data science communities\")\n",
    "print(x)"
   ]
  },
  {
   "cell_type": "code",
   "execution_count": 0,
   "metadata": {
    "colab": {
     "base_uri": "https://localhost:8080/",
     "height": 34
    },
    "colab_type": "code",
    "id": "yVKk8i4j7Rul",
    "outputId": "b3aed7bf-e439-48fa-c53f-afdfb88e695a"
   },
   "outputs": [
    {
     "name": "stdout",
     "output_type": "stream",
     "text": [
      "['est']\n"
     ]
    }
   ],
   "source": [
    "# Check if there is any word that ends with \"est\"\n",
    "x = re.findall(r\"est\\b\", \"Analytics Vidhya is one of the largest data science communities\")\n",
    "print(x)"
   ]
  },
  {
   "cell_type": "markdown",
   "metadata": {},
   "source": [
    "<br>https://www.udemy.com/course/automate/learn/lecture/3465866#overview\n",
    "<br> <b> You no need to use regex object re.compile() everytime, you can directly call functions re.search(pattern,string), re.findall(pattern,string), re.match(pattern,string), re.sub(pattern,replacement,string)\n",
    "\n",
    "<br>![](./Media/15_2.png)"
   ]
  },
  {
   "cell_type": "code",
   "execution_count": 1,
   "metadata": {},
   "outputs": [],
   "source": [
    "import re"
   ]
  },
  {
   "cell_type": "code",
   "execution_count": 2,
   "metadata": {},
   "outputs": [
    {
     "data": {
      "text/plain": [
       "'888-555-1011'"
      ]
     },
     "execution_count": 2,
     "metadata": {},
     "output_type": "execute_result"
    }
   ],
   "source": [
    "msg = 'Call me at 888-555-1011 tomorrow. 415-555-9999 is my office.'\n",
    "ro = re.compile(r'\\d\\d\\d-\\d\\d\\d-\\d\\d\\d\\d')           # Pattern\n",
    "mo = ro.search(msg)           # Search Pattern in the Message\n",
    "mo.group()                  "
   ]
  },
  {
   "cell_type": "markdown",
   "metadata": {},
   "source": [
    "# <a id='Regex_Groups_and_the_Pipe_Character'></a>Regex Groups and the Pipe Character\n",
    "<br>![](./Media/15_3.png)\n",
    "* <b> findall() method returns a list of all matched patterns\n",
    "* <b> pipe | is similar to OR Example: ([a-f]|[A-F]) will match any of the following characters: a, b, c, d, e, f, A, B, C, D, E, or F."
   ]
  },
  {
   "cell_type": "code",
   "execution_count": 5,
   "metadata": {},
   "outputs": [
    {
     "name": "stdout",
     "output_type": "stream",
     "text": [
      "['888-555-1011', '415-555-9999']\n"
     ]
    }
   ],
   "source": [
    "str = 'Call me at 888-555-1011 tomorrow. 415-555-9999 is my office.'\n",
    "ro = re.compile(r'\\d\\d\\d-\\d\\d\\d-\\d\\d\\d\\d')\n",
    "lo = ro.findall(str)\n",
    "print(lo)"
   ]
  },
  {
   "cell_type": "code",
   "execution_count": 3,
   "metadata": {},
   "outputs": [
    {
     "name": "stdout",
     "output_type": "stream",
     "text": [
      "415-555-9999\n"
     ]
    }
   ],
   "source": [
    "ro = re.compile(r'\\d\\d\\d-\\d\\d\\d-\\d\\d\\d\\d')        \n",
    "mo = ro.search('Call me at (888)-555-1011 tomorrow. 415-555-9999 is my office.')\n",
    "print(mo.group())"
   ]
  },
  {
   "cell_type": "code",
   "execution_count": 16,
   "metadata": {},
   "outputs": [
    {
     "name": "stdout",
     "output_type": "stream",
     "text": [
      "415-555-9999\n",
      "415\n"
     ]
    }
   ],
   "source": [
    "ro = re.compile(r'(\\d\\d\\d)-\\d\\d\\d-\\d\\d\\d\\d')        # parenthesis are used for grouping purpose\n",
    "mo = ro.search('Call me at (888)-555-1011 tomorrow. 415-555-9999 is my office.')\n",
    "print(mo.group())\n",
    "print(mo.group(1))"
   ]
  },
  {
   "cell_type": "code",
   "execution_count": 17,
   "metadata": {},
   "outputs": [
    {
     "name": "stdout",
     "output_type": "stream",
     "text": [
      "(888)-555-1011\n",
      "(888)\n"
     ]
    }
   ],
   "source": [
    "pb = re.compile(r'(\\(\\d\\d\\d\\))-\\d\\d\\d-\\d\\d\\d\\d')        # parenthesis are used for grouping purpose\n",
    "mo = pb.search('Call me at (888)-555-1011 tomorrow. 415-555-9999 is my office.')\n",
    "print(mo.group())\n",
    "print(mo.group(1))"
   ]
  },
  {
   "cell_type": "code",
   "execution_count": 18,
   "metadata": {},
   "outputs": [
    {
     "name": "stdout",
     "output_type": "stream",
     "text": [
      "888-555-1011\n",
      "888\n"
     ]
    }
   ],
   "source": [
    "pb = re.compile(r'(\\d\\d\\d)-\\d\\d\\d-\\d\\d\\d\\d')        # parenthesis are used for grouping purpose\n",
    "mo = pb.search('Call me at 888-555-1011 tomorrow. 415-555-9999 is my office.')\n",
    "print(mo.group(0))\n",
    "print(mo.group(1))"
   ]
  },
  {
   "cell_type": "code",
   "execution_count": 19,
   "metadata": {},
   "outputs": [
    {
     "name": "stdout",
     "output_type": "stream",
     "text": [
      "415-555-9999\n",
      "415\n"
     ]
    }
   ],
   "source": [
    "pb = re.compile(r'(\\d\\d\\d)-\\d\\d\\d-\\d\\d\\d\\d')        # parenthesis are used for grouping purpose\n",
    "mo = pb.search('Call me at (888)-555-1011 tomorrow. 415-555-9999 is my office.')\n",
    "print(mo.group(0))\n",
    "print(mo.group(1))"
   ]
  },
  {
   "cell_type": "code",
   "execution_count": 20,
   "metadata": {},
   "outputs": [
    {
     "name": "stdout",
     "output_type": "stream",
     "text": [
      "888-555-1011\n",
      "888-555-1011\n",
      "888\n",
      "555\n",
      "1011\n"
     ]
    }
   ],
   "source": [
    "pb = re.compile('(\\d\\d\\d)-(\\d\\d\\d)-(\\d\\d\\d\\d)')        # parenthesis are used for grouping purpose\n",
    "mo = pb.search('Call me at 888-555-1011 tomorrow. 415-555-9999 is my office.')\n",
    "print(mo.group())\n",
    "print(mo.group(0))\n",
    "print(mo.group(1))\n",
    "print(mo.group(2))\n",
    "print(mo.group(3))"
   ]
  },
  {
   "cell_type": "code",
   "execution_count": 21,
   "metadata": {},
   "outputs": [
    {
     "name": "stdout",
     "output_type": "stream",
     "text": [
      "(888)-555-1011\n",
      "555\n",
      "1011\n"
     ]
    }
   ],
   "source": [
    "msg1 = 'Call me at (888)-555-1011 tomorrow. 415-555-9999 is my office.'\n",
    "\n",
    "pb = re.compile(r'\\(\\d\\d\\d\\)-(\\d\\d\\d)-(\\d\\d\\d\\d)')        # you can escape the parenthesis\n",
    "mo = pb.search(msg1)\n",
    "print(mo.group(0))\n",
    "print(mo.group(1))\n",
    "print(mo.group(2))"
   ]
  },
  {
   "cell_type": "code",
   "execution_count": 22,
   "metadata": {},
   "outputs": [
    {
     "name": "stdout",
     "output_type": "stream",
     "text": [
      "(888)-555-1011\n",
      "(888)\n",
      "555\n",
      "1011\n"
     ]
    }
   ],
   "source": [
    "msg1 = 'Call me at (888)-555-1011 tomorrow. 415-555-9999 is my office.'\n",
    "\n",
    "pb = re.compile(r'(\\(\\d\\d\\d\\))-(\\d\\d\\d)-(\\d\\d\\d\\d)')        # you can escape the parenthesis\n",
    "mo = pb.search(msg1)\n",
    "print(mo.group(0))\n",
    "print(mo.group(1))\n",
    "print(mo.group(2))\n",
    "print(mo.group(3))"
   ]
  },
  {
   "cell_type": "code",
   "execution_count": 23,
   "metadata": {},
   "outputs": [
    {
     "name": "stdout",
     "output_type": "stream",
     "text": [
      "Batmobile\n",
      "mobile\n"
     ]
    }
   ],
   "source": [
    "msg2 = 'Batmobile at a loss'\n",
    "p = re.compile(r'Bat(man|woman|mobile|singh)')  # pipe(|) is like 'or' operator\n",
    "mo = p.search(msg2)\n",
    "print(mo.group())                # You will get error when you try to apply group on Null or None\n",
    "print(mo.group(1))     # To find out which suffix it matched, use group(1)"
   ]
  },
  {
   "cell_type": "code",
   "execution_count": 24,
   "metadata": {},
   "outputs": [
    {
     "ename": "AttributeError",
     "evalue": "'NoneType' object has no attribute 'group'",
     "output_type": "error",
     "traceback": [
      "\u001b[1;31m---------------------------------------------------------------------------\u001b[0m",
      "\u001b[1;31mAttributeError\u001b[0m                            Traceback (most recent call last)",
      "\u001b[1;32m<ipython-input-24-96731b304526>\u001b[0m in \u001b[0;36m<module>\u001b[1;34m\u001b[0m\n\u001b[0;32m      2\u001b[0m \u001b[0mp\u001b[0m \u001b[1;33m=\u001b[0m \u001b[0mre\u001b[0m\u001b[1;33m.\u001b[0m\u001b[0mcompile\u001b[0m\u001b[1;33m(\u001b[0m\u001b[1;34mr'Bat (man|woman|mobile|singh)'\u001b[0m\u001b[1;33m)\u001b[0m\u001b[1;33m\u001b[0m\u001b[1;33m\u001b[0m\u001b[0m\n\u001b[0;32m      3\u001b[0m \u001b[0mmo\u001b[0m \u001b[1;33m=\u001b[0m \u001b[0mp\u001b[0m\u001b[1;33m.\u001b[0m\u001b[0msearch\u001b[0m\u001b[1;33m(\u001b[0m\u001b[0mmsg2\u001b[0m\u001b[1;33m)\u001b[0m\u001b[1;33m\u001b[0m\u001b[1;33m\u001b[0m\u001b[0m\n\u001b[1;32m----> 4\u001b[1;33m \u001b[0mmo\u001b[0m\u001b[1;33m.\u001b[0m\u001b[0mgroup\u001b[0m\u001b[1;33m(\u001b[0m\u001b[1;33m)\u001b[0m                \u001b[1;31m# You will get error when you try to apply group on Null or None\u001b[0m\u001b[1;33m\u001b[0m\u001b[1;33m\u001b[0m\u001b[0m\n\u001b[0m",
      "\u001b[1;31mAttributeError\u001b[0m: 'NoneType' object has no attribute 'group'"
     ]
    }
   ],
   "source": [
    "msg2 = 'Batmobile at a loss'\n",
    "p = re.compile(r'Bat (man|woman|mobile|singh)')\n",
    "mo = p.search(msg2)\n",
    "mo.group()                # You will get error when you try to apply group on Null or None"
   ]
  },
  {
   "cell_type": "markdown",
   "metadata": {},
   "source": [
    "<br>![](./Media/16_9.png)"
   ]
  },
  {
   "cell_type": "code",
   "execution_count": 1,
   "metadata": {},
   "outputs": [
    {
     "name": "stdout",
     "output_type": "stream",
     "text": [
      "ab #1?AZa$ab #1?AZa$\n",
      "true\n"
     ]
    }
   ],
   "source": [
    "Regex_Pattern = r'^([a-z])(\\w)(\\s)(\\W)(\\d)(\\D)([A-Z])([a-zA-Z])([aeiouAEIOU])(\\S)\\1\\2\\3\\4\\5\\6\\7\\8\\9\\10$'\t# Do not delete 'r'.\n",
    "\n",
    "import re\n",
    "\n",
    "print(str(bool(re.search(Regex_Pattern, input()))).lower()) # input - ab #1?AZa$ab #1?AZa$"
   ]
  },
  {
   "cell_type": "code",
   "execution_count": 6,
   "metadata": {},
   "outputs": [
    {
     "data": {
      "text/plain": [
       "False"
      ]
     },
     "execution_count": 6,
     "metadata": {},
     "output_type": "execute_result"
    }
   ],
   "source": [
    "bool(None)"
   ]
  },
  {
   "cell_type": "markdown",
   "metadata": {},
   "source": [
    "# <a id='Non-Capturing_Groups'></a>Non-Capturing Groups"
   ]
  },
  {
   "cell_type": "markdown",
   "metadata": {},
   "source": [
    "There are cases when we want to use groups, but we're not interested in extracting the information, i.e. capturing the matched text inside paranthesis only. An example is alteration.\n",
    "\n",
    "Hence, to make a group non-capturing, we have to use the syntax __(?:pattern)__ instead of (pattern), we normally use parenthesis for grouping\n",
    "\n",
    "Let's consider an example where we want to find the strings i love cats or i love dogs in the given text."
   ]
  },
  {
   "cell_type": "code",
   "execution_count": 1,
   "metadata": {},
   "outputs": [],
   "source": [
    "import re"
   ]
  },
  {
   "cell_type": "code",
   "execution_count": 2,
   "metadata": {},
   "outputs": [],
   "source": [
    "txt = \"\"\"\n",
    "i love cats\n",
    "i love dogs\n",
    "\"\"\""
   ]
  },
  {
   "cell_type": "code",
   "execution_count": 6,
   "metadata": {
    "scrolled": true
   },
   "outputs": [
    {
     "data": {
      "text/plain": [
       "['cats', 'dogs']"
      ]
     },
     "execution_count": 6,
     "metadata": {},
     "output_type": "execute_result"
    }
   ],
   "source": [
    "pattern = r'i love (cats|dogs)'\n",
    "mo = re.findall(pattern,txt)\n",
    "mo    # As we can see, the group captured part contains only cats or dogs instead of complete sentences."
   ]
  },
  {
   "cell_type": "code",
   "execution_count": 7,
   "metadata": {},
   "outputs": [
    {
     "data": {
      "text/plain": [
       "['i love cats', 'i love dogs']"
      ]
     },
     "execution_count": 7,
     "metadata": {},
     "output_type": "execute_result"
    }
   ],
   "source": [
    "pattern = r'i love (?:cats|dogs)'   # Now grouping will not be captured               #VIMP\n",
    "mo = re.findall(pattern,txt)\n",
    "mo    "
   ]
  },
  {
   "cell_type": "markdown",
   "metadata": {},
   "source": [
    "# <a id='Repetition_in_Regex_Patterns'></a>Repetition in Regex Patterns and Greedy/Non-Greedy Matching\n",
    "\n",
    "<br> `?` Zero or One (optional)\n",
    "<br> `*` Greedily matches the expression to its left 0 or more times (append `?` for Non-Greedy matching). It tries to match the longest possible string that matches pattern.\n",
    "<br> `+` Greedily matches the expression to its left 1 or more times (append `?` for Non-Greedy matching)\n",
    "<br> `*?` or `+?` → Non-greedy matching\n",
    "<br> `{x,y}?` → Non-greedy matching\n",
    "<br> __Note__: Here this question mark is different from Zero or One (optional) question mark\n",
    "<br> `{x}` - Exactly x times\n",
    "<br> `{min,max}` - Matches min and can't exceed max\n",
    "<br> `{min,}` - Matches min with no max. Unbounded Maximum\n",
    "<br> `{,max`} - Matches zero upto max. Unbounded Minimum\n",
    "<br>![](./Media/15_4.png)"
   ]
  },
  {
   "cell_type": "code",
   "execution_count": 27,
   "metadata": {},
   "outputs": [
    {
     "name": "stdout",
     "output_type": "stream",
     "text": [
      "Batwoman\n",
      "wo\n"
     ]
    }
   ],
   "source": [
    "# Brackets puts things in a group and '?' indicates, it can appear once or zero times\n",
    "p = re.compile(r'Bat(wo)man')\n",
    "mo = p.search('The Adventure of Batwoman')\n",
    "if mo is not None:\n",
    "    print(mo.group())\n",
    "    print(mo.group(1))\n",
    "else:\n",
    "    print(mo)"
   ]
  },
  {
   "cell_type": "code",
   "execution_count": 29,
   "metadata": {},
   "outputs": [
    {
     "name": "stdout",
     "output_type": "stream",
     "text": [
      "Batman\n"
     ]
    }
   ],
   "source": [
    "# Brackets puts things in a group and '?' indicates, it can appear once or zero times\n",
    "p = re.compile(r'Bat(wo)?man')\n",
    "mo = p.search('The Adventure of Batman')\n",
    "if mo is not None:\n",
    "    print(mo.group())\n",
    "else:\n",
    "    print(mo)"
   ]
  },
  {
   "cell_type": "code",
   "execution_count": 14,
   "metadata": {},
   "outputs": [
    {
     "name": "stdout",
     "output_type": "stream",
     "text": [
      "Batman\n"
     ]
    }
   ],
   "source": [
    "# Brackets puts things in a group and '*' indicates, it can appear zero or more\n",
    "p = re.compile(r'Bat(wo)*man')\n",
    "mo = p.search('The Adventure of Batman')\n",
    "if mo is not None:\n",
    "    print(mo.group())\n",
    "else:\n",
    "    print(mo)# Brackets puts things in a group and '?' indicates, it can appear once or zero times"
   ]
  },
  {
   "cell_type": "code",
   "execution_count": 12,
   "metadata": {},
   "outputs": [
    {
     "name": "stdout",
     "output_type": "stream",
     "text": [
      "Batwowowoman\n"
     ]
    }
   ],
   "source": [
    "# Brackets puts things in a group and '+' indicates, it can appear atleast ones\n",
    "p = re.compile(r'Bat(wo)+man')\n",
    "mo = p.search('The Adventure of Batwowowoman')\n",
    "if mo is not None:\n",
    "    print(mo.group())\n",
    "else:\n",
    "    print(mo)"
   ]
  },
  {
   "cell_type": "code",
   "execution_count": 15,
   "metadata": {},
   "outputs": [
    {
     "name": "stdout",
     "output_type": "stream",
     "text": [
      "(415)-555-1011\n"
     ]
    }
   ],
   "source": [
    "p = re.compile(r'\\(\\d\\d\\d\\)?-\\d\\d\\d-\\d\\d\\d\\d')\n",
    "mo = p.search('Call me at (415)-555-1011 tomorrow. Call me Tomorrow.')\n",
    "print(mo.group())"
   ]
  },
  {
   "cell_type": "code",
   "execution_count": 17,
   "metadata": {},
   "outputs": [
    {
     "name": "stdout",
     "output_type": "stream",
     "text": [
      "415-555-1011\n"
     ]
    }
   ],
   "source": [
    "p = re.compile(r'(\\d\\d\\d-)?\\d\\d\\d-\\d\\d\\d\\d')\n",
    "mo = p.search('Call me at 415-555-1011 tomorrow. Call me Tomorrow.')\n",
    "print(mo.group())"
   ]
  },
  {
   "cell_type": "code",
   "execution_count": 19,
   "metadata": {},
   "outputs": [
    {
     "name": "stdout",
     "output_type": "stream",
     "text": [
      "415-555-1011\n"
     ]
    }
   ],
   "source": [
    "p = re.compile(r'(\\d\\d\\d)-\\d\\d\\d-\\d\\d\\d\\d')\n",
    "mo = p.search('Call me at 415-555-1011 tomorrow. Call me Tomorrow.')\n",
    "print(mo.group())"
   ]
  },
  {
   "cell_type": "code",
   "execution_count": 30,
   "metadata": {},
   "outputs": [
    {
     "ename": "AttributeError",
     "evalue": "'NoneType' object has no attribute 'group'",
     "output_type": "error",
     "traceback": [
      "\u001b[1;31m---------------------------------------------------------------------------\u001b[0m",
      "\u001b[1;31mAttributeError\u001b[0m                            Traceback (most recent call last)",
      "\u001b[1;32m<ipython-input-30-503b26bd8b14>\u001b[0m in \u001b[0;36m<module>\u001b[1;34m\u001b[0m\n\u001b[0;32m      1\u001b[0m \u001b[0mp\u001b[0m \u001b[1;33m=\u001b[0m \u001b[0mre\u001b[0m\u001b[1;33m.\u001b[0m\u001b[0mcompile\u001b[0m\u001b[1;33m(\u001b[0m\u001b[1;34mr'(\\d\\d\\d)-\\d\\d\\d-\\d\\d\\d\\d'\u001b[0m\u001b[1;33m)\u001b[0m\u001b[1;33m\u001b[0m\u001b[1;33m\u001b[0m\u001b[0m\n\u001b[0;32m      2\u001b[0m \u001b[0mmo\u001b[0m \u001b[1;33m=\u001b[0m \u001b[0mp\u001b[0m\u001b[1;33m.\u001b[0m\u001b[0msearch\u001b[0m\u001b[1;33m(\u001b[0m\u001b[1;34m'Call me at (415)-555-1011 tomorrow. Call me Tomorrow.'\u001b[0m\u001b[1;33m)\u001b[0m\u001b[1;33m\u001b[0m\u001b[1;33m\u001b[0m\u001b[0m\n\u001b[1;32m----> 3\u001b[1;33m \u001b[0mprint\u001b[0m\u001b[1;33m(\u001b[0m\u001b[0mmo\u001b[0m\u001b[1;33m.\u001b[0m\u001b[0mgroup\u001b[0m\u001b[1;33m(\u001b[0m\u001b[1;33m)\u001b[0m\u001b[1;33m)\u001b[0m\u001b[1;33m\u001b[0m\u001b[1;33m\u001b[0m\u001b[0m\n\u001b[0m",
      "\u001b[1;31mAttributeError\u001b[0m: 'NoneType' object has no attribute 'group'"
     ]
    }
   ],
   "source": [
    "p = re.compile(r'(\\d\\d\\d)-\\d\\d\\d-\\d\\d\\d\\d')\n",
    "mo = p.search('Call me at (415)-555-1011 tomorrow. Call me Tomorrow.')\n",
    "print(mo.group())"
   ]
  },
  {
   "cell_type": "code",
   "execution_count": 31,
   "metadata": {},
   "outputs": [
    {
     "name": "stdout",
     "output_type": "stream",
     "text": [
      "415-555-1011\n",
      "415\n"
     ]
    }
   ],
   "source": [
    "p = re.compile(r'(\\d\\d\\d)-\\d\\d\\d-\\d\\d\\d\\d')\n",
    "mo = p.search('Call me at 415-555-1011 tomorrow. Call me Tomorrow.')\n",
    "print(mo.group())\n",
    "print(mo.group(1))"
   ]
  },
  {
   "cell_type": "code",
   "execution_count": 53,
   "metadata": {},
   "outputs": [
    {
     "name": "stdout",
     "output_type": "stream",
     "text": [
      "(415)-555-1011\n"
     ]
    }
   ],
   "source": [
    "p = re.compile(r'\\(\\d\\d\\d\\)-\\d\\d\\d-\\d\\d\\d\\d')\n",
    "mo = p.search('Call me at (415)-555-1011 tomorrow. Call me Tomorrow.')\n",
    "print(mo.group())"
   ]
  },
  {
   "cell_type": "code",
   "execution_count": 54,
   "metadata": {},
   "outputs": [
    {
     "name": "stdout",
     "output_type": "stream",
     "text": [
      "Dinner?\n"
     ]
    }
   ],
   "source": [
    "p = re.compile(r'Dinner\\?')\n",
    "mo = p.search('Call me at 415-555-1011 tomorrow. Dinner? Tomorrow.')\n",
    "print(mo.group())"
   ]
  },
  {
   "cell_type": "code",
   "execution_count": 60,
   "metadata": {},
   "outputs": [
    {
     "name": "stdout",
     "output_type": "stream",
     "text": [
      "Batman\n"
     ]
    }
   ],
   "source": [
    "# Brackets puts things in a group and '?' indicates, it can appear once or zero times\n",
    "p = re.compile(r'Bat(wo)*man')\n",
    "mo = p.search('Batman')\n",
    "if mo is not None:\n",
    "    print(mo.group())\n",
    "else:\n",
    "    print(mo)"
   ]
  },
  {
   "cell_type": "code",
   "execution_count": 61,
   "metadata": {},
   "outputs": [
    {
     "name": "stdout",
     "output_type": "stream",
     "text": [
      "Batwowowowoman\n"
     ]
    }
   ],
   "source": [
    "p = re.compile(r'Bat(wo)*man')\n",
    "mo = p.search('Batwowowowoman')\n",
    "if mo is not None:\n",
    "    print(mo.group())\n",
    "else:\n",
    "    print(mo)"
   ]
  },
  {
   "cell_type": "code",
   "execution_count": 62,
   "metadata": {},
   "outputs": [
    {
     "name": "stdout",
     "output_type": "stream",
     "text": [
      "Batwoman\n"
     ]
    }
   ],
   "source": [
    "p = re.compile(r'Bat(wo)*man')\n",
    "mo = p.search('Batwoman')\n",
    "if mo is not None:\n",
    "    print(mo.group())\n",
    "else:\n",
    "    print(mo)"
   ]
  },
  {
   "cell_type": "code",
   "execution_count": 2,
   "metadata": {},
   "outputs": [
    {
     "name": "stdout",
     "output_type": "stream",
     "text": [
      "None\n"
     ]
    }
   ],
   "source": [
    "p = re.compile(r'(Ha){3}')\n",
    "mo = p.search('This boy said HaHa')\n",
    "if mo is not None:\n",
    "    print(mo.group())\n",
    "else:\n",
    "    print(mo)"
   ]
  },
  {
   "cell_type": "code",
   "execution_count": 3,
   "metadata": {},
   "outputs": [
    {
     "name": "stdout",
     "output_type": "stream",
     "text": [
      "HaHaHa\n"
     ]
    }
   ],
   "source": [
    "p = re.compile(r'(Ha){3}')\n",
    "mo = p.search('This boy said HaHaHa')\n",
    "if mo is not None:\n",
    "    print(mo.group())\n",
    "else:\n",
    "    print(mo)"
   ]
  },
  {
   "cell_type": "code",
   "execution_count": 7,
   "metadata": {},
   "outputs": [
    {
     "data": {
      "text/plain": [
       "'lalalala'"
      ]
     },
     "execution_count": 7,
     "metadata": {},
     "output_type": "execute_result"
    }
   ],
   "source": [
    "p = re.compile(r'(la){3,5}')\n",
    "mo = p.search('This is lalalalal')\n",
    "mo.group()"
   ]
  },
  {
   "cell_type": "code",
   "execution_count": 56,
   "metadata": {},
   "outputs": [
    {
     "data": {
      "text/plain": [
       "'lalalala'"
      ]
     },
     "execution_count": 56,
     "metadata": {},
     "output_type": "execute_result"
    }
   ],
   "source": [
    "p = re.compile(r'(la){3,}')           # If you don't specify the end, then end is any number of times\n",
    "mo = p.search('This is lalalalal') \n",
    "mo.group()"
   ]
  },
  {
   "cell_type": "markdown",
   "metadata": {},
   "source": [
    "# <a id='Regex_Character'></a>Regex Character Classes and the findall() Method\n",
    "* __If you put ^ inside square braces then it becomes Negative Character Class__\n",
    "* __In the Character class / Negative Character class escape `\\` or comma `,` or underscores `_` doesn't have any special meaning or importance__\n",
    "\n",
    "<br>![](./Media/15_5.png)\n",
    "<br>![](./Media/15_6.png)"
   ]
  },
  {
   "cell_type": "code",
   "execution_count": 1,
   "metadata": {},
   "outputs": [],
   "source": [
    "import re"
   ]
  },
  {
   "cell_type": "code",
   "execution_count": 2,
   "metadata": {},
   "outputs": [
    {
     "data": {
      "text/plain": [
       "['415-555-1011', '415-555-9999']"
      ]
     },
     "execution_count": 2,
     "metadata": {},
     "output_type": "execute_result"
    }
   ],
   "source": [
    "p = re.compile(r'\\d\\d\\d-\\d\\d\\d-\\d\\d\\d\\d')\n",
    "mobs = p.findall('Call me at 415-555-1011 tomorrow. 415-555-9999 is my office.')  # Zero or One Group, returns List\n",
    "mobs"
   ]
  },
  {
   "cell_type": "code",
   "execution_count": 4,
   "metadata": {},
   "outputs": [
    {
     "data": {
      "text/plain": [
       "['415', '415']"
      ]
     },
     "execution_count": 4,
     "metadata": {},
     "output_type": "execute_result"
    }
   ],
   "source": [
    "p = re.compile(r'(\\d\\d\\d)-\\d\\d\\d-\\d\\d\\d\\d')\n",
    "mobs = p.findall('Call me at 415-555-1011 tomorrow. 415-555-9999 is my office.')  # Zero or One Group, returns List\n",
    "mobs"
   ]
  },
  {
   "cell_type": "code",
   "execution_count": 7,
   "metadata": {},
   "outputs": [
    {
     "data": {
      "text/plain": [
       "[('415', '555-1011'), ('415', '555-9999')]"
      ]
     },
     "execution_count": 7,
     "metadata": {},
     "output_type": "execute_result"
    }
   ],
   "source": [
    "p = re.compile(r'(\\d\\d\\d)-(\\d\\d\\d-\\d\\d\\d\\d)')      \n",
    "mobs = p.findall('Call me at 415-555-1011 tomorrow. 415-555-9999 is my office.')  # Two or more Group, returns Tuples\n",
    "mobs"
   ]
  },
  {
   "cell_type": "code",
   "execution_count": 10,
   "metadata": {},
   "outputs": [
    {
     "data": {
      "text/plain": [
       "['12 ', '9 ', '873 ', '1011 ', '9999 ']"
      ]
     },
     "execution_count": 10,
     "metadata": {},
     "output_type": "execute_result"
    }
   ],
   "source": [
    "p = re.compile(r'\\d+\\s')\n",
    "mobs = p.findall('Me 12 how are is 9 so what has happend 873 at 415-555-1011 tomorrow. 415-555-9999 is my Alexa.')  # Zero or One Group, returns List\n",
    "mobs"
   ]
  },
  {
   "cell_type": "code",
   "execution_count": 21,
   "metadata": {},
   "outputs": [
    {
     "data": {
      "text/plain": [
       "['Me ',\n",
       " ' how are is ',\n",
       " ' so what has happend ',\n",
       " ' at ',\n",
       " '-',\n",
       " '-',\n",
       " ' tomorrow. ',\n",
       " '-',\n",
       " '-',\n",
       " ' is my Alexa.']"
      ]
     },
     "execution_count": 21,
     "metadata": {},
     "output_type": "execute_result"
    }
   ],
   "source": [
    "p = re.compile(r'\\D+')\n",
    "mobs = p.findall('Me 12 how are is 9 so what has happend 873 at 415-555-1011 tomorrow. 415-555-9999 is my Alexa.')  # Zero or One Group, returns List\n",
    "mobs"
   ]
  },
  {
   "cell_type": "code",
   "execution_count": 11,
   "metadata": {},
   "outputs": [
    {
     "data": {
      "text/plain": [
       "['1', '2', '3', '4', '1', '1', '1', '1', '4', '1']"
      ]
     },
     "execution_count": 11,
     "metadata": {},
     "output_type": "execute_result"
    }
   ],
   "source": [
    "p = re.compile(r'[1-4]')\n",
    "mobs = p.findall('Me 12 how are is 9 so what has happend 873 at 415-555-1011 tomorrow. 415-555-9999 is my Alexa.')  # Zero or One Group, returns List\n",
    "mobs"
   ]
  },
  {
   "cell_type": "code",
   "execution_count": 12,
   "metadata": {},
   "outputs": [
    {
     "data": {
      "text/plain": [
       "['e',\n",
       " 'o',\n",
       " 'a',\n",
       " 'e',\n",
       " 'i',\n",
       " 'o',\n",
       " 'a',\n",
       " 'a',\n",
       " 'a',\n",
       " 'e',\n",
       " 'a',\n",
       " 'o',\n",
       " 'o',\n",
       " 'o',\n",
       " 'i',\n",
       " 'A',\n",
       " 'e',\n",
       " 'a']"
      ]
     },
     "execution_count": 12,
     "metadata": {},
     "output_type": "execute_result"
    }
   ],
   "source": [
    "p = re.compile(r'[aeiouAEIOU]')\n",
    "mobs = p.findall('Me 12 how are is 9 so what has happend 873 at 415-555-1011 tomorrow. 415-555-9999 is my Alexa.')  # Zero or One Group, returns List\n",
    "mobs"
   ]
  },
  {
   "cell_type": "code",
   "execution_count": 19,
   "metadata": {},
   "outputs": [
    {
     "data": {
      "text/plain": [
       "['ea', 'ao']"
      ]
     },
     "execution_count": 19,
     "metadata": {},
     "output_type": "execute_result"
    }
   ],
   "source": [
    "p = re.compile(r'[aeiouAEIOU]{2}')\n",
    "mobs = p.findall('Me 12 how are is 9 so what eat has happend 873 at 415-555-1011 tomorrow can aol. 415-555-9999 is my Alexa.')\n",
    "mobs"
   ]
  },
  {
   "cell_type": "code",
   "execution_count": 26,
   "metadata": {},
   "outputs": [
    {
     "data": {
      "text/plain": [
       "['Me ',\n",
       " ' how are is ',\n",
       " ' so what eat has happend ',\n",
       " ' at ',\n",
       " '-',\n",
       " '-',\n",
       " ' tomorrow can aol. ',\n",
       " '-',\n",
       " '-',\n",
       " ' is my Alexa.']"
      ]
     },
     "execution_count": 26,
     "metadata": {},
     "output_type": "execute_result"
    }
   ],
   "source": [
    "p = re.compile(r'[^0-9]+')      # if you put ^ inside square braces then it becomes Negative Character Class \n",
    "mobs = p.findall('Me 12 how are is 9 so what eat has happend 873 at 415-555-1011 tomorrow can aol. 415-555-9999 is my Alexa.')\n",
    "mobs"
   ]
  },
  {
   "cell_type": "markdown",
   "metadata": {},
   "source": [
    "# <a id='Regex_Dot'></a>Regex . Dot * Star and Caret ^ / \\$ Dollar Characters\n",
    "<br> `.`      - Any Character except the new line. Dot is a Wild Card Character\n",
    "<br> `.*`     - Zero or more characters except the new line \n",
    "<br> ` .* `   - Greedy Match\n",
    "<br> ` .*? `  - Non Greedy Match\n",
    "<br> `^`      - Starts with \n",
    "<br> `$`      - Ends with\n",
    "<br> `^$`     - To find Empty Strings\n",
    "<br> `^Exact Match$` - To find out Exact Match.   VIMP\n",
    "<br>![](./Media/15_7.png)"
   ]
  },
  {
   "cell_type": "markdown",
   "metadata": {
    "colab_type": "text",
    "id": "zI7dJWYpDl3G"
   },
   "source": [
    "`^` starts with"
   ]
  },
  {
   "cell_type": "code",
   "execution_count": 0,
   "metadata": {
    "colab": {
     "base_uri": "https://localhost:8080/",
     "height": 34
    },
    "colab_type": "code",
    "id": "_3uPdcQPDlR0",
    "outputId": "c88e8422-8f8a-4cd5-f3d9-a7249e394223"
   },
   "outputs": [
    {
     "name": "stdout",
     "output_type": "stream",
     "text": [
      "Yes, the string starts with 'Data'\n"
     ]
    }
   ],
   "source": [
    "str = \"Data Science\"\n",
    "\n",
    "#Check if the string starts with 'Data':\n",
    "x = re.findall(\"^Data\", str)\n",
    "\n",
    "if (x):\n",
    "  print(\"Yes, the string starts with 'Data'\")\n",
    "else:\n",
    "  print(\"No match\")\n",
    "  \n",
    "#print(x)  "
   ]
  },
  {
   "cell_type": "code",
   "execution_count": 0,
   "metadata": {
    "colab": {
     "base_uri": "https://localhost:8080/",
     "height": 34
    },
    "colab_type": "code",
    "id": "QTbvAIFfHAVY",
    "outputId": "b19a6573-1645-4d57-de18-ea40474900b5"
   },
   "outputs": [
    {
     "name": "stdout",
     "output_type": "stream",
     "text": [
      "No match\n"
     ]
    }
   ],
   "source": [
    "# try with a different string\n",
    "str2 = \"Big Data\"\n",
    "\n",
    "#Check if the string starts with 'Data':\n",
    "x2 = re.findall(\"^Data\", str2)\n",
    "\n",
    "if (x2):\n",
    "  print(\"Yes, the string starts with 'data'\")\n",
    "else:\n",
    "  print(\"No match\")\n",
    "  \n",
    "#print(x2)  "
   ]
  },
  {
   "cell_type": "markdown",
   "metadata": {
    "colab_type": "text",
    "id": "8uPoaY_ID0LW"
   },
   "source": [
    "`$` ends with"
   ]
  },
  {
   "cell_type": "code",
   "execution_count": 0,
   "metadata": {
    "colab": {
     "base_uri": "https://localhost:8080/",
     "height": 34
    },
    "colab_type": "code",
    "id": "IK_XYDpmC9f_",
    "outputId": "0094b9e0-d818-4c85-8e03-e6650d4a83f3"
   },
   "outputs": [
    {
     "name": "stdout",
     "output_type": "stream",
     "text": [
      "Yes, the string ends with 'Science'\n"
     ]
    }
   ],
   "source": [
    "str = \"Data Science\"\n",
    "\n",
    "#Check if the string ends with 'Science':\n",
    "\n",
    "x = re.findall(\"Science$\", str)\n",
    "\n",
    "if (x):\n",
    "  print(\"Yes, the string ends with 'Science'\")\n",
    "\n",
    "else:\n",
    "  print(\"No match\")\n",
    "  \n",
    "#print(x)"
   ]
  },
  {
   "cell_type": "code",
   "execution_count": 0,
   "metadata": {
    "colab": {
     "base_uri": "https://localhost:8080/",
     "height": 34
    },
    "colab_type": "code",
    "id": "qV9oLbgGg2A4",
    "outputId": "32435741-a93e-4045-a9d2-90fe8f59b8d9"
   },
   "outputs": [
    {
     "name": "stdout",
     "output_type": "stream",
     "text": [
      "No match\n"
     ]
    }
   ],
   "source": [
    "str = \"Big Data\"\n",
    "\n",
    "#Check if the string ends with 'Science':\n",
    "\n",
    "x = re.findall(\"Science$\", str)\n",
    "\n",
    "if (x):\n",
    "  print(\"Yes, the string ends with 'Science'\")\n",
    "\n",
    "else:\n",
    "  print(\"No match\")\n",
    "  \n",
    "#print(x)"
   ]
  },
  {
   "cell_type": "code",
   "execution_count": 4,
   "metadata": {},
   "outputs": [
    {
     "data": {
      "text/plain": [
       "'Hello'"
      ]
     },
     "execution_count": 4,
     "metadata": {},
     "output_type": "execute_result"
    }
   ],
   "source": [
    "p = re.compile('^Hello')\n",
    "mo = p.search('Hello, World')\n",
    "mo.group()"
   ]
  },
  {
   "cell_type": "code",
   "execution_count": 5,
   "metadata": {},
   "outputs": [
    {
     "ename": "AttributeError",
     "evalue": "'NoneType' object has no attribute 'group'",
     "output_type": "error",
     "traceback": [
      "\u001b[1;31m---------------------------------------------------------------------------\u001b[0m",
      "\u001b[1;31mAttributeError\u001b[0m                            Traceback (most recent call last)",
      "\u001b[1;32m<ipython-input-5-5403ec887144>\u001b[0m in \u001b[0;36m<module>\u001b[1;34m\u001b[0m\n\u001b[0;32m      1\u001b[0m \u001b[0mp\u001b[0m \u001b[1;33m=\u001b[0m \u001b[0mre\u001b[0m\u001b[1;33m.\u001b[0m\u001b[0mcompile\u001b[0m\u001b[1;33m(\u001b[0m\u001b[1;34m'^Hello'\u001b[0m\u001b[1;33m)\u001b[0m\u001b[1;33m\u001b[0m\u001b[1;33m\u001b[0m\u001b[0m\n\u001b[0;32m      2\u001b[0m \u001b[0mmo\u001b[0m \u001b[1;33m=\u001b[0m \u001b[0mp\u001b[0m\u001b[1;33m.\u001b[0m\u001b[0msearch\u001b[0m\u001b[1;33m(\u001b[0m\u001b[1;34m'This the World and say Hello'\u001b[0m\u001b[1;33m)\u001b[0m\u001b[1;33m\u001b[0m\u001b[1;33m\u001b[0m\u001b[0m\n\u001b[1;32m----> 3\u001b[1;33m \u001b[0mmo\u001b[0m\u001b[1;33m.\u001b[0m\u001b[0mgroup\u001b[0m\u001b[1;33m(\u001b[0m\u001b[1;33m)\u001b[0m\u001b[1;33m\u001b[0m\u001b[1;33m\u001b[0m\u001b[0m\n\u001b[0m",
      "\u001b[1;31mAttributeError\u001b[0m: 'NoneType' object has no attribute 'group'"
     ]
    }
   ],
   "source": [
    "p = re.compile('^Hello')\n",
    "mo = p.search('This the World and say Hello')\n",
    "mo.group()"
   ]
  },
  {
   "cell_type": "code",
   "execution_count": 9,
   "metadata": {},
   "outputs": [
    {
     "data": {
      "text/plain": [
       "'World'"
      ]
     },
     "execution_count": 9,
     "metadata": {},
     "output_type": "execute_result"
    }
   ],
   "source": [
    "p = re.compile(r'World$')\n",
    "mo = p.search('This the World and say Hello World')\n",
    "mo.group()"
   ]
  },
  {
   "cell_type": "code",
   "execution_count": 10,
   "metadata": {},
   "outputs": [
    {
     "ename": "AttributeError",
     "evalue": "'NoneType' object has no attribute 'group'",
     "output_type": "error",
     "traceback": [
      "\u001b[1;31m---------------------------------------------------------------------------\u001b[0m",
      "\u001b[1;31mAttributeError\u001b[0m                            Traceback (most recent call last)",
      "\u001b[1;32m<ipython-input-10-a908341955fa>\u001b[0m in \u001b[0;36m<module>\u001b[1;34m\u001b[0m\n\u001b[0;32m      1\u001b[0m \u001b[0mp\u001b[0m \u001b[1;33m=\u001b[0m \u001b[0mre\u001b[0m\u001b[1;33m.\u001b[0m\u001b[0mcompile\u001b[0m\u001b[1;33m(\u001b[0m\u001b[1;34mr'^\\d$'\u001b[0m\u001b[1;33m)\u001b[0m\u001b[1;33m\u001b[0m\u001b[1;33m\u001b[0m\u001b[0m\n\u001b[0;32m      2\u001b[0m \u001b[0mmo\u001b[0m \u001b[1;33m=\u001b[0m \u001b[0mp\u001b[0m\u001b[1;33m.\u001b[0m\u001b[0msearch\u001b[0m\u001b[1;33m(\u001b[0m\u001b[1;34m'9547989113'\u001b[0m\u001b[1;33m)\u001b[0m\u001b[1;33m\u001b[0m\u001b[1;33m\u001b[0m\u001b[0m\n\u001b[1;32m----> 3\u001b[1;33m \u001b[0mmo\u001b[0m\u001b[1;33m.\u001b[0m\u001b[0mgroup\u001b[0m\u001b[1;33m(\u001b[0m\u001b[1;33m)\u001b[0m\u001b[1;33m\u001b[0m\u001b[1;33m\u001b[0m\u001b[0m\n\u001b[0m",
      "\u001b[1;31mAttributeError\u001b[0m: 'NoneType' object has no attribute 'group'"
     ]
    }
   ],
   "source": [
    "p = re.compile(r'^\\d$')\n",
    "mo = p.search('9547989113')\n",
    "mo.group()"
   ]
  },
  {
   "cell_type": "code",
   "execution_count": 11,
   "metadata": {},
   "outputs": [
    {
     "data": {
      "text/plain": [
       "'9547989113'"
      ]
     },
     "execution_count": 11,
     "metadata": {},
     "output_type": "execute_result"
    }
   ],
   "source": [
    "p = re.compile(r'^\\d+$')\n",
    "mo = p.search('9547989113')\n",
    "mo.group()"
   ]
  },
  {
   "cell_type": "code",
   "execution_count": 16,
   "metadata": {},
   "outputs": [
    {
     "ename": "AttributeError",
     "evalue": "'NoneType' object has no attribute 'group'",
     "output_type": "error",
     "traceback": [
      "\u001b[1;31m---------------------------------------------------------------------------\u001b[0m",
      "\u001b[1;31mAttributeError\u001b[0m                            Traceback (most recent call last)",
      "\u001b[1;32m<ipython-input-16-06c6a6516137>\u001b[0m in \u001b[0;36m<module>\u001b[1;34m\u001b[0m\n\u001b[0;32m      1\u001b[0m \u001b[0mp\u001b[0m \u001b[1;33m=\u001b[0m \u001b[0mre\u001b[0m\u001b[1;33m.\u001b[0m\u001b[0mcompile\u001b[0m\u001b[1;33m(\u001b[0m\u001b[1;34mr'^\\d+$'\u001b[0m\u001b[1;33m)\u001b[0m\u001b[1;33m\u001b[0m\u001b[1;33m\u001b[0m\u001b[0m\n\u001b[0;32m      2\u001b[0m \u001b[0mmo\u001b[0m \u001b[1;33m=\u001b[0m \u001b[0mp\u001b[0m\u001b[1;33m.\u001b[0m\u001b[0msearch\u001b[0m\u001b[1;33m(\u001b[0m\u001b[1;34m'9x547989113'\u001b[0m\u001b[1;33m)\u001b[0m\u001b[1;33m\u001b[0m\u001b[1;33m\u001b[0m\u001b[0m\n\u001b[1;32m----> 3\u001b[1;33m \u001b[0mmo\u001b[0m\u001b[1;33m.\u001b[0m\u001b[0mgroup\u001b[0m\u001b[1;33m(\u001b[0m\u001b[1;33m)\u001b[0m\u001b[1;33m\u001b[0m\u001b[1;33m\u001b[0m\u001b[0m\n\u001b[0m",
      "\u001b[1;31mAttributeError\u001b[0m: 'NoneType' object has no attribute 'group'"
     ]
    }
   ],
   "source": [
    "p = re.compile(r'^\\d+$')\n",
    "mo = p.search('9x547989113')\n",
    "mo.group()"
   ]
  },
  {
   "cell_type": "code",
   "execution_count": 12,
   "metadata": {},
   "outputs": [
    {
     "data": {
      "text/plain": [
       "'9547989113'"
      ]
     },
     "execution_count": 12,
     "metadata": {},
     "output_type": "execute_result"
    }
   ],
   "source": [
    "p = re.compile(r'^\\d+$')\n",
    "mo = p.search('9547989113')\n",
    "mo.group()"
   ]
  },
  {
   "cell_type": "code",
   "execution_count": 14,
   "metadata": {},
   "outputs": [
    {
     "data": {
      "text/plain": [
       "'9'"
      ]
     },
     "execution_count": 14,
     "metadata": {},
     "output_type": "execute_result"
    }
   ],
   "source": [
    "p = re.compile(r'^\\d$')\n",
    "mo = p.search('9')\n",
    "mo.group()"
   ]
  },
  {
   "cell_type": "code",
   "execution_count": 17,
   "metadata": {},
   "outputs": [
    {
     "data": {
      "text/plain": [
       "'T'"
      ]
     },
     "execution_count": 17,
     "metadata": {},
     "output_type": "execute_result"
    }
   ],
   "source": [
    "# . Match any single character except the new line\n",
    "p = re.compile(r'.')\n",
    "mo = p.search('This is how is gonna be')\n",
    "mo.group()"
   ]
  },
  {
   "cell_type": "code",
   "execution_count": 18,
   "metadata": {},
   "outputs": [
    {
     "data": {
      "text/plain": [
       "'cat'"
      ]
     },
     "execution_count": 18,
     "metadata": {},
     "output_type": "execute_result"
    }
   ],
   "source": [
    "p = re.compile(r'.at')\n",
    "mo = p.search('There is a cat in the hat, went on and sat on to the mat')\n",
    "mo.group()"
   ]
  },
  {
   "cell_type": "code",
   "execution_count": 26,
   "metadata": {},
   "outputs": [
    {
     "data": {
      "text/plain": [
       "['cat', 'hat', 'sat', 'mat']"
      ]
     },
     "execution_count": 26,
     "metadata": {},
     "output_type": "execute_result"
    }
   ],
   "source": [
    "p = re.compile(r'.at')\n",
    "mo = p.findall('There is a cat in the hat, went on and sat on to the mat')\n",
    "mo"
   ]
  },
  {
   "cell_type": "code",
   "execution_count": 30,
   "metadata": {},
   "outputs": [
    {
     "data": {
      "text/plain": [
       "[' cat', ' hat', ' sat', ' mat', 'saat']"
      ]
     },
     "execution_count": 30,
     "metadata": {},
     "output_type": "execute_result"
    }
   ],
   "source": [
    "p = re.compile(r'.{1,2}at')   # One or three characters preceded by 'at'\n",
    "mo = p.findall('There is a cat in the hat, went on and sat on to the mat saat')\n",
    "mo"
   ]
  },
  {
   "cell_type": "markdown",
   "metadata": {},
   "source": [
    "<br> `*?` or `+?` → Non-greedy matching\n",
    "<br> `{x,y}?` → Non-greedy matching\n",
    "<br> __Note__: Here this question mark is different from Zero or One (optional) question mark\n",
    "<br>![](./Media/15_11.png)\n",
    "<br>![](./Media/15_12.png)\n",
    "<br>![](./Media/15_13.png)"
   ]
  },
  {
   "cell_type": "code",
   "execution_count": 33,
   "metadata": {},
   "outputs": [
    {
     "name": "stdout",
     "output_type": "stream",
     "text": [
      "<re.Match object; span=(0, 34), match='First Name: Al Last Name: Sweigart'>\n",
      "Al\n",
      "Sweigart\n"
     ]
    }
   ],
   "source": [
    "# * - Zero or More.i.e., Anything whatsoever\n",
    "nameRegex = re.compile(r'First Name: (.*) Last Name: (.*)')\n",
    "mo = nameRegex.search('First Name: Al Last Name: Sweigart')\n",
    "print(mo)\n",
    "print(mo.group(1))\n",
    "print(mo.group(2))"
   ]
  },
  {
   "cell_type": "code",
   "execution_count": 36,
   "metadata": {},
   "outputs": [
    {
     "data": {
      "text/plain": [
       "'First Name: Al Last Name: Sweigart'"
      ]
     },
     "execution_count": 36,
     "metadata": {},
     "output_type": "execute_result"
    }
   ],
   "source": [
    "# * - Zero or More.i.e., Anything whatsoever\n",
    "nameRegex = re.compile(r'First Name: .* Last Name: .*')\n",
    "mo = nameRegex.search('First Name: Al Last Name: Sweigart')\n",
    "mo.group()"
   ]
  },
  {
   "cell_type": "code",
   "execution_count": 37,
   "metadata": {},
   "outputs": [
    {
     "data": {
      "text/plain": [
       "'<To serve man> for dinner.>'"
      ]
     },
     "execution_count": 37,
     "metadata": {},
     "output_type": "execute_result"
    }
   ],
   "source": [
    "# Greedy Match Example\n",
    "greedyRegex = re.compile(r'<.*>')\n",
    "mo = greedyRegex.search('<To serve man> for dinner.>')\n",
    "mo.group()"
   ]
  },
  {
   "cell_type": "code",
   "execution_count": 38,
   "metadata": {},
   "outputs": [
    {
     "data": {
      "text/plain": [
       "'<To serve man>'"
      ]
     },
     "execution_count": 38,
     "metadata": {},
     "output_type": "execute_result"
    }
   ],
   "source": [
    "# Non-Greedy Match Example. Little anything as possible because we are not greedy\n",
    "nongreedyRegex = re.compile(r'<.*?>')\n",
    "mo = nongreedyRegex.search('<To serve man> for dinner.>')\n",
    "mo.group()"
   ]
  },
  {
   "cell_type": "code",
   "execution_count": 41,
   "metadata": {},
   "outputs": [
    {
     "data": {
      "text/plain": [
       "<re.Match object; span=(0, 23), match='Serve the public trust.'>"
      ]
     },
     "execution_count": 41,
     "metadata": {},
     "output_type": "execute_result"
    }
   ],
   "source": [
    "# . matches anything except newline\n",
    "p = re.compile(r'.*')\n",
    "dotstar = p.search('Serve the public trust.\\nProtect the innocent.\\nUphold the law.')\n",
    "dotstar"
   ]
  },
  {
   "cell_type": "code",
   "execution_count": 45,
   "metadata": {},
   "outputs": [
    {
     "data": {
      "text/plain": [
       "'Serve the public trust.\\nProtect the innocent.\\nUphold the law.'"
      ]
     },
     "execution_count": 45,
     "metadata": {},
     "output_type": "execute_result"
    }
   ],
   "source": [
    "# re.DOTALL matches everything including newline\n",
    "newlineRegex = re.compile(r'.*',re.DOTALL)  # We have to pass a second argument to tell the compliler to search including newline\n",
    "newlineRegex.search('Serve the public trust.\\nProtect the innocent.\\nUphold the law.').group()  # instead of giving mo.group()"
   ]
  },
  {
   "cell_type": "code",
   "execution_count": 47,
   "metadata": {},
   "outputs": [
    {
     "data": {
      "text/plain": [
       "['o', 'o', 'o', 'i', 'a', 'a', 'e', 'o', 'e', 'o']"
      ]
     },
     "execution_count": 47,
     "metadata": {},
     "output_type": "execute_result"
    }
   ],
   "source": [
    "# re.IGNORECASE\n",
    "regex1 = re.compile(r'[aeiou]')\n",
    "regex1.findall('RoboCop is a awesome cop')"
   ]
  },
  {
   "cell_type": "code",
   "execution_count": 49,
   "metadata": {},
   "outputs": [
    {
     "data": {
      "text/plain": [
       "['E', 'O', 'O', 'O', 'I', 'i', 'a', 'a', 'e', 'o', 'e', 'o']"
      ]
     },
     "execution_count": 49,
     "metadata": {},
     "output_type": "execute_result"
    }
   ],
   "source": [
    "# re.IGNORECASE\n",
    "regex1 = re.compile(r'[aeiou]',re.IGNORECASE)         # you can also mention re.I\n",
    "regex1.findall('THE ROBOCOPI is a awesome cop')"
   ]
  },
  {
   "cell_type": "code",
   "execution_count": 49,
   "metadata": {
    "scrolled": true
   },
   "outputs": [
    {
     "data": {
      "text/plain": [
       "['E', 'O', 'O', 'O', 'I', 'i', 'a', 'a', 'e', 'o', 'e', 'o']"
      ]
     },
     "execution_count": 49,
     "metadata": {},
     "output_type": "execute_result"
    }
   ],
   "source": [
    "# re.I\n",
    "regex1 = re.compile(r'[aeiou]',re.I)\n",
    "regex1.findall('THE ROBOCOPI is a awesome cop')"
   ]
  },
  {
   "cell_type": "markdown",
   "metadata": {},
   "source": [
    "# <a id='Regex_sub'></a>Regex sub() Method and Verbose Mode. Substituting Strings with the sub() Method\n",
    "sub() - Similar to find and replace feature in word\n",
    "<br>![](./Media/15_8.png)"
   ]
  },
  {
   "cell_type": "code",
   "execution_count": 56,
   "metadata": {},
   "outputs": [
    {
     "data": {
      "text/plain": [
       "['Agent Alice', 'Agent Bob']"
      ]
     },
     "execution_count": 56,
     "metadata": {},
     "output_type": "execute_result"
    }
   ],
   "source": [
    "p = re.compile(r'Agent \\w+')\n",
    "mo = p.findall('Agent Alice gave the secret documents to Agent Bob.')\n",
    "mo"
   ]
  },
  {
   "cell_type": "code",
   "execution_count": 58,
   "metadata": {},
   "outputs": [
    {
     "data": {
      "text/plain": [
       "['Alice', 'Bob']"
      ]
     },
     "execution_count": 58,
     "metadata": {},
     "output_type": "execute_result"
    }
   ],
   "source": [
    "p = re.compile(r'Agent (\\w+)')\n",
    "mo = p.findall('Agent Alice gave the secret documents to Agent Bob.')\n",
    "mo"
   ]
  },
  {
   "cell_type": "code",
   "execution_count": 59,
   "metadata": {},
   "outputs": [
    {
     "data": {
      "text/plain": [
       "['A', 'B']"
      ]
     },
     "execution_count": 59,
     "metadata": {},
     "output_type": "execute_result"
    }
   ],
   "source": [
    "p = re.compile(r'Agent (\\w)')\n",
    "mo = p.findall('Agent Alice gave the secret documents to Agent Bob.')\n",
    "mo"
   ]
  },
  {
   "cell_type": "code",
   "execution_count": 57,
   "metadata": {},
   "outputs": [
    {
     "data": {
      "text/plain": [
       "'CENSORED gave the secret documents to CENSORED.'"
      ]
     },
     "execution_count": 57,
     "metadata": {},
     "output_type": "execute_result"
    }
   ],
   "source": [
    "p = re.compile(r'Agent \\w+')\n",
    "mo = p.sub('CENSORED','Agent Alice gave the secret documents to Agent Bob.')\n",
    "mo"
   ]
  },
  {
   "cell_type": "code",
   "execution_count": 65,
   "metadata": {},
   "outputs": [
    {
     "data": {
      "text/plain": [
       "['A', 'B']"
      ]
     },
     "execution_count": 65,
     "metadata": {},
     "output_type": "execute_result"
    }
   ],
   "source": [
    "p = re.compile(r'Agent (\\w)\\w*')\n",
    "mo = p.findall('Agent Alice gave the secret documents to Agent Bob.')\n",
    "mo"
   ]
  },
  {
   "cell_type": "code",
   "execution_count": 66,
   "metadata": {},
   "outputs": [
    {
     "data": {
      "text/plain": [
       "'Agent A**** gave the secret documents to Agent B****.'"
      ]
     },
     "execution_count": 66,
     "metadata": {},
     "output_type": "execute_result"
    }
   ],
   "source": [
    "# Sometimes you may need to use the matched text itself as part of the substitution. In the first argument to sub(), you can type \\1, \\2, \\3, and so on, to mean “Enter the text of group 1, 2, 3, and so on, in the substitution.”\n",
    "p = re.compile(r'Agent (\\w)\\w*')\n",
    "mo = p.sub(r'Agent \\1****','Agent Alice gave the secret documents to Agent Bob.')\n",
    "mo"
   ]
  },
  {
   "cell_type": "markdown",
   "metadata": {},
   "source": [
    "### re.VERBOSE does reading complex regular expressions more easier and more understandable to us as well as others"
   ]
  },
  {
   "cell_type": "code",
   "execution_count": 67,
   "metadata": {},
   "outputs": [
    {
     "data": {
      "text/plain": [
       "['415-555-1011', '415-555-9999']"
      ]
     },
     "execution_count": 67,
     "metadata": {},
     "output_type": "execute_result"
    }
   ],
   "source": [
    "p = re.compile(r'''\n",
    "\\d\\d\\d    # Area Code\n",
    "-\n",
    "\\d\\d\\d    # City Code\n",
    "-\n",
    "\\d\\d\\d\\d  # Mobile Number\n",
    "''',re.VERBOSE)\n",
    "mo = p.findall('Me 12 how are is 9 so what eat has happend 873 at 415-555-1011 tomorrow can aol. 415-555-9999 is my Alexa.')\n",
    "mo"
   ]
  },
  {
   "cell_type": "markdown",
   "metadata": {},
   "source": [
    "### Use pipe ( | )  operator (bitwise OR operator) (it works as 'or' ) to combine all the re Methods"
   ]
  },
  {
   "cell_type": "code",
   "execution_count": 68,
   "metadata": {},
   "outputs": [
    {
     "data": {
      "text/plain": [
       "['415-555-1011', '415-555-9999']"
      ]
     },
     "execution_count": 68,
     "metadata": {},
     "output_type": "execute_result"
    }
   ],
   "source": [
    "p = re.compile(r'''\n",
    "\\d\\d\\d    # Area Code\n",
    "-\n",
    "\\d\\d\\d    # City Code\n",
    "-\n",
    "\\d\\d\\d\\d  # Mobile Number\n",
    "''',re.DOTALL | re.IGNORECASE | re.VERBOSE)\n",
    "mo = p.findall('Me 12 how are is 9 so what eat has happend 873 at 415-555-1011 tomorrow can aol. 415-555-9999 is my Alexa.')\n",
    "mo"
   ]
  },
  {
   "cell_type": "markdown",
   "metadata": {},
   "source": [
    "# <a id='Regex_Example_Program'></a>Regex Example Program: A Phone and Email Scraper\n",
    "* pip install pyperclip"
   ]
  },
  {
   "cell_type": "code",
   "execution_count": null,
   "metadata": {},
   "outputs": [],
   "source": [
    "#! python3\n",
    "import re\n",
    "import pyperclip\n",
    "#%%\n",
    "# 1. Get the Data\n",
    "text = pyperclip.paste() # Make sure you are copying the examplePhoneEmailDirectory.pdf\n",
    "# 2. Prepare Phone Regex Object and Extract the Phone Results\n",
    "phonero = re.compile('''\n",
    "                     (((\\()?\\d\\d\\d(\\))?)?(-)?(\\s)?\n",
    "                      \\d\\d\\d - \\d\\d\\d\\d((\\s)?(ext|x)(\\.)?(\\s)?\\d{2,5})?)\n",
    "                       ''',re.VERBOSE | re.IGNORECASE)\n",
    "phoneresults = phonero.findall(text)\n",
    "phoneNos = []\n",
    "for i in phoneresults:\n",
    "    phoneNos.append(i[0])\n",
    "# 3. Prepare Email Regex Object and Extract the Email Results\n",
    "emailro = re.compile('''([a-zA-Z0-9.+_]+@[a-zA-Z0-9.+_]+)''')\n",
    "emailresults = emailro.findall(text)\n",
    "# 4. Join Phone and Email Results and Print it\n",
    "results = '\\n'.join(phoneNos) + '\\n'.join(emailresults)\n",
    "print(results)"
   ]
  },
  {
   "cell_type": "markdown",
   "metadata": {},
   "source": [
    "# <a id='Zero-Width_Assertions'></a>Zero-Width Assertions\n",
    "* Characters which indicate positions rather than actual content are called zero-width assertions.\n",
    "* For instance, the caret symbol (^) is a representation of the beginning of a line or the dollar sign ($) for the end of a line.\n",
    "* They effectively do assertion without consuming characters; they just return a positive or negative result of the match.\n",
    "* A more powerful kind of zero-width assertion is Lookaround (i.e., Lookahead and Lookbehind)"
   ]
  },
  {
   "cell_type": "markdown",
   "metadata": {},
   "source": [
    "## Lookaround - Lookahead and Lookbehind, collectively called Lookaround"
   ]
  },
  {
   "cell_type": "markdown",
   "metadata": {},
   "source": [
    "__Lookaround__ is a simple mechanism which during the matching process, at the current position, looks forward (or behind, depends on type of lookaround used) to see if some pattern matches before continuing with the actual match.\n",
    "\n",
    "The most important thing to understand here is that __look around__ mechanism consists of 2 parts:\n",
    "* __actual expression__: an expression whose match constitutes the final result.\n",
    "* __non-consuming expression__: an expression whose match is evaluated before or after the actual expression, just to see if it can succeed. It is not actually consumed by the regex engine.\n",
    "There are 2 main categories of look around which, in turn, have 2 sub-categories each.\n",
    "<br>![](./Media/16_7.png)\n",
    "<br>![](./Media/16_8.png)"
   ]
  },
  {
   "cell_type": "markdown",
   "metadata": {},
   "source": [
    "## Lookahead\n",
    "Lookahead checks the match for a non-consuming expression ahead of a given pattern."
   ]
  },
  {
   "cell_type": "markdown",
   "metadata": {},
   "source": [
    "### Positive Lookahead\n",
    "Positive Lookahead will succeed if the passed non-consuming expression does match against the forthcoming input.\n",
    "\n",
    "The syntax is A(?=B) where A is the actual expression and B is the non-consuming expression."
   ]
  },
  {
   "cell_type": "code",
   "execution_count": 4,
   "metadata": {},
   "outputs": [
    {
     "data": {
      "text/plain": [
       "<re.Match object; span=(17, 21), match='love'>"
      ]
     },
     "execution_count": 4,
     "metadata": {},
     "output_type": "execute_result"
    }
   ],
   "source": [
    "txt = 'i love python, i love regex'\n",
    "mo = re.search(r'love(?=\\sregex)',txt)\n",
    "mo"
   ]
  },
  {
   "cell_type": "code",
   "execution_count": 9,
   "metadata": {},
   "outputs": [
    {
     "data": {
      "text/plain": [
       "['red', 'green', 'blue']"
      ]
     },
     "execution_count": 9,
     "metadata": {},
     "output_type": "execute_result"
    }
   ],
   "source": [
    "txt = \"My favorite colors are red, green, and blue.\"\n",
    "pattern = re.compile(r'\\w+(?=,|\\.)')\n",
    "mo = re.findall(pattern,txt)\n",
    "mo"
   ]
  },
  {
   "cell_type": "markdown",
   "metadata": {},
   "source": [
    "### Negative Lookahead\n",
    "Negative Lookahead will succeed if the passed non-consuming expression does not match against the forthcoming input.\n",
    "\n",
    "The syntax is A(?!B) where A is the actual expression and B is the non-consuming expression."
   ]
  },
  {
   "cell_type": "code",
   "execution_count": 5,
   "metadata": {},
   "outputs": [
    {
     "data": {
      "text/plain": [
       "<re.Match object; span=(2, 6), match='love'>"
      ]
     },
     "execution_count": 5,
     "metadata": {},
     "output_type": "execute_result"
    }
   ],
   "source": [
    "txt = 'i love python, i love regex'\n",
    "mo = re.search(r'love(?!\\sregex)',txt)\n",
    "mo"
   ]
  },
  {
   "cell_type": "code",
   "execution_count": 10,
   "metadata": {},
   "outputs": [
    {
     "data": {
      "text/plain": [
       "['My', 'favorite', 'colors', 'are', 're', 'gree', 'and', 'blu']"
      ]
     },
     "execution_count": 10,
     "metadata": {},
     "output_type": "execute_result"
    }
   ],
   "source": [
    "txt = \"My favorite colors are red, green, and blue.\"\n",
    "pattern = re.compile(r'\\w+(?!,|\\.)')\n",
    "mo = re.findall(pattern,txt)\n",
    "mo"
   ]
  },
  {
   "cell_type": "code",
   "execution_count": 3,
   "metadata": {},
   "outputs": [
    {
     "data": {
      "text/plain": [
       "['My', 'favorite', 'colors', 'are', 'and']"
      ]
     },
     "execution_count": 3,
     "metadata": {},
     "output_type": "execute_result"
    }
   ],
   "source": [
    "txt = \"My favorite colors are red, green, and blue.\"\n",
    "ro = re.compile(r'\\b\\w+(?!,|\\.)\\b')             # \\b specifies it has to be full word\n",
    "mo = ro.findall(txt)\n",
    "mo"
   ]
  },
  {
   "cell_type": "markdown",
   "metadata": {},
   "source": [
    "## Lookbehind\n",
    "Lookbehind checks the match for a non-consuming expression behind a given pattern."
   ]
  },
  {
   "cell_type": "markdown",
   "metadata": {},
   "source": [
    "### Positive Lookbehind\n",
    "Positive look behind will succeed if the passed non-consuming expression does match against the forthcoming input.\n",
    "\n",
    "The syntax is (?<=B)A where A is the actual expression and B is the non-consuming expression."
   ]
  },
  {
   "cell_type": "code",
   "execution_count": 14,
   "metadata": {},
   "outputs": [
    {
     "data": {
      "text/plain": [
       "['regex', 'regex']"
      ]
     },
     "execution_count": 14,
     "metadata": {},
     "output_type": "execute_result"
    }
   ],
   "source": [
    "# Let's assume that we want to find a match for regex in the given text only if it is succeeded by love or hate.\n",
    "txt = \"love regex or hate regex, can't ignore regex\"\n",
    "pattern = re.compile(r'(?<=love\\s|hate\\s)regex')\n",
    "mo = re.findall(pattern,txt)\n",
    "mo"
   ]
  },
  {
   "cell_type": "markdown",
   "metadata": {},
   "source": [
    "### Negative look behind\n",
    "Negative look behind will succeed if the passed non-consuming expression does not match against the forthcoming input.\n",
    "\n",
    "The syntax is (?<!B)A where A is the actual expression and B is the non-consuming expression."
   ]
  },
  {
   "cell_type": "code",
   "execution_count": 3,
   "metadata": {},
   "outputs": [
    {
     "name": "stdout",
     "output_type": "stream",
     "text": [
      "<re.Match object; span=(39, 44), match='regex'>\n"
     ]
    }
   ],
   "source": [
    "# Let's assume that we want to find a match for regex in the given text if it is not followed by love or hate.\n",
    "txt = \"love regex or hate regex, can't ignore regex\"\n",
    "pattern = re.compile(r'(?<!love\\s|hate\\s)regex')\n",
    "mo = re.search(pattern,txt)\n",
    "print(mo)"
   ]
  },
  {
   "cell_type": "markdown",
   "metadata": {
    "colab_type": "text",
    "id": "58EH37MJ3b2t"
   },
   "source": [
    "## Solve Some Queries\n",
    "Let us try solving some queries that we are likely to come across while working with real world text datasets."
   ]
  },
  {
   "cell_type": "markdown",
   "metadata": {
    "colab_type": "text",
    "id": "fTxr0XL0uQRz"
   },
   "source": [
    "### Eliminating Unwanted Terms"
   ]
  },
  {
   "cell_type": "code",
   "execution_count": 0,
   "metadata": {
    "colab": {
     "base_uri": "https://localhost:8080/",
     "height": 34
    },
    "colab_type": "code",
    "id": "ERuBZsjmvYfV",
    "outputId": "d8af2172-7926-4793-9d26-a9bf5ead10e4"
   },
   "outputs": [
    {
     "name": "stdout",
     "output_type": "stream",
     "text": [
      "AV a Data Science community AV\n"
     ]
    }
   ],
   "source": [
    "str = \"@AV a Data Science community #AV!!\"\n",
    "\n",
    "# Eliminate words that start with a special character\n",
    "x = re.sub(\"[^a-zA-Z ]\", \"\",str)\n",
    "\n",
    "print(x)"
   ]
  },
  {
   "cell_type": "code",
   "execution_count": 0,
   "metadata": {
    "colab": {
     "base_uri": "https://localhost:8080/",
     "height": 34
    },
    "colab_type": "code",
    "id": "a1W_Thott5eu",
    "outputId": "d1667a7c-d9db-4393-aecd-e355d34777a8"
   },
   "outputs": [
    {
     "name": "stdout",
     "output_type": "stream",
     "text": [
      " a Data Science community !!\n"
     ]
    }
   ],
   "source": [
    "str = \"@AV a Data Science community #AV!!\"\n",
    "\n",
    "# extract words that start with a special character\n",
    "x = re.sub(\"[^a-zA-Z ]\\w+\", \"\",str)\n",
    "\n",
    "print(x)"
   ]
  },
  {
   "cell_type": "markdown",
   "metadata": {
    "colab_type": "text",
    "id": "fZVxO8pZuMxZ"
   },
   "source": [
    "### Finding Email IDs"
   ]
  },
  {
   "cell_type": "code",
   "execution_count": 0,
   "metadata": {
    "colab": {
     "base_uri": "https://localhost:8080/",
     "height": 34
    },
    "colab_type": "code",
    "id": "lWfrRxAD177J",
    "outputId": "77cd095c-123c-47ef-d7f3-d3ad55096b23"
   },
   "outputs": [
    {
     "name": "stdout",
     "output_type": "stream",
     "text": [
      "['rohan.1997@gmail.com', 'smith_david34@yahoo.com', 'priya@yahoo.com']\n"
     ]
    }
   ],
   "source": [
    "str = 'Send a mail to rohan.1997@gmail.com, smith_david34@yahoo.com and priya@yahoo.com about the meeting @2PM'\n",
    "  \n",
    "# \\w matches any alpha numeric character \n",
    "# + for repeats a character one or more times\n",
    "x = re.findall('[a-zA-Z0-9._-]+@\\w+\\.com', str)     \n",
    "  \n",
    "# Printing of List \n",
    "print(x) "
   ]
  },
  {
   "cell_type": "markdown",
   "metadata": {},
   "source": [
    "# <a id='Using_RegEx'></a>Using RegEx on Real-World Dataset"
   ]
  },
  {
   "cell_type": "markdown",
   "metadata": {
    "colab_type": "text",
    "id": "xtjqI_mfujh2"
   },
   "source": [
    "## Table of Contents\n",
    " 1. About the Dataset\n",
    " 2. Regex for Cleaning Text Data \n",
    " 3. Regex for Text Data Extraction\n",
    " 4. Regex Challenge\n"
   ]
  },
  {
   "cell_type": "markdown",
   "metadata": {
    "colab_type": "text",
    "id": "cBHdRHrJujh5"
   },
   "source": [
    "## 1. About the Dataset"
   ]
  },
  {
   "cell_type": "code",
   "execution_count": 2,
   "metadata": {
    "colab": {
     "base_uri": "https://localhost:8080/",
     "height": 452
    },
    "colab_type": "code",
    "executionInfo": {
     "elapsed": 1285,
     "status": "ok",
     "timestamp": 1598594635506,
     "user": {
      "displayName": "Aishwarya Singh",
      "photoUrl": "https://lh3.googleusercontent.com/a-/AOh14GgeJwfn4BdBDCAplWi_kdtB9FRssOpXO7T_aMgg=s64",
      "userId": "01105858832371513140"
     },
     "user_tz": -330
    },
    "id": "PW7kNj8Xujh8",
    "outputId": "5cf7ce91-5536-474a-ca19-999588baef96"
   },
   "outputs": [
    {
     "data": {
      "text/html": [
       "<div>\n",
       "<style scoped>\n",
       "    .dataframe tbody tr th:only-of-type {\n",
       "        vertical-align: middle;\n",
       "    }\n",
       "\n",
       "    .dataframe tbody tr th {\n",
       "        vertical-align: top;\n",
       "    }\n",
       "\n",
       "    .dataframe thead th {\n",
       "        text-align: right;\n",
       "    }\n",
       "</style>\n",
       "<table border=\"1\" class=\"dataframe\">\n",
       "  <thead>\n",
       "    <tr style=\"text-align: right;\">\n",
       "      <th></th>\n",
       "      <th>Unnamed: 0</th>\n",
       "      <th>X</th>\n",
       "      <th>text</th>\n",
       "      <th>favorited</th>\n",
       "      <th>favoriteCount</th>\n",
       "      <th>replyToSN</th>\n",
       "      <th>created</th>\n",
       "      <th>truncated</th>\n",
       "      <th>replyToSID</th>\n",
       "      <th>id</th>\n",
       "      <th>replyToUID</th>\n",
       "      <th>statusSource</th>\n",
       "      <th>screenName</th>\n",
       "      <th>retweetCount</th>\n",
       "      <th>isRetweet</th>\n",
       "      <th>retweeted</th>\n",
       "    </tr>\n",
       "  </thead>\n",
       "  <tbody>\n",
       "    <tr>\n",
       "      <th>0</th>\n",
       "      <td>1</td>\n",
       "      <td>1</td>\n",
       "      <td>RT @rssurjewala: Critical question: Was PayTM ...</td>\n",
       "      <td>False</td>\n",
       "      <td>0</td>\n",
       "      <td>NaN</td>\n",
       "      <td>2016-11-23 18:40:30</td>\n",
       "      <td>False</td>\n",
       "      <td>NaN</td>\n",
       "      <td>8.014957e+17</td>\n",
       "      <td>NaN</td>\n",
       "      <td>&lt;a href=\"http://twitter.com/download/android\" ...</td>\n",
       "      <td>HASHTAGFARZIWAL</td>\n",
       "      <td>331</td>\n",
       "      <td>True</td>\n",
       "      <td>False</td>\n",
       "    </tr>\n",
       "    <tr>\n",
       "      <th>1</th>\n",
       "      <td>2</td>\n",
       "      <td>2</td>\n",
       "      <td>RT @Hemant_80: Did you vote on #Demonetization...</td>\n",
       "      <td>False</td>\n",
       "      <td>0</td>\n",
       "      <td>NaN</td>\n",
       "      <td>2016-11-23 18:40:29</td>\n",
       "      <td>False</td>\n",
       "      <td>NaN</td>\n",
       "      <td>8.014957e+17</td>\n",
       "      <td>NaN</td>\n",
       "      <td>&lt;a href=\"http://twitter.com/download/android\" ...</td>\n",
       "      <td>PRAMODKAUSHIK9</td>\n",
       "      <td>66</td>\n",
       "      <td>True</td>\n",
       "      <td>False</td>\n",
       "    </tr>\n",
       "    <tr>\n",
       "      <th>2</th>\n",
       "      <td>3</td>\n",
       "      <td>3</td>\n",
       "      <td>RT @roshankar: Former FinSec, RBI Dy Governor,...</td>\n",
       "      <td>False</td>\n",
       "      <td>0</td>\n",
       "      <td>NaN</td>\n",
       "      <td>2016-11-23 18:40:03</td>\n",
       "      <td>False</td>\n",
       "      <td>NaN</td>\n",
       "      <td>8.014955e+17</td>\n",
       "      <td>NaN</td>\n",
       "      <td>&lt;a href=\"http://twitter.com/download/android\" ...</td>\n",
       "      <td>rahulja13034944</td>\n",
       "      <td>12</td>\n",
       "      <td>True</td>\n",
       "      <td>False</td>\n",
       "    </tr>\n",
       "    <tr>\n",
       "      <th>3</th>\n",
       "      <td>4</td>\n",
       "      <td>4</td>\n",
       "      <td>RT @ANI_news: Gurugram (Haryana): Post office ...</td>\n",
       "      <td>False</td>\n",
       "      <td>0</td>\n",
       "      <td>NaN</td>\n",
       "      <td>2016-11-23 18:39:59</td>\n",
       "      <td>False</td>\n",
       "      <td>NaN</td>\n",
       "      <td>8.014955e+17</td>\n",
       "      <td>NaN</td>\n",
       "      <td>&lt;a href=\"http://twitter.com/download/android\" ...</td>\n",
       "      <td>deeptiyvd</td>\n",
       "      <td>338</td>\n",
       "      <td>True</td>\n",
       "      <td>False</td>\n",
       "    </tr>\n",
       "    <tr>\n",
       "      <th>4</th>\n",
       "      <td>5</td>\n",
       "      <td>5</td>\n",
       "      <td>RT @satishacharya: Reddy Wedding! @mail_today ...</td>\n",
       "      <td>False</td>\n",
       "      <td>0</td>\n",
       "      <td>NaN</td>\n",
       "      <td>2016-11-23 18:39:39</td>\n",
       "      <td>False</td>\n",
       "      <td>NaN</td>\n",
       "      <td>8.014954e+17</td>\n",
       "      <td>NaN</td>\n",
       "      <td>&lt;a href=\"http://cpimharyana.com\" rel=\"nofollow...</td>\n",
       "      <td>CPIMBadli</td>\n",
       "      <td>120</td>\n",
       "      <td>True</td>\n",
       "      <td>False</td>\n",
       "    </tr>\n",
       "  </tbody>\n",
       "</table>\n",
       "</div>"
      ],
      "text/plain": [
       "   Unnamed: 0  X                                               text  \\\n",
       "0           1  1  RT @rssurjewala: Critical question: Was PayTM ...   \n",
       "1           2  2  RT @Hemant_80: Did you vote on #Demonetization...   \n",
       "2           3  3  RT @roshankar: Former FinSec, RBI Dy Governor,...   \n",
       "3           4  4  RT @ANI_news: Gurugram (Haryana): Post office ...   \n",
       "4           5  5  RT @satishacharya: Reddy Wedding! @mail_today ...   \n",
       "\n",
       "   favorited  favoriteCount replyToSN              created  truncated  \\\n",
       "0      False              0       NaN  2016-11-23 18:40:30      False   \n",
       "1      False              0       NaN  2016-11-23 18:40:29      False   \n",
       "2      False              0       NaN  2016-11-23 18:40:03      False   \n",
       "3      False              0       NaN  2016-11-23 18:39:59      False   \n",
       "4      False              0       NaN  2016-11-23 18:39:39      False   \n",
       "\n",
       "   replyToSID            id  replyToUID  \\\n",
       "0         NaN  8.014957e+17         NaN   \n",
       "1         NaN  8.014957e+17         NaN   \n",
       "2         NaN  8.014955e+17         NaN   \n",
       "3         NaN  8.014955e+17         NaN   \n",
       "4         NaN  8.014954e+17         NaN   \n",
       "\n",
       "                                        statusSource       screenName  \\\n",
       "0  <a href=\"http://twitter.com/download/android\" ...  HASHTAGFARZIWAL   \n",
       "1  <a href=\"http://twitter.com/download/android\" ...   PRAMODKAUSHIK9   \n",
       "2  <a href=\"http://twitter.com/download/android\" ...  rahulja13034944   \n",
       "3  <a href=\"http://twitter.com/download/android\" ...        deeptiyvd   \n",
       "4  <a href=\"http://cpimharyana.com\" rel=\"nofollow...        CPIMBadli   \n",
       "\n",
       "   retweetCount  isRetweet  retweeted  \n",
       "0           331       True      False  \n",
       "1            66       True      False  \n",
       "2            12       True      False  \n",
       "3           338       True      False  \n",
       "4           120       True      False  "
      ]
     },
     "execution_count": 2,
     "metadata": {},
     "output_type": "execute_result"
    }
   ],
   "source": [
    "import pandas as pd \n",
    "\n",
    "#Loading the dataset\n",
    "df = pd.read_csv(\"./Media/data/tweets.csv\", encoding = \"ISO-8859-1\")\n",
    "\n",
    "# Printing first 5 rows\n",
    "df.head()"
   ]
  },
  {
   "cell_type": "code",
   "execution_count": 3,
   "metadata": {
    "colab": {
     "base_uri": "https://localhost:8080/",
     "height": 159
    },
    "colab_type": "code",
    "executionInfo": {
     "elapsed": 1358,
     "status": "ok",
     "timestamp": 1598594760358,
     "user": {
      "displayName": "Aishwarya Singh",
      "photoUrl": "https://lh3.googleusercontent.com/a-/AOh14GgeJwfn4BdBDCAplWi_kdtB9FRssOpXO7T_aMgg=s64",
      "userId": "01105858832371513140"
     },
     "user_tz": -330
    },
    "id": "weuH_j1dujiM",
    "outputId": "c432eb1b-5fe5-4dac-c7f5-583afdc6b1f1"
   },
   "outputs": [
    {
     "name": "stdout",
     "output_type": "stream",
     "text": [
      "1 . Many opposition leaders are with @narendramodi on the #Demonetization \r\n",
      "And respect their decision,but support opposition just b'coz of party\n",
      "2 . RT @Joydas: Question in Narendra Modi App where PM is taking feedback if people support his #DeMonetization strategy https://t.co/pYgK8Rmg7r\n",
      "3 . @Jaggesh2 Bharat band on 28??<ed><U+00A0><U+00BD><ed><U+00B8><U+0082>Those who  are protesting #demonetization  are all different party leaders.\n",
      "4 . RT @Atheist_Krishna: The effect of #Demonetization !!\r\n",
      ". https://t.co/A8of7zh2f5\n",
      "5 . RT @sona2905: When I explained #Demonetization to myself and tried to put it down in my words which are not laced with any heavy technical",
      "\n"
     ]
    }
   ],
   "source": [
    "# Looking at some Tweets\n",
    "for index, tweet in enumerate(df[\"text\"][10:15]):\n",
    "    print(index+1,\".\",tweet)"
   ]
  },
  {
   "cell_type": "markdown",
   "metadata": {
    "colab_type": "text",
    "id": "AtyGrQGjujiV"
   },
   "source": [
    "## 2. Regex for Cleaning Text Data"
   ]
  },
  {
   "cell_type": "code",
   "execution_count": 1,
   "metadata": {
    "colab": {},
    "colab_type": "code",
    "executionInfo": {
     "elapsed": 1854,
     "status": "ok",
     "timestamp": 1598594786560,
     "user": {
      "displayName": "Aishwarya Singh",
      "photoUrl": "https://lh3.googleusercontent.com/a-/AOh14GgeJwfn4BdBDCAplWi_kdtB9FRssOpXO7T_aMgg=s64",
      "userId": "01105858832371513140"
     },
     "user_tz": -330
    },
    "id": "6d09OY74ujiY"
   },
   "outputs": [],
   "source": [
    "import re"
   ]
  },
  {
   "cell_type": "markdown",
   "metadata": {
    "colab_type": "text",
    "id": "OjgVp4Vnujif"
   },
   "source": [
    "### a. Removing `RT`"
   ]
  },
  {
   "cell_type": "code",
   "execution_count": 3,
   "metadata": {
    "colab": {
     "base_uri": "https://localhost:8080/",
     "height": 106
    },
    "colab_type": "code",
    "executionInfo": {
     "elapsed": 2046,
     "status": "ok",
     "timestamp": 1598594848388,
     "user": {
      "displayName": "Aishwarya Singh",
      "photoUrl": "https://lh3.googleusercontent.com/a-/AOh14GgeJwfn4BdBDCAplWi_kdtB9FRssOpXO7T_aMgg=s64",
      "userId": "01105858832371513140"
     },
     "user_tz": -330
    },
    "id": "KNhY2zWBujih",
    "outputId": "c3745637-a4df-45d4-9e99-56c124a95c0c",
    "scrolled": true
   },
   "outputs": [
    {
     "name": "stdout",
     "output_type": "stream",
     "text": [
      "Text before:\n",
      " RT @Joydas: Question in Narendra Modi App where PM is taking feedback if people support his #DeMonetization strategy https://t.co/pYgK8Rmg7r\n",
      "Text after:\n",
      " @Joydas: Question in Narendra Modi App where PM is taking feedback if people support his #DeMonetization strategy https://t.co/pYgK8Rmg7r\n"
     ]
    }
   ],
   "source": [
    "# Removing RT from a single Tweet\n",
    "text = \"RT @Joydas: Question in Narendra Modi App where PM is taking feedback if people support his #DeMonetization strategy https://t.co/pYgK8Rmg7r\"\n",
    "clean_text = re.sub('^RT ','', text)\n",
    "\n",
    "print(\"Text before:\\n\", text)\n",
    "print(\"Text after:\\n\", clean_text)"
   ]
  },
  {
   "cell_type": "code",
   "execution_count": 4,
   "metadata": {
    "colab": {
     "base_uri": "https://localhost:8080/",
     "height": 121
    },
    "colab_type": "code",
    "executionInfo": {
     "elapsed": 2349,
     "status": "ok",
     "timestamp": 1598594870727,
     "user": {
      "displayName": "Aishwarya Singh",
      "photoUrl": "https://lh3.googleusercontent.com/a-/AOh14GgeJwfn4BdBDCAplWi_kdtB9FRssOpXO7T_aMgg=s64",
      "userId": "01105858832371513140"
     },
     "user_tz": -330
    },
    "id": "GiIlLK4pujip",
    "outputId": "dee310d0-ccd0-442b-9d55-6e71c6dcafa2"
   },
   "outputs": [
    {
     "data": {
      "text/plain": [
       "0    RT @rssurjewala: Critical question: Was PayTM ...\n",
       "1    RT @Hemant_80: Did you vote on #Demonetization...\n",
       "2    RT @roshankar: Former FinSec, RBI Dy Governor,...\n",
       "3    RT @ANI_news: Gurugram (Haryana): Post office ...\n",
       "4    RT @satishacharya: Reddy Wedding! @mail_today ...\n",
       "Name: text, dtype: object"
      ]
     },
     "execution_count": 4,
     "metadata": {},
     "output_type": "execute_result"
    }
   ],
   "source": [
    "# Tweets before removal\n",
    "df['text'].head()"
   ]
  },
  {
   "cell_type": "code",
   "execution_count": 4,
   "metadata": {
    "colab": {},
    "colab_type": "code",
    "executionInfo": {
     "elapsed": 1922,
     "status": "ok",
     "timestamp": 1598594876100,
     "user": {
      "displayName": "Aishwarya Singh",
      "photoUrl": "https://lh3.googleusercontent.com/a-/AOh14GgeJwfn4BdBDCAplWi_kdtB9FRssOpXO7T_aMgg=s64",
      "userId": "01105858832371513140"
     },
     "user_tz": -330
    },
    "id": "e_sg0D20ujix"
   },
   "outputs": [],
   "source": [
    "# Removing RT from all the tweets\n",
    "df['text']=df['text'].apply(lambda x: re.sub('^RT ','',x))"
   ]
  },
  {
   "cell_type": "code",
   "execution_count": 5,
   "metadata": {
    "colab": {
     "base_uri": "https://localhost:8080/",
     "height": 121
    },
    "colab_type": "code",
    "executionInfo": {
     "elapsed": 1420,
     "status": "ok",
     "timestamp": 1598594877875,
     "user": {
      "displayName": "Aishwarya Singh",
      "photoUrl": "https://lh3.googleusercontent.com/a-/AOh14GgeJwfn4BdBDCAplWi_kdtB9FRssOpXO7T_aMgg=s64",
      "userId": "01105858832371513140"
     },
     "user_tz": -330
    },
    "id": "Q68p9HTauji3",
    "outputId": "8ba44d13-452e-401a-97c3-2ac20982f4ea"
   },
   "outputs": [
    {
     "data": {
      "text/plain": [
       "0    @rssurjewala: Critical question: Was PayTM inf...\n",
       "1    @Hemant_80: Did you vote on #Demonetization on...\n",
       "2    @roshankar: Former FinSec, RBI Dy Governor, CB...\n",
       "3    @ANI_news: Gurugram (Haryana): Post office emp...\n",
       "4    @satishacharya: Reddy Wedding! @mail_today car...\n",
       "Name: text, dtype: object"
      ]
     },
     "execution_count": 5,
     "metadata": {},
     "output_type": "execute_result"
    }
   ],
   "source": [
    "# Tweets after removal\n",
    "df['text'].head()"
   ]
  },
  {
   "cell_type": "markdown",
   "metadata": {
    "colab_type": "text",
    "id": "sINitCy_uji8"
   },
   "source": [
    "### b. Removing `<U+..>` like symbols"
   ]
  },
  {
   "cell_type": "code",
   "execution_count": 6,
   "metadata": {
    "colab": {
     "base_uri": "https://localhost:8080/",
     "height": 106
    },
    "colab_type": "code",
    "executionInfo": {
     "elapsed": 1491,
     "status": "ok",
     "timestamp": 1598595000938,
     "user": {
      "displayName": "Aishwarya Singh",
      "photoUrl": "https://lh3.googleusercontent.com/a-/AOh14GgeJwfn4BdBDCAplWi_kdtB9FRssOpXO7T_aMgg=s64",
      "userId": "01105858832371513140"
     },
     "user_tz": -330
    },
    "id": "2Y1wOhYHuji-",
    "outputId": "ad276947-42b5-41f0-e7bb-855cf48ae2ae",
    "scrolled": true
   },
   "outputs": [
    {
     "name": "stdout",
     "output_type": "stream",
     "text": [
      "Text before:\n",
      " @Jaggesh2 Bharat band on 28??<ed><U+00A0><U+00BD><ed><U+00B8><U+0082>Those who  are protesting #demonetization  are all different party leaders\n",
      "Text after:\n",
      " @Jaggesh2 Bharat band on 28??<ed><ed>Those who  are protesting #demonetization  are all different party leaders\n"
     ]
    }
   ],
   "source": [
    "# Removing <U+..> like symbols from a single tweet\n",
    "text = \"@Jaggesh2 Bharat band on 28??<ed><U+00A0><U+00BD><ed><U+00B8><U+0082>Those who  are protesting #demonetization  are all different party leaders\"\n",
    "clean_text = re.sub('<U\\+[A-Z0-9]+>','', text)\n",
    "\n",
    "print(\"Text before:\\n\", text)\n",
    "print(\"Text after:\\n\", clean_text)"
   ]
  },
  {
   "cell_type": "markdown",
   "metadata": {
    "colab_type": "text",
    "id": "TSNVcp5RujjE"
   },
   "source": [
    "**Note** that although we have gotten rid of majority of symbols, `<ed>` is still present. I leave this as an exercise for you to try out. "
   ]
  },
  {
   "cell_type": "code",
   "execution_count": 7,
   "metadata": {
    "colab": {},
    "colab_type": "code",
    "executionInfo": {
     "elapsed": 1483,
     "status": "ok",
     "timestamp": 1598595072168,
     "user": {
      "displayName": "Aishwarya Singh",
      "photoUrl": "https://lh3.googleusercontent.com/a-/AOh14GgeJwfn4BdBDCAplWi_kdtB9FRssOpXO7T_aMgg=s64",
      "userId": "01105858832371513140"
     },
     "user_tz": -330
    },
    "id": "IUqQlbBWujjG"
   },
   "outputs": [],
   "source": [
    "# Removing <U+..> like symbols from all the tweets\n",
    "df['text']=df['text'].apply(lambda x: re.sub('<U\\+[A-Z0-9]+>', '', x))"
   ]
  },
  {
   "cell_type": "code",
   "execution_count": 8,
   "metadata": {},
   "outputs": [],
   "source": [
    "# Removing <ed> from text\n",
    "df['text'] = df['text'].apply(lambda x: re.sub(r'<ed>','',x))"
   ]
  },
  {
   "cell_type": "code",
   "execution_count": 9,
   "metadata": {},
   "outputs": [
    {
     "name": "stdout",
     "output_type": "stream",
     "text": [
      "Many opposition leaders are with @narendramodi on the #Demonetization \r\n",
      "And respect their decision,but support opposition just b'coz of party\n",
      "@Joydas: Question in Narendra Modi App where PM is taking feedback if people support his #DeMonetization strategy https://t.co/pYgK8Rmg7r\n",
      "@Jaggesh2 Bharat band on 28??Those who  are protesting #demonetization  are all different party leaders.\n",
      "@Atheist_Krishna: The effect of #Demonetization !!\r\n",
      ". https://t.co/A8of7zh2f5\n",
      "@sona2905: When I explained #Demonetization to myself and tried to put it down in my words which are not laced with any heavy technical",
      "\n"
     ]
    }
   ],
   "source": [
    "for i in df['text'][10:15]:\n",
    "    print(i)"
   ]
  },
  {
   "cell_type": "markdown",
   "metadata": {
    "colab_type": "text",
    "id": "zQIbv4blujjL"
   },
   "source": [
    "### c. Replacing `&amp;` with the `&`"
   ]
  },
  {
   "cell_type": "code",
   "execution_count": 11,
   "metadata": {
    "colab": {
     "base_uri": "https://localhost:8080/",
     "height": 106
    },
    "colab_type": "code",
    "executionInfo": {
     "elapsed": 1130,
     "status": "ok",
     "timestamp": 1598595441121,
     "user": {
      "displayName": "Aishwarya Singh",
      "photoUrl": "https://lh3.googleusercontent.com/a-/AOh14GgeJwfn4BdBDCAplWi_kdtB9FRssOpXO7T_aMgg=s64",
      "userId": "01105858832371513140"
     },
     "user_tz": -330
    },
    "id": "xLK7LE-7ujjM",
    "outputId": "7ada0170-0f73-4fcf-d699-6e1a99e64b35"
   },
   "outputs": [
    {
     "name": "stdout",
     "output_type": "stream",
     "text": [
      "Text before:\n",
      " RT @harshkkapoor: #DeMonetization survey results after 24 hours 5Lacs opinions Amazing response &amp; Commitment in fight against Blackmoney\n",
      "Text after:\n",
      " RT @harshkkapoor: #DeMonetization survey results after 24 hours 5Lacs opinions Amazing response & Commitment in fight against Blackmoney\n"
     ]
    }
   ],
   "source": [
    "# Replacing &amp with & in a single tweet\n",
    "text = \"RT @harshkkapoor: #DeMonetization survey results after 24 hours 5Lacs opinions Amazing response &amp; Commitment in fight against Blackmoney\"\n",
    "clean_text = re.sub(r'&amp;','&', text)\n",
    "\n",
    "print(\"Text before:\\n\", text)\n",
    "print(\"Text after:\\n\", clean_text)"
   ]
  },
  {
   "cell_type": "code",
   "execution_count": 10,
   "metadata": {
    "colab": {},
    "colab_type": "code",
    "executionInfo": {
     "elapsed": 1646,
     "status": "ok",
     "timestamp": 1598595452519,
     "user": {
      "displayName": "Aishwarya Singh",
      "photoUrl": "https://lh3.googleusercontent.com/a-/AOh14GgeJwfn4BdBDCAplWi_kdtB9FRssOpXO7T_aMgg=s64",
      "userId": "01105858832371513140"
     },
     "user_tz": -330
    },
    "id": "IBiob-YlujjT"
   },
   "outputs": [],
   "source": [
    "# Replacing &amp with & in all the tweets\n",
    "df['text']=df['text'].apply(lambda x: re.sub(r'&amp', '&', x))"
   ]
  },
  {
   "cell_type": "markdown",
   "metadata": {
    "colab_type": "text",
    "id": "GMo38GVFujja"
   },
   "source": [
    "## 3. Regex for Text Data Extraction\n",
    "### a. Extracting platform type of tweets"
   ]
  },
  {
   "cell_type": "code",
   "execution_count": 15,
   "metadata": {
    "colab": {},
    "colab_type": "code",
    "executionInfo": {
     "elapsed": 1221,
     "status": "ok",
     "timestamp": 1598595511723,
     "user": {
      "displayName": "Aishwarya Singh",
      "photoUrl": "https://lh3.googleusercontent.com/a-/AOh14GgeJwfn4BdBDCAplWi_kdtB9FRssOpXO7T_aMgg=s64",
      "userId": "01105858832371513140"
     },
     "user_tz": -330
    },
    "id": "jEJO4BGhujjc"
   },
   "outputs": [],
   "source": [
    "# Getting number of tweets per platform type\n",
    "platform_count = df[\"statusSource\"].value_counts()"
   ]
  },
  {
   "cell_type": "code",
   "execution_count": 16,
   "metadata": {
    "colab": {
     "base_uri": "https://localhost:8080/",
     "height": 225
    },
    "colab_type": "code",
    "executionInfo": {
     "elapsed": 1074,
     "status": "ok",
     "timestamp": 1598595513317,
     "user": {
      "displayName": "Aishwarya Singh",
      "photoUrl": "https://lh3.googleusercontent.com/a-/AOh14GgeJwfn4BdBDCAplWi_kdtB9FRssOpXO7T_aMgg=s64",
      "userId": "01105858832371513140"
     },
     "user_tz": -330
    },
    "id": "PFQ7XI7cujjh",
    "outputId": "211d1006-cc24-4bde-fb23-83daf480b6e2",
    "scrolled": true
   },
   "outputs": [
    {
     "data": {
      "text/plain": [
       "<a href=\"http://twitter.com/download/android\" rel=\"nofollow\">Twitter for Android</a>                    7642\n",
       "<a href=\"http://twitter.com\" rel=\"nofollow\">Twitter Web Client</a>                                      2548\n",
       "<a href=\"http://twitter.com/download/iphone\" rel=\"nofollow\">Twitter for iPhone</a>                      2093\n",
       "<a href=\"https://about.twitter.com/products/tweetdeck\" rel=\"nofollow\">TweetDeck</a>                      492\n",
       "<a href=\"https://mobile.twitter.com\" rel=\"nofollow\">Twitter Lite</a>                                     263\n",
       "                                                                                                        ... \n",
       "<a href=\"http://www.ns-madenza.com/tweetpress/wales/specials/pombuzz\" rel=\"nofollow\">Pom July AI</a>       1\n",
       "<a href=\"https://www.punjabupdate.com\" rel=\"nofollow\">PB Update</a>                                        1\n",
       "<a href=\"http://desi.buzz\" rel=\"nofollow\">Desi Buzz</a>                                                    1\n",
       "<a href=\"http://www.kolkata24x7.com\" rel=\"nofollow\">Kolkata 24x7</a>                                       1\n",
       "<a href=\"http://twitterrific.com\" rel=\"nofollow\">Twitterrific</a>                                          1\n",
       "Name: statusSource, Length: 144, dtype: int64"
      ]
     },
     "execution_count": 16,
     "metadata": {},
     "output_type": "execute_result"
    }
   ],
   "source": [
    "platform_count"
   ]
  },
  {
   "cell_type": "code",
   "execution_count": 17,
   "metadata": {
    "colab": {
     "base_uri": "https://localhost:8080/",
     "height": 260
    },
    "colab_type": "code",
    "executionInfo": {
     "elapsed": 1575,
     "status": "ok",
     "timestamp": 1598595568050,
     "user": {
      "displayName": "Aishwarya Singh",
      "photoUrl": "https://lh3.googleusercontent.com/a-/AOh14GgeJwfn4BdBDCAplWi_kdtB9FRssOpXO7T_aMgg=s64",
      "userId": "01105858832371513140"
     },
     "user_tz": -330
    },
    "id": "yPtNZx1hujjn",
    "outputId": "66758744-cb96-447b-e4f8-53218547c843"
   },
   "outputs": [
    {
     "data": {
      "text/plain": [
       "<a href=\"http://twitter.com/download/android\" rel=\"nofollow\">Twitter for Android</a>    7642\n",
       "<a href=\"http://twitter.com\" rel=\"nofollow\">Twitter Web Client</a>                      2548\n",
       "<a href=\"http://twitter.com/download/iphone\" rel=\"nofollow\">Twitter for iPhone</a>      2093\n",
       "<a href=\"https://about.twitter.com/products/tweetdeck\" rel=\"nofollow\">TweetDeck</a>      492\n",
       "<a href=\"https://mobile.twitter.com\" rel=\"nofollow\">Twitter Lite</a>                     263\n",
       "<a href=\"https://mobile.twitter.com\" rel=\"nofollow\">Mobile Web (M5)</a>                  178\n",
       "<a href=\"http://www.facebook.com/twitter\" rel=\"nofollow\">Facebook</a>                    167\n",
       "<a href=\"http://twitter.com/#!/download/ipad\" rel=\"nofollow\">Twitter for iPad</a>        165\n",
       "<a href=\"http://www.twitter.com\" rel=\"nofollow\">Twitter for Windows Phone</a>            139\n",
       "<a href=\"http://onlywire.com/\" rel=\"nofollow\">OnlyWire / Official App</a>                136\n",
       "<a href=\"http://www.twitter.com\" rel=\"nofollow\">Twitter for Windows</a>                  110\n",
       "<a href=\"https://mobile.twitter.com\" rel=\"nofollow\">Mobile Web (M2)</a>                  105\n",
       "<a href=\"http://www.google.com/\" rel=\"nofollow\">Google</a>                               101\n",
       "Name: statusSource, dtype: int64"
      ]
     },
     "execution_count": 17,
     "metadata": {},
     "output_type": "execute_result"
    }
   ],
   "source": [
    "#List platforms that have more than 100 tweets\n",
    "top_platforms = platform_count[platform_count>100]\n",
    "top_platforms"
   ]
  },
  {
   "cell_type": "code",
   "execution_count": 37,
   "metadata": {
    "colab": {
     "base_uri": "https://localhost:8080/",
     "height": 260
    },
    "colab_type": "code",
    "executionInfo": {
     "elapsed": 1769,
     "status": "ok",
     "timestamp": 1598595641379,
     "user": {
      "displayName": "Aishwarya Singh",
      "photoUrl": "https://lh3.googleusercontent.com/a-/AOh14GgeJwfn4BdBDCAplWi_kdtB9FRssOpXO7T_aMgg=s64",
      "userId": "01105858832371513140"
     },
     "user_tz": -330
    },
    "id": "uI6HYcpaujjt",
    "outputId": "c1f6fa52-47a7-457d-89db-e5e66c03b70c"
   },
   "outputs": [
    {
     "data": {
      "text/plain": [
       "0       android\n",
       "1           Web\n",
       "2        iphone\n",
       "3     tweetdeck\n",
       "4        mobile\n",
       "5        mobile\n",
       "6      facebook\n",
       "7          ipad\n",
       "8       Windows\n",
       "9      onlywire\n",
       "10      Windows\n",
       "11       mobile\n",
       "12       google\n",
       "Name: index, dtype: object"
      ]
     },
     "execution_count": 37,
     "metadata": {},
     "output_type": "execute_result"
    }
   ],
   "source": [
    "def platform_type(x):\n",
    "    ser = re.search( r\"android|iphone|web|windows|mobile|google|facebook|ipad|tweetdeck|onlywire\", x, re.IGNORECASE)\n",
    "    if ser:\n",
    "        return ser.group()\n",
    "    else:\n",
    "        return None\n",
    "\n",
    "#reset index of the series\n",
    "top_platforms = top_platforms.reset_index()[\"index\"]\n",
    "\n",
    "#extract platform types\n",
    "top_platforms.apply(lambda x: platform_type(x))"
   ]
  },
  {
   "cell_type": "markdown",
   "metadata": {
    "colab_type": "text",
    "id": "GPYLjXMPujjz"
   },
   "source": [
    "### b. Extracting hashtags from the tweets"
   ]
  },
  {
   "cell_type": "code",
   "execution_count": 26,
   "metadata": {
    "colab": {
     "base_uri": "https://localhost:8080/",
     "height": 104
    },
    "colab_type": "code",
    "executionInfo": {
     "elapsed": 1315,
     "status": "ok",
     "timestamp": 1598595717032,
     "user": {
      "displayName": "Aishwarya Singh",
      "photoUrl": "https://lh3.googleusercontent.com/a-/AOh14GgeJwfn4BdBDCAplWi_kdtB9FRssOpXO7T_aMgg=s64",
      "userId": "01105858832371513140"
     },
     "user_tz": -330
    },
    "id": "q5YAxA2Bujj0",
    "outputId": "44e30822-4e78-4394-b1b5-7f6d4522daea"
   },
   "outputs": [
    {
     "name": "stdout",
     "output_type": "stream",
     "text": [
      "Tweet:\n",
      " RT @Atheist_Krishna: The effect of #Demonetization !!\r\n",
      ". https://t.co/A8of7zh2f5\n",
      "Hashtag:\n",
      " #Demonetization\n"
     ]
    }
   ],
   "source": [
    "# Extract first hashtag from a tweet\n",
    "text = \"RT @Atheist_Krishna: The effect of #Demonetization !!\\r\\n. https://t.co/A8of7zh2f5\"\n",
    "hashtag = re.search('#\\w+', text)\n",
    "\n",
    "print(\"Tweet:\\n\", text)\n",
    "print(\"Hashtag:\\n\", hashtag.group())"
   ]
  },
  {
   "cell_type": "code",
   "execution_count": 27,
   "metadata": {
    "colab": {
     "base_uri": "https://localhost:8080/",
     "height": 106
    },
    "colab_type": "code",
    "executionInfo": {
     "elapsed": 1262,
     "status": "ok",
     "timestamp": 1598595737737,
     "user": {
      "displayName": "Aishwarya Singh",
      "photoUrl": "https://lh3.googleusercontent.com/a-/AOh14GgeJwfn4BdBDCAplWi_kdtB9FRssOpXO7T_aMgg=s64",
      "userId": "01105858832371513140"
     },
     "user_tz": -330
    },
    "id": "3v8pCJY_ujj4",
    "outputId": "5f9f6ca5-aa60-40d9-c71b-c9db9db2fd8c"
   },
   "outputs": [
    {
     "name": "stdout",
     "output_type": "stream",
     "text": [
      "Tweet:\n",
      " RT @kapil_kausik: #Doltiwal I mean #JaiChandKejriwal is \"hurt\" by #Demonetization as the same has rendered USELESS <ed><U+00A0><U+00BD><ed><U+00B1><U+0089> \"acquired funds\" No wo\n",
      "Hashtag:\n",
      " ['#Doltiwal', '#JaiChandKejriwal', '#Demonetization']\n"
     ]
    }
   ],
   "source": [
    "# Extract multiple hastags from a tweet\n",
    "text = \"\"\"RT @kapil_kausik: #Doltiwal I mean #JaiChandKejriwal is \"hurt\" by #Demonetization as the same has rendered USELESS <ed><U+00A0><U+00BD><ed><U+00B1><U+0089> \"acquired funds\" No wo\"\"\"\n",
    "hashtags = re.findall('#\\w+', text)\n",
    "\n",
    "print(\"Tweet:\\n\", text)\n",
    "print(\"Hashtag:\\n\", hashtags)"
   ]
  },
  {
   "cell_type": "code",
   "execution_count": 28,
   "metadata": {
    "colab": {},
    "colab_type": "code",
    "executionInfo": {
     "elapsed": 2165,
     "status": "ok",
     "timestamp": 1598595757740,
     "user": {
      "displayName": "Aishwarya Singh",
      "photoUrl": "https://lh3.googleusercontent.com/a-/AOh14GgeJwfn4BdBDCAplWi_kdtB9FRssOpXO7T_aMgg=s64",
      "userId": "01105858832371513140"
     },
     "user_tz": -330
    },
    "id": "ylPqdl0Lujj9"
   },
   "outputs": [],
   "source": [
    "df['hashtags']=df['text'].apply(lambda x: re.findall('#\\w+', x))"
   ]
  },
  {
   "cell_type": "code",
   "execution_count": 29,
   "metadata": {
    "colab": {
     "base_uri": "https://localhost:8080/",
     "height": 206
    },
    "colab_type": "code",
    "executionInfo": {
     "elapsed": 1503,
     "status": "ok",
     "timestamp": 1598595757747,
     "user": {
      "displayName": "Aishwarya Singh",
      "photoUrl": "https://lh3.googleusercontent.com/a-/AOh14GgeJwfn4BdBDCAplWi_kdtB9FRssOpXO7T_aMgg=s64",
      "userId": "01105858832371513140"
     },
     "user_tz": -330
    },
    "id": "Hvv7NXB4ujkC",
    "outputId": "ba8b8b6a-36b1-42e4-b6ca-9af8e24a0eab"
   },
   "outputs": [
    {
     "data": {
      "text/html": [
       "<div>\n",
       "<style scoped>\n",
       "    .dataframe tbody tr th:only-of-type {\n",
       "        vertical-align: middle;\n",
       "    }\n",
       "\n",
       "    .dataframe tbody tr th {\n",
       "        vertical-align: top;\n",
       "    }\n",
       "\n",
       "    .dataframe thead th {\n",
       "        text-align: right;\n",
       "    }\n",
       "</style>\n",
       "<table border=\"1\" class=\"dataframe\">\n",
       "  <thead>\n",
       "    <tr style=\"text-align: right;\">\n",
       "      <th></th>\n",
       "      <th>text</th>\n",
       "      <th>hashtags</th>\n",
       "    </tr>\n",
       "  </thead>\n",
       "  <tbody>\n",
       "    <tr>\n",
       "      <th>0</th>\n",
       "      <td>@rssurjewala: Critical question: Was PayTM inf...</td>\n",
       "      <td>[#Demonetization]</td>\n",
       "    </tr>\n",
       "    <tr>\n",
       "      <th>1</th>\n",
       "      <td>@Hemant_80: Did you vote on #Demonetization on...</td>\n",
       "      <td>[#Demonetization]</td>\n",
       "    </tr>\n",
       "    <tr>\n",
       "      <th>2</th>\n",
       "      <td>@roshankar: Former FinSec, RBI Dy Governor, CB...</td>\n",
       "      <td>[#Demonetization]</td>\n",
       "    </tr>\n",
       "    <tr>\n",
       "      <th>3</th>\n",
       "      <td>@ANI_news: Gurugram (Haryana): Post office emp...</td>\n",
       "      <td>[#demonetization]</td>\n",
       "    </tr>\n",
       "    <tr>\n",
       "      <th>4</th>\n",
       "      <td>@satishacharya: Reddy Wedding! @mail_today car...</td>\n",
       "      <td>[#demonetization, #ReddyWedding]</td>\n",
       "    </tr>\n",
       "  </tbody>\n",
       "</table>\n",
       "</div>"
      ],
      "text/plain": [
       "                                                text                          hashtags\n",
       "0  @rssurjewala: Critical question: Was PayTM inf...                 [#Demonetization]\n",
       "1  @Hemant_80: Did you vote on #Demonetization on...                 [#Demonetization]\n",
       "2  @roshankar: Former FinSec, RBI Dy Governor, CB...                 [#Demonetization]\n",
       "3  @ANI_news: Gurugram (Haryana): Post office emp...                 [#demonetization]\n",
       "4  @satishacharya: Reddy Wedding! @mail_today car...  [#demonetization, #ReddyWedding]"
      ]
     },
     "execution_count": 29,
     "metadata": {
      "tags": []
     },
     "output_type": "execute_result"
    }
   ],
   "source": [
    "df[['text','hashtags']].head()"
   ]
  },
  {
   "cell_type": "markdown",
   "metadata": {
    "colab_type": "text",
    "id": "jGXFs7YIujkH"
   },
   "source": [
    "## 4. Regex Challenge\n",
    "\n",
    "Now that you have learned all the concepts regarding regex and have also seen it in action, it's time for you to utilize that to solve a challenge all by yourself. Here are some of the tasks that you have to do - \n",
    "\n",
    "### a. Removing URLs from tweets\n",
    "\n",
    "**Difficulty - Easy**\n",
    "\n",
    "There are multiple URLs present in individual tweet's `text` and they don't neccessarily provide useful information so we can get rid of them. For example -  \n",
    "\n",
    "*@Joydas: Question in Narendra Modi App where PM is taking feedback if people support his #DeMonetization strategy https://t.co/pYgK8Rmg7r*\n",
    "\n",
    "\n",
    "We can very well remove the URL as it isn't providing much useful information.\n"
   ]
  },
  {
   "cell_type": "code",
   "execution_count": 54,
   "metadata": {
    "colab": {},
    "colab_type": "code",
    "id": "o6I4k1QuujkJ"
   },
   "outputs": [
    {
     "name": "stdout",
     "output_type": "stream",
     "text": [
      "Tweet:\n",
      " @Joydas: Question in Narendra Modi App where PM is taking feedback if people support his #DeMonetization strategy https://t.co/pYgK8Rmg7r\n",
      "After:\n",
      " ['https://t.co/pYgK8Rmg7r']\n"
     ]
    }
   ],
   "source": [
    "# Your Code Here\n",
    "df['text_nourls'] = df['text'].apply(lambda x: re.sub(r'\\bhttps:.*','',x))"
   ]
  },
  {
   "cell_type": "markdown",
   "metadata": {
    "colab_type": "text",
    "id": "5Fbl6z9iujkO"
   },
   "source": [
    "### b. Extract Top 100 mentions\n",
    "\n",
    "**Difficulty - Medium**\n",
    "\n",
    "Many of the tweets have mentions of people in the form *@username*, for example see the following tweet - \n",
    "\n",
    "*@Joydas: Question in Narendra Modi App where PM is taking feedback if people support his #DeMonetization strategy https://t.co/pYgK8Rmg7r*\n",
    "\n",
    "Here *@Joydas* is a mention. You need to extract mentions from all the tweets and find which are the top 100 usernames."
   ]
  },
  {
   "cell_type": "code",
   "execution_count": 11,
   "metadata": {
    "colab": {},
    "colab_type": "code",
    "id": "tdgcC6-uujkO"
   },
   "outputs": [],
   "source": [
    "# Your Code Here\n",
    "mo = re.search(r'@[\\w]+(?=[:\\s]?)',df['text'][0])\n",
    "df['mentions'] = df['text'].apply(lambda x: re.findall(r'@[\\w]+(?=[:\\s]?)',x))"
   ]
  },
  {
   "cell_type": "code",
   "execution_count": 54,
   "metadata": {},
   "outputs": [],
   "source": [
    "mentionsarray = df['mentions'].values\n",
    "mentiondict = {}\n",
    "for i in mentionsarray:\n",
    "    for j in i:\n",
    "        if j in mentiondict:\n",
    "            mentiondict[j]+=1\n",
    "        else:\n",
    "            mentiondict[j]=0"
   ]
  },
  {
   "cell_type": "code",
   "execution_count": 55,
   "metadata": {},
   "outputs": [],
   "source": [
    "ndf = pd.DataFrame({'Mentions':list(mentiondict.keys()),'Count':list(mentiondict.values())})\n",
    "ndf.sort_values(by='Count',ascending=False,inplace=True,ignore_index=True)"
   ]
  },
  {
   "cell_type": "code",
   "execution_count": 56,
   "metadata": {
    "scrolled": true
   },
   "outputs": [
    {
     "data": {
      "text/html": [
       "<div>\n",
       "<style scoped>\n",
       "    .dataframe tbody tr th:only-of-type {\n",
       "        vertical-align: middle;\n",
       "    }\n",
       "\n",
       "    .dataframe tbody tr th {\n",
       "        vertical-align: top;\n",
       "    }\n",
       "\n",
       "    .dataframe thead th {\n",
       "        text-align: right;\n",
       "    }\n",
       "</style>\n",
       "<table border=\"1\" class=\"dataframe\">\n",
       "  <thead>\n",
       "    <tr style=\"text-align: right;\">\n",
       "      <th></th>\n",
       "      <th>Mentions</th>\n",
       "      <th>Count</th>\n",
       "    </tr>\n",
       "  </thead>\n",
       "  <tbody>\n",
       "    <tr>\n",
       "      <th>0</th>\n",
       "      <td>@evanspiegel</td>\n",
       "      <td>1310</td>\n",
       "    </tr>\n",
       "    <tr>\n",
       "      <th>1</th>\n",
       "      <td>@URautelaForever</td>\n",
       "      <td>1272</td>\n",
       "    </tr>\n",
       "    <tr>\n",
       "      <th>2</th>\n",
       "      <td>@narendramodi</td>\n",
       "      <td>1137</td>\n",
       "    </tr>\n",
       "    <tr>\n",
       "      <th>3</th>\n",
       "      <td>@gauravcsawant</td>\n",
       "      <td>540</td>\n",
       "    </tr>\n",
       "    <tr>\n",
       "      <th>4</th>\n",
       "      <td>@ModiBharosa</td>\n",
       "      <td>539</td>\n",
       "    </tr>\n",
       "  </tbody>\n",
       "</table>\n",
       "</div>"
      ],
      "text/plain": [
       "           Mentions  Count\n",
       "0      @evanspiegel   1310\n",
       "1  @URautelaForever   1272\n",
       "2     @narendramodi   1137\n",
       "3    @gauravcsawant    540\n",
       "4      @ModiBharosa    539"
      ]
     },
     "execution_count": 56,
     "metadata": {},
     "output_type": "execute_result"
    }
   ],
   "source": [
    "ndf.head()"
   ]
  },
  {
   "cell_type": "markdown",
   "metadata": {
    "colab_type": "text",
    "id": "JXEq-Oz7ujkU"
   },
   "source": [
    "### Solution - 1"
   ]
  },
  {
   "cell_type": "code",
   "execution_count": 30,
   "metadata": {
    "colab": {
     "base_uri": "https://localhost:8080/",
     "height": 35
    },
    "colab_type": "code",
    "executionInfo": {
     "elapsed": 769,
     "status": "ok",
     "timestamp": 1598596047802,
     "user": {
      "displayName": "Aishwarya Singh",
      "photoUrl": "https://lh3.googleusercontent.com/a-/AOh14GgeJwfn4BdBDCAplWi_kdtB9FRssOpXO7T_aMgg=s64",
      "userId": "01105858832371513140"
     },
     "user_tz": -330
    },
    "id": "CWcHrpR0ujkV",
    "outputId": "7327a439-dc6a-4184-b70c-cbecdc5798a3",
    "scrolled": false
   },
   "outputs": [
    {
     "data": {
      "application/vnd.google.colaboratory.intrinsic+json": {
       "type": "string"
      },
      "text/plain": [
       "'@Joydas: Question in Narendra Modi App where PM is taking feedback if people support his #DeMonetization strategy '"
      ]
     },
     "execution_count": 30,
     "metadata": {
      "tags": []
     },
     "output_type": "execute_result"
    }
   ],
   "source": [
    "# Removing URLs from a single tweet\n",
    "text='@Joydas: Question in Narendra Modi App where PM is taking feedback if people support his #DeMonetization strategy https://t.co/pYgK8Rmg7r'\n",
    "re.sub('https?://[A-Za-z0-9.-/]+','',text)"
   ]
  },
  {
   "cell_type": "code",
   "execution_count": 31,
   "metadata": {
    "colab": {},
    "colab_type": "code",
    "executionInfo": {
     "elapsed": 1280,
     "status": "ok",
     "timestamp": 1598596061945,
     "user": {
      "displayName": "Aishwarya Singh",
      "photoUrl": "https://lh3.googleusercontent.com/a-/AOh14GgeJwfn4BdBDCAplWi_kdtB9FRssOpXO7T_aMgg=s64",
      "userId": "01105858832371513140"
     },
     "user_tz": -330
    },
    "id": "oUQZzLmKujka"
   },
   "outputs": [],
   "source": [
    "# Removing URLs from all the tweets\n",
    "df['text']=df['text'].apply(lambda x: re.sub('https?://[A-Za-z0-9.-/]+','',x))"
   ]
  },
  {
   "cell_type": "markdown",
   "metadata": {
    "colab_type": "text",
    "id": "peWMajlnujkf"
   },
   "source": [
    "### Solution - 2"
   ]
  },
  {
   "cell_type": "code",
   "execution_count": 32,
   "metadata": {
    "colab": {},
    "colab_type": "code",
    "executionInfo": {
     "elapsed": 1127,
     "status": "ok",
     "timestamp": 1598596143146,
     "user": {
      "displayName": "Aishwarya Singh",
      "photoUrl": "https://lh3.googleusercontent.com/a-/AOh14GgeJwfn4BdBDCAplWi_kdtB9FRssOpXO7T_aMgg=s64",
      "userId": "01105858832371513140"
     },
     "user_tz": -330
    },
    "id": "GXC_o_qWujkf"
   },
   "outputs": [],
   "source": [
    "# Function for extracting mentions from the tweet\n",
    "def mention(x):\n",
    "    found=re.findall(r'@\\w+',x)               # @.*?(?=[:| ])\n",
    "    if found:\n",
    "        return found\n",
    "    return None"
   ]
  },
  {
   "cell_type": "code",
   "execution_count": 33,
   "metadata": {
    "colab": {},
    "colab_type": "code",
    "executionInfo": {
     "elapsed": 1586,
     "status": "ok",
     "timestamp": 1598596150779,
     "user": {
      "displayName": "Aishwarya Singh",
      "photoUrl": "https://lh3.googleusercontent.com/a-/AOh14GgeJwfn4BdBDCAplWi_kdtB9FRssOpXO7T_aMgg=s64",
      "userId": "01105858832371513140"
     },
     "user_tz": -330
    },
    "id": "qFVUzUwEujkk"
   },
   "outputs": [],
   "source": [
    "# Extract mentions from all the tweets\n",
    "arr=df['text'].apply(lambda x : mention(x))"
   ]
  },
  {
   "cell_type": "code",
   "execution_count": 34,
   "metadata": {
    "colab": {
     "base_uri": "https://localhost:8080/",
     "height": 225
    },
    "colab_type": "code",
    "executionInfo": {
     "elapsed": 961,
     "status": "ok",
     "timestamp": 1598596152328,
     "user": {
      "displayName": "Aishwarya Singh",
      "photoUrl": "https://lh3.googleusercontent.com/a-/AOh14GgeJwfn4BdBDCAplWi_kdtB9FRssOpXO7T_aMgg=s64",
      "userId": "01105858832371513140"
     },
     "user_tz": -330
    },
    "id": "wnIgw1uQujko",
    "outputId": "25ef2e22-2959-4c11-9201-bce22378da41"
   },
   "outputs": [
    {
     "data": {
      "text/plain": [
       "0                       [@rssurjewala]\n",
       "1                         [@Hemant_80]\n",
       "2                         [@roshankar]\n",
       "3                          [@ANI_news]\n",
       "4        [@satishacharya, @mail_today]\n",
       "                     ...              \n",
       "14935                [@saxenavishakha]\n",
       "14936                             None\n",
       "14937                [@bharat_builder]\n",
       "14938          [@Stupidosaur, @Vidyut]\n",
       "14939                        [@Vidyut]\n",
       "Name: text, Length: 14940, dtype: object"
      ]
     },
     "execution_count": 34,
     "metadata": {
      "tags": []
     },
     "output_type": "execute_result"
    }
   ],
   "source": [
    "arr"
   ]
  },
  {
   "cell_type": "code",
   "execution_count": 35,
   "metadata": {
    "colab": {},
    "colab_type": "code",
    "executionInfo": {
     "elapsed": 1162,
     "status": "ok",
     "timestamp": 1598596192735,
     "user": {
      "displayName": "Aishwarya Singh",
      "photoUrl": "https://lh3.googleusercontent.com/a-/AOh14GgeJwfn4BdBDCAplWi_kdtB9FRssOpXO7T_aMgg=s64",
      "userId": "01105858832371513140"
     },
     "user_tz": -330
    },
    "id": "vHVrtGl6ujks"
   },
   "outputs": [],
   "source": [
    "# Combining all the mentions into a list\n",
    "mentions_arr=[]\n",
    "\n",
    "for x in arr:\n",
    "    if x != None:\n",
    "        mentions_arr.extend(x)"
   ]
  },
  {
   "cell_type": "code",
   "execution_count": 36,
   "metadata": {
    "colab": {
     "base_uri": "https://localhost:8080/",
     "height": 191
    },
    "colab_type": "code",
    "executionInfo": {
     "elapsed": 1338,
     "status": "ok",
     "timestamp": 1598596217565,
     "user": {
      "displayName": "Aishwarya Singh",
      "photoUrl": "https://lh3.googleusercontent.com/a-/AOh14GgeJwfn4BdBDCAplWi_kdtB9FRssOpXO7T_aMgg=s64",
      "userId": "01105858832371513140"
     },
     "user_tz": -330
    },
    "id": "mNCou9Vpujkw",
    "outputId": "072efc83-676b-4b9d-e731-8e0ed309b994"
   },
   "outputs": [
    {
     "data": {
      "text/plain": [
       "['@rssurjewala',\n",
       " '@Hemant_80',\n",
       " '@roshankar',\n",
       " '@ANI_news',\n",
       " '@satishacharya',\n",
       " '@mail_today',\n",
       " '@DerekScissors1',\n",
       " '@ambazaarmag',\n",
       " '@gauravcsawant',\n",
       " '@Joydeep_911']"
      ]
     },
     "execution_count": 36,
     "metadata": {
      "tags": []
     },
     "output_type": "execute_result"
    }
   ],
   "source": [
    "mentions_arr[:10]"
   ]
  },
  {
   "cell_type": "code",
   "execution_count": 37,
   "metadata": {
    "colab": {},
    "colab_type": "code",
    "executionInfo": {
     "elapsed": 803,
     "status": "ok",
     "timestamp": 1598596224200,
     "user": {
      "displayName": "Aishwarya Singh",
      "photoUrl": "https://lh3.googleusercontent.com/a-/AOh14GgeJwfn4BdBDCAplWi_kdtB9FRssOpXO7T_aMgg=s64",
      "userId": "01105858832371513140"
     },
     "user_tz": -330
    },
    "id": "0aQEFM9Sujkz"
   },
   "outputs": [],
   "source": [
    "# Getting top 100 mentions\n",
    "mentions_count=pd.Series(mentions_arr).value_counts().head(100)"
   ]
  },
  {
   "cell_type": "code",
   "execution_count": 38,
   "metadata": {
    "colab": {
     "base_uri": "https://localhost:8080/",
     "height": 225
    },
    "colab_type": "code",
    "executionInfo": {
     "elapsed": 969,
     "status": "ok",
     "timestamp": 1598596231127,
     "user": {
      "displayName": "Aishwarya Singh",
      "photoUrl": "https://lh3.googleusercontent.com/a-/AOh14GgeJwfn4BdBDCAplWi_kdtB9FRssOpXO7T_aMgg=s64",
      "userId": "01105858832371513140"
     },
     "user_tz": -330
    },
    "id": "dkn8PNDOujk4",
    "outputId": "cf933534-03f1-4d7b-f70f-fdfdd86977a6"
   },
   "outputs": [
    {
     "data": {
      "text/plain": [
       "@evanspiegel        1311\n",
       "@URautelaForever    1273\n",
       "@narendramodi       1138\n",
       "@gauravcsawant       541\n",
       "@ModiBharosa         540\n",
       "                    ... \n",
       "@hi_paresh            30\n",
       "@sanjayuv             30\n",
       "@rupasubramanya       30\n",
       "@MinhazMerchant       29\n",
       "@sardesairajdeep      29\n",
       "Length: 100, dtype: int64"
      ]
     },
     "execution_count": 38,
     "metadata": {
      "tags": []
     },
     "output_type": "execute_result"
    }
   ],
   "source": [
    "mentions_count"
   ]
  }
 ],
 "metadata": {
  "kernelspec": {
   "display_name": "Python 3",
   "language": "python",
   "name": "python3"
  },
  "language_info": {
   "codemirror_mode": {
    "name": "ipython",
    "version": 3
   },
   "file_extension": ".py",
   "mimetype": "text/x-python",
   "name": "python",
   "nbconvert_exporter": "python",
   "pygments_lexer": "ipython3",
   "version": "3.8.8"
  }
 },
 "nbformat": 4,
 "nbformat_minor": 4
}
