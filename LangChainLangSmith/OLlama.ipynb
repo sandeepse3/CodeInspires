{
 "cells": [
  {
   "cell_type": "markdown",
   "id": "c4b0c47b",
   "metadata": {},
   "source": [
    "##### References:\n",
    "LangChain Ollama: https://python.langchain.com/docs/integrations/llms/ollama/\n",
    "<br>API Documentation: https://github.com/ollama/ollama/blob/main/docs/api.md"
   ]
  },
  {
   "cell_type": "code",
   "execution_count": null,
   "id": "e4d78a1e",
   "metadata": {},
   "outputs": [],
   "source": [
    "# via API Request\n",
    "curl http://localhost:11434/api/generate -d '{\n",
    "  \"model\": \"llama3\",\n",
    "  \"prompt\":\"Why is the sky blue?\"\n",
    "}'"
   ]
  },
  {
   "cell_type": "code",
   "execution_count": null,
   "id": "ff4d6741",
   "metadata": {},
   "outputs": [],
   "source": [
    "# Response Format\n",
    "{\n",
    "  \"model\": \"llama3\",\n",
    "  \"created_at\": \"2023-08-04T08:52:19.385406455-07:00\",\n",
    "  \"response\": \"The\",\n",
    "  \"done\": false\n",
    "}"
   ]
  },
  {
   "cell_type": "code",
   "execution_count": null,
   "id": "f88725cd",
   "metadata": {},
   "outputs": [],
   "source": [
    "# A response can be received in one reply when streaming is off.\n",
    "curl http://localhost:11434/api/generate -d '{\n",
    "  \"model\": \"llama3\",\n",
    "  \"prompt\": \"Why is the sky blue?\",\n",
    "  \"stream\": false\n",
    "}'"
   ]
  },
  {
   "cell_type": "code",
   "execution_count": null,
   "id": "3628c6ad",
   "metadata": {},
   "outputs": [],
   "source": [
    "from langchain_community.llms import Ollama\n",
    "\n",
    "# Initialize Ollama with the model \"llama3\"\n",
    "llm = Ollama(model=\"llama3\",temperature=0.9)\n",
    "\n",
    "# response = llm.invoke(\"what is stop=['<|eot_id|>'] in langchain?\")\n",
    "# print(response)\n",
    "\n",
    "# Define your query\n",
    "query = \"what is stop=['<|eot_id|>'] in langchain?\"\n",
    "\n",
    "# Stream the answer\n",
    "for chunks in llm.stream(query, stop=['<|eot_id|>'], max_tokens=160):\n",
    "    print(chunks, end=\"\")"
   ]
  }
 ],
 "metadata": {
  "kernelspec": {
   "display_name": "Python 3 (ipykernel)",
   "language": "python",
   "name": "python3"
  },
  "language_info": {
   "codemirror_mode": {
    "name": "ipython",
    "version": 3
   },
   "file_extension": ".py",
   "mimetype": "text/x-python",
   "name": "python",
   "nbconvert_exporter": "python",
   "pygments_lexer": "ipython3",
   "version": "3.11.9"
  }
 },
 "nbformat": 4,
 "nbformat_minor": 5
}
